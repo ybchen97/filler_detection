{
 "cells": [
  {
   "cell_type": "markdown",
   "metadata": {},
   "source": [
    "# Randomly create test sentences from Google Speech Commands Dataset"
   ]
  },
  {
   "cell_type": "code",
   "execution_count": 2,
   "metadata": {},
   "outputs": [],
   "source": [
    "import numpy as np\n",
    "import random\n",
    "import sys\n",
    "import io\n",
    "import os\n",
    "import glob\n",
    "import copy\n",
    "import math"
   ]
  },
  {
   "cell_type": "code",
   "execution_count": 3,
   "metadata": {},
   "outputs": [],
   "source": [
    "POSITIVE_DIRECTORY = \"./raw_data/positive_data/\"\n",
    "BACKGROUND_DIRECTORY = \"./raw_data/background_data/\"\n",
    "NEGATIVES_DIRECTORY = \"./raw_data/google_dataset/\"\n",
    "NEGATIVES_TRUNCATED_DIRECTORY = \"./raw_data/google_dataset_truncated/\"\n",
    "AUDIO_EXAMPLES_DIRECTORY = \"./audio_examples/\"\n",
    "AUDIO_IGNORED_EXAMPLES_DIRECTORY = \"./audio_ignored_examples/\"\n",
    "\n",
    "POSITIVE_EXAMPLE = \"jh_1.wav\"\n",
    "BACKGROUND_EXAMPLE = \"bg_10.wav\"\n",
    "\n",
    "AUDIO_EXAMPLE = \"example_train.wav\""
   ]
  },
  {
   "cell_type": "code",
   "execution_count": 4,
   "metadata": {},
   "outputs": [],
   "source": [
    "NEGATIVES_FILENAMES = [name for name in os.listdir(NEGATIVES_DIRECTORY) if os.path.isdir(os.path.join(NEGATIVES_DIRECTORY, name)) \n",
    "                       and '_' not in name]\n",
    "NEGATIVES_AUDIONAMES = {}\n",
    "for file in NEGATIVES_FILENAMES:\n",
    "    NEGATIVES_AUDIONAMES[file] = [name for name in os.listdir(NEGATIVES_DIRECTORY + file + \"/\") if name.endswith(\"wav\")]\n",
    "POSITIVES_AUDIONAMES = [name for name in os.listdir(POSITIVE_DIRECTORY) if name.endswith(\"wav\")]\n",
    "BACKGROUND_AUDIONAMES = [name for name in os.listdir(BACKGROUND_DIRECTORY) if name.endswith(\"wav\")]"
   ]
  },
  {
   "cell_type": "code",
   "execution_count": 5,
   "metadata": {},
   "outputs": [],
   "source": [
    "def create_test(num_pos_min, num_pos_max, num_total, debug=False):\n",
    "    \"\"\"\n",
    "    Creates a randomized sentence from the Google Speech Commands Dataset\n",
    "    \n",
    "    Arguments:\n",
    "    num_pos_min -- minimum number of positives\n",
    "    num_pos_max -- maximum number of positives\n",
    "    num_total -- total number of words in one test example\n",
    "    \n",
    "    Returns:\n",
    "    String of positives and negatives in randomized order\n",
    "    \"\"\"\n",
    "    num_positives = np.random.randint(num_pos_min, num_pos_max+1)\n",
    "    negatives = list(np.random.choice(list(NEGATIVES_AUDIONAMES.keys()), num_total - num_positives, replace=False))\n",
    "    positives = [\"basically\"] * num_positives\n",
    "    \n",
    "    if debug:\n",
    "        print(\"{} positives in {} words\".format(num_positives, num_total))\n",
    "\n",
    "    # Randomly insert positives into negatives\n",
    "    insertion_points = list(np.random.choice(list(range(len(negatives)+1)), len(positives), replace=False))\n",
    "    insertion_points.sort()\n",
    "    num_inserted = 0\n",
    "\n",
    "    while len(insertion_points) > 0:\n",
    "        insertion_point = insertion_points.pop(0) + num_inserted\n",
    "        negatives.insert(insertion_point, positives[num_inserted])\n",
    "        num_inserted += 1\n",
    "    \n",
    "    return \" \".join(negatives)"
   ]
  },
  {
   "cell_type": "code",
   "execution_count": 22,
   "metadata": {},
   "outputs": [
    {
     "name": "stdout",
     "output_type": "stream",
     "text": [
      "4 positives in 20 words\n"
     ]
    },
    {
     "data": {
      "text/plain": [
       "'seven one bed two cat yes basically off wow basically three down tree happy basically no on basically go house'"
      ]
     },
     "execution_count": 22,
     "metadata": {},
     "output_type": "execute_result"
    }
   ],
   "source": [
    "create_test(1, 8, 20, debug=True)"
   ]
  },
  {
   "cell_type": "code",
   "execution_count": null,
   "metadata": {},
   "outputs": [],
   "source": []
  },
  {
   "cell_type": "code",
   "execution_count": null,
   "metadata": {},
   "outputs": [],
   "source": []
  }
 ],
 "metadata": {
  "kernelspec": {
   "display_name": "Python 3",
   "language": "python",
   "name": "python3"
  },
  "language_info": {
   "codemirror_mode": {
    "name": "ipython",
    "version": 3
   },
   "file_extension": ".py",
   "mimetype": "text/x-python",
   "name": "python",
   "nbconvert_exporter": "python",
   "pygments_lexer": "ipython3",
   "version": "3.7.4"
  }
 },
 "nbformat": 4,
 "nbformat_minor": 4
}
