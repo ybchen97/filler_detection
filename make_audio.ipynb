{
 "cells": [
  {
   "cell_type": "code",
   "execution_count": null,
   "metadata": {},
   "outputs": [],
   "source": [
    "def gen_audio(Audioclip):\n",
    "    single_clip = AudioSegment.from_file(Audioclip + \".wav\")\n",
    "    bg_list = [single_clip]\n",
    "\n",
    "    len_list= 1\n",
    "    for one_noise in bg_list:\n",
    "    \n",
    "        print(len(one_noise))\n",
    "        length_of_audio= len(one_noise)\n",
    "        time_segments = []\n",
    "        for t in range(10000,length_of_audio,10000):\n",
    "            time_segments.append(t)\n",
    "        sound_segments = [] # a list of 10s bg noise segments\n",
    "        init_time = 0 # initialize the time\n",
    "        for time in time_segments:\n",
    "          sound = one_noise[init_time:time]\n",
    "          init_time = init_time + 10000\n",
    "          sound_segments.append(sound)\n",
    "        for i in range(0, len(sound_segments)):\n",
    "            new_sound = sound_segments[i].export(\"cont_\"+str(len_list)+str(i)+\".wav\", format=\"wav\")\n",
    "            re_sound= AudioSegment.from_file(\"cont_\"+str(len_list)+str(i)+\".wav\")\n",
    "            print(len(re_sound))\n",
    "        len_list=len_list+1\n",
    "\n",
    "    \n"
   ]
  }
 ],
 "metadata": {
  "kernelspec": {
   "display_name": "Python 3",
   "language": "python",
   "name": "python3"
  },
  "language_info": {
   "codemirror_mode": {
    "name": "ipython",
    "version": 3
   },
   "file_extension": ".py",
   "mimetype": "text/x-python",
   "name": "python",
   "nbconvert_exporter": "python",
   "pygments_lexer": "ipython3",
   "version": "3.7.6"
  }
 },
 "nbformat": 4,
 "nbformat_minor": 2
}
