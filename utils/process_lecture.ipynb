{
 "cells": [
  {
   "cell_type": "code",
   "execution_count": 73,
   "metadata": {},
   "outputs": [],
   "source": [
    "from pydub import AudioSegment\n",
    "from pydub.silence import detect_silence, detect_nonsilent\n",
    "from pydub.playback import play"
   ]
  },
  {
   "cell_type": "code",
   "execution_count": 74,
   "metadata": {},
   "outputs": [],
   "source": [
    "def process_lecture(input_filepath, output_filepath, min_silence_len=3000, silence_thresh=-20, seek_step=3000):\n",
    "    assert file_path.endswith('.mp4'), \"Only processes mp4 videos!\"\n",
    "    \n",
    "    # Import mp4\n",
    "    segment = AudioSegment.from_file(input_filepath, \"mp4\")\n",
    "    \n",
    "    silent_ranges = detect_silence(segment, min_silence_len, silence_thresh, seek_step)\n",
    "    print(\"Silent ranges in ms... {}\".format(silent_ranges))\n",
    "    \n",
    "    # Trim silence\n",
    "    # AudioSegments do not support `remove` functionality. Instead of removing silence, this code concatenates non-silence.\n",
    "    # Internally its the same as `detect_nonsilence` uses `detect_silence` and takes the complement of the result.\n",
    "    print(\"Concatenating nonsilent ranges...\")\n",
    "    nonsilent_ranges = detect_nonsilent(segment, min_silence_len, silence_thresh, seek_step) \n",
    "    result = AudioSegment.empty()\n",
    "    for nonsilent_range in nonsilent_ranges:\n",
    "        [start, end] = nonsilent_range\n",
    "        result += segment[start: end]\n",
    "        \n",
    "    # Double check\n",
    "    silent_ranges = detect_silence(result, min_silence_len, silence_thresh, seek_step)\n",
    "    assert silent_ranges == [], \"There are still silent ranges. Double check parameters of detect_nonsilent\"\n",
    "    \n",
    "    # Set frame rate to 123000\n",
    "    result = result.set_channels(1)\n",
    "    result = result.set_frame_rate(123000)\n",
    "    \n",
    "    # Output as monochrome wav\n",
    "    result.export(output_filepath, format='wav')\n",
    "    print(\"Audio output in {}\".format(output_filepath))"
   ]
  },
  {
   "cell_type": "code",
   "execution_count": 75,
   "metadata": {},
   "outputs": [
    {
     "name": "stdout",
     "output_type": "stream",
     "text": [
      "Silent ranges in ms... [[0, 27000], [30000, 33000], [36000, 63000], [102000, 105000], [138000, 144000], [153000, 156000], [159000, 162000], [246000, 249000], [282000, 285000], [327000, 330000], [522000, 525000], [582000, 585000], [789000, 792000], [816000, 819000], [831000, 837000], [882000, 885000], [912000, 915000], [1053000, 1056000], [1092000, 1095000], [1122000, 1125000], [1131000, 1134000], [1287000, 1293000], [1365000, 1371000], [1377000, 1380000], [1431000, 1434000], [1521000, 1524000], [1539000, 1545000], [1575000, 1578000], [1644000, 1647000], [1740000, 1743000], [1785000, 1788000], [1803000, 1806000], [1842000, 1845000], [1881000, 1884000], [1905000, 1911000], [1920000, 1923000], [1986000, 1989000], [1995000, 1998000], [2013000, 2016000], [2070000, 2073000], [2082000, 2085000], [2088000, 2091000], [2124000, 2127000], [2145000, 2151000], [2217000, 2223000], [2253000, 2256000], [2265000, 2271000], [2286000, 2289000], [2292000, 2301000], [2316000, 2325000], [2334000, 2337000], [2370000, 2373000], [2436000, 2442000], [2484000, 2490000], [2493000, 2499000], [2505000, 2511000], [2517000, 2520000], [2523000, 2529000], [2535000, 2541000], [2565000, 2568000], [2607000, 2610000], [2652000, 2655000], [2664000, 2667000], [2673000, 2679000], [2682000, 2688000], [2721000, 2727000], [2730000, 2733000], [2781000, 2784000], [2808000, 2814000], [2841000, 2844000], [2892000, 2895000], [2925000, 2928000], [3063000, 3066000], [3075000, 3078000], [3084000, 3087000], [3114000, 3117000], [3135000, 3138000], [3144000, 3150000], [3195000, 3198000], [3276000, 3279000], [3324000, 3330000], [3375000, 3381000], [3393000, 3396000], [3405000, 3414000], [3426000, 3435000], [3450000, 3453000], [3462000, 3468000], [3471000, 3474000], [3501000, 3582000], [3777000, 3786000], [3801000, 3870000], [3876000, 3882000], [3885000, 3888000], [4182000, 4185000], [4188000, 4194000], [4197000, 4200000], [4206000, 4209000], [4215000, 4224000], [4311000, 4320000], [4329000, 4335000], [4350000, 4356000], [4362000, 4368000], [4398000, 4404000], [4464000, 4488000], [4509000, 4515000], [4521000, 4524000], [4533000, 4539000], [4542000, 4551000], [4554000, 4560000], [4701000, 4704000], [4716000, 4719000], [4761000, 4767000], [4779000, 4797000], [4887000, 4899000], [4968000, 4971000], [5007000, 5010000], [5106000, 5109000], [5160000, 5163000], [5169000, 5172000], [5307000, 5316000], [5364000, 5370000], [5466000, 5469000], [5496000, 5499000], [5541000, 5544000], [5559000, 5565000], [5568000, 5574000], [5613000, 5616000], [5661000, 5673000], [5688000, 5691000], [5697000, 5700000], [5754000, 5757000], [5790000, 7198488]]\n",
      "Concatenating nonsilent ranges...\n",
      "Audio output in ../raw_data/bryan_lectures/bayes_inference_processed.wav\n"
     ]
    }
   ],
   "source": [
    "input_filepath = \"../raw_data/bryan_lectures/bayes_inference.mp4\"\n",
    "output_filepath = \"../raw_data/bryan_lectures/bayes_inference_processed.wav\"\n",
    "process_lecture(input_filepath, output_filepath)"
   ]
  },
  {
   "cell_type": "code",
   "execution_count": null,
   "metadata": {},
   "outputs": [],
   "source": []
  }
 ],
 "metadata": {
  "kernelspec": {
   "display_name": "Python 3",
   "language": "python",
   "name": "python3"
  },
  "language_info": {
   "codemirror_mode": {
    "name": "ipython",
    "version": 3
   },
   "file_extension": ".py",
   "mimetype": "text/x-python",
   "name": "python",
   "nbconvert_exporter": "python",
   "pygments_lexer": "ipython3",
   "version": "3.7.6"
  }
 },
 "nbformat": 4,
 "nbformat_minor": 2
}
