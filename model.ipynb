{
  "nbformat": 4,
  "nbformat_minor": 0,
  "metadata": {
    "accelerator": "GPU",
    "colab": {
      "name": "model.ipynb",
      "provenance": [],
      "toc_visible": true,
      "machine_shape": "hm",
      "include_colab_link": true
    },
    "kernelspec": {
      "display_name": "Python 3.7.5 64-bit",
      "language": "python",
      "name": "python37564bitf304d4ac23234a529ebef17df9391c14"
    },
    "language_info": {
      "codemirror_mode": {
        "name": "ipython",
        "version": 3
      },
      "file_extension": ".py",
      "mimetype": "text/x-python",
      "name": "python",
      "nbconvert_exporter": "python",
      "pygments_lexer": "ipython3",
      "version": "3.7.6"
    }
  },
  "cells": [
    {
      "cell_type": "markdown",
      "metadata": {
        "id": "view-in-github",
        "colab_type": "text"
      },
      "source": [
        "<a href=\"https://colab.research.google.com/github/ybchen97/filler_detection/blob/master/model.ipynb\" target=\"_parent\"><img src=\"https://colab.research.google.com/assets/colab-badge.svg\" alt=\"Open In Colab\"/></a>"
      ]
    },
    {
      "cell_type": "markdown",
      "metadata": {
        "colab_type": "text",
        "id": "my6I-6tlRSuK"
      },
      "source": [
        "# Model"
      ]
    },
    {
      "cell_type": "markdown",
      "metadata": {
        "colab_type": "text",
        "id": "bAbmFvBVRXtY"
      },
      "source": [
        "Syncing from google drive and github... for more info on this code, refer [here](https://zerowithdot.com/colab-github-workflow/)"
      ]
    },
    {
      "cell_type": "code",
      "metadata": {
        "id": "W_uF7CGdfZzs",
        "colab_type": "code",
        "outputId": "1b7b77f6-f8ae-4501-9cbd-76492e84f4e7",
        "colab": {
          "base_uri": "https://localhost:8080/",
          "height": 122
        }
      },
      "source": [
        "from google.colab import drive\n",
        "from os.path import join\n",
        "\n",
        "ROOT = '/content/drive'     # default for the drive\n",
        "\n",
        "drive.mount(ROOT)           # we mount the drive at /content/drive"
      ],
      "execution_count": 3,
      "outputs": [
        {
          "output_type": "stream",
          "text": [
            "Go to this URL in a browser: https://accounts.google.com/o/oauth2/auth?client_id=947318989803-6bn6qk8qdgf4n4g3pfee6491hc0brc4i.apps.googleusercontent.com&redirect_uri=urn%3aietf%3awg%3aoauth%3a2.0%3aoob&response_type=code&scope=email%20https%3a%2f%2fwww.googleapis.com%2fauth%2fdocs.test%20https%3a%2f%2fwww.googleapis.com%2fauth%2fdrive%20https%3a%2f%2fwww.googleapis.com%2fauth%2fdrive.photos.readonly%20https%3a%2f%2fwww.googleapis.com%2fauth%2fpeopleapi.readonly\n",
            "\n",
            "Enter your authorization code:\n",
            "··········\n",
            "Mounted at /content/drive\n"
          ],
          "name": "stdout"
        }
      ]
    },
    {
      "cell_type": "code",
      "metadata": {
        "colab_type": "code",
        "id": "FO4R_OEE3LSV",
        "outputId": "0c153378-5bb0-444e-bc52-caa0b755c5b3",
        "colab": {
          "base_uri": "https://localhost:8080/",
          "height": 170
        }
      },
      "source": [
        "GIT_PATH = \"https://github.com/ybchen97/filler_detection.git\"\n",
        "!mkdir ./temp\n",
        "!git clone \"{GIT_PATH}\"\n",
        "!mv ./temp/* \"{PROJECT_PATH}\"\n",
        "!rm -rf ./temp"
      ],
      "execution_count": 4,
      "outputs": [
        {
          "output_type": "stream",
          "text": [
            "Cloning into 'filler_detection'...\n",
            "remote: Enumerating objects: 112, done.\u001b[K\n",
            "remote: Counting objects: 100% (112/112), done.\u001b[K\n",
            "remote: Compressing objects: 100% (67/67), done.\u001b[K\n",
            "remote: Total 3999 (delta 74), reused 59 (delta 45), pack-reused 3887\u001b[K\n",
            "Receiving objects: 100% (3999/3999), 189.66 MiB | 37.39 MiB/s, done.\n",
            "Resolving deltas: 100% (252/252), done.\n",
            "Checking out files: 100% (3603/3603), done.\n",
            "mv: cannot stat './temp/*': No such file or directory\n"
          ],
          "name": "stdout"
        }
      ]
    },
    {
      "cell_type": "markdown",
      "metadata": {
        "colab_type": "text",
        "id": "qa4hVHm5RouU"
      },
      "source": [
        "Install packages in this local notebook specified in requirements.txt"
      ]
    },
    {
      "cell_type": "code",
      "metadata": {
        "colab_type": "code",
        "id": "E3SSCyXL8lBb",
        "outputId": "e9b576a3-5789-4251-d590-657af85596ab",
        "colab": {
          "base_uri": "https://localhost:8080/",
          "height": 1000
        }
      },
      "source": [
        "!pip install -r '/content/filler_detection/requirements.txt'"
      ],
      "execution_count": 5,
      "outputs": [
        {
          "output_type": "stream",
          "text": [
            "Requirement already satisfied: absl-py==0.9.0 in /usr/local/lib/python3.6/dist-packages (from -r /content/filler_detection/requirements.txt (line 1)) (0.9.0)\n",
            "Collecting appnope==0.1.0\n",
            "  Downloading https://files.pythonhosted.org/packages/87/a9/7985e6a53402f294c8f0e8eff3151a83f1fb901fa92909bb3ff29b4d22af/appnope-0.1.0-py2.py3-none-any.whl\n",
            "Requirement already satisfied: astor==0.8.1 in /usr/local/lib/python3.6/dist-packages (from -r /content/filler_detection/requirements.txt (line 3)) (0.8.1)\n",
            "Requirement already satisfied: backcall==0.1.0 in /usr/local/lib/python3.6/dist-packages (from -r /content/filler_detection/requirements.txt (line 4)) (0.1.0)\n",
            "Collecting cachetools==4.0.0\n",
            "  Downloading https://files.pythonhosted.org/packages/08/6a/abf83cb951617793fd49c98cb9456860f5df66ff89883c8660aa0672d425/cachetools-4.0.0-py3-none-any.whl\n",
            "Requirement already satisfied: certifi==2019.11.28 in /usr/local/lib/python3.6/dist-packages (from -r /content/filler_detection/requirements.txt (line 6)) (2019.11.28)\n",
            "Requirement already satisfied: chardet==3.0.4 in /usr/local/lib/python3.6/dist-packages (from -r /content/filler_detection/requirements.txt (line 7)) (3.0.4)\n",
            "Requirement already satisfied: cycler==0.10.0 in /usr/local/lib/python3.6/dist-packages (from -r /content/filler_detection/requirements.txt (line 8)) (0.10.0)\n",
            "Requirement already satisfied: decorator==4.4.2 in /usr/local/lib/python3.6/dist-packages (from -r /content/filler_detection/requirements.txt (line 9)) (4.4.2)\n",
            "Collecting gast==0.2.2\n",
            "  Downloading https://files.pythonhosted.org/packages/4e/35/11749bf99b2d4e3cceb4d55ca22590b0d7c2c62b9de38ac4a4a7f4687421/gast-0.2.2.tar.gz\n",
            "Collecting google-auth==1.11.3\n",
            "\u001b[?25l  Downloading https://files.pythonhosted.org/packages/f7/f8/2da482a6165ef3f28d52faf8c2ca31628129a84a294033eb399ef500e265/google_auth-1.11.3-py2.py3-none-any.whl (76kB)\n",
            "\u001b[K     |████████████████████████████████| 81kB 4.1MB/s \n",
            "\u001b[?25hRequirement already satisfied: google-auth-oauthlib==0.4.1 in /usr/local/lib/python3.6/dist-packages (from -r /content/filler_detection/requirements.txt (line 12)) (0.4.1)\n",
            "Requirement already satisfied: google-pasta==0.2.0 in /usr/local/lib/python3.6/dist-packages (from -r /content/filler_detection/requirements.txt (line 13)) (0.2.0)\n",
            "Requirement already satisfied: grpcio==1.27.2 in /usr/local/lib/python3.6/dist-packages (from -r /content/filler_detection/requirements.txt (line 14)) (1.27.2)\n",
            "Requirement already satisfied: h5py==2.10.0 in /usr/local/lib/python3.6/dist-packages (from -r /content/filler_detection/requirements.txt (line 15)) (2.10.0)\n",
            "Collecting idna==2.9\n",
            "\u001b[?25l  Downloading https://files.pythonhosted.org/packages/89/e3/afebe61c546d18fb1709a61bee788254b40e736cff7271c7de5de2dc4128/idna-2.9-py2.py3-none-any.whl (58kB)\n",
            "\u001b[K     |████████████████████████████████| 61kB 6.6MB/s \n",
            "\u001b[?25hCollecting ipython==7.13.0\n",
            "\u001b[?25l  Downloading https://files.pythonhosted.org/packages/61/6f/69f1eec859ce48a86660529b166b6ea466f0f4ab98e4fc0807b835aa22c6/ipython-7.13.0-py3-none-any.whl (780kB)\n",
            "\u001b[K     |████████████████████████████████| 788kB 19.6MB/s \n",
            "\u001b[?25hRequirement already satisfied: ipython-genutils==0.2.0 in /usr/local/lib/python3.6/dist-packages (from -r /content/filler_detection/requirements.txt (line 18)) (0.2.0)\n",
            "Requirement already satisfied: jedi==0.16.0 in /usr/local/lib/python3.6/dist-packages (from -r /content/filler_detection/requirements.txt (line 19)) (0.16.0)\n",
            "Collecting Keras==2.3.1\n",
            "\u001b[?25l  Downloading https://files.pythonhosted.org/packages/ad/fd/6bfe87920d7f4fd475acd28500a42482b6b84479832bdc0fe9e589a60ceb/Keras-2.3.1-py2.py3-none-any.whl (377kB)\n",
            "\u001b[K     |████████████████████████████████| 378kB 32.7MB/s \n",
            "\u001b[?25hRequirement already satisfied: Keras-Applications==1.0.8 in /usr/local/lib/python3.6/dist-packages (from -r /content/filler_detection/requirements.txt (line 21)) (1.0.8)\n",
            "Requirement already satisfied: Keras-Preprocessing==1.1.0 in /usr/local/lib/python3.6/dist-packages (from -r /content/filler_detection/requirements.txt (line 22)) (1.1.0)\n",
            "Requirement already satisfied: kiwisolver==1.1.0 in /usr/local/lib/python3.6/dist-packages (from -r /content/filler_detection/requirements.txt (line 23)) (1.1.0)\n",
            "Requirement already satisfied: Markdown==3.2.1 in /usr/local/lib/python3.6/dist-packages (from -r /content/filler_detection/requirements.txt (line 24)) (3.2.1)\n",
            "Collecting matplotlib==3.2.0\n",
            "\u001b[?25l  Downloading https://files.pythonhosted.org/packages/e6/fc/5889757c4c70c552f56fddc8fbdcab565475686cdebdfa1806a9d54cd53b/matplotlib-3.2.0-cp36-cp36m-manylinux1_x86_64.whl (12.4MB)\n",
            "\u001b[K     |████████████████████████████████| 12.4MB 37.6MB/s \n",
            "\u001b[?25hCollecting numpy==1.18.1\n",
            "\u001b[?25l  Downloading https://files.pythonhosted.org/packages/62/20/4d43e141b5bc426ba38274933ef8e76e85c7adea2c321ecf9ebf7421cedf/numpy-1.18.1-cp36-cp36m-manylinux1_x86_64.whl (20.1MB)\n",
            "\u001b[K     |████████████████████████████████| 20.2MB 158kB/s \n",
            "\u001b[?25hRequirement already satisfied: oauthlib==3.1.0 in /usr/local/lib/python3.6/dist-packages (from -r /content/filler_detection/requirements.txt (line 27)) (3.1.0)\n",
            "Requirement already satisfied: opt-einsum==3.2.0 in /usr/local/lib/python3.6/dist-packages (from -r /content/filler_detection/requirements.txt (line 28)) (3.2.0)\n",
            "Requirement already satisfied: parso==0.6.2 in /usr/local/lib/python3.6/dist-packages (from -r /content/filler_detection/requirements.txt (line 29)) (0.6.2)\n",
            "Requirement already satisfied: pexpect==4.8.0 in /usr/local/lib/python3.6/dist-packages (from -r /content/filler_detection/requirements.txt (line 30)) (4.8.0)\n",
            "Requirement already satisfied: pickleshare==0.7.5 in /usr/local/lib/python3.6/dist-packages (from -r /content/filler_detection/requirements.txt (line 31)) (0.7.5)\n",
            "Collecting prompt-toolkit==3.0.4\n",
            "\u001b[?25l  Downloading https://files.pythonhosted.org/packages/ab/29/d744cee89937b7e52a5c20ca237a6c77298f757965eb3eb0c653df1bfb14/prompt_toolkit-3.0.4-py3-none-any.whl (351kB)\n",
            "\u001b[K     |████████████████████████████████| 358kB 35.8MB/s \n",
            "\u001b[?25hCollecting protobuf==3.11.3\n",
            "\u001b[?25l  Downloading https://files.pythonhosted.org/packages/57/02/5432412c162989260fab61fa65e0a490c1872739eb91a659896e4d554b26/protobuf-3.11.3-cp36-cp36m-manylinux1_x86_64.whl (1.3MB)\n",
            "\u001b[K     |████████████████████████████████| 1.3MB 34.5MB/s \n",
            "\u001b[?25hRequirement already satisfied: ptyprocess==0.6.0 in /usr/local/lib/python3.6/dist-packages (from -r /content/filler_detection/requirements.txt (line 34)) (0.6.0)\n",
            "Requirement already satisfied: pyasn1==0.4.8 in /usr/local/lib/python3.6/dist-packages (from -r /content/filler_detection/requirements.txt (line 35)) (0.4.8)\n",
            "Requirement already satisfied: pyasn1-modules==0.2.8 in /usr/local/lib/python3.6/dist-packages (from -r /content/filler_detection/requirements.txt (line 36)) (0.2.8)\n",
            "Collecting pydub==0.23.1\n",
            "  Downloading https://files.pythonhosted.org/packages/79/db/eaf620b73a1eec3c8c6f8f5b0b236a50f9da88ad57802154b7ba7664d0b8/pydub-0.23.1-py2.py3-none-any.whl\n",
            "Collecting Pygments==2.6.1\n",
            "\u001b[?25l  Downloading https://files.pythonhosted.org/packages/2d/68/106af3ae51daf807e9cdcba6a90e518954eb8b70341cee52995540a53ead/Pygments-2.6.1-py3-none-any.whl (914kB)\n",
            "\u001b[K     |████████████████████████████████| 921kB 35.9MB/s \n",
            "\u001b[?25hRequirement already satisfied: pyparsing==2.4.6 in /usr/local/lib/python3.6/dist-packages (from -r /content/filler_detection/requirements.txt (line 39)) (2.4.6)\n",
            "Requirement already satisfied: python-dateutil==2.8.1 in /usr/local/lib/python3.6/dist-packages (from -r /content/filler_detection/requirements.txt (line 40)) (2.8.1)\n",
            "Collecting PyYAML==5.3\n",
            "\u001b[?25l  Downloading https://files.pythonhosted.org/packages/3d/d9/ea9816aea31beeadccd03f1f8b625ecf8f645bd66744484d162d84803ce5/PyYAML-5.3.tar.gz (268kB)\n",
            "\u001b[K     |████████████████████████████████| 276kB 46.5MB/s \n",
            "\u001b[?25hCollecting requests==2.23.0\n",
            "\u001b[?25l  Downloading https://files.pythonhosted.org/packages/1a/70/1935c770cb3be6e3a8b78ced23d7e0f3b187f5cbfab4749523ed65d7c9b1/requests-2.23.0-py2.py3-none-any.whl (58kB)\n",
            "\u001b[K     |████████████████████████████████| 61kB 7.6MB/s \n",
            "\u001b[?25hRequirement already satisfied: requests-oauthlib==1.3.0 in /usr/local/lib/python3.6/dist-packages (from -r /content/filler_detection/requirements.txt (line 43)) (1.3.0)\n",
            "Requirement already satisfied: rsa==4.0 in /usr/local/lib/python3.6/dist-packages (from -r /content/filler_detection/requirements.txt (line 44)) (4.0)\n",
            "Requirement already satisfied: scipy==1.4.1 in /usr/local/lib/python3.6/dist-packages (from -r /content/filler_detection/requirements.txt (line 45)) (1.4.1)\n",
            "Collecting six==1.14.0\n",
            "  Downloading https://files.pythonhosted.org/packages/65/eb/1f97cb97bfc2390a276969c6fae16075da282f5058082d4cb10c6c5c1dba/six-1.14.0-py2.py3-none-any.whl\n",
            "Collecting tensorboard==2.1.1\n",
            "\u001b[?25l  Downloading https://files.pythonhosted.org/packages/d9/41/bbf49b61370e4f4d245d4c6051dfb6db80cec672605c91b1652ac8cc3d38/tensorboard-2.1.1-py3-none-any.whl (3.8MB)\n",
            "\u001b[K     |████████████████████████████████| 3.9MB 27.1MB/s \n",
            "\u001b[?25hCollecting tensorflow==2.1.0\n",
            "\u001b[?25l  Downloading https://files.pythonhosted.org/packages/85/d4/c0cd1057b331bc38b65478302114194bd8e1b9c2bbc06e300935c0e93d90/tensorflow-2.1.0-cp36-cp36m-manylinux2010_x86_64.whl (421.8MB)\n",
            "\u001b[K     |████████████████████████████████| 421.8MB 17kB/s \n",
            "\u001b[?25hCollecting tensorflow-estimator==2.1.0\n",
            "\u001b[?25l  Downloading https://files.pythonhosted.org/packages/18/90/b77c328a1304437ab1310b463e533fa7689f4bfc41549593056d812fab8e/tensorflow_estimator-2.1.0-py2.py3-none-any.whl (448kB)\n",
            "\u001b[K     |████████████████████████████████| 450kB 33.8MB/s \n",
            "\u001b[?25hRequirement already satisfied: termcolor==1.1.0 in /usr/local/lib/python3.6/dist-packages (from -r /content/filler_detection/requirements.txt (line 50)) (1.1.0)\n",
            "Collecting tf-utils==1.0.4\n",
            "  Downloading https://files.pythonhosted.org/packages/bb/bf/f6800f5d34c2563849a900abaa8e8fdb44e859f9a45e45c35afcfd77d742/tf_utils-1.0.4-py3-none-any.whl\n",
            "Requirement already satisfied: traitlets==4.3.3 in /usr/local/lib/python3.6/dist-packages (from -r /content/filler_detection/requirements.txt (line 52)) (4.3.3)\n",
            "Collecting urllib3==1.25.8\n",
            "\u001b[?25l  Downloading https://files.pythonhosted.org/packages/e8/74/6e4f91745020f967d09332bb2b8b9b10090957334692eb88ea4afe91b77f/urllib3-1.25.8-py2.py3-none-any.whl (125kB)\n",
            "\u001b[K     |████████████████████████████████| 133kB 44.4MB/s \n",
            "\u001b[?25hCollecting wcwidth==0.1.8\n",
            "  Downloading https://files.pythonhosted.org/packages/58/b4/4850a0ccc6f567cc0ebe7060d20ffd4258b8210efadc259da62dc6ed9c65/wcwidth-0.1.8-py2.py3-none-any.whl\n",
            "Requirement already satisfied: Werkzeug==1.0.0 in /usr/local/lib/python3.6/dist-packages (from -r /content/filler_detection/requirements.txt (line 55)) (1.0.0)\n",
            "Requirement already satisfied: wrapt==1.12.1 in /usr/local/lib/python3.6/dist-packages (from -r /content/filler_detection/requirements.txt (line 56)) (1.12.1)\n",
            "Requirement already satisfied: setuptools>=40.3.0 in /usr/local/lib/python3.6/dist-packages (from google-auth==1.11.3->-r /content/filler_detection/requirements.txt (line 11)) (46.0.0)\n",
            "Requirement already satisfied: wheel>=0.26; python_version >= \"3\" in /usr/local/lib/python3.6/dist-packages (from tensorboard==2.1.1->-r /content/filler_detection/requirements.txt (line 47)) (0.34.2)\n",
            "Building wheels for collected packages: gast, PyYAML\n",
            "  Building wheel for gast (setup.py) ... \u001b[?25l\u001b[?25hdone\n",
            "  Created wheel for gast: filename=gast-0.2.2-cp36-none-any.whl size=7540 sha256=46b15f55e7ceee45eea67626aa58977b2beabe1d600ae8ea77f671afd2c72f77\n",
            "  Stored in directory: /root/.cache/pip/wheels/5c/2e/7e/a1d4d4fcebe6c381f378ce7743a3ced3699feb89bcfbdadadd\n",
            "  Building wheel for PyYAML (setup.py) ... \u001b[?25l\u001b[?25hdone\n",
            "  Created wheel for PyYAML: filename=PyYAML-5.3-cp36-cp36m-linux_x86_64.whl size=44229 sha256=0d8f1ec602162f3491d94f06b28ee36df93e853308c72689bab9d0b9344c41a3\n",
            "  Stored in directory: /root/.cache/pip/wheels/e4/76/4d/a95b8dd7b452b69e8ed4f68b69e1b55e12c9c9624dd962b191\n",
            "Successfully built gast PyYAML\n",
            "\u001b[31mERROR: qtconsole 4.7.2 has requirement pyzmq>=17.1, but you'll have pyzmq 17.0.0 which is incompatible.\u001b[0m\n",
            "\u001b[31mERROR: kaggle 1.5.6 has requirement urllib3<1.25,>=1.21.1, but you'll have urllib3 1.25.8 which is incompatible.\u001b[0m\n",
            "\u001b[31mERROR: jupyter-console 5.2.0 has requirement prompt-toolkit<2.0.0,>=1.0.0, but you'll have prompt-toolkit 3.0.4 which is incompatible.\u001b[0m\n",
            "\u001b[31mERROR: google-colab 1.0.0 has requirement google-auth~=1.7.2, but you'll have google-auth 1.11.3 which is incompatible.\u001b[0m\n",
            "\u001b[31mERROR: google-colab 1.0.0 has requirement ipython~=5.5.0, but you'll have ipython 7.13.0 which is incompatible.\u001b[0m\n",
            "\u001b[31mERROR: google-colab 1.0.0 has requirement requests~=2.21.0, but you'll have requests 2.23.0 which is incompatible.\u001b[0m\n",
            "\u001b[31mERROR: google-colab 1.0.0 has requirement six~=1.12.0, but you'll have six 1.14.0 which is incompatible.\u001b[0m\n",
            "\u001b[31mERROR: datascience 0.10.6 has requirement folium==0.2.1, but you'll have folium 0.8.3 which is incompatible.\u001b[0m\n",
            "\u001b[31mERROR: albumentations 0.1.12 has requirement imgaug<0.2.7,>=0.2.5, but you'll have imgaug 0.2.9 which is incompatible.\u001b[0m\n",
            "Installing collected packages: appnope, cachetools, gast, six, google-auth, idna, wcwidth, prompt-toolkit, Pygments, ipython, PyYAML, numpy, Keras, matplotlib, protobuf, pydub, urllib3, requests, tensorboard, tensorflow-estimator, tensorflow, tf-utils\n",
            "  Found existing installation: cachetools 3.1.1\n",
            "    Uninstalling cachetools-3.1.1:\n",
            "      Successfully uninstalled cachetools-3.1.1\n",
            "  Found existing installation: gast 0.3.3\n",
            "    Uninstalling gast-0.3.3:\n",
            "      Successfully uninstalled gast-0.3.3\n",
            "  Found existing installation: six 1.12.0\n",
            "    Uninstalling six-1.12.0:\n",
            "      Successfully uninstalled six-1.12.0\n",
            "  Found existing installation: google-auth 1.7.2\n",
            "    Uninstalling google-auth-1.7.2:\n",
            "      Successfully uninstalled google-auth-1.7.2\n",
            "  Found existing installation: idna 2.8\n",
            "    Uninstalling idna-2.8:\n",
            "      Successfully uninstalled idna-2.8\n",
            "  Found existing installation: wcwidth 0.1.9\n",
            "    Uninstalling wcwidth-0.1.9:\n",
            "      Successfully uninstalled wcwidth-0.1.9\n",
            "  Found existing installation: prompt-toolkit 1.0.18\n",
            "    Uninstalling prompt-toolkit-1.0.18:\n",
            "      Successfully uninstalled prompt-toolkit-1.0.18\n",
            "  Found existing installation: Pygments 2.1.3\n",
            "    Uninstalling Pygments-2.1.3:\n",
            "      Successfully uninstalled Pygments-2.1.3\n",
            "  Found existing installation: ipython 5.5.0\n",
            "    Uninstalling ipython-5.5.0:\n",
            "      Successfully uninstalled ipython-5.5.0\n",
            "  Found existing installation: PyYAML 3.13\n",
            "    Uninstalling PyYAML-3.13:\n",
            "      Successfully uninstalled PyYAML-3.13\n",
            "  Found existing installation: numpy 1.18.2\n",
            "    Uninstalling numpy-1.18.2:\n",
            "      Successfully uninstalled numpy-1.18.2\n",
            "  Found existing installation: Keras 2.2.5\n",
            "    Uninstalling Keras-2.2.5:\n",
            "      Successfully uninstalled Keras-2.2.5\n",
            "  Found existing installation: matplotlib 3.2.1\n",
            "    Uninstalling matplotlib-3.2.1:\n",
            "      Successfully uninstalled matplotlib-3.2.1\n",
            "  Found existing installation: protobuf 3.10.0\n",
            "    Uninstalling protobuf-3.10.0:\n",
            "      Successfully uninstalled protobuf-3.10.0\n",
            "  Found existing installation: urllib3 1.24.3\n",
            "    Uninstalling urllib3-1.24.3:\n",
            "      Successfully uninstalled urllib3-1.24.3\n",
            "  Found existing installation: requests 2.21.0\n",
            "    Uninstalling requests-2.21.0:\n",
            "      Successfully uninstalled requests-2.21.0\n",
            "  Found existing installation: tensorboard 2.2.0\n",
            "    Uninstalling tensorboard-2.2.0:\n",
            "      Successfully uninstalled tensorboard-2.2.0\n",
            "  Found existing installation: tensorflow-estimator 2.2.0rc0\n",
            "    Uninstalling tensorflow-estimator-2.2.0rc0:\n",
            "      Successfully uninstalled tensorflow-estimator-2.2.0rc0\n",
            "  Found existing installation: tensorflow 2.2.0rc2\n",
            "    Uninstalling tensorflow-2.2.0rc2:\n",
            "      Successfully uninstalled tensorflow-2.2.0rc2\n",
            "Successfully installed Keras-2.3.1 PyYAML-5.3 Pygments-2.6.1 appnope-0.1.0 cachetools-4.0.0 gast-0.2.2 google-auth-1.11.3 idna-2.9 ipython-7.13.0 matplotlib-3.2.0 numpy-1.18.1 prompt-toolkit-3.0.4 protobuf-3.11.3 pydub-0.23.1 requests-2.23.0 six-1.14.0 tensorboard-2.1.1 tensorflow-2.1.0 tensorflow-estimator-2.1.0 tf-utils-1.0.4 urllib3-1.25.8 wcwidth-0.1.8\n"
          ],
          "name": "stdout"
        },
        {
          "output_type": "display_data",
          "data": {
            "application/vnd.colab-display-data+json": {
              "pip_warning": {
                "packages": [
                  "IPython",
                  "cachetools",
                  "google",
                  "idna",
                  "matplotlib",
                  "mpl_toolkits",
                  "numpy",
                  "prompt_toolkit",
                  "pygments",
                  "requests",
                  "six",
                  "urllib3",
                  "wcwidth"
                ]
              }
            }
          },
          "metadata": {
            "tags": []
          }
        }
      ]
    },
    {
      "cell_type": "markdown",
      "metadata": {
        "colab_type": "text",
        "id": "A7Hn1LtPRxZS"
      },
      "source": [
        "Importing and setting up env variables..."
      ]
    },
    {
      "cell_type": "code",
      "metadata": {
        "colab_type": "code",
        "id": "1rasqjnO6mAq",
        "outputId": "fa20f791-33b3-42d0-c2db-cb1fba5b0c20",
        "colab": {
          "base_uri": "https://localhost:8080/",
          "height": 34
        }
      },
      "source": [
        "import numpy as np\n",
        "from pydub import AudioSegment\n",
        "from pydub.playback import play\n",
        "import random\n",
        "import sys\n",
        "import io\n",
        "import os\n",
        "import glob\n",
        "import IPython\n",
        "import wave\n",
        "import pylab\n",
        "from tf_utils import *\n",
        "import matplotlib.pyplot as plt\n",
        "from scipy import signal\n",
        "from scipy.io import wavfile\n",
        "import pickle\n",
        "\n",
        "# Import files for trigger-word detection model\n",
        "from keras.models import Model, load_model, Sequential\n",
        "from keras.layers import Dense, Activation, Dropout, Input, Masking, TimeDistributed, LSTM, Conv1D\n",
        "from keras.layers import GRU, Bidirectional, BatchNormalization, Reshape\n",
        "from keras.optimizers import Adam"
      ],
      "execution_count": 6,
      "outputs": [
        {
          "output_type": "stream",
          "text": [
            "Using TensorFlow backend.\n"
          ],
          "name": "stderr"
        }
      ]
    },
    {
      "cell_type": "code",
      "metadata": {
        "id": "tsvlLoY6J2Lf",
        "colab_type": "code",
        "colab": {}
      },
      "source": [
        "PROJ_PATH = '/content/drive/My Drive/filler_detection/'"
      ],
      "execution_count": 0,
      "outputs": []
    },
    {
      "cell_type": "markdown",
      "metadata": {
        "colab_type": "text",
        "id": "9eM15MVGR0eJ"
      },
      "source": [
        "The fun begins...\n",
        "## Model Loading"
      ]
    },
    {
      "cell_type": "markdown",
      "metadata": {
        "colab_type": "text",
        "id": "oEfBQCPhR2QQ"
      },
      "source": [
        "Sanity check for `Tx`, `n_freq`, `Ty`. \n",
        "\n",
        "1. Input into model `Tx` and `n_freq`\n",
        "2. Call `model.summary()`\n",
        "3. `Tx` of **sample** and variable = `input_7.shape[1]` (ie column 2, row 1, second element of array)\n",
        "4. `Ty` = `input_7.shape[1]` (ie column 2, row 2, second element of array)"
      ]
    },
    {
      "cell_type": "code",
      "metadata": {
        "colab_type": "code",
        "id": "mqW78CpL8sYH",
        "colab": {}
      },
      "source": [
        "Tx = 5490 # The number of time steps input to the model from the spectrogram\n",
        "n_freq = 129 # Number of frequencies input to the model at each time step of the spectrogram\n",
        "Ty = 1369 # The number of time steps in the output of our model"
      ],
      "execution_count": 0,
      "outputs": []
    },
    {
      "cell_type": "code",
      "metadata": {
        "id": "h6yHKxtvnvYX",
        "colab_type": "code",
        "outputId": "24abbedd-d136-45c5-a4e7-f44374528f44",
        "colab": {
          "base_uri": "https://localhost:8080/",
          "height": 181
        }
      },
      "source": [
        "model.load_model(PROJ_PATH + \"models/4_5_3_7_model.h5\") \n",
        "model.summary()"
      ],
      "execution_count": 24,
      "outputs": [
        {
          "output_type": "error",
          "ename": "AttributeError",
          "evalue": "ignored",
          "traceback": [
            "\u001b[0;31m---------------------------------------------------------------------------\u001b[0m",
            "\u001b[0;31mAttributeError\u001b[0m                            Traceback (most recent call last)",
            "\u001b[0;32m<ipython-input-24-6acffc37087f>\u001b[0m in \u001b[0;36m<module>\u001b[0;34m()\u001b[0m\n\u001b[0;32m----> 1\u001b[0;31m \u001b[0mmodel\u001b[0m\u001b[0;34m.\u001b[0m\u001b[0mload_model\u001b[0m\u001b[0;34m(\u001b[0m\u001b[0mPROJ_PATH\u001b[0m \u001b[0;34m+\u001b[0m \u001b[0;34m\"models/4_5_3_7_model.h5\"\u001b[0m\u001b[0;34m)\u001b[0m\u001b[0;34m\u001b[0m\u001b[0;34m\u001b[0m\u001b[0m\n\u001b[0m\u001b[1;32m      2\u001b[0m \u001b[0mmodel\u001b[0m\u001b[0;34m.\u001b[0m\u001b[0msummary\u001b[0m\u001b[0;34m(\u001b[0m\u001b[0;34m)\u001b[0m\u001b[0;34m\u001b[0m\u001b[0;34m\u001b[0m\u001b[0m\n",
            "\u001b[0;31mAttributeError\u001b[0m: 'NoneType' object has no attribute 'load_model'"
          ]
        }
      ]
    },
    {
      "cell_type": "markdown",
      "metadata": {
        "colab_type": "text",
        "id": "uEezPsKZEnUh"
      },
      "source": [
        "### Create New Model (if not pre-trained)"
      ]
    },
    {
      "cell_type": "code",
      "metadata": {
        "colab_type": "code",
        "id": "b54E5A1c8pSh",
        "colab": {}
      },
      "source": [
        "from keras.initializers import RandomNormal\n",
        "\n",
        "# GRADED FUNCTION: model\n",
        "\n",
        "def create_model(input_shape, output_bias=None):\n",
        "    \"\"\"\n",
        "    Function creating the model's graph in Keras library.\n",
        "    \n",
        "    Argument:\n",
        "    input_shape -- shape of the model's input data (using Keras conventions)\n",
        "    \n",
        "    Returns:\n",
        "    model -- Keras model instance\n",
        "    \"\"\"\n",
        "    \n",
        "    X_input = Input(shape = input_shape)\n",
        "    \n",
        "    # Step 1: CONV Layer\n",
        "    # CONV-1D\n",
        "    X = Conv1D(filters=196, kernel_size=15, strides=4)(X_input)\n",
        "    # Batch Normalization\n",
        "    X = BatchNormalization()(X)\n",
        "    # RelU activation\n",
        "    X = Activation(\"relu\")(X)\n",
        "    # Dropout (using rate 0.8)\n",
        "    X = Dropout(rate=0.8)(X)\n",
        "    \n",
        "    # Step 2: First GRU Layer\n",
        "    # GRU (use 128 units to return the sequences)\n",
        "    X = GRU(units=128, return_sequences=True)(X)\n",
        "    # Dropout (using rate 0.8)\n",
        "    X = Dropout(rate=0.8)(X)\n",
        "    # Batch Normalization\n",
        "    X = BatchNormalization()(X)\n",
        "    \n",
        "    # Step 3: Second GRU Layer\n",
        "    # GRU (use 128 units to return the sequences)\n",
        "    X = GRU(units=128, return_sequences=True)(X)\n",
        "    # Dropout (using rate 0.8)\n",
        "    X = Dropout(rate=0.8)(X)\n",
        "    # Batch Normalization\n",
        "    X = BatchNormalization()(X)\n",
        "    # Dropout (using rate 0.8)\n",
        "    X = Dropout(rate=0.8)(X)\n",
        "    \n",
        "    # Step 4: Time-distributed dense layer\n",
        "    if output_bias != None: \n",
        "        bias_initializer = RandomNormal(mean=output_bias) \n",
        "    else: \n",
        "        bias_initializer = \"zeros\"\n",
        "    X = TimeDistributed(Dense(1, activation=\"sigmoid\", bias_initializer= bias_initializer))(X)\n",
        "    \n",
        "    # Return model\n",
        "    model = Model(inputs = [X_input], outputs = X)\n",
        "    return model"
      ],
      "execution_count": 0,
      "outputs": []
    },
    {
      "cell_type": "code",
      "metadata": {
        "colab_type": "code",
        "id": "D3Sfny3t78rK",
        "outputId": "30f8285d-300b-454e-aed2-4da4a43a2e55",
        "colab": {
          "base_uri": "https://localhost:8080/",
          "height": 595
        }
      },
      "source": [
        "model = create_model(input_shape = (Tx, n_freq), output_bias = None)\n",
        "model.summary()"
      ],
      "execution_count": 25,
      "outputs": [
        {
          "output_type": "stream",
          "text": [
            "Model: \"model_2\"\n",
            "_________________________________________________________________\n",
            "Layer (type)                 Output Shape              Param #   \n",
            "=================================================================\n",
            "input_2 (InputLayer)         (None, 5490, 129)         0         \n",
            "_________________________________________________________________\n",
            "conv1d_2 (Conv1D)            (None, 1369, 196)         379456    \n",
            "_________________________________________________________________\n",
            "batch_normalization_4 (Batch (None, 1369, 196)         784       \n",
            "_________________________________________________________________\n",
            "activation_2 (Activation)    (None, 1369, 196)         0         \n",
            "_________________________________________________________________\n",
            "dropout_5 (Dropout)          (None, 1369, 196)         0         \n",
            "_________________________________________________________________\n",
            "gru_3 (GRU)                  (None, 1369, 128)         124800    \n",
            "_________________________________________________________________\n",
            "dropout_6 (Dropout)          (None, 1369, 128)         0         \n",
            "_________________________________________________________________\n",
            "batch_normalization_5 (Batch (None, 1369, 128)         512       \n",
            "_________________________________________________________________\n",
            "gru_4 (GRU)                  (None, 1369, 128)         98688     \n",
            "_________________________________________________________________\n",
            "dropout_7 (Dropout)          (None, 1369, 128)         0         \n",
            "_________________________________________________________________\n",
            "batch_normalization_6 (Batch (None, 1369, 128)         512       \n",
            "_________________________________________________________________\n",
            "dropout_8 (Dropout)          (None, 1369, 128)         0         \n",
            "_________________________________________________________________\n",
            "time_distributed_2 (TimeDist (None, 1369, 1)           129       \n",
            "=================================================================\n",
            "Total params: 604,881\n",
            "Trainable params: 603,977\n",
            "Non-trainable params: 904\n",
            "_________________________________________________________________\n"
          ],
          "name": "stdout"
        }
      ]
    },
    {
      "cell_type": "markdown",
      "metadata": {
        "colab_type": "text",
        "id": "-2szTzk7Eh01"
      },
      "source": [
        "### Load Weights of Pre-trained Model\n",
        "Loaded weights instead of model due to custom metrics causing error in loading model directly. Read more [here](https://github.com/keras-team/keras/issues/10104)."
      ]
    },
    {
      "cell_type": "code",
      "metadata": {
        "id": "rv8qz1uFd9J1",
        "colab_type": "code",
        "colab": {
          "base_uri": "https://localhost:8080/",
          "height": 595
        },
        "outputId": "84b3dda8-7b0d-4271-92d9-b931aaeb4ec4"
      },
      "source": [
        "model.load_weights(PROJ_PATH + \"models/4_5_3_7_model.h5\") \n",
        "model.summary()"
      ],
      "execution_count": 26,
      "outputs": [
        {
          "output_type": "stream",
          "text": [
            "Model: \"model_2\"\n",
            "_________________________________________________________________\n",
            "Layer (type)                 Output Shape              Param #   \n",
            "=================================================================\n",
            "input_2 (InputLayer)         (None, 5490, 129)         0         \n",
            "_________________________________________________________________\n",
            "conv1d_2 (Conv1D)            (None, 1369, 196)         379456    \n",
            "_________________________________________________________________\n",
            "batch_normalization_4 (Batch (None, 1369, 196)         784       \n",
            "_________________________________________________________________\n",
            "activation_2 (Activation)    (None, 1369, 196)         0         \n",
            "_________________________________________________________________\n",
            "dropout_5 (Dropout)          (None, 1369, 196)         0         \n",
            "_________________________________________________________________\n",
            "gru_3 (GRU)                  (None, 1369, 128)         124800    \n",
            "_________________________________________________________________\n",
            "dropout_6 (Dropout)          (None, 1369, 128)         0         \n",
            "_________________________________________________________________\n",
            "batch_normalization_5 (Batch (None, 1369, 128)         512       \n",
            "_________________________________________________________________\n",
            "gru_4 (GRU)                  (None, 1369, 128)         98688     \n",
            "_________________________________________________________________\n",
            "dropout_7 (Dropout)          (None, 1369, 128)         0         \n",
            "_________________________________________________________________\n",
            "batch_normalization_6 (Batch (None, 1369, 128)         512       \n",
            "_________________________________________________________________\n",
            "dropout_8 (Dropout)          (None, 1369, 128)         0         \n",
            "_________________________________________________________________\n",
            "time_distributed_2 (TimeDist (None, 1369, 1)           129       \n",
            "=================================================================\n",
            "Total params: 604,881\n",
            "Trainable params: 603,977\n",
            "Non-trainable params: 904\n",
            "_________________________________________________________________\n"
          ],
          "name": "stdout"
        }
      ]
    },
    {
      "cell_type": "markdown",
      "metadata": {
        "colab_type": "text",
        "id": "owDLV1UyENRt"
      },
      "source": [
        "## Model Training"
      ]
    },
    {
      "cell_type": "code",
      "metadata": {
        "colab_type": "code",
        "id": "UYzGhjq78vL-",
        "colab": {}
      },
      "source": [
        "import keras\n",
        "\n",
        "# Function to fit and further train the model. Returns history (check documentation of `model.fit` for more details).\n",
        "def model_train(model, X, Y, X_dev, Y_dev):\n",
        "    \"\"\"\n",
        "    Function to train the model further using Adam optimiser and binary \n",
        "    cross entropy loss.\n",
        "    \n",
        "    Arguments:\n",
        "    model -- Model to train\n",
        "    X -- X data to train on\n",
        "    Y -- Y data to train on\n",
        "    \"\"\"\n",
        "\n",
        "    METRICS = [\n",
        "      keras.metrics.TruePositives(name='tp'),\n",
        "      keras.metrics.FalsePositives(name='fp'),\n",
        "      keras.metrics.TrueNegatives(name='tn'),\n",
        "      keras.metrics.FalseNegatives(name='fn'), \n",
        "      keras.metrics.BinaryAccuracy(name='accuracy'),\n",
        "      keras.metrics.Precision(name='precision'),\n",
        "      keras.metrics.Recall(name='recall'),\n",
        "      keras.metrics.AUC(name='auc'),\n",
        "    ]\n",
        "\n",
        "    \n",
        "    opt = Adam(lr=0.001, beta_1=0.9, beta_2=0.999, decay=0.01)\n",
        "    model.compile(loss='binary_crossentropy', optimizer=opt, metrics=METRICS)\n",
        "    \n",
        "    history = model.fit(X, Y, batch_size=50, epochs=100, validation_data=(X_dev, Y_dev))\n",
        "    return history"
      ],
      "execution_count": 0,
      "outputs": []
    },
    {
      "cell_type": "code",
      "metadata": {
        "id": "uHf7t1TjLvnl",
        "colab_type": "code",
        "outputId": "9172c2f3-7b11-4f4d-e40a-63694966f2e2",
        "colab": {
          "base_uri": "https://localhost:8080/",
          "height": 34
        }
      },
      "source": [
        "X = np.load(PROJ_PATH + \"data/train/3_7/X_1.npy\")\n",
        "Y = np.load(PROJ_PATH + \"data/train/3_7/Y_1.npy\")\n",
        "print(\"X: {} Y: {}\".format(X.shape, Y.shape))"
      ],
      "execution_count": 75,
      "outputs": [
        {
          "output_type": "stream",
          "text": [
            "X: (1000, 5490, 129) Y: (1000, 1369, 1)\n"
          ],
          "name": "stdout"
        }
      ]
    },
    {
      "cell_type": "code",
      "metadata": {
        "id": "t7x8yCWQPSCh",
        "colab_type": "code",
        "outputId": "6c0487de-80f5-420c-b4cd-20ec0d972c6b",
        "colab": {
          "base_uri": "https://localhost:8080/",
          "height": 34
        }
      },
      "source": [
        "X_dev = np.load(PROJ_PATH + \"data/dev_synthesised/3_7/X_1.npy\")\n",
        "Y_dev = np.load(PROJ_PATH + \"data/dev_synthesised/3_7/Y_1.npy\")\n",
        "print(\"X: {} Y: {}\".format(X_dev.shape, Y_dev.shape))"
      ],
      "execution_count": 76,
      "outputs": [
        {
          "output_type": "stream",
          "text": [
            "X: (300, 5490, 129) Y: (300, 1369, 1)\n"
          ],
          "name": "stdout"
        }
      ]
    },
    {
      "cell_type": "code",
      "metadata": {
        "colab_type": "code",
        "id": "0Z7c9Pha8wkw",
        "outputId": "51e16d4a-41a6-4f3f-c238-53c42d96f44b",
        "colab": {
          "base_uri": "https://localhost:8080/",
          "height": 1000
        }
      },
      "source": [
        "model_filename = \"4_5_3_7_model\"\n",
        "history_filename = \"4_5_3_7_history\"\n",
        "\n",
        "history = model_train(model, X, Y, X_dev, Y_dev)\n",
        "\n",
        "# Save model\n",
        "model.save(PROJ_PATH + f\"models/{model_filename}.h5\")\n",
        "print(\"model saved!\")\n",
        "\n",
        "# Save history\n",
        "with open(PROJ_PATH + f'models/history/{history_filename}', 'wb') as file_pi:\n",
        "    pickle.dump(history.history, file_pi)\n",
        "print(\"history saved!\")"
      ],
      "execution_count": 79,
      "outputs": [
        {
          "output_type": "stream",
          "text": [
            "Train on 1000 samples, validate on 300 samples\n",
            "Epoch 1/100\n",
            "1000/1000 [==============================] - 82s 82ms/step - loss: 0.2975 - tp: 43640.0000 - fp: 43664.0000 - tn: 1178848.0000 - fn: 102848.0000 - accuracy: 0.8930 - precision: 0.4999 - recall: 0.2979 - auc: 0.7994 - val_loss: 0.2161 - val_tp: 26207.0000 - val_fp: 13595.0000 - val_tn: 353152.0000 - val_fn: 17746.0000 - val_accuracy: 0.9237 - val_precision: 0.6584 - val_recall: 0.5963 - val_auc: 0.8951\n",
            "Epoch 2/100\n",
            "1000/1000 [==============================] - 80s 80ms/step - loss: 0.2243 - tp: 82173.0000 - fp: 39007.0000 - tn: 1183505.0000 - fn: 64315.0000 - accuracy: 0.9245 - precision: 0.6781 - recall: 0.5610 - auc: 0.8871 - val_loss: 0.2004 - val_tp: 34445.0000 - val_fp: 21906.0000 - val_tn: 344841.0000 - val_fn: 9508.0000 - val_accuracy: 0.9235 - val_precision: 0.6113 - val_recall: 0.7837 - val_auc: 0.9181\n",
            "Epoch 3/100\n",
            "1000/1000 [==============================] - 80s 80ms/step - loss: 0.2275 - tp: 81057.0000 - fp: 39937.0000 - tn: 1182575.0000 - fn: 65431.0000 - accuracy: 0.9230 - precision: 0.6699 - recall: 0.5533 - auc: 0.8811 - val_loss: 0.1996 - val_tp: 32967.0000 - val_fp: 21145.0000 - val_tn: 345602.0000 - val_fn: 10986.0000 - val_accuracy: 0.9218 - val_precision: 0.6092 - val_recall: 0.7501 - val_auc: 0.9198\n",
            "Epoch 4/100\n",
            "1000/1000 [==============================] - 82s 82ms/step - loss: 0.2039 - tp: 83488.0000 - fp: 31369.0000 - tn: 1191143.0000 - fn: 63000.0000 - accuracy: 0.9311 - precision: 0.7269 - recall: 0.5699 - auc: 0.9013 - val_loss: 0.1833 - val_tp: 33621.0000 - val_fp: 18527.0000 - val_tn: 348220.0000 - val_fn: 10332.0000 - val_accuracy: 0.9297 - val_precision: 0.6447 - val_recall: 0.7649 - val_auc: 0.9285\n",
            "Epoch 5/100\n",
            "1000/1000 [==============================] - 81s 81ms/step - loss: 0.1987 - tp: 88484.0000 - fp: 35558.0000 - tn: 1186954.0000 - fn: 58004.0000 - accuracy: 0.9317 - precision: 0.7133 - recall: 0.6040 - auc: 0.9104 - val_loss: 0.1836 - val_tp: 35515.0000 - val_fp: 22098.0000 - val_tn: 344649.0000 - val_fn: 8438.0000 - val_accuracy: 0.9256 - val_precision: 0.6164 - val_recall: 0.8080 - val_auc: 0.9388\n",
            "Epoch 6/100\n",
            "1000/1000 [==============================] - 81s 81ms/step - loss: 0.1953 - tp: 88074.0000 - fp: 33681.0000 - tn: 1188831.0000 - fn: 58414.0000 - accuracy: 0.9327 - precision: 0.7234 - recall: 0.6012 - auc: 0.9129 - val_loss: 0.1723 - val_tp: 35218.0000 - val_fp: 19799.0000 - val_tn: 346948.0000 - val_fn: 8735.0000 - val_accuracy: 0.9305 - val_precision: 0.6401 - val_recall: 0.8013 - val_auc: 0.9434\n",
            "Epoch 7/100\n",
            "1000/1000 [==============================] - 81s 81ms/step - loss: 0.1907 - tp: 87029.0000 - fp: 30847.0000 - tn: 1191665.0000 - fn: 59459.0000 - accuracy: 0.9340 - precision: 0.7383 - recall: 0.5941 - auc: 0.9143 - val_loss: 0.1649 - val_tp: 35746.0000 - val_fp: 19040.0000 - val_tn: 347707.0000 - val_fn: 8207.0000 - val_accuracy: 0.9337 - val_precision: 0.6525 - val_recall: 0.8133 - val_auc: 0.9462\n",
            "Epoch 8/100\n",
            "1000/1000 [==============================] - 80s 80ms/step - loss: 0.1867 - tp: 88523.0000 - fp: 30721.0000 - tn: 1191791.0000 - fn: 57965.0000 - accuracy: 0.9352 - precision: 0.7424 - recall: 0.6043 - auc: 0.9189 - val_loss: 0.1811 - val_tp: 35591.0000 - val_fp: 21297.0000 - val_tn: 345450.0000 - val_fn: 8362.0000 - val_accuracy: 0.9278 - val_precision: 0.6256 - val_recall: 0.8098 - val_auc: 0.9320\n",
            "Epoch 9/100\n",
            "1000/1000 [==============================] - 80s 80ms/step - loss: 0.1888 - tp: 89769.0000 - fp: 33470.0000 - tn: 1189042.0000 - fn: 56719.0000 - accuracy: 0.9341 - precision: 0.7284 - recall: 0.6128 - auc: 0.9176 - val_loss: 0.1794 - val_tp: 36859.0000 - val_fp: 24544.0000 - val_tn: 342203.0000 - val_fn: 7094.0000 - val_accuracy: 0.9230 - val_precision: 0.6003 - val_recall: 0.8386 - val_auc: 0.9430\n",
            "Epoch 10/100\n",
            "1000/1000 [==============================] - 80s 80ms/step - loss: 0.1920 - tp: 87086.0000 - fp: 33774.0000 - tn: 1188738.0000 - fn: 59402.0000 - accuracy: 0.9319 - precision: 0.7206 - recall: 0.5945 - auc: 0.9150 - val_loss: 0.1619 - val_tp: 33872.0000 - val_fp: 15530.0000 - val_tn: 351217.0000 - val_fn: 10081.0000 - val_accuracy: 0.9376 - val_precision: 0.6856 - val_recall: 0.7706 - val_auc: 0.9445\n",
            "Epoch 11/100\n",
            "1000/1000 [==============================] - 80s 80ms/step - loss: 0.1820 - tp: 88511.0000 - fp: 30197.0000 - tn: 1192315.0000 - fn: 57977.0000 - accuracy: 0.9356 - precision: 0.7456 - recall: 0.6042 - auc: 0.9230 - val_loss: 0.1630 - val_tp: 34123.0000 - val_fp: 14944.0000 - val_tn: 351803.0000 - val_fn: 9830.0000 - val_accuracy: 0.9397 - val_precision: 0.6954 - val_recall: 0.7764 - val_auc: 0.9320\n",
            "Epoch 12/100\n",
            "1000/1000 [==============================] - 80s 80ms/step - loss: 0.1777 - tp: 90400.0000 - fp: 29197.0000 - tn: 1193315.0000 - fn: 56088.0000 - accuracy: 0.9377 - precision: 0.7559 - recall: 0.6171 - auc: 0.9257 - val_loss: 0.1613 - val_tp: 33787.0000 - val_fp: 14165.0000 - val_tn: 352582.0000 - val_fn: 10166.0000 - val_accuracy: 0.9408 - val_precision: 0.7046 - val_recall: 0.7687 - val_auc: 0.9403\n",
            "Epoch 13/100\n",
            "1000/1000 [==============================] - 81s 81ms/step - loss: 0.1730 - tp: 92131.0000 - fp: 30316.0000 - tn: 1192196.0000 - fn: 54357.0000 - accuracy: 0.9381 - precision: 0.7524 - recall: 0.6289 - auc: 0.9331 - val_loss: 0.1656 - val_tp: 34216.0000 - val_fp: 15397.0000 - val_tn: 351350.0000 - val_fn: 9737.0000 - val_accuracy: 0.9388 - val_precision: 0.6897 - val_recall: 0.7785 - val_auc: 0.9348\n",
            "Epoch 14/100\n",
            "1000/1000 [==============================] - 81s 81ms/step - loss: 0.1736 - tp: 93455.0000 - fp: 32180.0000 - tn: 1190332.0000 - fn: 53033.0000 - accuracy: 0.9378 - precision: 0.7439 - recall: 0.6380 - auc: 0.9335 - val_loss: 0.1587 - val_tp: 36211.0000 - val_fp: 18104.0000 - val_tn: 348643.0000 - val_fn: 7742.0000 - val_accuracy: 0.9371 - val_precision: 0.6667 - val_recall: 0.8239 - val_auc: 0.9491\n",
            "Epoch 15/100\n",
            "1000/1000 [==============================] - 82s 82ms/step - loss: 0.1721 - tp: 91363.0000 - fp: 31131.0000 - tn: 1191381.0000 - fn: 55125.0000 - accuracy: 0.9370 - precision: 0.7459 - recall: 0.6237 - auc: 0.9356 - val_loss: 0.1665 - val_tp: 36146.0000 - val_fp: 19759.0000 - val_tn: 346988.0000 - val_fn: 7807.0000 - val_accuracy: 0.9329 - val_precision: 0.6466 - val_recall: 0.8224 - val_auc: 0.9426\n",
            "Epoch 16/100\n",
            "1000/1000 [==============================] - 82s 82ms/step - loss: 0.1706 - tp: 91547.0000 - fp: 29737.0000 - tn: 1192775.0000 - fn: 54941.0000 - accuracy: 0.9381 - precision: 0.7548 - recall: 0.6249 - auc: 0.9349 - val_loss: 0.1633 - val_tp: 35925.0000 - val_fp: 19356.0000 - val_tn: 347391.0000 - val_fn: 8028.0000 - val_accuracy: 0.9333 - val_precision: 0.6499 - val_recall: 0.8174 - val_auc: 0.9474\n",
            "Epoch 17/100\n",
            "1000/1000 [==============================] - 82s 82ms/step - loss: 0.1683 - tp: 92914.0000 - fp: 29702.0000 - tn: 1192810.0000 - fn: 53574.0000 - accuracy: 0.9392 - precision: 0.7578 - recall: 0.6343 - auc: 0.9363 - val_loss: 0.1612 - val_tp: 34930.0000 - val_fp: 16679.0000 - val_tn: 350068.0000 - val_fn: 9023.0000 - val_accuracy: 0.9374 - val_precision: 0.6768 - val_recall: 0.7947 - val_auc: 0.9456\n",
            "Epoch 18/100\n",
            "1000/1000 [==============================] - 82s 82ms/step - loss: 0.1674 - tp: 92560.0000 - fp: 29577.0000 - tn: 1192935.0000 - fn: 53928.0000 - accuracy: 0.9390 - precision: 0.7578 - recall: 0.6319 - auc: 0.9385 - val_loss: 0.1576 - val_tp: 35055.0000 - val_fp: 16183.0000 - val_tn: 350564.0000 - val_fn: 8898.0000 - val_accuracy: 0.9389 - val_precision: 0.6842 - val_recall: 0.7976 - val_auc: 0.9428\n",
            "Epoch 19/100\n",
            "1000/1000 [==============================] - 80s 80ms/step - loss: 0.1691 - tp: 93100.0000 - fp: 32153.0000 - tn: 1190359.0000 - fn: 53388.0000 - accuracy: 0.9375 - precision: 0.7433 - recall: 0.6355 - auc: 0.9387 - val_loss: 0.1612 - val_tp: 34083.0000 - val_fp: 14871.0000 - val_tn: 351876.0000 - val_fn: 9870.0000 - val_accuracy: 0.9398 - val_precision: 0.6962 - val_recall: 0.7754 - val_auc: 0.9440\n",
            "Epoch 20/100\n",
            "1000/1000 [==============================] - 80s 80ms/step - loss: 0.1650 - tp: 91659.0000 - fp: 30317.0000 - tn: 1192195.0000 - fn: 54829.0000 - accuracy: 0.9378 - precision: 0.7515 - recall: 0.6257 - auc: 0.9436 - val_loss: 0.1587 - val_tp: 33264.0000 - val_fp: 12925.0000 - val_tn: 353822.0000 - val_fn: 10689.0000 - val_accuracy: 0.9425 - val_precision: 0.7202 - val_recall: 0.7568 - val_auc: 0.9383\n",
            "Epoch 21/100\n",
            "1000/1000 [==============================] - 80s 80ms/step - loss: 0.1636 - tp: 93317.0000 - fp: 31609.0000 - tn: 1190903.0000 - fn: 53171.0000 - accuracy: 0.9381 - precision: 0.7470 - recall: 0.6370 - auc: 0.9448 - val_loss: 0.1548 - val_tp: 33973.0000 - val_fp: 13618.0000 - val_tn: 353129.0000 - val_fn: 9980.0000 - val_accuracy: 0.9425 - val_precision: 0.7139 - val_recall: 0.7729 - val_auc: 0.9489\n",
            "Epoch 22/100\n",
            "1000/1000 [==============================] - 81s 81ms/step - loss: 0.1654 - tp: 92211.0000 - fp: 31395.0000 - tn: 1191117.0000 - fn: 54277.0000 - accuracy: 0.9374 - precision: 0.7460 - recall: 0.6295 - auc: 0.9430 - val_loss: 0.1540 - val_tp: 34062.0000 - val_fp: 14156.0000 - val_tn: 352591.0000 - val_fn: 9891.0000 - val_accuracy: 0.9414 - val_precision: 0.7064 - val_recall: 0.7750 - val_auc: 0.9517\n",
            "Epoch 23/100\n",
            "1000/1000 [==============================] - 80s 80ms/step - loss: 0.1650 - tp: 93968.0000 - fp: 32266.0000 - tn: 1190246.0000 - fn: 52520.0000 - accuracy: 0.9381 - precision: 0.7444 - recall: 0.6415 - auc: 0.9426 - val_loss: 0.1579 - val_tp: 33657.0000 - val_fp: 14832.0000 - val_tn: 351915.0000 - val_fn: 10296.0000 - val_accuracy: 0.9388 - val_precision: 0.6941 - val_recall: 0.7657 - val_auc: 0.9513\n",
            "Epoch 24/100\n",
            "1000/1000 [==============================] - 80s 80ms/step - loss: 0.1674 - tp: 89205.0000 - fp: 30085.0000 - tn: 1192427.0000 - fn: 57283.0000 - accuracy: 0.9362 - precision: 0.7478 - recall: 0.6090 - auc: 0.9413 - val_loss: 0.1603 - val_tp: 34225.0000 - val_fp: 15156.0000 - val_tn: 351591.0000 - val_fn: 9728.0000 - val_accuracy: 0.9394 - val_precision: 0.6931 - val_recall: 0.7787 - val_auc: 0.9413\n",
            "Epoch 25/100\n",
            "1000/1000 [==============================] - 81s 81ms/step - loss: 0.1611 - tp: 92123.0000 - fp: 30942.0000 - tn: 1191570.0000 - fn: 54365.0000 - accuracy: 0.9377 - precision: 0.7486 - recall: 0.6289 - auc: 0.9476 - val_loss: 0.1532 - val_tp: 35139.0000 - val_fp: 16410.0000 - val_tn: 350337.0000 - val_fn: 8814.0000 - val_accuracy: 0.9386 - val_precision: 0.6817 - val_recall: 0.7995 - val_auc: 0.9547\n",
            "Epoch 26/100\n",
            "1000/1000 [==============================] - 81s 81ms/step - loss: 0.1657 - tp: 91125.0000 - fp: 31111.0000 - tn: 1191401.0000 - fn: 55363.0000 - accuracy: 0.9368 - precision: 0.7455 - recall: 0.6221 - auc: 0.9424 - val_loss: 0.1583 - val_tp: 35422.0000 - val_fp: 17546.0000 - val_tn: 349201.0000 - val_fn: 8531.0000 - val_accuracy: 0.9365 - val_precision: 0.6687 - val_recall: 0.8059 - val_auc: 0.9498\n",
            "Epoch 27/100\n",
            "1000/1000 [==============================] - 81s 81ms/step - loss: 0.1604 - tp: 91964.0000 - fp: 29533.0000 - tn: 1192979.0000 - fn: 54524.0000 - accuracy: 0.9386 - precision: 0.7569 - recall: 0.6278 - auc: 0.9467 - val_loss: 0.1565 - val_tp: 36027.0000 - val_fp: 17977.0000 - val_tn: 348770.0000 - val_fn: 7926.0000 - val_accuracy: 0.9369 - val_precision: 0.6671 - val_recall: 0.8197 - val_auc: 0.9520\n",
            "Epoch 28/100\n",
            "1000/1000 [==============================] - 81s 81ms/step - loss: 0.1601 - tp: 94242.0000 - fp: 30504.0000 - tn: 1192008.0000 - fn: 52246.0000 - accuracy: 0.9396 - precision: 0.7555 - recall: 0.6433 - auc: 0.9460 - val_loss: 0.1540 - val_tp: 34632.0000 - val_fp: 16108.0000 - val_tn: 350639.0000 - val_fn: 9321.0000 - val_accuracy: 0.9381 - val_precision: 0.6825 - val_recall: 0.7879 - val_auc: 0.9582\n",
            "Epoch 29/100\n",
            "1000/1000 [==============================] - 81s 81ms/step - loss: 0.1610 - tp: 92698.0000 - fp: 31001.0000 - tn: 1191511.0000 - fn: 53790.0000 - accuracy: 0.9381 - precision: 0.7494 - recall: 0.6328 - auc: 0.9472 - val_loss: 0.1552 - val_tp: 36128.0000 - val_fp: 19172.0000 - val_tn: 347575.0000 - val_fn: 7825.0000 - val_accuracy: 0.9343 - val_precision: 0.6533 - val_recall: 0.8220 - val_auc: 0.9572\n",
            "Epoch 30/100\n",
            "1000/1000 [==============================] - 81s 81ms/step - loss: 0.1593 - tp: 91070.0000 - fp: 29373.0000 - tn: 1193139.0000 - fn: 55418.0000 - accuracy: 0.9381 - precision: 0.7561 - recall: 0.6217 - auc: 0.9491 - val_loss: 0.1590 - val_tp: 34946.0000 - val_fp: 17524.0000 - val_tn: 349223.0000 - val_fn: 9007.0000 - val_accuracy: 0.9354 - val_precision: 0.6660 - val_recall: 0.7951 - val_auc: 0.9506\n",
            "Epoch 31/100\n",
            "1000/1000 [==============================] - 83s 83ms/step - loss: 0.1583 - tp: 92557.0000 - fp: 28993.0000 - tn: 1193519.0000 - fn: 53931.0000 - accuracy: 0.9394 - precision: 0.7615 - recall: 0.6318 - auc: 0.9485 - val_loss: 0.1527 - val_tp: 34642.0000 - val_fp: 15473.0000 - val_tn: 351274.0000 - val_fn: 9311.0000 - val_accuracy: 0.9397 - val_precision: 0.6913 - val_recall: 0.7882 - val_auc: 0.9545\n",
            "Epoch 32/100\n",
            "1000/1000 [==============================] - 83s 83ms/step - loss: 0.1572 - tp: 94283.0000 - fp: 30798.0000 - tn: 1191714.0000 - fn: 52205.0000 - accuracy: 0.9394 - precision: 0.7538 - recall: 0.6436 - auc: 0.9499 - val_loss: 0.1515 - val_tp: 34108.0000 - val_fp: 15294.0000 - val_tn: 351453.0000 - val_fn: 9845.0000 - val_accuracy: 0.9388 - val_precision: 0.6904 - val_recall: 0.7760 - val_auc: 0.9608\n",
            "Epoch 33/100\n",
            "1000/1000 [==============================] - 82s 82ms/step - loss: 0.1532 - tp: 94303.0000 - fp: 28800.0000 - tn: 1193712.0000 - fn: 52185.0000 - accuracy: 0.9408 - precision: 0.7660 - recall: 0.6438 - auc: 0.9534 - val_loss: 0.1532 - val_tp: 34644.0000 - val_fp: 15431.0000 - val_tn: 351316.0000 - val_fn: 9309.0000 - val_accuracy: 0.9398 - val_precision: 0.6918 - val_recall: 0.7882 - val_auc: 0.9545\n",
            "Epoch 34/100\n",
            "1000/1000 [==============================] - 82s 82ms/step - loss: 0.1600 - tp: 93677.0000 - fp: 31233.0000 - tn: 1191279.0000 - fn: 52811.0000 - accuracy: 0.9386 - precision: 0.7500 - recall: 0.6395 - auc: 0.9481 - val_loss: 0.1535 - val_tp: 34373.0000 - val_fp: 14968.0000 - val_tn: 351779.0000 - val_fn: 9580.0000 - val_accuracy: 0.9402 - val_precision: 0.6966 - val_recall: 0.7820 - val_auc: 0.9536\n",
            "Epoch 35/100\n",
            "1000/1000 [==============================] - 82s 82ms/step - loss: 0.1582 - tp: 92844.0000 - fp: 30192.0000 - tn: 1192320.0000 - fn: 53644.0000 - accuracy: 0.9388 - precision: 0.7546 - recall: 0.6338 - auc: 0.9494 - val_loss: 0.1490 - val_tp: 35404.0000 - val_fp: 17508.0000 - val_tn: 349239.0000 - val_fn: 8549.0000 - val_accuracy: 0.9366 - val_precision: 0.6691 - val_recall: 0.8055 - val_auc: 0.9640\n",
            "Epoch 36/100\n",
            "1000/1000 [==============================] - 81s 81ms/step - loss: 0.1547 - tp: 93759.0000 - fp: 30439.0000 - tn: 1192073.0000 - fn: 52729.0000 - accuracy: 0.9392 - precision: 0.7549 - recall: 0.6400 - auc: 0.9540 - val_loss: 0.1521 - val_tp: 34287.0000 - val_fp: 14888.0000 - val_tn: 351859.0000 - val_fn: 9666.0000 - val_accuracy: 0.9402 - val_precision: 0.6972 - val_recall: 0.7801 - val_auc: 0.9546\n",
            "Epoch 37/100\n",
            "1000/1000 [==============================] - 79s 79ms/step - loss: 0.1599 - tp: 92725.0000 - fp: 29666.0000 - tn: 1192846.0000 - fn: 53763.0000 - accuracy: 0.9391 - precision: 0.7576 - recall: 0.6330 - auc: 0.9462 - val_loss: 0.1556 - val_tp: 34784.0000 - val_fp: 16034.0000 - val_tn: 350713.0000 - val_fn: 9169.0000 - val_accuracy: 0.9386 - val_precision: 0.6845 - val_recall: 0.7914 - val_auc: 0.9515\n",
            "Epoch 38/100\n",
            "1000/1000 [==============================] - 79s 79ms/step - loss: 0.1554 - tp: 91783.0000 - fp: 27947.0000 - tn: 1194565.0000 - fn: 54705.0000 - accuracy: 0.9396 - precision: 0.7666 - recall: 0.6266 - auc: 0.9517 - val_loss: 0.1540 - val_tp: 35029.0000 - val_fp: 16055.0000 - val_tn: 350692.0000 - val_fn: 8924.0000 - val_accuracy: 0.9392 - val_precision: 0.6857 - val_recall: 0.7970 - val_auc: 0.9528\n",
            "Epoch 39/100\n",
            "1000/1000 [==============================] - 79s 79ms/step - loss: 0.1531 - tp: 94684.0000 - fp: 30737.0000 - tn: 1191775.0000 - fn: 51804.0000 - accuracy: 0.9397 - precision: 0.7549 - recall: 0.6464 - auc: 0.9556 - val_loss: 0.1546 - val_tp: 33364.0000 - val_fp: 13376.0000 - val_tn: 353371.0000 - val_fn: 10589.0000 - val_accuracy: 0.9416 - val_precision: 0.7138 - val_recall: 0.7591 - val_auc: 0.9501\n",
            "Epoch 40/100\n",
            "1000/1000 [==============================] - 78s 78ms/step - loss: 0.1518 - tp: 93847.0000 - fp: 29682.0000 - tn: 1192830.0000 - fn: 52641.0000 - accuracy: 0.9399 - precision: 0.7597 - recall: 0.6406 - auc: 0.9565 - val_loss: 0.1519 - val_tp: 35788.0000 - val_fp: 17983.0000 - val_tn: 348764.0000 - val_fn: 8165.0000 - val_accuracy: 0.9363 - val_precision: 0.6656 - val_recall: 0.8142 - val_auc: 0.9599\n",
            "Epoch 41/100\n",
            "1000/1000 [==============================] - 78s 78ms/step - loss: 0.1503 - tp: 94437.0000 - fp: 28201.0000 - tn: 1194311.0000 - fn: 52051.0000 - accuracy: 0.9414 - precision: 0.7700 - recall: 0.6447 - auc: 0.9560 - val_loss: 0.1517 - val_tp: 34523.0000 - val_fp: 14944.0000 - val_tn: 351803.0000 - val_fn: 9430.0000 - val_accuracy: 0.9407 - val_precision: 0.6979 - val_recall: 0.7855 - val_auc: 0.9543\n",
            "Epoch 42/100\n",
            "1000/1000 [==============================] - 77s 77ms/step - loss: 0.1526 - tp: 93540.0000 - fp: 29475.0000 - tn: 1193037.0000 - fn: 52948.0000 - accuracy: 0.9398 - precision: 0.7604 - recall: 0.6386 - auc: 0.9559 - val_loss: 0.1499 - val_tp: 33876.0000 - val_fp: 13489.0000 - val_tn: 353258.0000 - val_fn: 10077.0000 - val_accuracy: 0.9426 - val_precision: 0.7152 - val_recall: 0.7707 - val_auc: 0.9556\n",
            "Epoch 43/100\n",
            "1000/1000 [==============================] - 78s 78ms/step - loss: 0.1511 - tp: 95039.0000 - fp: 30746.0000 - tn: 1191766.0000 - fn: 51449.0000 - accuracy: 0.9400 - precision: 0.7556 - recall: 0.6488 - auc: 0.9569 - val_loss: 0.1484 - val_tp: 35007.0000 - val_fp: 16258.0000 - val_tn: 350489.0000 - val_fn: 8946.0000 - val_accuracy: 0.9386 - val_precision: 0.6829 - val_recall: 0.7965 - val_auc: 0.9630\n",
            "Epoch 44/100\n",
            "1000/1000 [==============================] - 77s 77ms/step - loss: 0.1532 - tp: 94761.0000 - fp: 31897.0000 - tn: 1190615.0000 - fn: 51727.0000 - accuracy: 0.9389 - precision: 0.7482 - recall: 0.6469 - auc: 0.9566 - val_loss: 0.1519 - val_tp: 35755.0000 - val_fp: 18312.0000 - val_tn: 348435.0000 - val_fn: 8198.0000 - val_accuracy: 0.9355 - val_precision: 0.6613 - val_recall: 0.8135 - val_auc: 0.9618\n",
            "Epoch 45/100\n",
            "1000/1000 [==============================] - 77s 77ms/step - loss: 0.1506 - tp: 91570.0000 - fp: 27231.0000 - tn: 1195281.0000 - fn: 54918.0000 - accuracy: 0.9400 - precision: 0.7708 - recall: 0.6251 - auc: 0.9573 - val_loss: 0.1573 - val_tp: 35683.0000 - val_fp: 17764.0000 - val_tn: 348983.0000 - val_fn: 8270.0000 - val_accuracy: 0.9366 - val_precision: 0.6676 - val_recall: 0.8118 - val_auc: 0.9533\n",
            "Epoch 46/100\n",
            "1000/1000 [==============================] - 76s 76ms/step - loss: 0.1507 - tp: 95113.0000 - fp: 31613.0000 - tn: 1190899.0000 - fn: 51375.0000 - accuracy: 0.9394 - precision: 0.7505 - recall: 0.6493 - auc: 0.9585 - val_loss: 0.1637 - val_tp: 32516.0000 - val_fp: 12774.0000 - val_tn: 353973.0000 - val_fn: 11437.0000 - val_accuracy: 0.9410 - val_precision: 0.7180 - val_recall: 0.7398 - val_auc: 0.9412\n",
            "Epoch 47/100\n",
            "1000/1000 [==============================] - 77s 77ms/step - loss: 0.1491 - tp: 93525.0000 - fp: 27936.0000 - tn: 1194576.0000 - fn: 52963.0000 - accuracy: 0.9409 - precision: 0.7700 - recall: 0.6384 - auc: 0.9580 - val_loss: 0.1478 - val_tp: 34582.0000 - val_fp: 14847.0000 - val_tn: 351900.0000 - val_fn: 9371.0000 - val_accuracy: 0.9410 - val_precision: 0.6996 - val_recall: 0.7868 - val_auc: 0.9608\n",
            "Epoch 48/100\n",
            "1000/1000 [==============================] - 77s 77ms/step - loss: 0.1483 - tp: 95295.0000 - fp: 29314.0000 - tn: 1193198.0000 - fn: 51193.0000 - accuracy: 0.9412 - precision: 0.7648 - recall: 0.6505 - auc: 0.9589 - val_loss: 0.1462 - val_tp: 34536.0000 - val_fp: 14864.0000 - val_tn: 351883.0000 - val_fn: 9417.0000 - val_accuracy: 0.9409 - val_precision: 0.6991 - val_recall: 0.7857 - val_auc: 0.9631\n",
            "Epoch 49/100\n",
            "1000/1000 [==============================] - 77s 77ms/step - loss: 0.1473 - tp: 95037.0000 - fp: 28015.0000 - tn: 1194497.0000 - fn: 51451.0000 - accuracy: 0.9420 - precision: 0.7723 - recall: 0.6488 - auc: 0.9587 - val_loss: 0.1562 - val_tp: 33160.0000 - val_fp: 14076.0000 - val_tn: 352671.0000 - val_fn: 10793.0000 - val_accuracy: 0.9394 - val_precision: 0.7020 - val_recall: 0.7544 - val_auc: 0.9534\n",
            "Epoch 50/100\n",
            "1000/1000 [==============================] - 77s 77ms/step - loss: 0.1493 - tp: 94323.0000 - fp: 28137.0000 - tn: 1194375.0000 - fn: 52165.0000 - accuracy: 0.9413 - precision: 0.7702 - recall: 0.6439 - auc: 0.9571 - val_loss: 0.1464 - val_tp: 33906.0000 - val_fp: 13795.0000 - val_tn: 352952.0000 - val_fn: 10047.0000 - val_accuracy: 0.9419 - val_precision: 0.7108 - val_recall: 0.7714 - val_auc: 0.9621\n",
            "Epoch 51/100\n",
            "1000/1000 [==============================] - 77s 77ms/step - loss: 0.1452 - tp: 95210.0000 - fp: 27530.0000 - tn: 1194982.0000 - fn: 51278.0000 - accuracy: 0.9424 - precision: 0.7757 - recall: 0.6500 - auc: 0.9607 - val_loss: 0.1472 - val_tp: 34715.0000 - val_fp: 15165.0000 - val_tn: 351582.0000 - val_fn: 9238.0000 - val_accuracy: 0.9406 - val_precision: 0.6960 - val_recall: 0.7898 - val_auc: 0.9635\n",
            "Epoch 52/100\n",
            "1000/1000 [==============================] - 77s 77ms/step - loss: 0.1484 - tp: 95718.0000 - fp: 30355.0000 - tn: 1192157.0000 - fn: 50770.0000 - accuracy: 0.9407 - precision: 0.7592 - recall: 0.6534 - auc: 0.9597 - val_loss: 0.1510 - val_tp: 34643.0000 - val_fp: 14727.0000 - val_tn: 352020.0000 - val_fn: 9310.0000 - val_accuracy: 0.9415 - val_precision: 0.7017 - val_recall: 0.7882 - val_auc: 0.9570\n",
            "Epoch 53/100\n",
            "1000/1000 [==============================] - 78s 78ms/step - loss: 0.1455 - tp: 95849.0000 - fp: 28066.0000 - tn: 1194446.0000 - fn: 50639.0000 - accuracy: 0.9425 - precision: 0.7735 - recall: 0.6543 - auc: 0.9604 - val_loss: 0.1476 - val_tp: 35023.0000 - val_fp: 15819.0000 - val_tn: 350928.0000 - val_fn: 8930.0000 - val_accuracy: 0.9397 - val_precision: 0.6889 - val_recall: 0.7968 - val_auc: 0.9632\n",
            "Epoch 54/100\n",
            "1000/1000 [==============================] - 77s 77ms/step - loss: 0.1448 - tp: 95526.0000 - fp: 26819.0000 - tn: 1195693.0000 - fn: 50962.0000 - accuracy: 0.9432 - precision: 0.7808 - recall: 0.6521 - auc: 0.9601 - val_loss: 0.1599 - val_tp: 34778.0000 - val_fp: 15173.0000 - val_tn: 351574.0000 - val_fn: 9175.0000 - val_accuracy: 0.9407 - val_precision: 0.6962 - val_recall: 0.7913 - val_auc: 0.9485\n",
            "Epoch 55/100\n",
            "1000/1000 [==============================] - 77s 77ms/step - loss: 0.1440 - tp: 97516.0000 - fp: 28663.0000 - tn: 1193849.0000 - fn: 48972.0000 - accuracy: 0.9433 - precision: 0.7728 - recall: 0.6657 - auc: 0.9613 - val_loss: 0.1525 - val_tp: 35046.0000 - val_fp: 16997.0000 - val_tn: 349750.0000 - val_fn: 8907.0000 - val_accuracy: 0.9369 - val_precision: 0.6734 - val_recall: 0.7974 - val_auc: 0.9611\n",
            "Epoch 56/100\n",
            "1000/1000 [==============================] - 77s 77ms/step - loss: 0.1440 - tp: 96123.0000 - fp: 27354.0000 - tn: 1195158.0000 - fn: 50365.0000 - accuracy: 0.9432 - precision: 0.7785 - recall: 0.6562 - auc: 0.9614 - val_loss: 0.1536 - val_tp: 34128.0000 - val_fp: 13897.0000 - val_tn: 352850.0000 - val_fn: 9825.0000 - val_accuracy: 0.9422 - val_precision: 0.7106 - val_recall: 0.7765 - val_auc: 0.9542\n",
            "Epoch 57/100\n",
            "1000/1000 [==============================] - 78s 78ms/step - loss: 0.1448 - tp: 97186.0000 - fp: 28389.0000 - tn: 1194123.0000 - fn: 49302.0000 - accuracy: 0.9432 - precision: 0.7739 - recall: 0.6634 - auc: 0.9604 - val_loss: 0.1479 - val_tp: 33403.0000 - val_fp: 12624.0000 - val_tn: 354123.0000 - val_fn: 10550.0000 - val_accuracy: 0.9436 - val_precision: 0.7257 - val_recall: 0.7600 - val_auc: 0.9641\n",
            "Epoch 58/100\n",
            "1000/1000 [==============================] - 77s 77ms/step - loss: 0.1453 - tp: 96836.0000 - fp: 28747.0000 - tn: 1193765.0000 - fn: 49652.0000 - accuracy: 0.9427 - precision: 0.7711 - recall: 0.6611 - auc: 0.9605 - val_loss: 0.1735 - val_tp: 34904.0000 - val_fp: 21068.0000 - val_tn: 345679.0000 - val_fn: 9049.0000 - val_accuracy: 0.9267 - val_precision: 0.6236 - val_recall: 0.7941 - val_auc: 0.9527\n",
            "Epoch 59/100\n",
            "1000/1000 [==============================] - 78s 78ms/step - loss: 0.1538 - tp: 92010.0000 - fp: 29251.0000 - tn: 1193261.0000 - fn: 54478.0000 - accuracy: 0.9388 - precision: 0.7588 - recall: 0.6281 - auc: 0.9559 - val_loss: 0.1467 - val_tp: 36251.0000 - val_fp: 18252.0000 - val_tn: 348495.0000 - val_fn: 7702.0000 - val_accuracy: 0.9368 - val_precision: 0.6651 - val_recall: 0.8248 - val_auc: 0.9666\n",
            "Epoch 60/100\n",
            "1000/1000 [==============================] - 78s 78ms/step - loss: 0.1447 - tp: 96843.0000 - fp: 29882.0000 - tn: 1192630.0000 - fn: 49645.0000 - accuracy: 0.9419 - precision: 0.7642 - recall: 0.6611 - auc: 0.9621 - val_loss: 0.1440 - val_tp: 34312.0000 - val_fp: 14060.0000 - val_tn: 352687.0000 - val_fn: 9641.0000 - val_accuracy: 0.9423 - val_precision: 0.7093 - val_recall: 0.7807 - val_auc: 0.9643\n",
            "Epoch 61/100\n",
            "1000/1000 [==============================] - 78s 78ms/step - loss: 0.1431 - tp: 96139.0000 - fp: 27490.0000 - tn: 1195022.0000 - fn: 50349.0000 - accuracy: 0.9431 - precision: 0.7776 - recall: 0.6563 - auc: 0.9625 - val_loss: 0.1470 - val_tp: 34836.0000 - val_fp: 15825.0000 - val_tn: 350922.0000 - val_fn: 9117.0000 - val_accuracy: 0.9393 - val_precision: 0.6876 - val_recall: 0.7926 - val_auc: 0.9660\n",
            "Epoch 62/100\n",
            "1000/1000 [==============================] - 77s 77ms/step - loss: 0.1446 - tp: 95917.0000 - fp: 28233.0000 - tn: 1194279.0000 - fn: 50571.0000 - accuracy: 0.9424 - precision: 0.7726 - recall: 0.6548 - auc: 0.9618 - val_loss: 0.1489 - val_tp: 35789.0000 - val_fp: 17793.0000 - val_tn: 348954.0000 - val_fn: 8164.0000 - val_accuracy: 0.9368 - val_precision: 0.6679 - val_recall: 0.8143 - val_auc: 0.9654\n",
            "Epoch 63/100\n",
            "1000/1000 [==============================] - 78s 78ms/step - loss: 0.1451 - tp: 95976.0000 - fp: 29934.0000 - tn: 1192578.0000 - fn: 50512.0000 - accuracy: 0.9412 - precision: 0.7623 - recall: 0.6552 - auc: 0.9635 - val_loss: 0.1450 - val_tp: 35052.0000 - val_fp: 15245.0000 - val_tn: 351502.0000 - val_fn: 8901.0000 - val_accuracy: 0.9412 - val_precision: 0.6969 - val_recall: 0.7975 - val_auc: 0.9649\n",
            "Epoch 64/100\n",
            "1000/1000 [==============================] - 78s 78ms/step - loss: 0.1490 - tp: 96284.0000 - fp: 30060.0000 - tn: 1192452.0000 - fn: 50204.0000 - accuracy: 0.9414 - precision: 0.7621 - recall: 0.6573 - auc: 0.9580 - val_loss: 0.1492 - val_tp: 34765.0000 - val_fp: 15897.0000 - val_tn: 350850.0000 - val_fn: 9188.0000 - val_accuracy: 0.9389 - val_precision: 0.6862 - val_recall: 0.7910 - val_auc: 0.9650\n",
            "Epoch 65/100\n",
            "1000/1000 [==============================] - 77s 77ms/step - loss: 0.1425 - tp: 96087.0000 - fp: 28231.0000 - tn: 1194281.0000 - fn: 50401.0000 - accuracy: 0.9426 - precision: 0.7729 - recall: 0.6559 - auc: 0.9643 - val_loss: 0.1503 - val_tp: 33843.0000 - val_fp: 13966.0000 - val_tn: 352781.0000 - val_fn: 10110.0000 - val_accuracy: 0.9414 - val_precision: 0.7079 - val_recall: 0.7700 - val_auc: 0.9636\n",
            "Epoch 66/100\n",
            "1000/1000 [==============================] - 77s 77ms/step - loss: 0.1404 - tp: 96697.0000 - fp: 27424.0000 - tn: 1195088.0000 - fn: 49791.0000 - accuracy: 0.9436 - precision: 0.7791 - recall: 0.6601 - auc: 0.9654 - val_loss: 0.1479 - val_tp: 34919.0000 - val_fp: 15041.0000 - val_tn: 351706.0000 - val_fn: 9034.0000 - val_accuracy: 0.9414 - val_precision: 0.6989 - val_recall: 0.7945 - val_auc: 0.9643\n",
            "Epoch 67/100\n",
            "1000/1000 [==============================] - 77s 77ms/step - loss: 0.1423 - tp: 97842.0000 - fp: 28393.0000 - tn: 1194119.0000 - fn: 48646.0000 - accuracy: 0.9437 - precision: 0.7751 - recall: 0.6679 - auc: 0.9632 - val_loss: 0.1553 - val_tp: 35116.0000 - val_fp: 16501.0000 - val_tn: 350246.0000 - val_fn: 8837.0000 - val_accuracy: 0.9383 - val_precision: 0.6803 - val_recall: 0.7989 - val_auc: 0.9613\n",
            "Epoch 68/100\n",
            "1000/1000 [==============================] - 76s 76ms/step - loss: 0.1427 - tp: 96664.0000 - fp: 27394.0000 - tn: 1195118.0000 - fn: 49824.0000 - accuracy: 0.9436 - precision: 0.7792 - recall: 0.6599 - auc: 0.9621 - val_loss: 0.1481 - val_tp: 36089.0000 - val_fp: 17685.0000 - val_tn: 349062.0000 - val_fn: 7864.0000 - val_accuracy: 0.9378 - val_precision: 0.6711 - val_recall: 0.8211 - val_auc: 0.9660\n",
            "Epoch 69/100\n",
            "1000/1000 [==============================] - 76s 76ms/step - loss: 0.1408 - tp: 97701.0000 - fp: 26873.0000 - tn: 1195639.0000 - fn: 48787.0000 - accuracy: 0.9447 - precision: 0.7843 - recall: 0.6670 - auc: 0.9629 - val_loss: 0.1608 - val_tp: 33491.0000 - val_fp: 13491.0000 - val_tn: 353256.0000 - val_fn: 10462.0000 - val_accuracy: 0.9417 - val_precision: 0.7128 - val_recall: 0.7620 - val_auc: 0.9502\n",
            "Epoch 70/100\n",
            "1000/1000 [==============================] - 78s 78ms/step - loss: 0.1386 - tp: 98058.0000 - fp: 26542.0000 - tn: 1195970.0000 - fn: 48430.0000 - accuracy: 0.9452 - precision: 0.7870 - recall: 0.6694 - auc: 0.9646 - val_loss: 0.1554 - val_tp: 33553.0000 - val_fp: 13276.0000 - val_tn: 353471.0000 - val_fn: 10400.0000 - val_accuracy: 0.9424 - val_precision: 0.7165 - val_recall: 0.7634 - val_auc: 0.9549\n",
            "Epoch 71/100\n",
            "1000/1000 [==============================] - 78s 78ms/step - loss: 0.1399 - tp: 97501.0000 - fp: 26701.0000 - tn: 1195811.0000 - fn: 48987.0000 - accuracy: 0.9447 - precision: 0.7850 - recall: 0.6656 - auc: 0.9641 - val_loss: 0.1451 - val_tp: 34877.0000 - val_fp: 15368.0000 - val_tn: 351379.0000 - val_fn: 9076.0000 - val_accuracy: 0.9405 - val_precision: 0.6941 - val_recall: 0.7935 - val_auc: 0.9668\n",
            "Epoch 72/100\n",
            "1000/1000 [==============================] - 77s 77ms/step - loss: 0.1403 - tp: 97791.0000 - fp: 25411.0000 - tn: 1197101.0000 - fn: 48697.0000 - accuracy: 0.9459 - precision: 0.7937 - recall: 0.6676 - auc: 0.9616 - val_loss: 0.1465 - val_tp: 33869.0000 - val_fp: 13091.0000 - val_tn: 353656.0000 - val_fn: 10084.0000 - val_accuracy: 0.9436 - val_precision: 0.7212 - val_recall: 0.7706 - val_auc: 0.9649\n",
            "Epoch 73/100\n",
            "1000/1000 [==============================] - 77s 77ms/step - loss: 0.1432 - tp: 98119.0000 - fp: 27614.0000 - tn: 1194898.0000 - fn: 48369.0000 - accuracy: 0.9445 - precision: 0.7804 - recall: 0.6698 - auc: 0.9612 - val_loss: 0.1494 - val_tp: 35621.0000 - val_fp: 17191.0000 - val_tn: 349556.0000 - val_fn: 8332.0000 - val_accuracy: 0.9379 - val_precision: 0.6745 - val_recall: 0.8104 - val_auc: 0.9650\n",
            "Epoch 74/100\n",
            "1000/1000 [==============================] - 78s 78ms/step - loss: 0.1421 - tp: 98673.0000 - fp: 29723.0000 - tn: 1192789.0000 - fn: 47815.0000 - accuracy: 0.9434 - precision: 0.7685 - recall: 0.6736 - auc: 0.9647 - val_loss: 0.1486 - val_tp: 36037.0000 - val_fp: 18129.0000 - val_tn: 348618.0000 - val_fn: 7916.0000 - val_accuracy: 0.9366 - val_precision: 0.6653 - val_recall: 0.8199 - val_auc: 0.9665\n",
            "Epoch 75/100\n",
            "1000/1000 [==============================] - 79s 79ms/step - loss: 0.1421 - tp: 96958.0000 - fp: 27472.0000 - tn: 1195040.0000 - fn: 49530.0000 - accuracy: 0.9438 - precision: 0.7792 - recall: 0.6619 - auc: 0.9632 - val_loss: 0.1414 - val_tp: 35973.0000 - val_fp: 16593.0000 - val_tn: 350154.0000 - val_fn: 7980.0000 - val_accuracy: 0.9402 - val_precision: 0.6843 - val_recall: 0.8184 - val_auc: 0.9689\n",
            "Epoch 76/100\n",
            "1000/1000 [==============================] - 78s 78ms/step - loss: 0.1418 - tp: 99075.0000 - fp: 30272.0000 - tn: 1192240.0000 - fn: 47413.0000 - accuracy: 0.9433 - precision: 0.7660 - recall: 0.6763 - auc: 0.9649 - val_loss: 0.1432 - val_tp: 35935.0000 - val_fp: 16665.0000 - val_tn: 350082.0000 - val_fn: 8018.0000 - val_accuracy: 0.9399 - val_precision: 0.6832 - val_recall: 0.8176 - val_auc: 0.9684\n",
            "Epoch 77/100\n",
            "1000/1000 [==============================] - 77s 77ms/step - loss: 0.1384 - tp: 98707.0000 - fp: 27426.0000 - tn: 1195086.0000 - fn: 47781.0000 - accuracy: 0.9451 - precision: 0.7826 - recall: 0.6738 - auc: 0.9653 - val_loss: 0.1436 - val_tp: 34165.0000 - val_fp: 14294.0000 - val_tn: 352453.0000 - val_fn: 9788.0000 - val_accuracy: 0.9414 - val_precision: 0.7050 - val_recall: 0.7773 - val_auc: 0.9679\n",
            "Epoch 78/100\n",
            "1000/1000 [==============================] - 78s 78ms/step - loss: 0.1394 - tp: 97413.0000 - fp: 27314.0000 - tn: 1195198.0000 - fn: 49075.0000 - accuracy: 0.9442 - precision: 0.7810 - recall: 0.6650 - auc: 0.9654 - val_loss: 0.1567 - val_tp: 32467.0000 - val_fp: 12888.0000 - val_tn: 353859.0000 - val_fn: 11486.0000 - val_accuracy: 0.9407 - val_precision: 0.7158 - val_recall: 0.7387 - val_auc: 0.9565\n",
            "Epoch 79/100\n",
            "1000/1000 [==============================] - 78s 78ms/step - loss: 0.1383 - tp: 97484.0000 - fp: 25056.0000 - tn: 1197456.0000 - fn: 49004.0000 - accuracy: 0.9459 - precision: 0.7955 - recall: 0.6655 - auc: 0.9642 - val_loss: 0.1525 - val_tp: 33990.0000 - val_fp: 14173.0000 - val_tn: 352574.0000 - val_fn: 9963.0000 - val_accuracy: 0.9412 - val_precision: 0.7057 - val_recall: 0.7733 - val_auc: 0.9591\n",
            "Epoch 80/100\n",
            "1000/1000 [==============================] - 78s 78ms/step - loss: 0.1388 - tp: 99350.0000 - fp: 27296.0000 - tn: 1195216.0000 - fn: 47138.0000 - accuracy: 0.9456 - precision: 0.7845 - recall: 0.6782 - auc: 0.9641 - val_loss: 0.1482 - val_tp: 34433.0000 - val_fp: 15505.0000 - val_tn: 351242.0000 - val_fn: 9520.0000 - val_accuracy: 0.9391 - val_precision: 0.6895 - val_recall: 0.7834 - val_auc: 0.9659\n",
            "Epoch 81/100\n",
            "1000/1000 [==============================] - 78s 78ms/step - loss: 0.1367 - tp: 97855.0000 - fp: 26168.0000 - tn: 1196344.0000 - fn: 48633.0000 - accuracy: 0.9454 - precision: 0.7890 - recall: 0.6680 - auc: 0.9670 - val_loss: 0.1509 - val_tp: 32961.0000 - val_fp: 12326.0000 - val_tn: 354421.0000 - val_fn: 10992.0000 - val_accuracy: 0.9432 - val_precision: 0.7278 - val_recall: 0.7499 - val_auc: 0.9591\n",
            "Epoch 82/100\n",
            "1000/1000 [==============================] - 78s 78ms/step - loss: 0.1377 - tp: 99878.0000 - fp: 29122.0000 - tn: 1193390.0000 - fn: 46610.0000 - accuracy: 0.9447 - precision: 0.7742 - recall: 0.6818 - auc: 0.9670 - val_loss: 0.1587 - val_tp: 32653.0000 - val_fp: 13457.0000 - val_tn: 353290.0000 - val_fn: 11300.0000 - val_accuracy: 0.9397 - val_precision: 0.7082 - val_recall: 0.7429 - val_auc: 0.9556\n",
            "Epoch 83/100\n",
            "1000/1000 [==============================] - 79s 79ms/step - loss: 0.1363 - tp: 97577.0000 - fp: 25087.0000 - tn: 1197425.0000 - fn: 48911.0000 - accuracy: 0.9459 - precision: 0.7955 - recall: 0.6661 - auc: 0.9669 - val_loss: 0.1468 - val_tp: 34766.0000 - val_fp: 15311.0000 - val_tn: 351436.0000 - val_fn: 9187.0000 - val_accuracy: 0.9404 - val_precision: 0.6943 - val_recall: 0.7910 - val_auc: 0.9664\n",
            "Epoch 84/100\n",
            "1000/1000 [==============================] - 78s 78ms/step - loss: 0.1373 - tp: 99492.0000 - fp: 26901.0000 - tn: 1195611.0000 - fn: 46996.0000 - accuracy: 0.9460 - precision: 0.7872 - recall: 0.6792 - auc: 0.9656 - val_loss: 0.1438 - val_tp: 35640.0000 - val_fp: 16338.0000 - val_tn: 350409.0000 - val_fn: 8313.0000 - val_accuracy: 0.9400 - val_precision: 0.6857 - val_recall: 0.8109 - val_auc: 0.9680\n",
            "Epoch 85/100\n",
            "1000/1000 [==============================] - 77s 77ms/step - loss: 0.1385 - tp: 98790.0000 - fp: 26164.0000 - tn: 1196348.0000 - fn: 47698.0000 - accuracy: 0.9460 - precision: 0.7906 - recall: 0.6744 - auc: 0.9637 - val_loss: 0.1370 - val_tp: 35555.0000 - val_fp: 14934.0000 - val_tn: 351813.0000 - val_fn: 8398.0000 - val_accuracy: 0.9432 - val_precision: 0.7042 - val_recall: 0.8089 - val_auc: 0.9703\n",
            "Epoch 86/100\n",
            "1000/1000 [==============================] - 77s 77ms/step - loss: 0.1369 - tp: 99235.0000 - fp: 27082.0000 - tn: 1195430.0000 - fn: 47253.0000 - accuracy: 0.9457 - precision: 0.7856 - recall: 0.6774 - auc: 0.9668 - val_loss: 0.1336 - val_tp: 35605.0000 - val_fp: 14397.0000 - val_tn: 352350.0000 - val_fn: 8348.0000 - val_accuracy: 0.9446 - val_precision: 0.7121 - val_recall: 0.8101 - val_auc: 0.9717\n",
            "Epoch 87/100\n",
            "1000/1000 [==============================] - 78s 78ms/step - loss: 0.1384 - tp: 99992.0000 - fp: 25874.0000 - tn: 1196638.0000 - fn: 46496.0000 - accuracy: 0.9471 - precision: 0.7944 - recall: 0.6826 - auc: 0.9623 - val_loss: 0.1507 - val_tp: 34139.0000 - val_fp: 14683.0000 - val_tn: 352064.0000 - val_fn: 9814.0000 - val_accuracy: 0.9404 - val_precision: 0.6993 - val_recall: 0.7767 - val_auc: 0.9636\n",
            "Epoch 88/100\n",
            "1000/1000 [==============================] - 77s 77ms/step - loss: 0.1356 - tp: 98464.0000 - fp: 25779.0000 - tn: 1196733.0000 - fn: 48024.0000 - accuracy: 0.9461 - precision: 0.7925 - recall: 0.6722 - auc: 0.9676 - val_loss: 0.1522 - val_tp: 32826.0000 - val_fp: 11669.0000 - val_tn: 355078.0000 - val_fn: 11127.0000 - val_accuracy: 0.9445 - val_precision: 0.7377 - val_recall: 0.7468 - val_auc: 0.9561\n",
            "Epoch 89/100\n",
            "1000/1000 [==============================] - 77s 77ms/step - loss: 0.1336 - tp: 100410.0000 - fp: 26102.0000 - tn: 1196410.0000 - fn: 46078.0000 - accuracy: 0.9473 - precision: 0.7937 - recall: 0.6854 - auc: 0.9681 - val_loss: 0.1492 - val_tp: 34964.0000 - val_fp: 15195.0000 - val_tn: 351552.0000 - val_fn: 8989.0000 - val_accuracy: 0.9411 - val_precision: 0.6971 - val_recall: 0.7955 - val_auc: 0.9627\n",
            "Epoch 90/100\n",
            "1000/1000 [==============================] - 77s 77ms/step - loss: 0.1374 - tp: 99870.0000 - fp: 26946.0000 - tn: 1195566.0000 - fn: 46618.0000 - accuracy: 0.9463 - precision: 0.7875 - recall: 0.6818 - auc: 0.9661 - val_loss: 0.1444 - val_tp: 35023.0000 - val_fp: 15443.0000 - val_tn: 351304.0000 - val_fn: 8930.0000 - val_accuracy: 0.9407 - val_precision: 0.6940 - val_recall: 0.7968 - val_auc: 0.9681\n",
            "Epoch 91/100\n",
            "1000/1000 [==============================] - 77s 77ms/step - loss: 0.1343 - tp: 100506.0000 - fp: 26173.0000 - tn: 1196339.0000 - fn: 45982.0000 - accuracy: 0.9473 - precision: 0.7934 - recall: 0.6861 - auc: 0.9673 - val_loss: 0.1497 - val_tp: 33290.0000 - val_fp: 12380.0000 - val_tn: 354367.0000 - val_fn: 10663.0000 - val_accuracy: 0.9439 - val_precision: 0.7289 - val_recall: 0.7574 - val_auc: 0.9581\n",
            "Epoch 92/100\n",
            "1000/1000 [==============================] - 77s 77ms/step - loss: 0.1357 - tp: 99683.0000 - fp: 25504.0000 - tn: 1197008.0000 - fn: 46805.0000 - accuracy: 0.9472 - precision: 0.7963 - recall: 0.6805 - auc: 0.9657 - val_loss: 0.1387 - val_tp: 35435.0000 - val_fp: 14849.0000 - val_tn: 351898.0000 - val_fn: 8518.0000 - val_accuracy: 0.9431 - val_precision: 0.7047 - val_recall: 0.8062 - val_auc: 0.9699\n",
            "Epoch 93/100\n",
            "1000/1000 [==============================] - 77s 77ms/step - loss: 0.1423 - tp: 98112.0000 - fp: 29010.0000 - tn: 1193502.0000 - fn: 48376.0000 - accuracy: 0.9435 - precision: 0.7718 - recall: 0.6698 - auc: 0.9640 - val_loss: 0.1519 - val_tp: 33570.0000 - val_fp: 13833.0000 - val_tn: 352914.0000 - val_fn: 10383.0000 - val_accuracy: 0.9410 - val_precision: 0.7082 - val_recall: 0.7638 - val_auc: 0.9603\n",
            "Epoch 94/100\n",
            "1000/1000 [==============================] - 78s 78ms/step - loss: 0.1361 - tp: 99181.0000 - fp: 26481.0000 - tn: 1196031.0000 - fn: 47307.0000 - accuracy: 0.9461 - precision: 0.7893 - recall: 0.6771 - auc: 0.9672 - val_loss: 0.1521 - val_tp: 33692.0000 - val_fp: 13412.0000 - val_tn: 353335.0000 - val_fn: 10261.0000 - val_accuracy: 0.9424 - val_precision: 0.7153 - val_recall: 0.7665 - val_auc: 0.9572\n",
            "Epoch 95/100\n",
            "1000/1000 [==============================] - 78s 78ms/step - loss: 0.1352 - tp: 99204.0000 - fp: 25133.0000 - tn: 1197379.0000 - fn: 47284.0000 - accuracy: 0.9471 - precision: 0.7979 - recall: 0.6772 - auc: 0.9659 - val_loss: 0.1453 - val_tp: 34525.0000 - val_fp: 14169.0000 - val_tn: 352578.0000 - val_fn: 9428.0000 - val_accuracy: 0.9425 - val_precision: 0.7090 - val_recall: 0.7855 - val_auc: 0.9642\n",
            "Epoch 96/100\n",
            "1000/1000 [==============================] - 78s 78ms/step - loss: 0.1345 - tp: 100169.0000 - fp: 26372.0000 - tn: 1196140.0000 - fn: 46319.0000 - accuracy: 0.9469 - precision: 0.7916 - recall: 0.6838 - auc: 0.9676 - val_loss: 0.1502 - val_tp: 33479.0000 - val_fp: 13620.0000 - val_tn: 353127.0000 - val_fn: 10474.0000 - val_accuracy: 0.9413 - val_precision: 0.7108 - val_recall: 0.7617 - val_auc: 0.9620\n",
            "Epoch 97/100\n",
            "1000/1000 [==============================] - 78s 78ms/step - loss: 0.1384 - tp: 98110.0000 - fp: 25617.0000 - tn: 1196895.0000 - fn: 48378.0000 - accuracy: 0.9459 - precision: 0.7930 - recall: 0.6697 - auc: 0.9645 - val_loss: 0.1553 - val_tp: 33330.0000 - val_fp: 13427.0000 - val_tn: 353320.0000 - val_fn: 10623.0000 - val_accuracy: 0.9414 - val_precision: 0.7128 - val_recall: 0.7583 - val_auc: 0.9549\n",
            "Epoch 98/100\n",
            "1000/1000 [==============================] - 77s 77ms/step - loss: 0.1335 - tp: 100544.0000 - fp: 25286.0000 - tn: 1197226.0000 - fn: 45944.0000 - accuracy: 0.9480 - precision: 0.7990 - recall: 0.6864 - auc: 0.9674 - val_loss: 0.1440 - val_tp: 35524.0000 - val_fp: 15244.0000 - val_tn: 351503.0000 - val_fn: 8429.0000 - val_accuracy: 0.9424 - val_precision: 0.6997 - val_recall: 0.8082 - val_auc: 0.9663\n",
            "Epoch 99/100\n",
            "1000/1000 [==============================] - 78s 78ms/step - loss: 0.1394 - tp: 100388.0000 - fp: 27198.0000 - tn: 1195314.0000 - fn: 46100.0000 - accuracy: 0.9465 - precision: 0.7868 - recall: 0.6853 - auc: 0.9632 - val_loss: 0.1721 - val_tp: 36331.0000 - val_fp: 21502.0000 - val_tn: 345245.0000 - val_fn: 7622.0000 - val_accuracy: 0.9291 - val_precision: 0.6282 - val_recall: 0.8266 - val_auc: 0.9550\n",
            "Epoch 100/100\n",
            "1000/1000 [==============================] - 77s 77ms/step - loss: 0.1466 - tp: 97026.0000 - fp: 29921.0000 - tn: 1192591.0000 - fn: 49462.0000 - accuracy: 0.9420 - precision: 0.7643 - recall: 0.6623 - auc: 0.9612 - val_loss: 0.1470 - val_tp: 33728.0000 - val_fp: 12719.0000 - val_tn: 354028.0000 - val_fn: 10225.0000 - val_accuracy: 0.9441 - val_precision: 0.7262 - val_recall: 0.7674 - val_auc: 0.9633\n",
            "model saved!\n",
            "history saved!\n"
          ],
          "name": "stdout"
        }
      ]
    },
    {
      "cell_type": "markdown",
      "metadata": {
        "colab_type": "text",
        "id": "36S02j3ZEHaB"
      },
      "source": [
        "## Model Evaluation Tools\n",
        "1. Metrics (accuracy, f1, precision, recall). \n",
        "2. Visualising model's prediction\n",
        "3. Visualising `Y.npy` to know where the ones are inserted.\n",
        "4. Plot of metrics against epochs"
      ]
    },
    {
      "cell_type": "code",
      "metadata": {
        "colab_type": "code",
        "id": "6W2RaaAM85_Q",
        "outputId": "645ec309-f584-469f-d8f5-f6a0305d8c97",
        "scrolled": true,
        "colab": {
          "base_uri": "https://localhost:8080/",
          "height": 34
        }
      },
      "source": [
        "X_test = np.load(PROJ_PATH + \"data/dev/cont_X.npy\")\n",
        "Y_test = np.load(PROJ_PATH + \"data/dev/cont_Y.npy\")\n",
        "print(\"X: {} Y: {}\".format(X_test.shape, Y_test.shape))"
      ],
      "execution_count": 27,
      "outputs": [
        {
          "output_type": "stream",
          "text": [
            "X: (25, 5490, 129) Y: (25, 1369, 1)\n"
          ],
          "name": "stdout"
        }
      ]
    },
    {
      "cell_type": "markdown",
      "metadata": {
        "id": "LxjxLRvdCF0G",
        "colab_type": "text"
      },
      "source": [
        "### Plot of metrics against epochs"
      ]
    },
    {
      "cell_type": "code",
      "metadata": {
        "id": "fA84Xkm5-Ddb",
        "colab_type": "code",
        "outputId": "1e5f41d8-e225-48e3-f177-d199a5e05cd9",
        "colab": {
          "base_uri": "https://localhost:8080/",
          "height": 1000
        }
      },
      "source": [
        "# Load history CHANGE HISTORY PATH HERE\n",
        "history_filename = \"4_5_3_7_history\"\n",
        "history = pickle.load(open(PROJ_PATH +f'models/history/{history_filename}', \"rb\"))\n",
        "\n",
        "# Plot training & validation accuracy values\n",
        "plt.plot(history['accuracy'])\n",
        "plt.plot(history['val_accuracy'])\n",
        "plt.title('Model accuracy')\n",
        "plt.ylabel('Accuracy')\n",
        "plt.xlabel('Epoch')\n",
        "plt.legend(['Train', 'Val'], loc='upper left')\n",
        "plt.show()\n",
        "\n",
        "# Plot training & validation loss values\n",
        "plt.plot(history['loss'])\n",
        "plt.plot(history['val_loss'])\n",
        "plt.title('Model loss')\n",
        "plt.ylabel('Loss')\n",
        "plt.xlabel('Epoch')\n",
        "plt.legend(['Train', 'Val'], loc='upper right')\n",
        "plt.show()\n",
        "\n",
        "# Plot precision loss values\n",
        "plt.plot(history['precision'])\n",
        "plt.plot(history['val_precision'])\n",
        "plt.title('Model Precision')\n",
        "plt.ylabel('Precision')\n",
        "plt.xlabel('Epoch')\n",
        "plt.legend(['Train', 'Val'], loc='upper left')\n",
        "plt.show()\n",
        "\n",
        "# Plot recall loss values\n",
        "plt.plot(history['recall'])\n",
        "plt.plot(history['val_recall'])\n",
        "plt.title('Model Recall')\n",
        "plt.ylabel('Recall')\n",
        "plt.xlabel('Epoch')\n",
        "plt.legend(['Train', 'Val'], loc='upper right')\n",
        "plt.show()"
      ],
      "execution_count": 33,
      "outputs": [
        {
          "output_type": "display_data",
          "data": {
            "image/png": "[encoded data removed]",
            "text/plain": [
              "<Figure size 432x288 with 1 Axes>"
            ]
          },
          "metadata": {
            "tags": []
          }
        },
        {
          "output_type": "display_data",
          "data": {
            "image/png": "[encoded data removed]",
            "text/plain": [
              "<Figure size 432x288 with 1 Axes>"
            ]
          },
          "metadata": {
            "tags": []
          }
        },
        {
          "output_type": "display_data",
          "data": {
            "image/png": "[encoded data removed]",
            "text/plain": [
              "<Figure size 432x288 with 1 Axes>"
            ]
          },
          "metadata": {
            "tags": []
          }
        },
        {
          "output_type": "display_data",
          "data": {
            "image/png": "[encoded data removed]",
            "text/plain": [
              "<Figure size 432x288 with 1 Axes>"
            ]
          },
          "metadata": {
            "tags": []
          }
        }
      ]
    },
    {
      "cell_type": "markdown",
      "metadata": {
        "id": "Plm76s9Bewbi",
        "colab_type": "text"
      },
      "source": [
        "### Outputs accuracy, F1 score, precision, recall scores"
      ]
    },
    {
      "cell_type": "code",
      "metadata": {
        "id": "rKfvIuGq7W7N",
        "colab_type": "code",
        "colab": {}
      },
      "source": [
        "from sklearn.metrics import f1_score, recall_score, precision_score, accuracy_score\n",
        "\n",
        "# Evaluates the model on the test sets based on accuracy, precision, recall, and f1 score.\n",
        "def evaluate_model(model, X_test, Y_test, threshold=0.5):\n",
        "    # predict probabilities for dev set\n",
        "    Y_predict = model.predict(X_test, verbose=0)\n",
        "    # Applying sigmoid onto prediction of probabilities in order to use f-score\n",
        "    Y_predict = np.where(Y_predict > 0.3, 1, 0)\n",
        "\n",
        "    # flatten array in order to use fscore\n",
        "    Y_test_flattened = Y_test.flatten()\n",
        "    Y_predict_flattened = Y_predict.flatten()\n",
        "\n",
        "    # accuracy: (tp + tn) / (p + n)\n",
        "    accuracy = accuracy_score(Y_test_flattened, Y_predict_flattened)\n",
        "    print('Accuracy: %f' % accuracy)\n",
        "    # precision tp / (tp + fp)\n",
        "    precision = precision_score(Y_test_flattened, Y_predict_flattened)\n",
        "    print('Precision: %f' % precision)\n",
        "    # recall: tp / (tp + fn)\n",
        "    recall = recall_score(Y_test_flattened, Y_predict_flattened)\n",
        "    print('Recall: %f' % recall)\n",
        "    # f1: 2 tp / (2 tp + fp + fn)\n",
        "    f1 = f1_score(Y_test_flattened, Y_predict_flattened)\n",
        "    print('F1 score: %f' % f1)"
      ],
      "execution_count": 0,
      "outputs": []
    },
    {
      "cell_type": "markdown",
      "metadata": {
        "id": "NIYTgYnuGGlC",
        "colab_type": "text"
      },
      "source": [
        "Plots model's prediction for each `Ty` step for the `%index` example"
      ]
    },
    {
      "cell_type": "code",
      "metadata": {
        "id": "snTPi4pg9UpC",
        "colab_type": "code",
        "colab": {}
      },
      "source": [
        "# visualises model's prediction on the %index example of training input X.\n",
        "def visualize_prediction(model, X, index=0):\n",
        "    Y_predict = model.predict(X, verbose=0)\n",
        "\n",
        "    plt.subplot(2, 1, 2)\n",
        "    plt.plot(Y_predict[index,:,0])\n",
        "    plt.ylabel('probability')\n",
        "    plt.show()"
      ],
      "execution_count": 0,
      "outputs": []
    },
    {
      "cell_type": "markdown",
      "metadata": {
        "id": "c_dH8fSwfyKh",
        "colab_type": "text"
      },
      "source": [
        "Plots `Ty` for the `%index` example"
      ]
    },
    {
      "cell_type": "code",
      "metadata": {
        "id": "IRRP11zlfo1y",
        "colab_type": "code",
        "colab": {}
      },
      "source": [
        "def plot_Y(Y, index=0):\n",
        "    plt.plot(Y[index])"
      ],
      "execution_count": 0,
      "outputs": []
    },
    {
      "cell_type": "code",
      "metadata": {
        "id": "4GEswPXMOF81",
        "colab_type": "code",
        "outputId": "5be78298-8a79-4174-c599-53271045e7d9",
        "colab": {
          "base_uri": "https://localhost:8080/",
          "height": 85
        }
      },
      "source": [
        "evaluate_model(model, X_test, Y_test)"
      ],
      "execution_count": 32,
      "outputs": [
        {
          "output_type": "stream",
          "text": [
            "Accuracy: 0.798188\n",
            "Precision: 0.051565\n",
            "Recall: 0.198710\n",
            "F1 score: 0.081882\n"
          ],
          "name": "stdout"
        }
      ]
    },
    {
      "cell_type": "code",
      "metadata": {
        "id": "YGdLi2c3JGnR",
        "colab_type": "code",
        "outputId": "f36c3493-1354-4157-d60f-c8151ef2845e",
        "colab": {
          "base_uri": "https://localhost:8080/",
          "height": 265
        }
      },
      "source": [
        "plot_Y(Y_test, 2)"
      ],
      "execution_count": 57,
      "outputs": [
        {
          "output_type": "display_data",
          "data": {
            "image/png": "[encoded data removed]",
            "text/plain": [
              "<Figure size 432x288 with 1 Axes>"
            ]
          },
          "metadata": {
            "tags": []
          }
        }
      ]
    },
    {
      "cell_type": "code",
      "metadata": {
        "id": "viZmisCNI9bE",
        "colab_type": "code",
        "outputId": "b15f7e79-e6b5-4eaa-ae42-9a4d6a501208",
        "colab": {
          "base_uri": "https://localhost:8080/",
          "height": 148
        }
      },
      "source": [
        "visualize_prediction(model, X_test, 2)"
      ],
      "execution_count": 56,
      "outputs": [
        {
          "output_type": "display_data",
          "data": {
            "image/png": "[encoded data removed]",
            "text/plain": [
              "<Figure size 432x288 with 1 Axes>"
            ]
          },
          "metadata": {
            "tags": []
          }
        }
      ]
    },
    {
      "cell_type": "markdown",
      "metadata": {
        "id": "ZGwQ9AS6RRxQ",
        "colab_type": "text"
      },
      "source": [
        "## Saving the model"
      ]
    },
    {
      "cell_type": "code",
      "metadata": {
        "id": "VpMIfZQRRRDM",
        "colab_type": "code",
        "colab": {}
      },
      "source": [
        "model.save(PROJ_PATH + \"models/please_save_me.h5\")"
      ],
      "execution_count": 0,
      "outputs": []
    },
    {
      "cell_type": "markdown",
      "metadata": {
        "id": "pRMwSS97OLGr",
        "colab_type": "text"
      },
      "source": [
        "## [Doesn't work] Confirming that the bias fix helps\n"
      ]
    },
    {
      "cell_type": "code",
      "metadata": {
        "id": "JLoO6fdVOOzO",
        "colab_type": "code",
        "outputId": "535442da-45ee-441f-944f-8aa68db16581",
        "colab": {
          "base_uri": "https://localhost:8080/",
          "height": 105
        }
      },
      "source": [
        "zero_bias_model = create_model(input_shape = (Tx, n_freq), output_bias = None)\n",
        "model_train(model, X, Y, X_dev, Y_dev)"
      ],
      "execution_count": 0,
      "outputs": [
        {
          "output_type": "stream",
          "text": [
            "Train on 100 samples, validate on 50 samples\n",
            "Epoch 1/1\n",
            "100/100 [==============================] - 109s 1s/step - loss: 1.0449 - val_loss: 0.6329\n"
          ],
          "name": "stdout"
        },
        {
          "output_type": "execute_result",
          "data": {
            "text/plain": [
              "<keras.callbacks.callbacks.History at 0x7f5eb964ccf8>"
            ]
          },
          "metadata": {
            "tags": []
          },
          "execution_count": 225
        }
      ]
    },
    {
      "cell_type": "code",
      "metadata": {
        "id": "4fvrigkdOt8C",
        "colab_type": "code",
        "outputId": "b035d42d-1a31-4a72-ccad-23f0bfb2fef2",
        "colab": {
          "base_uri": "https://localhost:8080/",
          "height": 105
        }
      },
      "source": [
        "careful_bias_model = create_model(input_shape = (Tx, n_freq), output_bias = initial_bias)\n",
        "model_train(model, X, Y, X_dev, Y_dev)"
      ],
      "execution_count": 0,
      "outputs": [
        {
          "output_type": "stream",
          "text": [
            "Train on 100 samples, validate on 50 samples\n",
            "Epoch 1/1\n",
            "100/100 [==============================] - 106s 1s/step - loss: 0.9929 - val_loss: 0.6188\n"
          ],
          "name": "stdout"
        },
        {
          "output_type": "execute_result",
          "data": {
            "text/plain": [
              "<keras.callbacks.callbacks.History at 0x7f5eb5dd9e80>"
            ]
          },
          "metadata": {
            "tags": []
          },
          "execution_count": 227
        }
      ]
    },
    {
      "cell_type": "code",
      "metadata": {
        "id": "dywik-bMXMIH",
        "colab_type": "code",
        "outputId": "3a7e6887-569c-4245-9dea-a3174cd5f3ad",
        "colab": {
          "base_uri": "https://localhost:8080/",
          "height": 207
        }
      },
      "source": [
        "evaluate_model(zero_bias_model, X_test, Y_test, 0.3)\n",
        "evaluate_model(careful_bias_model, X_test, Y_test, 0.3)"
      ],
      "execution_count": 0,
      "outputs": [
        {
          "output_type": "stream",
          "text": [
            "Accuracy: 0.256947\n",
            "Precision: 0.036460\n",
            "Recall: 0.777778\n",
            "F1 score: 0.069654\n",
            "Accuracy: 0.964237\n",
            "Precision: 0.000000\n",
            "Recall: 0.000000\n",
            "F1 score: 0.000000\n"
          ],
          "name": "stdout"
        },
        {
          "output_type": "stream",
          "text": [
            "/usr/local/lib/python3.6/dist-packages/sklearn/metrics/_classification.py:1272: UndefinedMetricWarning: Precision is ill-defined and being set to 0.0 due to no predicted samples. Use `zero_division` parameter to control this behavior.\n",
            "  _warn_prf(average, modifier, msg_start, len(result))\n"
          ],
          "name": "stderr"
        }
      ]
    },
    {
      "cell_type": "code",
      "metadata": {
        "id": "2u60EpQtdgPE",
        "colab_type": "code",
        "outputId": "802576cd-eb02-48c8-bfdb-a12575421d76",
        "colab": {
          "base_uri": "https://localhost:8080/",
          "height": 164
        }
      },
      "source": [
        "visualize_prediction(model, X_test)"
      ],
      "execution_count": 0,
      "outputs": [
        {
          "output_type": "error",
          "ename": "NameError",
          "evalue": "ignored",
          "traceback": [
            "\u001b[0;31m---------------------------------------------------------------------------\u001b[0m",
            "\u001b[0;31mNameError\u001b[0m                                 Traceback (most recent call last)",
            "\u001b[0;32m<ipython-input-1-e743a7508c41>\u001b[0m in \u001b[0;36m<module>\u001b[0;34m()\u001b[0m\n\u001b[0;32m----> 1\u001b[0;31m \u001b[0mvisualize_prediction\u001b[0m\u001b[0;34m(\u001b[0m\u001b[0mmodel\u001b[0m\u001b[0;34m,\u001b[0m \u001b[0mX_test\u001b[0m\u001b[0;34m)\u001b[0m\u001b[0;34m\u001b[0m\u001b[0;34m\u001b[0m\u001b[0m\n\u001b[0m",
            "\u001b[0;31mNameError\u001b[0m: name 'visualize_prediction' is not defined"
          ]
        }
      ]
    },
    {
      "cell_type": "code",
      "metadata": {
        "id": "jrLCu-jWdo-z",
        "colab_type": "code",
        "outputId": "cd3c3321-6962-4ae1-d5fa-aa882e4e7843",
        "colab": {
          "base_uri": "https://localhost:8080/",
          "height": 282
        }
      },
      "source": [
        "plt.plot(Y_test[0]) # TODO: add into evaluation tools"
      ],
      "execution_count": 0,
      "outputs": [
        {
          "output_type": "execute_result",
          "data": {
            "text/plain": [
              "[<matplotlib.lines.Line2D at 0x7f0165b69a90>]"
            ]
          },
          "metadata": {
            "tags": []
          },
          "execution_count": 17
        },
        {
          "output_type": "display_data",
          "data": {
            "image/png": "[encoded data removed]",
            "text/plain": [
              "<Figure size 432x288 with 1 Axes>"
            ]
          },
          "metadata": {
            "tags": []
          }
        }
      ]
    },
    {
      "cell_type": "code",
      "metadata": {
        "id": "-zPszFjfdcoC",
        "colab_type": "code",
        "outputId": "837e88d3-cb07-4cfc-9861-b1b0178e21aa",
        "colab": {
          "base_uri": "https://localhost:8080/",
          "height": 85
        }
      },
      "source": [
        "evaluate_model(model, X_test, Y_test, 0.5)"
      ],
      "execution_count": 0,
      "outputs": [
        {
          "output_type": "stream",
          "text": [
            "Accuracy: 0.289730\n",
            "Precision: 0.166278\n",
            "Recall: 0.962681\n",
            "F1 score: 0.283575\n"
          ],
          "name": "stdout"
        }
      ]
    },
    {
      "cell_type": "markdown",
      "metadata": {
        "id": "lJgwdZNKbYyF",
        "colab_type": "text"
      },
      "source": [
        "Notice how there is only one sharp peak in the `careful_bias_model` but many sharp peaks in `zero_bias_model`"
      ]
    },
    {
      "cell_type": "code",
      "metadata": {
        "id": "s_aPp2kWaPl4",
        "colab_type": "code",
        "outputId": "a9d597c2-b2d7-458e-b423-d535d01f4df8",
        "colab": {
          "base_uri": "https://localhost:8080/",
          "height": 292
        }
      },
      "source": [
        "visualize_prediction(careful_bias_model, X_test)"
      ],
      "execution_count": 0,
      "outputs": [
        {
          "output_type": "display_data",
          "data": {
            "image/png": "[encoded data removed]",
            "text/plain": [
              "<Figure size 864x720 with 1 Axes>"
            ]
          },
          "metadata": {
            "tags": []
          }
        }
      ]
    },
    {
      "cell_type": "code",
      "metadata": {
        "id": "uVn3N1mhaTk2",
        "colab_type": "code",
        "outputId": "e5f187f9-7703-4ebd-f1ce-25d0b15b58ea",
        "colab": {
          "base_uri": "https://localhost:8080/",
          "height": 294
        }
      },
      "source": [
        "visualize_prediction(zero_bias_model, X_test)"
      ],
      "execution_count": 0,
      "outputs": [
        {
          "output_type": "display_data",
          "data": {
            "image/png": "[encoded data removed]",
            "text/plain": [
              "<Figure size 864x720 with 1 Axes>"
            ]
          },
          "metadata": {
            "tags": []
          }
        }
      ]
    },
    {
      "cell_type": "code",
      "metadata": {
        "id": "DV8XoPf_c7qx",
        "colab_type": "code",
        "outputId": "d34fcfa3-467c-492e-dcae-591f2dfddd6e",
        "colab": {
          "base_uri": "https://localhost:8080/",
          "height": 609
        }
      },
      "source": [
        "plt.plot(Y_test[0]) "
      ],
      "execution_count": 0,
      "outputs": [
        {
          "output_type": "execute_result",
          "data": {
            "text/plain": [
              "[<matplotlib.lines.Line2D at 0x7f5eb95fee80>]"
            ]
          },
          "metadata": {
            "tags": []
          },
          "execution_count": 231
        },
        {
          "output_type": "display_data",
          "data": {
            "image/png": "[encoded data removed]",
            "text/plain": [
              "<Figure size 864x720 with 1 Axes>"
            ]
          },
          "metadata": {
            "tags": []
          }
        }
      ]
    },
    {
      "cell_type": "markdown",
      "metadata": {
        "id": "7Itc4LKmGZa5",
        "colab_type": "text"
      },
      "source": [
        "[Can delete the code below since `model.evaluate` is redundant now; it does not use metrics we want (ie f score)]"
      ]
    },
    {
      "cell_type": "code",
      "metadata": {
        "id": "YVvPoblB6t-f",
        "colab_type": "code",
        "colab": {}
      },
      "source": [
        "# For colab\n",
        "# Function to test the model on new data\n",
        "def model_test(model, X_dev, Y_dev):\n",
        "    loss, acc = model.evaluate(X_dev, Y_dev)\n",
        "    print(\"Dev set accuracy = \", acc)"
      ],
      "execution_count": 0,
      "outputs": []
    },
    {
      "cell_type": "code",
      "metadata": {
        "colab_type": "code",
        "id": "F6uTgE6187gq",
        "outputId": "d43109ef-2ac4-4815-b9ac-2251ee27f5a1",
        "colab": {
          "base_uri": "https://localhost:8080/",
          "height": 51
        }
      },
      "source": [
        "model_test(model, X_dev, Y_dev)"
      ],
      "execution_count": 0,
      "outputs": [
        {
          "output_type": "stream",
          "text": [
            "50/50 [==============================] - 8s 164ms/step\n",
            "Dev set accuracy =  0.9633309245109558\n"
          ],
          "name": "stdout"
        }
      ]
    },
    {
      "cell_type": "code",
      "metadata": {
        "colab_type": "code",
        "id": "DXPZrQlw_JDA",
        "colab": {}
      },
      "source": [
        "X_11 = np.load(\"/content/drive/My Drive/filler_detection/train_data/dev_npy/cont_11X.npy\")\n",
        "Y_11 = np.load(\"/content/drive/My Drive/filler_detection/train_data/dev_npy/cont_11Y.npy\")\n",
        "print(\"X: {} Y: {}\".format(X_11.shape, Y_11.shape))\n",
        "\n",
        "X_12 = np.load(\"/content/drive/My Drive/filler_detection/train_data/dev_npy/cont_12X.npy\")\n",
        "Y_12 = np.load(\"/content/drive/My Drive/filler_detection/train_data/dev_npy/cont_12Y.npy\")\n",
        "print(\"X: {} Y: {}\".format(X_12.shape, Y_12.shape))\n",
        "\n",
        "X_13 = np.load(\"/content/drive/My Drive/filler_detection/train_data/dev_npy/cont_13X.npy\")\n",
        "Y_13 = np.load(\"/content/drive/My Drive/filler_detection/train_data/dev_npy/cont_13Y.npy\")\n",
        "print(\"X: {} Y: {}\".format(X_13.shape, Y_13.shape))\n",
        "\n",
        "X_14 = np.load(\"/content/drive/My Drive/filler_detection/train_data/dev_npy/cont_14X.npy\")\n",
        "Y_14 = np.load(\"/content/drive/My Drive/filler_detection/train_data/dev_npy/cont_14Y.npy\")\n",
        "print(\"X: {} Y: {}\".format(X_14.shape, Y_14.shape))\n",
        "\n",
        "\n",
        "\n",
        "\n",
        "\n",
        "\n"
      ],
      "execution_count": 0,
      "outputs": []
    },
    {
      "cell_type": "code",
      "metadata": {
        "colab_type": "code",
        "id": "RuZi1Ghj_I0S",
        "colab": {}
      },
      "source": [
        "model_test(model, X_11, Y_11)\n",
        "model_test(model, X_12, Y_12)\n",
        "model_test(model, X_13, Y_13)\n",
        "model_test(model, X_14, Y_14)"
      ],
      "execution_count": 0,
      "outputs": []
    },
    {
      "cell_type": "code",
      "metadata": {
        "colab_type": "code",
        "id": "lo6H0xFiu-Bq",
        "colab": {}
      },
      "source": [
        "list_of_dev_ids = [11,12,13,14,20,21,22,23,24,30,31,32,33,34,35,36,37,38,39,310,40,41,42,43,44]\n",
        "for id in list_of_dev_ids:\n",
        "    X_id = np.load(\"/content/drive/My Drive/filler_detection/train_data/dev_npy/cont_\" + str(id) + \"X.npy\")\n",
        "\n",
        "    Y_id = np.load(\"/content/drive/My Drive/filler_detection/train_data/dev_npy/cont_\" + str(id) + \"Y.npy\")\n",
        "    print((\"X\" + str(id) + \": {} Y\" + str(id) + \": {}\").format(X_id.shape, Y_id.shape))\n",
        "    model_test(model, X_id, Y_id)\n",
        "\n",
        "model_test(model, X_11, Y_11)\n"
      ],
      "execution_count": 0,
      "outputs": []
    },
    {
      "cell_type": "code",
      "metadata": {
        "colab_type": "code",
        "id": "G828z31mLeyT",
        "colab": {}
      },
      "source": [
        "# Preprocess the audio to the correct format\n",
        "def preprocess_audio(filename):\n",
        "    print(\"PREPROCESSING...\")\n",
        "    # Trim or pad audio segment to 10000ms\n",
        "    padding = AudioSegment.silent(duration=10000)\n",
        "    segment = AudioSegment.from_wav(filename)[:10000]\n",
        "    segment = padding.overlay(segment)\n",
        "    # Set frame rate to 123000\n",
        "    segment = segment.set_channels(1)\n",
        "    segment = segment.set_frame_rate(123000)\n",
        "    # Export as wav\n",
        "    segment.export(filename, format='wav')"
      ],
      "execution_count": 0,
      "outputs": []
    },
    {
      "cell_type": "code",
      "metadata": {
        "colab_type": "code",
        "id": "o5a7eolILjXR",
        "colab": {}
      },
      "source": [
        "def detect_triggerword(filename):\n",
        "    \"\"\"\n",
        "    Function to take filename and generate a prediction vector.\n",
        "    \n",
        "    Argument:\n",
        "    filename -- Audio file to run prediction on\n",
        "    \n",
        "    Returns:\n",
        "    predictions -- Prediction vector with probabilities\n",
        "    \"\"\"\n",
        "    \n",
        "    sample_rate, samples = wavfile.read(filename)\n",
        "    _, _, x = signal.spectrogram(samples, sample_rate)\n",
        "    print(x.shape)\n",
        "    \n",
        "    # the spectrogram outputs (freqs, Tx) and we want (Tx, freqs) to input into the model\n",
        "    x  = x.swapaxes(0,1)\n",
        "    x = np.expand_dims(x, axis=0)\n",
        "    \n",
        "    predictions = model.predict(x)\n",
        "    return predictions"
      ],
      "execution_count": 0,
      "outputs": []
    },
    {
      "cell_type": "code",
      "metadata": {
        "colab_type": "code",
        "id": "MPGSTQg3LlTB",
        "colab": {}
      },
      "source": [
        "def count_filler_word(filename, threshold):\n",
        "    \"\"\"\n",
        "    Function to count the number of times trigger word spoken in audio.\n",
        "    \n",
        "    Arguments:\n",
        "    filename -- Audio file to run prediction on\n",
        "    threshold -- Probability above which trigger word considered present\n",
        "    \"\"\"\n",
        "\n",
        "    preprocess_audio(filename)\n",
        "    audio_clip = AudioSegment.from_wav(filename)\n",
        "    chime = AudioSegment.from_wav(CHIME_FILE)\n",
        "    predictions = detect_triggerword(filename)\n",
        "    Ty = predictions.shape[1]\n",
        "    \n",
        "    # Step 1: Initialize the number of consecutive output steps to 0\n",
        "    consecutive_timesteps = 0\n",
        "    # Step 2: Loop over the output steps in the y\n",
        "    for i in range(Ty):\n",
        "        # Step 3: Increment consecutive output steps\n",
        "        consecutive_timesteps += 1\n",
        "        # Step 4: If prediction is higher than the threshold and more than 75 consecutive output steps have passed\n",
        "        if predictions[0,i,0] > threshold and consecutive_timesteps > 75:\n",
        "            # Step 5: Superpose audio and background using pydub\n",
        "            audio_clip = audio_clip.overlay(chime, position = ((i / Ty) * audio_clip.duration_seconds)*1000)\n",
        "            # Step 6: Reset consecutive output steps to 0\n",
        "            consecutive_timesteps = 0\n",
        "        \n",
        "    audio_clip.export(\"chime_output.wav\", format='wav')"
      ],
      "execution_count": 0,
      "outputs": []
    },
    {
      "cell_type": "code",
      "metadata": {
        "colab_type": "code",
        "id": "V1pHL08ULqdB",
        "outputId": "d5b5930a-5f89-4372-d11c-5db91169f821",
        "colab": {
          "base_uri": "https://localhost:8080/",
          "height": 52
        }
      },
      "source": [
        "count_filler_word('./Test_2.wav', 0.4)"
      ],
      "execution_count": 0,
      "outputs": [
        {
          "output_type": "stream",
          "text": [
            "PREPROCESSING...\n",
            "(129, 5490)\n"
          ],
          "name": "stdout"
        }
      ]
    },
    {
      "cell_type": "code",
      "metadata": {
        "colab_type": "code",
        "id": "N8ArRym8MOXd",
        "colab": {}
      },
      "source": [
        ""
      ],
      "execution_count": 0,
      "outputs": []
    }
  ]
}