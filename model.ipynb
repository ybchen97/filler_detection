{
  "nbformat": 4,
  "nbformat_minor": 0,
  "metadata": {
    "colab": {
      "name": "model.ipynb",
      "provenance": [],
      "toc_visible": true
    },
    "kernelspec": {
      "display_name": "Python 3.7.5 64-bit",
      "language": "python",
      "name": "python37564bitf304d4ac23234a529ebef17df9391c14"
    },
    "language_info": {
      "codemirror_mode": {
        "name": "ipython",
        "version": 3
      },
      "file_extension": ".py",
      "mimetype": "text/x-python",
      "name": "python",
      "nbconvert_exporter": "python",
      "pygments_lexer": "ipython3",
      "version": "3.7.6"
    },
    "accelerator": "GPU"
  },
  "cells": [
    {
      "cell_type": "markdown",
      "metadata": {
        "colab_type": "text",
        "id": "my6I-6tlRSuK"
      },
      "source": [
        "# Model"
      ]
    },
    {
      "cell_type": "markdown",
      "metadata": {
        "colab_type": "text",
        "id": "bAbmFvBVRXtY"
      },
      "source": [
        "Syncing from google drive and github... for more info on this code, refer [here](https://zerowithdot.com/colab-github-workflow/)"
      ]
    },
    {
      "cell_type": "code",
      "metadata": {
        "colab_type": "code",
        "id": "FO4R_OEE3LSV",
        "colab": {}
      },
      "source": [
        "from google.colab import drive\n",
        "from os.path import join\n",
        "\n",
        "ROOT = '/content/drive'     # default for the drive\n",
        "PROJ = 'My Drive/filler_detection/train_data/XY_Train'       # path to your project on Drive\n",
        "PROJ2= 'My Drive/filler_detection/train_data/dev_npy'\n",
        "\n",
        "drive.mount(ROOT)           # we mount the drive at /content/drive\n",
        "\n",
        "PROJECT_PATH = join(ROOT, PROJ)\n",
        "PROJCT_PATH2 = join(ROOT, PROJ2)\n",
        "!mkdir \"{PROJECT_PATH}\"     # in case we haven't created it already   \n",
        "!mkdir \"{PROJECT_PATH2}\"\n",
        "\n",
        "GIT_PATH = \"https://github.com/ybchen97/filler_detection.git\"\n",
        "!mkdir ./temp\n",
        "!git clone \"{GIT_PATH}\"\n",
        "!mv ./temp/* \"{PROJECT_PATH}\"\n",
        "!rm -rf ./temp"
      ],
      "execution_count": 0,
      "outputs": []
    },
    {
      "cell_type": "markdown",
      "metadata": {
        "colab_type": "text",
        "id": "qa4hVHm5RouU"
      },
      "source": [
        "Install packages in this local notebook specified in requirements.txt"
      ]
    },
    {
      "cell_type": "code",
      "metadata": {
        "colab_type": "code",
        "id": "E3SSCyXL8lBb",
        "colab": {}
      },
      "source": [
        "!pip install -r '/content/filler_detection/requirements.txt'"
      ],
      "execution_count": 0,
      "outputs": []
    },
    {
      "cell_type": "markdown",
      "metadata": {
        "colab_type": "text",
        "id": "A7Hn1LtPRxZS"
      },
      "source": [
        "Importing and setting up env variables..."
      ]
    },
    {
      "cell_type": "code",
      "metadata": {
        "colab_type": "code",
        "id": "1rasqjnO6mAq",
        "colab": {}
      },
      "source": [
        "import numpy as np\n",
        "from pydub import AudioSegment\n",
        "from pydub.playback import play\n",
        "import random\n",
        "import sys\n",
        "import io\n",
        "import os\n",
        "import glob\n",
        "import IPython\n",
        "import wave\n",
        "import pylab\n",
        "from tf_utils import *\n",
        "import matplotlib.pyplot as plt\n",
        "from scipy import signal\n",
        "from scipy.io import wavfile\n",
        "\n",
        "# Import files for trigger-word detection model\n",
        "from keras.callbacks import ModelCheckpoint\n",
        "from keras.models import Model, load_model, Sequential\n",
        "from keras.layers import Dense, Activation, Dropout, Input, Masking, TimeDistributed, LSTM, Conv1D\n",
        "from keras.layers import GRU, Bidirectional, BatchNormalization, Reshape\n",
        "from keras.optimizers import Adam"
      ],
      "execution_count": 0,
      "outputs": []
    },
    {
      "cell_type": "code",
      "metadata": {
        "id": "shTwr2KwE6MW",
        "colab_type": "code",
        "colab": {}
      },
      "source": [
        "from google.colab import drive\n",
        "from os.path import join\n",
        "\n",
        "ROOT = '/content/drive'     # default for the drive\n",
        "PROJ = 'My Drive/filler_detection/train_data/XY_Train'       # path to your project on Drive\n",
        "\n",
        "DATA_PATH = join(ROOT, PROJ)\n",
        "REPO = \"/content/filler_detection/\""
      ],
      "execution_count": 0,
      "outputs": []
    },
    {
      "cell_type": "code",
      "metadata": {
        "colab_type": "code",
        "id": "8lgJ6UdH9ViH",
        "colab": {}
      },
      "source": [
        "POSITIVE_DIRECTORY = \"./raw_data/positive_data/\"\n",
        "BACKGROUND_DIRECTORY = \"./raw_data/background_data/\"\n",
        "NEGATIVES_DIRECTORY = \"./raw_data/google_dataset/\"\n",
        "NEGATIVES_TRUNCATED_DIRECTORY = \"./raw_data/google_dataset_truncated/\"\n",
        "AUDIO_EXAMPLES_DIRECTORY = \"./audio_examples/\"\n",
        "POSITIVE_EXAMPLE = \"jh_1.wav\"\n",
        "AUDIO_EXAMPLE = \"example_train.wav\""
      ],
      "execution_count": 0,
      "outputs": []
    },
    {
      "cell_type": "markdown",
      "metadata": {
        "colab_type": "text",
        "id": "9eM15MVGR0eJ"
      },
      "source": [
        "The fun begins...\n",
        "## Model Loading"
      ]
    },
    {
      "cell_type": "code",
      "metadata": {
        "colab_type": "code",
        "id": "b54E5A1c8pSh",
        "colab": {}
      },
      "source": [
        "# GRADED FUNCTION: model\n",
        "\n",
        "def model(input_shape):\n",
        "    \"\"\"\n",
        "    Function creating the model's graph in Keras library.\n",
        "    \n",
        "    Argument:\n",
        "    input_shape -- shape of the model's input data (using Keras conventions)\n",
        "    \n",
        "    Returns:\n",
        "    model -- Keras model instance\n",
        "    \"\"\"\n",
        "    \n",
        "    X_input = Input(shape = input_shape)\n",
        "    \n",
        "    # Step 1: CONV Layer\n",
        "    # CONV-1D\n",
        "    X = Conv1D(filters=196, kernel_size=15, strides=4)(X_input)\n",
        "    # Batch Normalization\n",
        "    X = BatchNormalization()(X)\n",
        "    # RelU activation\n",
        "    X = Activation(\"relu\")(X)\n",
        "    # Dropout (using rate 0.8)\n",
        "    X = Dropout(rate=0.8)(X)\n",
        "    \n",
        "    # Step 2: First GRU Layer\n",
        "    # GRU (use 128 units to return the sequences)\n",
        "    X = GRU(units=128, return_sequences=True)(X)\n",
        "    # Dropout (using rate 0.8)\n",
        "    X = Dropout(rate=0.8)(X)\n",
        "    # Batch Normalization\n",
        "    X = BatchNormalization()(X)\n",
        "    \n",
        "    # Step 3: Second GRU Layer\n",
        "    # GRU (use 128 units to return the sequences)\n",
        "    X = GRU(units=128, return_sequences=True)(X)\n",
        "    # Dropout (using rate 0.8)\n",
        "    X = Dropout(rate=0.8)(X)\n",
        "    # Batch Normalization\n",
        "    X = BatchNormalization()(X)\n",
        "    # Dropout (using rate 0.8)\n",
        "    X = Dropout(rate=0.8)(X)\n",
        "    \n",
        "    # Step 4: Time-distributed dense layer\n",
        "    X = TimeDistributed(Dense(1, activation=\"sigmoid\"))(X)\n",
        "    \n",
        "    # Return model\n",
        "    model = Model(inputs = [X_input], outputs = X)\n",
        "    return model"
      ],
      "execution_count": 0,
      "outputs": []
    },
    {
      "cell_type": "markdown",
      "metadata": {
        "colab_type": "text",
        "id": "oEfBQCPhR2QQ"
      },
      "source": [
        "Sanity check for `Tx`, `n_freq`, `Ty`. \n",
        "\n",
        "1. Input into model `Tx` and `n_freq`\n",
        "2. Call `model.summary()`\n",
        "3. `Tx` of **sample** and variable = `input_7.shape[1]` (ie column 2, row 1, second element of array)\n",
        "4. `Ty` = `input_7.shape[1]` (ie column 2, row 2, second element of array)"
      ]
    },
    {
      "cell_type": "code",
      "metadata": {
        "colab_type": "code",
        "id": "mqW78CpL8sYH",
        "colab": {}
      },
      "source": [
        "Tx = 5490 # The number of time steps input to the model from the spectrogram\n",
        "n_freq = 129 # Number of frequencies input to the model at each time step of the spectrogram\n",
        "Ty = 1369 # The number of time steps in the output of our model"
      ],
      "execution_count": 0,
      "outputs": []
    },
    {
      "cell_type": "markdown",
      "metadata": {
        "id": "-2szTzk7Eh01",
        "colab_type": "text"
      },
      "source": [
        "### Load Pre-trained Model"
      ]
    },
    {
      "cell_type": "code",
      "metadata": {
        "id": "4o7XUQnaDQp8",
        "colab_type": "code",
        "colab": {}
      },
      "source": [
        "model = load_model(\"filler_detection/trained_model.h5\")\n",
        "model.summary()"
      ],
      "execution_count": 0,
      "outputs": []
    },
    {
      "cell_type": "markdown",
      "metadata": {
        "id": "uEezPsKZEnUh",
        "colab_type": "text"
      },
      "source": [
        "### Create New Model (if no pre-trained)"
      ]
    },
    {
      "cell_type": "code",
      "metadata": {
        "colab_type": "code",
        "id": "D3Sfny3t78rK",
        "colab": {}
      },
      "source": [
        "model = model(input_shape = (Tx, n_freq))\n",
        "model.summary()"
      ],
      "execution_count": 0,
      "outputs": []
    },
    {
      "cell_type": "markdown",
      "metadata": {
        "id": "owDLV1UyENRt",
        "colab_type": "text"
      },
      "source": [
        "## Model Training"
      ]
    },
    {
      "cell_type": "code",
      "metadata": {
        "colab_type": "code",
        "id": "UYzGhjq78vL-",
        "colab": {}
      },
      "source": [
        "# Function to fit and further train the model\n",
        "def model_train(model, X, Y):\n",
        "    \"\"\"\n",
        "    Function to train the model further using Adam optimiser and binary \n",
        "    cross entropy loss.\n",
        "    \n",
        "    Arguments:\n",
        "    model -- Model to train\n",
        "    X -- X data to train on\n",
        "    Y -- Y data to train on\n",
        "    \"\"\"\n",
        "    \n",
        "    opt = Adam(lr=0.0001, beta_1=0.9, beta_2=0.999, decay=0.01)\n",
        "    model.compile(loss='binary_crossentropy', optimizer=opt, metrics=['accuracy'])\n",
        "    \n",
        "    model.fit(X, Y, batch_size=5, epochs=1)"
      ],
      "execution_count": 0,
      "outputs": []
    },
    {
      "cell_type": "code",
      "metadata": {
        "colab_type": "code",
        "id": "0Z7c9Pha8wkw",
        "colab": {}
      },
      "source": [
        "# Train the model on stubbed data downloaded from Coursera\n",
        "# model = load_model(STUB_MODEL)\n",
        "\n",
        "X = np.load(\"/content/drive/My Drive/filler_detection/train_data/XY_Train/X_1.npy\")\n",
        "Y = np.load(\"/content/drive/My Drive/filler_detection/train_data/XY_Train/Y_1.npy\")\n",
        "\n",
        "model_train(model, X, Y)"
      ],
      "execution_count": 0,
      "outputs": []
    },
    {
      "cell_type": "markdown",
      "metadata": {
        "id": "36S02j3ZEHaB",
        "colab_type": "text"
      },
      "source": [
        "## Model Testing"
      ]
    },
    {
      "cell_type": "code",
      "metadata": {
        "id": "t9n0vUBlGogT",
        "colab_type": "code",
        "colab": {}
      },
      "source": [
        "print(f\"{DATA_PATH}/Y_2.npy\")\n",
        "print(f\"{PROJECT_PATH}/Y_2.npy\")"
      ],
      "execution_count": 0,
      "outputs": []
    },
    {
      "cell_type": "code",
      "metadata": {
        "colab_type": "code",
        "id": "6W2RaaAM85_Q",
        "scrolled": true,
        "colab": {}
      },
      "source": [
        "# Function to test the model on new data\n",
        "def model_test(model, X_dev, Y_dev):\n",
        "    loss, acc = model.evaluate(X_dev, Y_dev)\n",
        "    print(\"Dev set accuracy = \", acc)\n",
        "\n",
        "X_dev = np.load(f\"{PROJECT_PATH}/X_2.npy\")\n",
        "Y_dev = np.load(f\"{PROJECT_PATH}/Y_2.npy\")\n",
        "print(\"X: {} Y: {}\".format(X_dev.shape, Y_dev.shape))"
      ],
      "execution_count": 0,
      "outputs": []
    },
    {
      "cell_type": "code",
      "metadata": {
        "colab_type": "code",
        "id": "F6uTgE6187gq",
        "outputId": "096eb4b1-3745-4919-e529-4c7f87212234",
        "colab": {
          "base_uri": "https://localhost:8080/",
          "height": 51
        }
      },
      "source": [
        "model_test(model, X_dev, Y_dev)"
      ],
      "execution_count": 0,
      "outputs": [
        {
          "output_type": "stream",
          "text": [
            "1000/1000 [==============================] - 49s 49ms/step\n",
            "Dev set accuracy =  0.9360423684120178\n"
          ],
          "name": "stdout"
        }
      ]
    },
    {
      "cell_type": "code",
      "metadata": {
        "id": "HSKGzFmXsbGA",
        "colab_type": "code",
        "colab": {}
      },
      "source": [
        "X_11 = np.load(\"/content/drive/My Drive/filler_detection/train_data/dev_npy/cont_11X.npy\")\n",
        "Y_11 = np.load(\"/content/drive/My Drive/filler_detection/train_data/dev_npy/cont_11Y.npy\")\n",
        "print(\"X: {} Y: {}\".format(X_11.shape, Y_11.shape))\n",
        "\n",
        "X_12 = np.load(\"/content/drive/My Drive/filler_detection/train_data/dev_npy/cont_12X.npy\")\n",
        "Y_12 = np.load(\"/content/drive/My Drive/filler_detection/train_data/dev_npy/cont_12Y.npy\")\n",
        "print(\"X: {} Y: {}\".format(X_12.shape, Y_12.shape))\n",
        "\n",
        "X_13 = np.load(\"/content/drive/My Drive/filler_detection/train_data/dev_npy/cont_13X.npy\")\n",
        "Y_13 = np.load(\"/content/drive/My Drive/filler_detection/train_data/dev_npy/cont_13Y.npy\")\n",
        "print(\"X: {} Y: {}\".format(X_13.shape, Y_13.shape))\n",
        "\n",
        "X_14 = np.load(\"/content/drive/My Drive/filler_detection/train_data/dev_npy/cont_14X.npy\")\n",
        "Y_14 = np.load(\"/content/drive/My Drive/filler_detection/train_data/dev_npy/cont_14Y.npy\")\n",
        "print(\"X: {} Y: {}\".format(X_14.shape, Y_14.shape))\n",
        "\n",
        "\n",
        "\n",
        "\n",
        "\n",
        "\n"
      ],
      "execution_count": 0,
      "outputs": []
    },
    {
      "cell_type": "code",
      "metadata": {
        "colab_type": "code",
        "id": "1qpoTWEIruAz",
        "colab": {}
      },
      "source": [
        "model_test(model, X_11, Y_11)\n",
        "model_test(model, X_12, Y_12)\n",
        "model_test(model, X_13, Y_13)\n",
        "model_test(model, X_14, Y_14)"
      ],
      "execution_count": 0,
      "outputs": []
    },
    {
      "cell_type": "code",
      "metadata": {
        "id": "lo6H0xFiu-Bq",
        "colab_type": "code",
        "colab": {}
      },
      "source": [
        "list_of_dev_ids = [11,12,13,14,20,21,22,23,24,30,31,32,33,34,35,36,37,38,39,310,40,41,42,43,44]\n",
        "for id in list_of_dev_ids:\n",
        "    X_id = np.load(\"/content/drive/My Drive/filler_detection/train_data/dev_npy/cont_\" + str(id) + \"X.npy\")\n",
        "\n",
        "    Y_id = np.load(\"/content/drive/My Drive/filler_detection/train_data/dev_npy/cont_\" + str(id) + \"Y.npy\")\n",
        "    print((\"X\" + str(id) + \": {} Y\" + str(id) + \": {}\").format(X_id.shape, Y_id.shape))\n",
        "    model_test(model, X_id, Y_id)\n",
        "\n",
        "model_test(model, X_11, Y_11)\n"
      ],
      "execution_count": 0,
      "outputs": []
    },
    {
      "cell_type": "code",
      "metadata": {
        "id": "G828z31mLeyT",
        "colab_type": "code",
        "colab": {}
      },
      "source": [
        "# Preprocess the audio to the correct format\n",
        "def preprocess_audio(filename):\n",
        "    print(\"PREPROCESSING...\")\n",
        "    # Trim or pad audio segment to 10000ms\n",
        "    padding = AudioSegment.silent(duration=10000)\n",
        "    segment = AudioSegment.from_wav(filename)[:10000]\n",
        "    segment = padding.overlay(segment)\n",
        "    # Set frame rate to 123000\n",
        "    segment = segment.set_channels(1)\n",
        "    segment = segment.set_frame_rate(123000)\n",
        "    # Export as wav\n",
        "    segment.export(filename, format='wav')"
      ],
      "execution_count": 0,
      "outputs": []
    },
    {
      "cell_type": "code",
      "metadata": {
        "id": "o5a7eolILjXR",
        "colab_type": "code",
        "colab": {}
      },
      "source": [
        "def detect_triggerword(filename):\n",
        "    \"\"\"\n",
        "    Function to take filename and generate a prediction vector.\n",
        "    \n",
        "    Argument:\n",
        "    filename -- Audio file to run prediction on\n",
        "    \n",
        "    Returns:\n",
        "    predictions -- Prediction vector with probabilities\n",
        "    \"\"\"\n",
        "    \n",
        "    sample_rate, samples = wavfile.read(filename)\n",
        "    _, _, x = signal.spectrogram(samples, sample_rate)\n",
        "    print(x.shape)\n",
        "    \n",
        "    # the spectrogram outputs (freqs, Tx) and we want (Tx, freqs) to input into the model\n",
        "    x  = x.swapaxes(0,1)\n",
        "    x = np.expand_dims(x, axis=0)\n",
        "    \n",
        "    predictions = model.predict(x)\n",
        "    return predictions"
      ],
      "execution_count": 0,
      "outputs": []
    },
    {
      "cell_type": "code",
      "metadata": {
        "id": "MPGSTQg3LlTB",
        "colab_type": "code",
        "colab": {}
      },
      "source": [
        "def count_filler_word(filename, threshold):\n",
        "    \"\"\"\n",
        "    Function to count the number of times trigger word spoken in audio.\n",
        "    \n",
        "    Arguments:\n",
        "    filename -- Audio file to run prediction on\n",
        "    threshold -- Probability above which trigger word considered present\n",
        "    \"\"\"\n",
        "\n",
        "    preprocess_audio(filename)\n",
        "    audio_clip = AudioSegment.from_wav(filename)\n",
        "    chime = AudioSegment.from_wav(CHIME_FILE)\n",
        "    predictions = detect_triggerword(filename)\n",
        "    Ty = predictions.shape[1]\n",
        "    \n",
        "    # Step 1: Initialize the number of consecutive output steps to 0\n",
        "    consecutive_timesteps = 0\n",
        "    # Step 2: Loop over the output steps in the y\n",
        "    for i in range(Ty):\n",
        "        # Step 3: Increment consecutive output steps\n",
        "        consecutive_timesteps += 1\n",
        "        # Step 4: If prediction is higher than the threshold and more than 75 consecutive output steps have passed\n",
        "        if predictions[0,i,0] > threshold and consecutive_timesteps > 75:\n",
        "            # Step 5: Superpose audio and background using pydub\n",
        "            audio_clip = audio_clip.overlay(chime, position = ((i / Ty) * audio_clip.duration_seconds)*1000)\n",
        "            # Step 6: Reset consecutive output steps to 0\n",
        "            consecutive_timesteps = 0\n",
        "        \n",
        "    audio_clip.export(\"chime_output.wav\", format='wav')"
      ],
      "execution_count": 0,
      "outputs": []
    },
    {
      "cell_type": "code",
      "metadata": {
        "id": "V1pHL08ULqdB",
        "colab_type": "code",
        "colab": {
          "base_uri": "https://localhost:8080/",
          "height": 52
        },
        "outputId": "d5b5930a-5f89-4372-d11c-5db91169f821"
      },
      "source": [
        "count_filler_word('./Test_2.wav', 0.4)"
      ],
      "execution_count": 131,
      "outputs": [
        {
          "output_type": "stream",
          "text": [
            "PREPROCESSING...\n",
            "(129, 5490)\n"
          ],
          "name": "stdout"
        }
      ]
    },
    {
      "cell_type": "code",
      "metadata": {
        "id": "N8ArRym8MOXd",
        "colab_type": "code",
        "colab": {}
      },
      "source": [
        ""
      ],
      "execution_count": 0,
      "outputs": []
    }
  ]
}