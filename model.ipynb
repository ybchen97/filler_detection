{
  "nbformat": 4,
  "nbformat_minor": 0,
  "metadata": {
    "accelerator": "GPU",
    "colab": {
      "name": "model.ipynb",
      "provenance": [],
      "toc_visible": true,
      "machine_shape": "hm",
      "include_colab_link": true
    },
    "kernelspec": {
      "display_name": "Python 3.7.5 64-bit",
      "language": "python",
      "name": "python37564bitf304d4ac23234a529ebef17df9391c14"
    },
    "language_info": {
      "codemirror_mode": {
        "name": "ipython",
        "version": 3
      },
      "file_extension": ".py",
      "mimetype": "text/x-python",
      "name": "python",
      "nbconvert_exporter": "python",
      "pygments_lexer": "ipython3",
      "version": "3.7.6"
    }
  },
  "cells": [
    {
      "cell_type": "markdown",
      "metadata": {
        "id": "view-in-github",
        "colab_type": "text"
      },
      "source": [
        "<a href=\"https://colab.research.google.com/github/ybchen97/filler_detection/blob/master/model.ipynb\" target=\"_parent\"><img src=\"https://colab.research.google.com/assets/colab-badge.svg\" alt=\"Open In Colab\"/></a>"
      ]
    },
    {
      "cell_type": "markdown",
      "metadata": {
        "colab_type": "text",
        "id": "my6I-6tlRSuK"
      },
      "source": [
        "# Model"
      ]
    },
    {
      "cell_type": "markdown",
      "metadata": {
        "colab_type": "text",
        "id": "bAbmFvBVRXtY"
      },
      "source": [
        "Syncing from google drive and github... for more info on this code, refer [here](https://zerowithdot.com/colab-github-workflow/)"
      ]
    },
    {
      "cell_type": "code",
      "metadata": {
        "id": "W_uF7CGdfZzs",
        "colab_type": "code",
        "outputId": "3733fca7-8e67-4e2f-f098-2f8131334412",
        "colab": {
          "base_uri": "https://localhost:8080/",
          "height": 34
        }
      },
      "source": [
        "from google.colab import drive\n",
        "from os.path import join\n",
        "\n",
        "ROOT = '/content/drive'     # default for the drive\n",
        "\n",
        "drive.mount(ROOT)           # we mount the drive at /content/drive"
      ],
      "execution_count": 1,
      "outputs": [
        {
          "output_type": "stream",
          "text": [
            "Mounted at /content/drive\n"
          ],
          "name": "stdout"
        }
      ]
    },
    {
      "cell_type": "code",
      "metadata": {
        "colab_type": "code",
        "id": "FO4R_OEE3LSV",
        "outputId": "b46b8117-261d-4516-8d33-5eadaffa9289",
        "colab": {
          "base_uri": "https://localhost:8080/",
          "height": 170
        }
      },
      "source": [
        "GIT_PATH = \"https://github.com/ybchen97/filler_detection.git\"\n",
        "!mkdir ./temp\n",
        "!git clone \"{GIT_PATH}\"\n",
        "!mv ./temp/* \"{PROJECT_PATH}\"\n",
        "!rm -rf ./temp"
      ],
      "execution_count": 2,
      "outputs": [
        {
          "output_type": "stream",
          "text": [
            "Cloning into 'filler_detection'...\n",
            "remote: Enumerating objects: 106, done.\u001b[K\n",
            "remote: Counting objects:   0% (1/106)\u001b[K\rremote: Counting objects:   1% (2/106)\u001b[K\rremote: Counting objects:   2% (3/106)\u001b[K\rremote: Counting objects:   3% (4/106)\u001b[K\rremote: Counting objects:   4% (5/106)\u001b[K\rremote: Counting objects:   5% (6/106)\u001b[K\rremote: Counting objects:   6% (7/106)\u001b[K\rremote: Counting objects:   7% (8/106)\u001b[K\rremote: Counting objects:   8% (9/106)\u001b[K\rremote: Counting objects:   9% (10/106)\u001b[K\rremote: Counting objects:  10% (11/106)\u001b[K\rremote: Counting objects:  11% (12/106)\u001b[K\rremote: Counting objects:  12% (13/106)\u001b[K\rremote: Counting objects:  13% (14/106)\u001b[K\rremote: Counting objects:  14% (15/106)\u001b[K\rremote: Counting objects:  15% (16/106)\u001b[K\rremote: Counting objects:  16% (17/106)\u001b[K\rremote: Counting objects:  17% (19/106)\u001b[K\rremote: Counting objects:  18% (20/106)\u001b[K\rremote: Counting objects:  19% (21/106)\u001b[K\rremote: Counting objects:  20% (22/106)\u001b[K\rremote: Counting objects:  21% (23/106)\u001b[K\rremote: Counting objects:  22% (24/106)\u001b[K\rremote: Counting objects:  23% (25/106)\u001b[K\rremote: Counting objects:  24% (26/106)\u001b[K\rremote: Counting objects:  25% (27/106)\u001b[K\rremote: Counting objects:  26% (28/106)\u001b[K\rremote: Counting objects:  27% (29/106)\u001b[K\rremote: Counting objects:  28% (30/106)\u001b[K\rremote: Counting objects:  29% (31/106)\u001b[K\rremote: Counting objects:  30% (32/106)\u001b[K\rremote: Counting objects:  31% (33/106)\u001b[K\rremote: Counting objects:  32% (34/106)\u001b[K\rremote: Counting objects:  33% (35/106)\u001b[K\rremote: Counting objects:  34% (37/106)\u001b[K\rremote: Counting objects:  35% (38/106)\u001b[K\rremote: Counting objects:  36% (39/106)\u001b[K\rremote: Counting objects:  37% (40/106)\u001b[K\rremote: Counting objects:  38% (41/106)\u001b[K\rremote: Counting objects:  39% (42/106)\u001b[K\rremote: Counting objects:  40% (43/106)\u001b[K\rremote: Counting objects:  41% (44/106)\u001b[K\rremote: Counting objects:  42% (45/106)\u001b[K\rremote: Counting objects:  43% (46/106)\u001b[K\rremote: Counting objects:  44% (47/106)\u001b[K\rremote: Counting objects:  45% (48/106)\u001b[K\rremote: Counting objects:  46% (49/106)\u001b[K\rremote: Counting objects:  47% (50/106)\u001b[K\rremote: Counting objects:  48% (51/106)\u001b[K\rremote: Counting objects:  49% (52/106)\u001b[K\rremote: Counting objects:  50% (53/106)\u001b[K\rremote: Counting objects:  51% (55/106)\u001b[K\rremote: Counting objects:  52% (56/106)\u001b[K\rremote: Counting objects:  53% (57/106)\u001b[K\rremote: Counting objects:  54% (58/106)\u001b[K\rremote: Counting objects:  55% (59/106)\u001b[K\rremote: Counting objects:  56% (60/106)\u001b[K\rremote: Counting objects:  57% (61/106)\u001b[K\rremote: Counting objects:  58% (62/106)\u001b[K\rremote: Counting objects:  59% (63/106)\u001b[K\rremote: Counting objects:  60% (64/106)\u001b[K\rremote: Counting objects:  61% (65/106)\u001b[K\rremote: Counting objects:  62% (66/106)\u001b[K\rremote: Counting objects:  63% (67/106)\u001b[K\rremote: Counting objects:  64% (68/106)\u001b[K\rremote: Counting objects:  65% (69/106)\u001b[K\rremote: Counting objects:  66% (70/106)\u001b[K\rremote: Counting objects:  67% (72/106)\u001b[K\rremote: Counting objects:  68% (73/106)\u001b[K\rremote: Counting objects:  69% (74/106)\u001b[K\rremote: Counting objects:  70% (75/106)\u001b[K\rremote: Counting objects:  71% (76/106)\u001b[K\rremote: Counting objects:  72% (77/106)\u001b[K\rremote: Counting objects:  73% (78/106)\u001b[K\rremote: Counting objects:  74% (79/106)\u001b[K\rremote: Counting objects:  75% (80/106)\u001b[K\rremote: Counting objects:  76% (81/106)\u001b[K\rremote: Counting objects:  77% (82/106)\u001b[K\rremote: Counting objects:  78% (83/106)\u001b[K\rremote: Counting objects:  79% (84/106)\u001b[K\rremote: Counting objects:  80% (85/106)\u001b[K\rremote: Counting objects:  81% (86/106)\u001b[K\rremote: Counting objects:  82% (87/106)\u001b[K\rremote: Counting objects:  83% (88/106)\u001b[K\rremote: Counting objects:  84% (90/106)\u001b[K\rremote: Counting objects:  85% (91/106)\u001b[K\rremote: Counting objects:  86% (92/106)\u001b[K\rremote: Counting objects:  87% (93/106)\u001b[K\rremote: Counting objects:  88% (94/106)\u001b[K\rremote: Counting objects:  89% (95/106)\u001b[K\rremote: Counting objects:  90% (96/106)\u001b[K\rremote: Counting objects:  91% (97/106)\u001b[K\rremote: Counting objects:  92% (98/106)\u001b[K\rremote: Counting objects:  93% (99/106)\u001b[K\rremote: Counting objects:  94% (100/106)\u001b[K\rremote: Counting objects:  95% (101/106)\u001b[K\rremote: Counting objects:  96% (102/106)\u001b[K\rremote: Counting objects:  97% (103/106)\u001b[K\rremote: Counting objects:  98% (104/106)\u001b[K\rremote: Counting objects:  99% (105/106)\u001b[K\rremote: Counting objects: 100% (106/106)\u001b[K\rremote: Counting objects: 100% (106/106), done.\u001b[K\n",
            "remote: Compressing objects: 100% (62/62), done.\u001b[K\n",
            "remote: Total 3993 (delta 70), reused 57 (delta 44), pack-reused 3887\u001b[K\n",
            "Receiving objects: 100% (3993/3993), 189.60 MiB | 30.27 MiB/s, done.\n",
            "Resolving deltas: 100% (248/248), done.\n",
            "Checking out files: 100% (3603/3603), done.\n",
            "mv: cannot stat './temp/*': No such file or directory\n"
          ],
          "name": "stdout"
        }
      ]
    },
    {
      "cell_type": "markdown",
      "metadata": {
        "colab_type": "text",
        "id": "qa4hVHm5RouU"
      },
      "source": [
        "Install packages in this local notebook specified in requirements.txt"
      ]
    },
    {
      "cell_type": "code",
      "metadata": {
        "colab_type": "code",
        "id": "E3SSCyXL8lBb",
        "outputId": "08f40dec-2612-4801-ef76-f6eacfc66b01",
        "colab": {
          "base_uri": "https://localhost:8080/",
          "height": 1000
        }
      },
      "source": [
        "!pip install -r '/content/filler_detection/requirements.txt'"
      ],
      "execution_count": 3,
      "outputs": [
        {
          "output_type": "stream",
          "text": [
            "Requirement already satisfied: absl-py==0.9.0 in /usr/local/lib/python3.6/dist-packages (from -r /content/filler_detection/requirements.txt (line 1)) (0.9.0)\n",
            "Collecting appnope==0.1.0\n",
            "  Downloading https://files.pythonhosted.org/packages/87/a9/7985e6a53402f294c8f0e8eff3151a83f1fb901fa92909bb3ff29b4d22af/appnope-0.1.0-py2.py3-none-any.whl\n",
            "Requirement already satisfied: astor==0.8.1 in /usr/local/lib/python3.6/dist-packages (from -r /content/filler_detection/requirements.txt (line 3)) (0.8.1)\n",
            "Requirement already satisfied: backcall==0.1.0 in /usr/local/lib/python3.6/dist-packages (from -r /content/filler_detection/requirements.txt (line 4)) (0.1.0)\n",
            "Collecting cachetools==4.0.0\n",
            "  Downloading https://files.pythonhosted.org/packages/08/6a/abf83cb951617793fd49c98cb9456860f5df66ff89883c8660aa0672d425/cachetools-4.0.0-py3-none-any.whl\n",
            "Requirement already satisfied: certifi==2019.11.28 in /usr/local/lib/python3.6/dist-packages (from -r /content/filler_detection/requirements.txt (line 6)) (2019.11.28)\n",
            "Requirement already satisfied: chardet==3.0.4 in /usr/local/lib/python3.6/dist-packages (from -r /content/filler_detection/requirements.txt (line 7)) (3.0.4)\n",
            "Requirement already satisfied: cycler==0.10.0 in /usr/local/lib/python3.6/dist-packages (from -r /content/filler_detection/requirements.txt (line 8)) (0.10.0)\n",
            "Requirement already satisfied: decorator==4.4.2 in /usr/local/lib/python3.6/dist-packages (from -r /content/filler_detection/requirements.txt (line 9)) (4.4.2)\n",
            "Collecting gast==0.2.2\n",
            "  Downloading https://files.pythonhosted.org/packages/4e/35/11749bf99b2d4e3cceb4d55ca22590b0d7c2c62b9de38ac4a4a7f4687421/gast-0.2.2.tar.gz\n",
            "Collecting google-auth==1.11.3\n",
            "\u001b[?25l  Downloading https://files.pythonhosted.org/packages/f7/f8/2da482a6165ef3f28d52faf8c2ca31628129a84a294033eb399ef500e265/google_auth-1.11.3-py2.py3-none-any.whl (76kB)\n",
            "\r\u001b[K     |████▎                           | 10kB 29.0MB/s eta 0:00:01\r\u001b[K     |████████▌                       | 20kB 3.0MB/s eta 0:00:01\r\u001b[K     |████████████▉                   | 30kB 4.4MB/s eta 0:00:01\r\u001b[K     |█████████████████               | 40kB 5.6MB/s eta 0:00:01\r\u001b[K     |█████████████████████▎          | 51kB 5.7MB/s eta 0:00:01\r\u001b[K     |█████████████████████████▋      | 61kB 6.7MB/s eta 0:00:01\r\u001b[K     |█████████████████████████████▉  | 71kB 6.9MB/s eta 0:00:01\r\u001b[K     |████████████████████████████████| 81kB 5.3MB/s \n",
            "\u001b[?25hRequirement already satisfied: google-auth-oauthlib==0.4.1 in /usr/local/lib/python3.6/dist-packages (from -r /content/filler_detection/requirements.txt (line 12)) (0.4.1)\n",
            "Requirement already satisfied: google-pasta==0.2.0 in /usr/local/lib/python3.6/dist-packages (from -r /content/filler_detection/requirements.txt (line 13)) (0.2.0)\n",
            "Requirement already satisfied: grpcio==1.27.2 in /usr/local/lib/python3.6/dist-packages (from -r /content/filler_detection/requirements.txt (line 14)) (1.27.2)\n",
            "Requirement already satisfied: h5py==2.10.0 in /usr/local/lib/python3.6/dist-packages (from -r /content/filler_detection/requirements.txt (line 15)) (2.10.0)\n",
            "Collecting idna==2.9\n",
            "\u001b[?25l  Downloading https://files.pythonhosted.org/packages/89/e3/afebe61c546d18fb1709a61bee788254b40e736cff7271c7de5de2dc4128/idna-2.9-py2.py3-none-any.whl (58kB)\n",
            "\r\u001b[K     |█████▋                          | 10kB 32.3MB/s eta 0:00:01\r\u001b[K     |███████████▎                    | 20kB 38.6MB/s eta 0:00:01\r\u001b[K     |████████████████▉               | 30kB 47.5MB/s eta 0:00:01\r\u001b[K     |██████████████████████▌         | 40kB 17.8MB/s eta 0:00:01\r\u001b[K     |████████████████████████████    | 51kB 15.7MB/s eta 0:00:01\r\u001b[K     |████████████████████████████████| 61kB 7.4MB/s \n",
            "\u001b[?25hCollecting ipython==7.13.0\n",
            "\u001b[?25l  Downloading https://files.pythonhosted.org/packages/61/6f/69f1eec859ce48a86660529b166b6ea466f0f4ab98e4fc0807b835aa22c6/ipython-7.13.0-py3-none-any.whl (780kB)\n",
            "\r\u001b[K     |▍                               | 10kB 36.3MB/s eta 0:00:01\r\u001b[K     |▉                               | 20kB 39.9MB/s eta 0:00:01\r\u001b[K     |█▎                              | 30kB 48.3MB/s eta 0:00:01\r\u001b[K     |█▊                              | 40kB 28.0MB/s eta 0:00:01\r\u001b[K     |██                              | 51kB 14.7MB/s eta 0:00:01\r\u001b[K     |██▌                             | 61kB 17.1MB/s eta 0:00:01\r\u001b[K     |███                             | 71kB 16.2MB/s eta 0:00:01\r\u001b[K     |███▍                            | 81kB 12.3MB/s eta 0:00:01\r\u001b[K     |███▉                            | 92kB 13.5MB/s eta 0:00:01\r\u001b[K     |████▏                           | 102kB 14.3MB/s eta 0:00:01\r\u001b[K     |████▋                           | 112kB 14.3MB/s eta 0:00:01\r\u001b[K     |█████                           | 122kB 14.3MB/s eta 0:00:01\r\u001b[K     |█████▌                          | 133kB 14.3MB/s eta 0:00:01\r\u001b[K     |█████▉                          | 143kB 14.3MB/s eta 0:00:01\r\u001b[K     |██████▎                         | 153kB 14.3MB/s eta 0:00:01\r\u001b[K     |██████▊                         | 163kB 14.3MB/s eta 0:00:01\r\u001b[K     |███████▏                        | 174kB 14.3MB/s eta 0:00:01\r\u001b[K     |███████▋                        | 184kB 14.3MB/s eta 0:00:01\r\u001b[K     |████████                        | 194kB 14.3MB/s eta 0:00:01\r\u001b[K     |████████▍                       | 204kB 14.3MB/s eta 0:00:01\r\u001b[K     |████████▉                       | 215kB 14.3MB/s eta 0:00:01\r\u001b[K     |█████████▎                      | 225kB 14.3MB/s eta 0:00:01\r\u001b[K     |█████████▋                      | 235kB 14.3MB/s eta 0:00:01\r\u001b[K     |██████████                      | 245kB 14.3MB/s eta 0:00:01\r\u001b[K     |██████████▌                     | 256kB 14.3MB/s eta 0:00:01\r\u001b[K     |███████████                     | 266kB 14.3MB/s eta 0:00:01\r\u001b[K     |███████████▍                    | 276kB 14.3MB/s eta 0:00:01\r\u001b[K     |███████████▊                    | 286kB 14.3MB/s eta 0:00:01\r\u001b[K     |████████████▏                   | 296kB 14.3MB/s eta 0:00:01\r\u001b[K     |████████████▋                   | 307kB 14.3MB/s eta 0:00:01\r\u001b[K     |█████████████                   | 317kB 14.3MB/s eta 0:00:01\r\u001b[K     |█████████████▍                  | 327kB 14.3MB/s eta 0:00:01\r\u001b[K     |█████████████▉                  | 337kB 14.3MB/s eta 0:00:01\r\u001b[K     |██████████████▎                 | 348kB 14.3MB/s eta 0:00:01\r\u001b[K     |██████████████▊                 | 358kB 14.3MB/s eta 0:00:01\r\u001b[K     |███████████████▏                | 368kB 14.3MB/s eta 0:00:01\r\u001b[K     |███████████████▌                | 378kB 14.3MB/s eta 0:00:01\r\u001b[K     |████████████████                | 389kB 14.3MB/s eta 0:00:01\r\u001b[K     |████████████████▍               | 399kB 14.3MB/s eta 0:00:01\r\u001b[K     |████████████████▉               | 409kB 14.3MB/s eta 0:00:01\r\u001b[K     |█████████████████▏              | 419kB 14.3MB/s eta 0:00:01\r\u001b[K     |█████████████████▋              | 430kB 14.3MB/s eta 0:00:01\r\u001b[K     |██████████████████              | 440kB 14.3MB/s eta 0:00:01\r\u001b[K     |██████████████████▌             | 450kB 14.3MB/s eta 0:00:01\r\u001b[K     |███████████████████             | 460kB 14.3MB/s eta 0:00:01\r\u001b[K     |███████████████████▎            | 471kB 14.3MB/s eta 0:00:01\r\u001b[K     |███████████████████▊            | 481kB 14.3MB/s eta 0:00:01\r\u001b[K     |████████████████████▏           | 491kB 14.3MB/s eta 0:00:01\r\u001b[K     |████████████████████▋           | 501kB 14.3MB/s eta 0:00:01\r\u001b[K     |█████████████████████           | 512kB 14.3MB/s eta 0:00:01\r\u001b[K     |█████████████████████▍          | 522kB 14.3MB/s eta 0:00:01\r\u001b[K     |█████████████████████▉          | 532kB 14.3MB/s eta 0:00:01\r\u001b[K     |██████████████████████▎         | 542kB 14.3MB/s eta 0:00:01\r\u001b[K     |██████████████████████▊         | 552kB 14.3MB/s eta 0:00:01\r\u001b[K     |███████████████████████         | 563kB 14.3MB/s eta 0:00:01\r\u001b[K     |███████████████████████▌        | 573kB 14.3MB/s eta 0:00:01\r\u001b[K     |████████████████████████        | 583kB 14.3MB/s eta 0:00:01\r\u001b[K     |████████████████████████▍       | 593kB 14.3MB/s eta 0:00:01\r\u001b[K     |████████████████████████▊       | 604kB 14.3MB/s eta 0:00:01\r\u001b[K     |█████████████████████████▏      | 614kB 14.3MB/s eta 0:00:01\r\u001b[K     |█████████████████████████▋      | 624kB 14.3MB/s eta 0:00:01\r\u001b[K     |██████████████████████████      | 634kB 14.3MB/s eta 0:00:01\r\u001b[K     |██████████████████████████▌     | 645kB 14.3MB/s eta 0:00:01\r\u001b[K     |██████████████████████████▉     | 655kB 14.3MB/s eta 0:00:01\r\u001b[K     |███████████████████████████▎    | 665kB 14.3MB/s eta 0:00:01\r\u001b[K     |███████████████████████████▊    | 675kB 14.3MB/s eta 0:00:01\r\u001b[K     |████████████████████████████▏   | 686kB 14.3MB/s eta 0:00:01\r\u001b[K     |████████████████████████████▌   | 696kB 14.3MB/s eta 0:00:01\r\u001b[K     |█████████████████████████████   | 706kB 14.3MB/s eta 0:00:01\r\u001b[K     |█████████████████████████████▍  | 716kB 14.3MB/s eta 0:00:01\r\u001b[K     |█████████████████████████████▉  | 727kB 14.3MB/s eta 0:00:01\r\u001b[K     |██████████████████████████████▎ | 737kB 14.3MB/s eta 0:00:01\r\u001b[K     |██████████████████████████████▋ | 747kB 14.3MB/s eta 0:00:01\r\u001b[K     |███████████████████████████████ | 757kB 14.3MB/s eta 0:00:01\r\u001b[K     |███████████████████████████████▌| 768kB 14.3MB/s eta 0:00:01\r\u001b[K     |████████████████████████████████| 778kB 14.3MB/s eta 0:00:01\r\u001b[K     |████████████████████████████████| 788kB 14.3MB/s \n",
            "\u001b[?25hRequirement already satisfied: ipython-genutils==0.2.0 in /usr/local/lib/python3.6/dist-packages (from -r /content/filler_detection/requirements.txt (line 18)) (0.2.0)\n",
            "Requirement already satisfied: jedi==0.16.0 in /usr/local/lib/python3.6/dist-packages (from -r /content/filler_detection/requirements.txt (line 19)) (0.16.0)\n",
            "Collecting Keras==2.3.1\n",
            "\u001b[?25l  Downloading https://files.pythonhosted.org/packages/ad/fd/6bfe87920d7f4fd475acd28500a42482b6b84479832bdc0fe9e589a60ceb/Keras-2.3.1-py2.py3-none-any.whl (377kB)\n",
            "\r\u001b[K     |▉                               | 10kB 35.2MB/s eta 0:00:01\r\u001b[K     |█▊                              | 20kB 41.5MB/s eta 0:00:01\r\u001b[K     |██▋                             | 30kB 48.5MB/s eta 0:00:01\r\u001b[K     |███▌                            | 40kB 42.7MB/s eta 0:00:01\r\u001b[K     |████▍                           | 51kB 27.0MB/s eta 0:00:01\r\u001b[K     |█████▏                          | 61kB 30.2MB/s eta 0:00:01\r\u001b[K     |██████                          | 71kB 24.2MB/s eta 0:00:01\r\u001b[K     |███████                         | 81kB 21.3MB/s eta 0:00:01\r\u001b[K     |███████▉                        | 92kB 23.1MB/s eta 0:00:01\r\u001b[K     |████████▊                       | 102kB 24.9MB/s eta 0:00:01\r\u001b[K     |█████████▌                      | 112kB 24.9MB/s eta 0:00:01\r\u001b[K     |██████████▍                     | 122kB 24.9MB/s eta 0:00:01\r\u001b[K     |███████████▎                    | 133kB 24.9MB/s eta 0:00:01\r\u001b[K     |████████████▏                   | 143kB 24.9MB/s eta 0:00:01\r\u001b[K     |█████████████                   | 153kB 24.9MB/s eta 0:00:01\r\u001b[K     |█████████████▉                  | 163kB 24.9MB/s eta 0:00:01\r\u001b[K     |██████████████▊                 | 174kB 24.9MB/s eta 0:00:01\r\u001b[K     |███████████████▋                | 184kB 24.9MB/s eta 0:00:01\r\u001b[K     |████████████████▌               | 194kB 24.9MB/s eta 0:00:01\r\u001b[K     |█████████████████▍              | 204kB 24.9MB/s eta 0:00:01\r\u001b[K     |██████████████████▏             | 215kB 24.9MB/s eta 0:00:01\r\u001b[K     |███████████████████             | 225kB 24.9MB/s eta 0:00:01\r\u001b[K     |████████████████████            | 235kB 24.9MB/s eta 0:00:01\r\u001b[K     |████████████████████▉           | 245kB 24.9MB/s eta 0:00:01\r\u001b[K     |█████████████████████▊          | 256kB 24.9MB/s eta 0:00:01\r\u001b[K     |██████████████████████▌         | 266kB 24.9MB/s eta 0:00:01\r\u001b[K     |███████████████████████▍        | 276kB 24.9MB/s eta 0:00:01\r\u001b[K     |████████████████████████▎       | 286kB 24.9MB/s eta 0:00:01\r\u001b[K     |█████████████████████████▏      | 296kB 24.9MB/s eta 0:00:01\r\u001b[K     |██████████████████████████      | 307kB 24.9MB/s eta 0:00:01\r\u001b[K     |██████████████████████████▉     | 317kB 24.9MB/s eta 0:00:01\r\u001b[K     |███████████████████████████▊    | 327kB 24.9MB/s eta 0:00:01\r\u001b[K     |████████████████████████████▋   | 337kB 24.9MB/s eta 0:00:01\r\u001b[K     |█████████████████████████████▌  | 348kB 24.9MB/s eta 0:00:01\r\u001b[K     |██████████████████████████████▍ | 358kB 24.9MB/s eta 0:00:01\r\u001b[K     |███████████████████████████████▏| 368kB 24.9MB/s eta 0:00:01\r\u001b[K     |████████████████████████████████| 378kB 24.9MB/s \n",
            "\u001b[?25hRequirement already satisfied: Keras-Applications==1.0.8 in /usr/local/lib/python3.6/dist-packages (from -r /content/filler_detection/requirements.txt (line 21)) (1.0.8)\n",
            "Requirement already satisfied: Keras-Preprocessing==1.1.0 in /usr/local/lib/python3.6/dist-packages (from -r /content/filler_detection/requirements.txt (line 22)) (1.1.0)\n",
            "Requirement already satisfied: kiwisolver==1.1.0 in /usr/local/lib/python3.6/dist-packages (from -r /content/filler_detection/requirements.txt (line 23)) (1.1.0)\n",
            "Requirement already satisfied: Markdown==3.2.1 in /usr/local/lib/python3.6/dist-packages (from -r /content/filler_detection/requirements.txt (line 24)) (3.2.1)\n",
            "Collecting matplotlib==3.2.0\n",
            "\u001b[?25l  Downloading https://files.pythonhosted.org/packages/e6/fc/5889757c4c70c552f56fddc8fbdcab565475686cdebdfa1806a9d54cd53b/matplotlib-3.2.0-cp36-cp36m-manylinux1_x86_64.whl (12.4MB)\n",
            "\u001b[K     |████████████████████████████████| 12.4MB 35kB/s \n",
            "\u001b[?25hCollecting numpy==1.18.1\n",
            "\u001b[?25l  Downloading https://files.pythonhosted.org/packages/62/20/4d43e141b5bc426ba38274933ef8e76e85c7adea2c321ecf9ebf7421cedf/numpy-1.18.1-cp36-cp36m-manylinux1_x86_64.whl (20.1MB)\n",
            "\u001b[K     |████████████████████████████████| 20.2MB 162kB/s \n",
            "\u001b[?25hRequirement already satisfied: oauthlib==3.1.0 in /usr/local/lib/python3.6/dist-packages (from -r /content/filler_detection/requirements.txt (line 27)) (3.1.0)\n",
            "Requirement already satisfied: opt-einsum==3.2.0 in /usr/local/lib/python3.6/dist-packages (from -r /content/filler_detection/requirements.txt (line 28)) (3.2.0)\n",
            "Requirement already satisfied: parso==0.6.2 in /usr/local/lib/python3.6/dist-packages (from -r /content/filler_detection/requirements.txt (line 29)) (0.6.2)\n",
            "Requirement already satisfied: pexpect==4.8.0 in /usr/local/lib/python3.6/dist-packages (from -r /content/filler_detection/requirements.txt (line 30)) (4.8.0)\n",
            "Requirement already satisfied: pickleshare==0.7.5 in /usr/local/lib/python3.6/dist-packages (from -r /content/filler_detection/requirements.txt (line 31)) (0.7.5)\n",
            "Collecting prompt-toolkit==3.0.4\n",
            "\u001b[?25l  Downloading https://files.pythonhosted.org/packages/ab/29/d744cee89937b7e52a5c20ca237a6c77298f757965eb3eb0c653df1bfb14/prompt_toolkit-3.0.4-py3-none-any.whl (351kB)\n",
            "\u001b[K     |████████████████████████████████| 358kB 57.6MB/s \n",
            "\u001b[?25hCollecting protobuf==3.11.3\n",
            "\u001b[?25l  Downloading https://files.pythonhosted.org/packages/57/02/5432412c162989260fab61fa65e0a490c1872739eb91a659896e4d554b26/protobuf-3.11.3-cp36-cp36m-manylinux1_x86_64.whl (1.3MB)\n",
            "\u001b[K     |████████████████████████████████| 1.3MB 54.6MB/s \n",
            "\u001b[?25hRequirement already satisfied: ptyprocess==0.6.0 in /usr/local/lib/python3.6/dist-packages (from -r /content/filler_detection/requirements.txt (line 34)) (0.6.0)\n",
            "Requirement already satisfied: pyasn1==0.4.8 in /usr/local/lib/python3.6/dist-packages (from -r /content/filler_detection/requirements.txt (line 35)) (0.4.8)\n",
            "Requirement already satisfied: pyasn1-modules==0.2.8 in /usr/local/lib/python3.6/dist-packages (from -r /content/filler_detection/requirements.txt (line 36)) (0.2.8)\n",
            "Collecting pydub==0.23.1\n",
            "  Downloading https://files.pythonhosted.org/packages/79/db/eaf620b73a1eec3c8c6f8f5b0b236a50f9da88ad57802154b7ba7664d0b8/pydub-0.23.1-py2.py3-none-any.whl\n",
            "Collecting Pygments==2.6.1\n",
            "\u001b[?25l  Downloading https://files.pythonhosted.org/packages/2d/68/106af3ae51daf807e9cdcba6a90e518954eb8b70341cee52995540a53ead/Pygments-2.6.1-py3-none-any.whl (914kB)\n",
            "\u001b[K     |████████████████████████████████| 921kB 50.8MB/s \n",
            "\u001b[?25hRequirement already satisfied: pyparsing==2.4.6 in /usr/local/lib/python3.6/dist-packages (from -r /content/filler_detection/requirements.txt (line 39)) (2.4.6)\n",
            "Requirement already satisfied: python-dateutil==2.8.1 in /usr/local/lib/python3.6/dist-packages (from -r /content/filler_detection/requirements.txt (line 40)) (2.8.1)\n",
            "Collecting PyYAML==5.3\n",
            "\u001b[?25l  Downloading https://files.pythonhosted.org/packages/3d/d9/ea9816aea31beeadccd03f1f8b625ecf8f645bd66744484d162d84803ce5/PyYAML-5.3.tar.gz (268kB)\n",
            "\u001b[K     |████████████████████████████████| 276kB 62.3MB/s \n",
            "\u001b[?25hCollecting requests==2.23.0\n",
            "\u001b[?25l  Downloading https://files.pythonhosted.org/packages/1a/70/1935c770cb3be6e3a8b78ced23d7e0f3b187f5cbfab4749523ed65d7c9b1/requests-2.23.0-py2.py3-none-any.whl (58kB)\n",
            "\u001b[K     |████████████████████████████████| 61kB 10.1MB/s \n",
            "\u001b[?25hRequirement already satisfied: requests-oauthlib==1.3.0 in /usr/local/lib/python3.6/dist-packages (from -r /content/filler_detection/requirements.txt (line 43)) (1.3.0)\n",
            "Requirement already satisfied: rsa==4.0 in /usr/local/lib/python3.6/dist-packages (from -r /content/filler_detection/requirements.txt (line 44)) (4.0)\n",
            "Requirement already satisfied: scipy==1.4.1 in /usr/local/lib/python3.6/dist-packages (from -r /content/filler_detection/requirements.txt (line 45)) (1.4.1)\n",
            "Collecting six==1.14.0\n",
            "  Downloading https://files.pythonhosted.org/packages/65/eb/1f97cb97bfc2390a276969c6fae16075da282f5058082d4cb10c6c5c1dba/six-1.14.0-py2.py3-none-any.whl\n",
            "Requirement already satisfied: tensorboard==2.1.1 in /usr/local/lib/python3.6/dist-packages (from -r /content/filler_detection/requirements.txt (line 47)) (2.1.1)\n",
            "Collecting tensorflow==2.1.0\n",
            "\u001b[?25l  Downloading https://files.pythonhosted.org/packages/85/d4/c0cd1057b331bc38b65478302114194bd8e1b9c2bbc06e300935c0e93d90/tensorflow-2.1.0-cp36-cp36m-manylinux2010_x86_64.whl (421.8MB)\n",
            "\u001b[K     |████████████████████████████████| 421.8MB 33kB/s \n",
            "\u001b[?25hCollecting tensorflow-estimator==2.1.0\n",
            "\u001b[?25l  Downloading https://files.pythonhosted.org/packages/18/90/b77c328a1304437ab1310b463e533fa7689f4bfc41549593056d812fab8e/tensorflow_estimator-2.1.0-py2.py3-none-any.whl (448kB)\n",
            "\u001b[K     |████████████████████████████████| 450kB 54.0MB/s \n",
            "\u001b[?25hRequirement already satisfied: termcolor==1.1.0 in /usr/local/lib/python3.6/dist-packages (from -r /content/filler_detection/requirements.txt (line 50)) (1.1.0)\n",
            "Collecting tf-utils==1.0.4\n",
            "  Downloading https://files.pythonhosted.org/packages/bb/bf/f6800f5d34c2563849a900abaa8e8fdb44e859f9a45e45c35afcfd77d742/tf_utils-1.0.4-py3-none-any.whl\n",
            "Requirement already satisfied: traitlets==4.3.3 in /usr/local/lib/python3.6/dist-packages (from -r /content/filler_detection/requirements.txt (line 52)) (4.3.3)\n",
            "Collecting urllib3==1.25.8\n",
            "\u001b[?25l  Downloading https://files.pythonhosted.org/packages/e8/74/6e4f91745020f967d09332bb2b8b9b10090957334692eb88ea4afe91b77f/urllib3-1.25.8-py2.py3-none-any.whl (125kB)\n",
            "\u001b[K     |████████████████████████████████| 133kB 63.6MB/s \n",
            "\u001b[?25hCollecting wcwidth==0.1.8\n",
            "  Downloading https://files.pythonhosted.org/packages/58/b4/4850a0ccc6f567cc0ebe7060d20ffd4258b8210efadc259da62dc6ed9c65/wcwidth-0.1.8-py2.py3-none-any.whl\n",
            "Requirement already satisfied: Werkzeug==1.0.0 in /usr/local/lib/python3.6/dist-packages (from -r /content/filler_detection/requirements.txt (line 55)) (1.0.0)\n",
            "Requirement already satisfied: wrapt==1.12.1 in /usr/local/lib/python3.6/dist-packages (from -r /content/filler_detection/requirements.txt (line 56)) (1.12.1)\n",
            "Requirement already satisfied: setuptools>=40.3.0 in /usr/local/lib/python3.6/dist-packages (from google-auth==1.11.3->-r /content/filler_detection/requirements.txt (line 11)) (46.0.0)\n",
            "Requirement already satisfied: wheel>=0.26; python_version >= \"3\" in /usr/local/lib/python3.6/dist-packages (from tensorboard==2.1.1->-r /content/filler_detection/requirements.txt (line 47)) (0.34.2)\n",
            "Building wheels for collected packages: gast, PyYAML\n",
            "  Building wheel for gast (setup.py) ... \u001b[?25l\u001b[?25hdone\n",
            "  Created wheel for gast: filename=gast-0.2.2-cp36-none-any.whl size=7540 sha256=cf65c07b26eb0c7595b8541020b4224cf0229bf0e7d5a20d67df10eff44da1cb\n",
            "  Stored in directory: /root/.cache/pip/wheels/5c/2e/7e/a1d4d4fcebe6c381f378ce7743a3ced3699feb89bcfbdadadd\n",
            "  Building wheel for PyYAML (setup.py) ... \u001b[?25l\u001b[?25hdone\n",
            "  Created wheel for PyYAML: filename=PyYAML-5.3-cp36-cp36m-linux_x86_64.whl size=44229 sha256=2979e9b07545262d3fdb96dc43820d2ac67bdf4047cf88b13d67963e407c04a7\n",
            "  Stored in directory: /root/.cache/pip/wheels/e4/76/4d/a95b8dd7b452b69e8ed4f68b69e1b55e12c9c9624dd962b191\n",
            "Successfully built gast PyYAML\n",
            "\u001b[31mERROR: kaggle 1.5.6 has requirement urllib3<1.25,>=1.21.1, but you'll have urllib3 1.25.8 which is incompatible.\u001b[0m\n",
            "\u001b[31mERROR: jupyter-console 5.2.0 has requirement prompt-toolkit<2.0.0,>=1.0.0, but you'll have prompt-toolkit 3.0.4 which is incompatible.\u001b[0m\n",
            "\u001b[31mERROR: google-colab 1.0.0 has requirement google-auth~=1.7.2, but you'll have google-auth 1.11.3 which is incompatible.\u001b[0m\n",
            "\u001b[31mERROR: google-colab 1.0.0 has requirement ipython~=5.5.0, but you'll have ipython 7.13.0 which is incompatible.\u001b[0m\n",
            "\u001b[31mERROR: google-colab 1.0.0 has requirement requests~=2.21.0, but you'll have requests 2.23.0 which is incompatible.\u001b[0m\n",
            "\u001b[31mERROR: google-colab 1.0.0 has requirement six~=1.12.0, but you'll have six 1.14.0 which is incompatible.\u001b[0m\n",
            "\u001b[31mERROR: datascience 0.10.6 has requirement folium==0.2.1, but you'll have folium 0.8.3 which is incompatible.\u001b[0m\n",
            "\u001b[31mERROR: albumentations 0.1.12 has requirement imgaug<0.2.7,>=0.2.5, but you'll have imgaug 0.2.9 which is incompatible.\u001b[0m\n",
            "Installing collected packages: appnope, cachetools, gast, six, google-auth, idna, Pygments, wcwidth, prompt-toolkit, ipython, numpy, PyYAML, Keras, matplotlib, protobuf, pydub, urllib3, requests, tensorflow-estimator, tensorflow, tf-utils\n",
            "  Found existing installation: cachetools 3.1.1\n",
            "    Uninstalling cachetools-3.1.1:\n",
            "      Successfully uninstalled cachetools-3.1.1\n",
            "  Found existing installation: gast 0.3.3\n",
            "    Uninstalling gast-0.3.3:\n",
            "      Successfully uninstalled gast-0.3.3\n",
            "  Found existing installation: six 1.12.0\n",
            "    Uninstalling six-1.12.0:\n",
            "      Successfully uninstalled six-1.12.0\n",
            "  Found existing installation: google-auth 1.7.2\n",
            "    Uninstalling google-auth-1.7.2:\n",
            "      Successfully uninstalled google-auth-1.7.2\n",
            "  Found existing installation: idna 2.8\n",
            "    Uninstalling idna-2.8:\n",
            "      Successfully uninstalled idna-2.8\n",
            "  Found existing installation: Pygments 2.1.3\n",
            "    Uninstalling Pygments-2.1.3:\n",
            "      Successfully uninstalled Pygments-2.1.3\n",
            "  Found existing installation: wcwidth 0.1.9\n",
            "    Uninstalling wcwidth-0.1.9:\n",
            "      Successfully uninstalled wcwidth-0.1.9\n",
            "  Found existing installation: prompt-toolkit 1.0.18\n",
            "    Uninstalling prompt-toolkit-1.0.18:\n",
            "      Successfully uninstalled prompt-toolkit-1.0.18\n",
            "  Found existing installation: ipython 5.5.0\n",
            "    Uninstalling ipython-5.5.0:\n",
            "      Successfully uninstalled ipython-5.5.0\n",
            "  Found existing installation: numpy 1.18.2\n",
            "    Uninstalling numpy-1.18.2:\n",
            "      Successfully uninstalled numpy-1.18.2\n",
            "  Found existing installation: PyYAML 3.13\n",
            "    Uninstalling PyYAML-3.13:\n",
            "      Successfully uninstalled PyYAML-3.13\n",
            "  Found existing installation: Keras 2.2.5\n",
            "    Uninstalling Keras-2.2.5:\n",
            "      Successfully uninstalled Keras-2.2.5\n",
            "  Found existing installation: matplotlib 3.2.1\n",
            "    Uninstalling matplotlib-3.2.1:\n",
            "      Successfully uninstalled matplotlib-3.2.1\n",
            "  Found existing installation: protobuf 3.10.0\n",
            "    Uninstalling protobuf-3.10.0:\n",
            "      Successfully uninstalled protobuf-3.10.0\n",
            "  Found existing installation: urllib3 1.24.3\n",
            "    Uninstalling urllib3-1.24.3:\n",
            "      Successfully uninstalled urllib3-1.24.3\n",
            "  Found existing installation: requests 2.21.0\n",
            "    Uninstalling requests-2.21.0:\n",
            "      Successfully uninstalled requests-2.21.0\n",
            "  Found existing installation: tensorflow-estimator 2.2.0rc0\n",
            "    Uninstalling tensorflow-estimator-2.2.0rc0:\n",
            "      Successfully uninstalled tensorflow-estimator-2.2.0rc0\n",
            "  Found existing installation: tensorflow 2.2.0rc1\n",
            "    Uninstalling tensorflow-2.2.0rc1:\n",
            "      Successfully uninstalled tensorflow-2.2.0rc1\n",
            "Successfully installed Keras-2.3.1 PyYAML-5.3 Pygments-2.6.1 appnope-0.1.0 cachetools-4.0.0 gast-0.2.2 google-auth-1.11.3 idna-2.9 ipython-7.13.0 matplotlib-3.2.0 numpy-1.18.1 prompt-toolkit-3.0.4 protobuf-3.11.3 pydub-0.23.1 requests-2.23.0 six-1.14.0 tensorflow-2.1.0 tensorflow-estimator-2.1.0 tf-utils-1.0.4 urllib3-1.25.8 wcwidth-0.1.8\n"
          ],
          "name": "stdout"
        },
        {
          "output_type": "display_data",
          "data": {
            "application/vnd.colab-display-data+json": {
              "pip_warning": {
                "packages": [
                  "IPython",
                  "cachetools",
                  "google",
                  "idna",
                  "matplotlib",
                  "mpl_toolkits",
                  "numpy",
                  "prompt_toolkit",
                  "pygments",
                  "requests",
                  "six",
                  "urllib3",
                  "wcwidth"
                ]
              }
            }
          },
          "metadata": {
            "tags": []
          }
        }
      ]
    },
    {
      "cell_type": "markdown",
      "metadata": {
        "colab_type": "text",
        "id": "A7Hn1LtPRxZS"
      },
      "source": [
        "Importing and setting up env variables..."
      ]
    },
    {
      "cell_type": "code",
      "metadata": {
        "colab_type": "code",
        "id": "1rasqjnO6mAq",
        "colab": {}
      },
      "source": [
        "import numpy as np\n",
        "from pydub import AudioSegment\n",
        "from pydub.playback import play\n",
        "import random\n",
        "import sys\n",
        "import io\n",
        "import os\n",
        "import glob\n",
        "import IPython\n",
        "import wave\n",
        "import pylab\n",
        "from tf_utils import *\n",
        "import matplotlib.pyplot as plt\n",
        "from scipy import signal\n",
        "from scipy.io import wavfile\n",
        "import pickle\n",
        "\n",
        "# Import files for trigger-word detection model\n",
        "from keras.models import Model, load_model, Sequential\n",
        "from keras.layers import Dense, Activation, Dropout, Input, Masking, TimeDistributed, LSTM, Conv1D\n",
        "from keras.layers import GRU, Bidirectional, BatchNormalization, Reshape\n",
        "from keras.optimizers import Adam"
      ],
      "execution_count": 0,
      "outputs": []
    },
    {
      "cell_type": "code",
      "metadata": {
        "id": "tsvlLoY6J2Lf",
        "colab_type": "code",
        "colab": {}
      },
      "source": [
        "PROJ_PATH = '/content/drive/My Drive/filler_detection/'"
      ],
      "execution_count": 0,
      "outputs": []
    },
    {
      "cell_type": "markdown",
      "metadata": {
        "colab_type": "text",
        "id": "9eM15MVGR0eJ"
      },
      "source": [
        "The fun begins...\n",
        "## Model Loading"
      ]
    },
    {
      "cell_type": "markdown",
      "metadata": {
        "colab_type": "text",
        "id": "oEfBQCPhR2QQ"
      },
      "source": [
        "Sanity check for `Tx`, `n_freq`, `Ty`. \n",
        "\n",
        "1. Input into model `Tx` and `n_freq`\n",
        "2. Call `model.summary()`\n",
        "3. `Tx` of **sample** and variable = `input_7.shape[1]` (ie column 2, row 1, second element of array)\n",
        "4. `Ty` = `input_7.shape[1]` (ie column 2, row 2, second element of array)"
      ]
    },
    {
      "cell_type": "code",
      "metadata": {
        "colab_type": "code",
        "id": "mqW78CpL8sYH",
        "colab": {}
      },
      "source": [
        "Tx = 5490 # The number of time steps input to the model from the spectrogram\n",
        "n_freq = 129 # Number of frequencies input to the model at each time step of the spectrogram\n",
        "Ty = 1369 # The number of time steps in the output of our model"
      ],
      "execution_count": 0,
      "outputs": []
    },
    {
      "cell_type": "markdown",
      "metadata": {
        "colab_type": "text",
        "id": "-2szTzk7Eh01"
      },
      "source": [
        "### Load Pre-trained Model"
      ]
    },
    {
      "cell_type": "code",
      "metadata": {
        "id": "h6yHKxtvnvYX",
        "colab_type": "code",
        "outputId": "7057fd4d-d17f-45e2-aaa8-596977dcba33",
        "colab": {
          "base_uri": "https://localhost:8080/",
          "height": 612
        }
      },
      "source": [
        "model = load_model(PROJ_PATH + \"models/random_ratio_model.h5\") \n",
        "model.summary()"
      ],
      "execution_count": 17,
      "outputs": [
        {
          "output_type": "stream",
          "text": [
            "WARNING:tensorflow:Large dropout rate: 0.8 (>0.5). In TensorFlow 2.x, dropout() uses dropout rate instead of keep_prob. Please ensure that this is intended.\n",
            "Model: \"model_1\"\n",
            "_________________________________________________________________\n",
            "Layer (type)                 Output Shape              Param #   \n",
            "=================================================================\n",
            "input_1 (InputLayer)         (None, 5490, 129)         0         \n",
            "_________________________________________________________________\n",
            "conv1d_1 (Conv1D)            (None, 1369, 196)         379456    \n",
            "_________________________________________________________________\n",
            "batch_normalization_1 (Batch (None, 1369, 196)         784       \n",
            "_________________________________________________________________\n",
            "activation_1 (Activation)    (None, 1369, 196)         0         \n",
            "_________________________________________________________________\n",
            "dropout_1 (Dropout)          (None, 1369, 196)         0         \n",
            "_________________________________________________________________\n",
            "gru_1 (GRU)                  (None, 1369, 128)         124800    \n",
            "_________________________________________________________________\n",
            "dropout_2 (Dropout)          (None, 1369, 128)         0         \n",
            "_________________________________________________________________\n",
            "batch_normalization_2 (Batch (None, 1369, 128)         512       \n",
            "_________________________________________________________________\n",
            "gru_2 (GRU)                  (None, 1369, 128)         98688     \n",
            "_________________________________________________________________\n",
            "dropout_3 (Dropout)          (None, 1369, 128)         0         \n",
            "_________________________________________________________________\n",
            "batch_normalization_3 (Batch (None, 1369, 128)         512       \n",
            "_________________________________________________________________\n",
            "dropout_4 (Dropout)          (None, 1369, 128)         0         \n",
            "_________________________________________________________________\n",
            "time_distributed_1 (TimeDist (None, 1369, 1)           129       \n",
            "=================================================================\n",
            "Total params: 604,881\n",
            "Trainable params: 603,977\n",
            "Non-trainable params: 904\n",
            "_________________________________________________________________\n"
          ],
          "name": "stdout"
        }
      ]
    },
    {
      "cell_type": "markdown",
      "metadata": {
        "colab_type": "text",
        "id": "uEezPsKZEnUh"
      },
      "source": [
        "### Create New Model (if not pre-trained)"
      ]
    },
    {
      "cell_type": "code",
      "metadata": {
        "colab_type": "code",
        "id": "b54E5A1c8pSh",
        "colab": {}
      },
      "source": [
        "from keras.initializers import RandomNormal\n",
        "\n",
        "# GRADED FUNCTION: model\n",
        "\n",
        "def create_model(input_shape, output_bias=None):\n",
        "    \"\"\"\n",
        "    Function creating the model's graph in Keras library.\n",
        "    \n",
        "    Argument:\n",
        "    input_shape -- shape of the model's input data (using Keras conventions)\n",
        "    \n",
        "    Returns:\n",
        "    model -- Keras model instance\n",
        "    \"\"\"\n",
        "    \n",
        "    X_input = Input(shape = input_shape)\n",
        "    \n",
        "    # Step 1: CONV Layer\n",
        "    # CONV-1D\n",
        "    X = Conv1D(filters=196, kernel_size=15, strides=4)(X_input)\n",
        "    # Batch Normalization\n",
        "    X = BatchNormalization()(X)\n",
        "    # RelU activation\n",
        "    X = Activation(\"relu\")(X)\n",
        "    # Dropout (using rate 0.8)\n",
        "    X = Dropout(rate=0.8)(X)\n",
        "    \n",
        "    # Step 2: First GRU Layer\n",
        "    # GRU (use 128 units to return the sequences)\n",
        "    X = GRU(units=128, return_sequences=True)(X)\n",
        "    # Dropout (using rate 0.8)\n",
        "    X = Dropout(rate=0.8)(X)\n",
        "    # Batch Normalization\n",
        "    X = BatchNormalization()(X)\n",
        "    \n",
        "    # Step 3: Second GRU Layer\n",
        "    # GRU (use 128 units to return the sequences)\n",
        "    X = GRU(units=128, return_sequences=True)(X)\n",
        "    # Dropout (using rate 0.8)\n",
        "    X = Dropout(rate=0.8)(X)\n",
        "    # Batch Normalization\n",
        "    X = BatchNormalization()(X)\n",
        "    # Dropout (using rate 0.8)\n",
        "    X = Dropout(rate=0.8)(X)\n",
        "    \n",
        "    # Step 4: Time-distributed dense layer\n",
        "    if output_bias != None: \n",
        "        bias_initializer = RandomNormal(mean=output_bias) \n",
        "    else: \n",
        "        bias_initializer = \"zeros\"\n",
        "    X = TimeDistributed(Dense(1, activation=\"sigmoid\", bias_initializer= bias_initializer))(X)\n",
        "    \n",
        "    # Return model\n",
        "    model = Model(inputs = [X_input], outputs = X)\n",
        "    return model"
      ],
      "execution_count": 0,
      "outputs": []
    },
    {
      "cell_type": "code",
      "metadata": {
        "colab_type": "code",
        "id": "D3Sfny3t78rK",
        "outputId": "30ddbf52-1228-454b-c6f0-47cea7ca11f3",
        "colab": {
          "base_uri": "https://localhost:8080/",
          "height": 663
        }
      },
      "source": [
        "model = create_model(input_shape = (Tx, n_freq), output_bias = None)\n",
        "model.summary()"
      ],
      "execution_count": 8,
      "outputs": [
        {
          "output_type": "stream",
          "text": [
            "WARNING:tensorflow:Large dropout rate: 0.8 (>0.5). In TensorFlow 2.x, dropout() uses dropout rate instead of keep_prob. Please ensure that this is intended.\n",
            "WARNING:tensorflow:Large dropout rate: 0.8 (>0.5). In TensorFlow 2.x, dropout() uses dropout rate instead of keep_prob. Please ensure that this is intended.\n",
            "WARNING:tensorflow:Large dropout rate: 0.8 (>0.5). In TensorFlow 2.x, dropout() uses dropout rate instead of keep_prob. Please ensure that this is intended.\n",
            "WARNING:tensorflow:Large dropout rate: 0.8 (>0.5). In TensorFlow 2.x, dropout() uses dropout rate instead of keep_prob. Please ensure that this is intended.\n",
            "Model: \"model_1\"\n",
            "_________________________________________________________________\n",
            "Layer (type)                 Output Shape              Param #   \n",
            "=================================================================\n",
            "input_1 (InputLayer)         (None, 5490, 129)         0         \n",
            "_________________________________________________________________\n",
            "conv1d_1 (Conv1D)            (None, 1369, 196)         379456    \n",
            "_________________________________________________________________\n",
            "batch_normalization_1 (Batch (None, 1369, 196)         784       \n",
            "_________________________________________________________________\n",
            "activation_1 (Activation)    (None, 1369, 196)         0         \n",
            "_________________________________________________________________\n",
            "dropout_1 (Dropout)          (None, 1369, 196)         0         \n",
            "_________________________________________________________________\n",
            "gru_1 (GRU)                  (None, 1369, 128)         124800    \n",
            "_________________________________________________________________\n",
            "dropout_2 (Dropout)          (None, 1369, 128)         0         \n",
            "_________________________________________________________________\n",
            "batch_normalization_2 (Batch (None, 1369, 128)         512       \n",
            "_________________________________________________________________\n",
            "gru_2 (GRU)                  (None, 1369, 128)         98688     \n",
            "_________________________________________________________________\n",
            "dropout_3 (Dropout)          (None, 1369, 128)         0         \n",
            "_________________________________________________________________\n",
            "batch_normalization_3 (Batch (None, 1369, 128)         512       \n",
            "_________________________________________________________________\n",
            "dropout_4 (Dropout)          (None, 1369, 128)         0         \n",
            "_________________________________________________________________\n",
            "time_distributed_1 (TimeDist (None, 1369, 1)           129       \n",
            "=================================================================\n",
            "Total params: 604,881\n",
            "Trainable params: 603,977\n",
            "Non-trainable params: 904\n",
            "_________________________________________________________________\n"
          ],
          "name": "stdout"
        }
      ]
    },
    {
      "cell_type": "markdown",
      "metadata": {
        "colab_type": "text",
        "id": "owDLV1UyENRt"
      },
      "source": [
        "## Model Training"
      ]
    },
    {
      "cell_type": "code",
      "metadata": {
        "colab_type": "code",
        "id": "UYzGhjq78vL-",
        "colab": {}
      },
      "source": [
        "# Function to fit and further train the model. Returns history (check documentation of `model.fit` for more details).\n",
        "def model_train(model, X, Y, X_dev, Y_dev):\n",
        "    \"\"\"\n",
        "    Function to train the model further using Adam optimiser and binary \n",
        "    cross entropy loss.\n",
        "    \n",
        "    Arguments:\n",
        "    model -- Model to train\n",
        "    X -- X data to train on\n",
        "    Y -- Y data to train on\n",
        "    \"\"\"\n",
        "    \n",
        "    opt = Adam(lr=0.001, beta_1=0.9, beta_2=0.999, decay=0.01)\n",
        "    model.compile(loss='binary_crossentropy', optimizer=opt, metrics=['accuracy'])\n",
        "    \n",
        "    history = model.fit(X, Y, batch_size=50, epochs=100, validation_data=(X_dev, Y_dev))\n",
        "    return history"
      ],
      "execution_count": 0,
      "outputs": []
    },
    {
      "cell_type": "code",
      "metadata": {
        "id": "uHf7t1TjLvnl",
        "colab_type": "code",
        "outputId": "fb73da88-bdf3-4ea7-e659-58d0f936dd4a",
        "colab": {
          "base_uri": "https://localhost:8080/",
          "height": 34
        }
      },
      "source": [
        "X = np.load(PROJ_PATH + \"data/small/train/X_1.npy\")\n",
        "Y = np.load(PROJ_PATH + \"data/small/train/Y_1.npy\")\n",
        "print(\"X: {} Y: {}\".format(X.shape, Y.shape))"
      ],
      "execution_count": 28,
      "outputs": [
        {
          "output_type": "stream",
          "text": [
            "X: (50, 5490, 129) Y: (50, 1369, 1)\n"
          ],
          "name": "stdout"
        }
      ]
    },
    {
      "cell_type": "code",
      "metadata": {
        "id": "t7x8yCWQPSCh",
        "colab_type": "code",
        "outputId": "1aa0cfc8-d990-425d-d25f-e24ebb833292",
        "colab": {
          "base_uri": "https://localhost:8080/",
          "height": 34
        }
      },
      "source": [
        "X_dev = np.load(PROJ_PATH + \"data/small/dev/X_1.npy\")\n",
        "Y_dev = np.load(PROJ_PATH + \"data/small/dev/Y_1.npy\")\n",
        "print(\"X: {} Y: {}\".format(X_dev.shape, Y_dev.shape))"
      ],
      "execution_count": 29,
      "outputs": [
        {
          "output_type": "stream",
          "text": [
            "X: (15, 5490, 129) Y: (15, 1369, 1)\n"
          ],
          "name": "stdout"
        }
      ]
    },
    {
      "cell_type": "code",
      "metadata": {
        "colab_type": "code",
        "id": "0Z7c9Pha8wkw",
        "outputId": "6b358f38-6083-41a3-c5c4-5185d3fc5bf0",
        "colab": {
          "base_uri": "https://localhost:8080/",
          "height": 391
        }
      },
      "source": [
        "model_filename = \"CHANGE HISTORY FILENAME\"\n",
        "history_filename = \"CHANGE MODEL FILENAME\"\n",
        "\n",
        "history = model_train(model, X, Y, X_dev, Y_dev)\n",
        "\n",
        "# Save model\n",
        "model.save(PROJ_PATH + f\"models/{model_filename}.h5\")\n",
        "print(\"model saved!\")\n",
        "\n",
        "# Save history\n",
        "with open(PROJ_PATH + f'models/history/{history_filename}', 'wb') as file_pi:\n",
        "    pickle.dump(history.history, file_pi)\n",
        "print(\"history saved!\")"
      ],
      "execution_count": 34,
      "outputs": [
        {
          "output_type": "stream",
          "text": [
            "Train on 50 samples, validate on 15 samples\n",
            "Epoch 1/10\n",
            "50/50 [==============================] - 6s 126ms/step - loss: 0.3001 - accuracy: 0.9093 - val_loss: 0.3063 - val_accuracy: 0.9057\n",
            "Epoch 2/10\n",
            "50/50 [==============================] - 5s 94ms/step - loss: 0.3026 - accuracy: 0.9089 - val_loss: 0.2982 - val_accuracy: 0.9061\n",
            "Epoch 3/10\n",
            "50/50 [==============================] - 5s 93ms/step - loss: 0.3016 - accuracy: 0.9091 - val_loss: 0.2963 - val_accuracy: 0.9061\n",
            "Epoch 4/10\n",
            "50/50 [==============================] - 5s 94ms/step - loss: 0.3020 - accuracy: 0.9094 - val_loss: 0.2976 - val_accuracy: 0.9061\n",
            "Epoch 5/10\n",
            "50/50 [==============================] - 5s 91ms/step - loss: 0.3013 - accuracy: 0.9090 - val_loss: 0.3010 - val_accuracy: 0.9056\n",
            "Epoch 6/10\n",
            "50/50 [==============================] - 5s 90ms/step - loss: 0.3019 - accuracy: 0.9090 - val_loss: 0.3018 - val_accuracy: 0.9053\n",
            "Epoch 7/10\n",
            "50/50 [==============================] - 5s 97ms/step - loss: 0.3002 - accuracy: 0.9092 - val_loss: 0.2991 - val_accuracy: 0.9054\n",
            "Epoch 8/10\n",
            "50/50 [==============================] - 5s 100ms/step - loss: 0.2968 - accuracy: 0.9093 - val_loss: 0.2968 - val_accuracy: 0.9057\n",
            "Epoch 9/10\n",
            "50/50 [==============================] - 5s 95ms/step - loss: 0.2989 - accuracy: 0.9092 - val_loss: 0.2966 - val_accuracy: 0.9057\n",
            "Epoch 10/10\n",
            "50/50 [==============================] - 5s 93ms/step - loss: 0.2998 - accuracy: 0.9094 - val_loss: 0.2990 - val_accuracy: 0.9052\n",
            "model saved!\n"
          ],
          "name": "stdout"
        }
      ]
    },
    {
      "cell_type": "markdown",
      "metadata": {
        "colab_type": "text",
        "id": "36S02j3ZEHaB"
      },
      "source": [
        "## Model Evaluation Tools\n",
        "1. Metrics (accuracy, f1, precision, recall). \n",
        "2. Visualising model's prediction\n",
        "3. Visualising `Y.npy` to know where the ones are inserted.\n",
        "4. Plot of metrics against epochs"
      ]
    },
    {
      "cell_type": "code",
      "metadata": {
        "colab_type": "code",
        "id": "6W2RaaAM85_Q",
        "outputId": "074fa1e4-9bc7-4127-97fb-f4086864e445",
        "scrolled": true,
        "colab": {
          "base_uri": "https://localhost:8080/",
          "height": 34
        }
      },
      "source": [
        "X_test = np.load(PROJ_PATH + \"data/dev/cont_X.npy\")\n",
        "Y_test = np.load(PROJ_PATH + \"data/dev/cont_Y.npy\")\n",
        "print(\"X: {} Y: {}\".format(X_test.shape, Y_test.shape))"
      ],
      "execution_count": 18,
      "outputs": [
        {
          "output_type": "stream",
          "text": [
            "X: (25, 5490, 129) Y: (25, 1369, 1)\n"
          ],
          "name": "stdout"
        }
      ]
    },
    {
      "cell_type": "markdown",
      "metadata": {
        "id": "LxjxLRvdCF0G",
        "colab_type": "text"
      },
      "source": [
        "### Plot of metrics against epochs"
      ]
    },
    {
      "cell_type": "code",
      "metadata": {
        "id": "fA84Xkm5-Ddb",
        "colab_type": "code",
        "outputId": "1e0beaf8-bbaf-402a-e123-1e237fd5acda",
        "colab": {
          "base_uri": "https://localhost:8080/",
          "height": 573
        }
      },
      "source": [
        "# Load history CHANGE HISTORY PATH HERE\n",
        "history_filename = \"REPLACE FILENAME\"\n",
        "history = pickle.load(open(PROJ_PATH +f'models/history/{history_filename}', \"rb\"))\n",
        "\n",
        "# Plot training & validation accuracy values\n",
        "plt.plot(history['accuracy'])\n",
        "plt.plot(history['val_accuracy'])\n",
        "plt.title('Model accuracy')\n",
        "plt.ylabel('Accuracy')\n",
        "plt.xlabel('Epoch')\n",
        "plt.legend(['Train', 'Test'], loc='upper left')\n",
        "plt.show()\n",
        "\n",
        "# Plot training & validation loss values\n",
        "plt.plot(history['loss'])\n",
        "plt.plot(history['val_loss'])\n",
        "plt.title('Model loss')\n",
        "plt.ylabel('Loss')\n",
        "plt.xlabel('Epoch')\n",
        "plt.legend(['Train', 'Test'], loc='upper left')\n",
        "plt.show()"
      ],
      "execution_count": 44,
      "outputs": [
        {
          "output_type": "display_data",
          "data": {
            "image/png": "[encoded data removed]",
            "text/plain": [
              "<Figure size 432x288 with 1 Axes>"
            ]
          },
          "metadata": {
            "tags": []
          }
        },
        {
          "output_type": "display_data",
          "data": {
            "image/png": "[encoded data removed]",
            "text/plain": [
              "<Figure size 432x288 with 1 Axes>"
            ]
          },
          "metadata": {
            "tags": []
          }
        }
      ]
    },
    {
      "cell_type": "markdown",
      "metadata": {
        "id": "Plm76s9Bewbi",
        "colab_type": "text"
      },
      "source": [
        "### Outputs accuracy, F1 score, precision, recall scores"
      ]
    },
    {
      "cell_type": "code",
      "metadata": {
        "id": "rKfvIuGq7W7N",
        "colab_type": "code",
        "colab": {}
      },
      "source": [
        "from sklearn.metrics import f1_score, recall_score, precision_score, accuracy_score\n",
        "\n",
        "# Evaluates the model on the test sets based on accuracy, precision, recall, and f1 score.\n",
        "def evaluate_model(model, X_test, Y_test, threshold=0.5):\n",
        "    # predict probabilities for dev set\n",
        "    Y_predict = model.predict(X_test, verbose=0)\n",
        "    # Applying sigmoid onto prediction of probabilities in order to use f-score\n",
        "    Y_predict = np.where(Y_predict > 0.3, 1, 0)\n",
        "\n",
        "    # flatten array in order to use fscore\n",
        "    Y_test_flattened = Y_test.flatten()\n",
        "    Y_predict_flattened = Y_predict.flatten()\n",
        "\n",
        "    # accuracy: (tp + tn) / (p + n)\n",
        "    accuracy = accuracy_score(Y_test_flattened, Y_predict_flattened)\n",
        "    print('Accuracy: %f' % accuracy)\n",
        "    # precision tp / (tp + fp)\n",
        "    precision = precision_score(Y_test_flattened, Y_predict_flattened)\n",
        "    print('Precision: %f' % precision)\n",
        "    # recall: tp / (tp + fn)\n",
        "    recall = recall_score(Y_test_flattened, Y_predict_flattened)\n",
        "    print('Recall: %f' % recall)\n",
        "    # f1: 2 tp / (2 tp + fp + fn)\n",
        "    f1 = f1_score(Y_test_flattened, Y_predict_flattened)\n",
        "    print('F1 score: %f' % f1)"
      ],
      "execution_count": 0,
      "outputs": []
    },
    {
      "cell_type": "markdown",
      "metadata": {
        "id": "NIYTgYnuGGlC",
        "colab_type": "text"
      },
      "source": [
        "Plots model's prediction for each `Ty` step for the `%index` example"
      ]
    },
    {
      "cell_type": "code",
      "metadata": {
        "id": "snTPi4pg9UpC",
        "colab_type": "code",
        "colab": {}
      },
      "source": [
        "# visualises model's prediction on the %index example of training input X.\n",
        "def visualize_prediction(model, X, index=0):\n",
        "    Y_predict = model.predict(X, verbose=0)\n",
        "\n",
        "    plt.subplot(2, 1, 2)\n",
        "    plt.plot(Y_predict[index,:,0])\n",
        "    plt.ylabel('probability')\n",
        "    plt.show()"
      ],
      "execution_count": 0,
      "outputs": []
    },
    {
      "cell_type": "markdown",
      "metadata": {
        "id": "c_dH8fSwfyKh",
        "colab_type": "text"
      },
      "source": [
        "Plots `Ty` for the `%index` example"
      ]
    },
    {
      "cell_type": "code",
      "metadata": {
        "id": "IRRP11zlfo1y",
        "colab_type": "code",
        "colab": {}
      },
      "source": [
        "def plot_Y(Y, index=0):\n",
        "    plt.plot(Y[index])"
      ],
      "execution_count": 0,
      "outputs": []
    },
    {
      "cell_type": "code",
      "metadata": {
        "id": "4GEswPXMOF81",
        "colab_type": "code",
        "outputId": "d02e95c0-f27c-40a8-b025-cae1d8048f60",
        "colab": {
          "base_uri": "https://localhost:8080/",
          "height": 139
        }
      },
      "source": [
        "evaluate_model(model, X_test, Y_test)"
      ],
      "execution_count": 22,
      "outputs": [
        {
          "output_type": "stream",
          "text": [
            "Accuracy: 0.954711\n",
            "Precision: 0.000000\n",
            "Recall: 0.000000\n",
            "F1 score: 0.000000\n"
          ],
          "name": "stdout"
        },
        {
          "output_type": "stream",
          "text": [
            "/usr/local/lib/python3.6/dist-packages/sklearn/metrics/_classification.py:1272: UndefinedMetricWarning: Precision is ill-defined and being set to 0.0 due to no predicted samples. Use `zero_division` parameter to control this behavior.\n",
            "  _warn_prf(average, modifier, msg_start, len(result))\n"
          ],
          "name": "stderr"
        }
      ]
    },
    {
      "cell_type": "code",
      "metadata": {
        "id": "YGdLi2c3JGnR",
        "colab_type": "code",
        "outputId": "288e651f-ff5e-4f2b-a00d-440692134ae2",
        "colab": {
          "base_uri": "https://localhost:8080/",
          "height": 265
        }
      },
      "source": [
        "plot_Y(Y_test, 0)"
      ],
      "execution_count": 23,
      "outputs": [
        {
          "output_type": "display_data",
          "data": {
            "image/png": "[encoded data removed]",
            "text/plain": [
              "<Figure size 432x288 with 1 Axes>"
            ]
          },
          "metadata": {
            "tags": []
          }
        }
      ]
    },
    {
      "cell_type": "code",
      "metadata": {
        "id": "viZmisCNI9bE",
        "colab_type": "code",
        "outputId": "172112d0-54f0-404b-fc20-a2e9297a7ad6",
        "colab": {
          "base_uri": "https://localhost:8080/",
          "height": 150
        }
      },
      "source": [
        "visualize_prediction(model, X_test, 10)"
      ],
      "execution_count": 24,
      "outputs": [
        {
          "output_type": "display_data",
          "data": {
            "image/png": "[encoded data removed]",
            "text/plain": [
              "<Figure size 432x288 with 1 Axes>"
            ]
          },
          "metadata": {
            "tags": []
          }
        }
      ]
    },
    {
      "cell_type": "markdown",
      "metadata": {
        "id": "ZGwQ9AS6RRxQ",
        "colab_type": "text"
      },
      "source": [
        "## Saving the model"
      ]
    },
    {
      "cell_type": "code",
      "metadata": {
        "id": "VpMIfZQRRRDM",
        "colab_type": "code",
        "colab": {}
      },
      "source": [
        "model.save(PROJ_PATH + \"models/please_save_me.h5\")"
      ],
      "execution_count": 0,
      "outputs": []
    },
    {
      "cell_type": "markdown",
      "metadata": {
        "id": "pRMwSS97OLGr",
        "colab_type": "text"
      },
      "source": [
        "## [Doesn't work] Confirming that the bias fix helps\n"
      ]
    },
    {
      "cell_type": "code",
      "metadata": {
        "id": "JLoO6fdVOOzO",
        "colab_type": "code",
        "outputId": "535442da-45ee-441f-944f-8aa68db16581",
        "colab": {
          "base_uri": "https://localhost:8080/",
          "height": 105
        }
      },
      "source": [
        "zero_bias_model = create_model(input_shape = (Tx, n_freq), output_bias = None)\n",
        "model_train(model, X, Y, X_dev, Y_dev)"
      ],
      "execution_count": 0,
      "outputs": [
        {
          "output_type": "stream",
          "text": [
            "Train on 100 samples, validate on 50 samples\n",
            "Epoch 1/1\n",
            "100/100 [==============================] - 109s 1s/step - loss: 1.0449 - val_loss: 0.6329\n"
          ],
          "name": "stdout"
        },
        {
          "output_type": "execute_result",
          "data": {
            "text/plain": [
              "<keras.callbacks.callbacks.History at 0x7f5eb964ccf8>"
            ]
          },
          "metadata": {
            "tags": []
          },
          "execution_count": 225
        }
      ]
    },
    {
      "cell_type": "code",
      "metadata": {
        "id": "4fvrigkdOt8C",
        "colab_type": "code",
        "outputId": "b035d42d-1a31-4a72-ccad-23f0bfb2fef2",
        "colab": {
          "base_uri": "https://localhost:8080/",
          "height": 105
        }
      },
      "source": [
        "careful_bias_model = create_model(input_shape = (Tx, n_freq), output_bias = initial_bias)\n",
        "model_train(model, X, Y, X_dev, Y_dev)"
      ],
      "execution_count": 0,
      "outputs": [
        {
          "output_type": "stream",
          "text": [
            "Train on 100 samples, validate on 50 samples\n",
            "Epoch 1/1\n",
            "100/100 [==============================] - 106s 1s/step - loss: 0.9929 - val_loss: 0.6188\n"
          ],
          "name": "stdout"
        },
        {
          "output_type": "execute_result",
          "data": {
            "text/plain": [
              "<keras.callbacks.callbacks.History at 0x7f5eb5dd9e80>"
            ]
          },
          "metadata": {
            "tags": []
          },
          "execution_count": 227
        }
      ]
    },
    {
      "cell_type": "code",
      "metadata": {
        "id": "dywik-bMXMIH",
        "colab_type": "code",
        "outputId": "3a7e6887-569c-4245-9dea-a3174cd5f3ad",
        "colab": {
          "base_uri": "https://localhost:8080/",
          "height": 207
        }
      },
      "source": [
        "evaluate_model(zero_bias_model, X_test, Y_test, 0.3)\n",
        "evaluate_model(careful_bias_model, X_test, Y_test, 0.3)"
      ],
      "execution_count": 0,
      "outputs": [
        {
          "output_type": "stream",
          "text": [
            "Accuracy: 0.256947\n",
            "Precision: 0.036460\n",
            "Recall: 0.777778\n",
            "F1 score: 0.069654\n",
            "Accuracy: 0.964237\n",
            "Precision: 0.000000\n",
            "Recall: 0.000000\n",
            "F1 score: 0.000000\n"
          ],
          "name": "stdout"
        },
        {
          "output_type": "stream",
          "text": [
            "/usr/local/lib/python3.6/dist-packages/sklearn/metrics/_classification.py:1272: UndefinedMetricWarning: Precision is ill-defined and being set to 0.0 due to no predicted samples. Use `zero_division` parameter to control this behavior.\n",
            "  _warn_prf(average, modifier, msg_start, len(result))\n"
          ],
          "name": "stderr"
        }
      ]
    },
    {
      "cell_type": "code",
      "metadata": {
        "id": "2u60EpQtdgPE",
        "colab_type": "code",
        "outputId": "802576cd-eb02-48c8-bfdb-a12575421d76",
        "colab": {
          "base_uri": "https://localhost:8080/",
          "height": 164
        }
      },
      "source": [
        "visualize_prediction(model, X_test)"
      ],
      "execution_count": 0,
      "outputs": [
        {
          "output_type": "error",
          "ename": "NameError",
          "evalue": "ignored",
          "traceback": [
            "\u001b[0;31m---------------------------------------------------------------------------\u001b[0m",
            "\u001b[0;31mNameError\u001b[0m                                 Traceback (most recent call last)",
            "\u001b[0;32m<ipython-input-1-e743a7508c41>\u001b[0m in \u001b[0;36m<module>\u001b[0;34m()\u001b[0m\n\u001b[0;32m----> 1\u001b[0;31m \u001b[0mvisualize_prediction\u001b[0m\u001b[0;34m(\u001b[0m\u001b[0mmodel\u001b[0m\u001b[0;34m,\u001b[0m \u001b[0mX_test\u001b[0m\u001b[0;34m)\u001b[0m\u001b[0;34m\u001b[0m\u001b[0;34m\u001b[0m\u001b[0m\n\u001b[0m",
            "\u001b[0;31mNameError\u001b[0m: name 'visualize_prediction' is not defined"
          ]
        }
      ]
    },
    {
      "cell_type": "code",
      "metadata": {
        "id": "jrLCu-jWdo-z",
        "colab_type": "code",
        "outputId": "cd3c3321-6962-4ae1-d5fa-aa882e4e7843",
        "colab": {
          "base_uri": "https://localhost:8080/",
          "height": 282
        }
      },
      "source": [
        "plt.plot(Y_test[0]) # TODO: add into evaluation tools"
      ],
      "execution_count": 0,
      "outputs": [
        {
          "output_type": "execute_result",
          "data": {
            "text/plain": [
              "[<matplotlib.lines.Line2D at 0x7f0165b69a90>]"
            ]
          },
          "metadata": {
            "tags": []
          },
          "execution_count": 17
        },
        {
          "output_type": "display_data",
          "data": {
            "image/png": "[encoded data removed]",
            "text/plain": [
              "<Figure size 432x288 with 1 Axes>"
            ]
          },
          "metadata": {
            "tags": []
          }
        }
      ]
    },
    {
      "cell_type": "code",
      "metadata": {
        "id": "-zPszFjfdcoC",
        "colab_type": "code",
        "outputId": "837e88d3-cb07-4cfc-9861-b1b0178e21aa",
        "colab": {
          "base_uri": "https://localhost:8080/",
          "height": 85
        }
      },
      "source": [
        "evaluate_model(model, X_test, Y_test, 0.5)"
      ],
      "execution_count": 0,
      "outputs": [
        {
          "output_type": "stream",
          "text": [
            "Accuracy: 0.289730\n",
            "Precision: 0.166278\n",
            "Recall: 0.962681\n",
            "F1 score: 0.283575\n"
          ],
          "name": "stdout"
        }
      ]
    },
    {
      "cell_type": "markdown",
      "metadata": {
        "id": "lJgwdZNKbYyF",
        "colab_type": "text"
      },
      "source": [
        "Notice how there is only one sharp peak in the `careful_bias_model` but many sharp peaks in `zero_bias_model`"
      ]
    },
    {
      "cell_type": "code",
      "metadata": {
        "id": "s_aPp2kWaPl4",
        "colab_type": "code",
        "outputId": "a9d597c2-b2d7-458e-b423-d535d01f4df8",
        "colab": {
          "base_uri": "https://localhost:8080/",
          "height": 292
        }
      },
      "source": [
        "visualize_prediction(careful_bias_model, X_test)"
      ],
      "execution_count": 0,
      "outputs": [
        {
          "output_type": "display_data",
          "data": {
            "image/png": "[encoded data removed]",
            "text/plain": [
              "<Figure size 864x720 with 1 Axes>"
            ]
          },
          "metadata": {
            "tags": []
          }
        }
      ]
    },
    {
      "cell_type": "code",
      "metadata": {
        "id": "uVn3N1mhaTk2",
        "colab_type": "code",
        "outputId": "e5f187f9-7703-4ebd-f1ce-25d0b15b58ea",
        "colab": {
          "base_uri": "https://localhost:8080/",
          "height": 294
        }
      },
      "source": [
        "visualize_prediction(zero_bias_model, X_test)"
      ],
      "execution_count": 0,
      "outputs": [
        {
          "output_type": "display_data",
          "data": {
            "image/png": "[encoded data removed]",
            "text/plain": [
              "<Figure size 864x720 with 1 Axes>"
            ]
          },
          "metadata": {
            "tags": []
          }
        }
      ]
    },
    {
      "cell_type": "code",
      "metadata": {
        "id": "DV8XoPf_c7qx",
        "colab_type": "code",
        "outputId": "d34fcfa3-467c-492e-dcae-591f2dfddd6e",
        "colab": {
          "base_uri": "https://localhost:8080/",
          "height": 609
        }
      },
      "source": [
        "plt.plot(Y_test[0]) "
      ],
      "execution_count": 0,
      "outputs": [
        {
          "output_type": "execute_result",
          "data": {
            "text/plain": [
              "[<matplotlib.lines.Line2D at 0x7f5eb95fee80>]"
            ]
          },
          "metadata": {
            "tags": []
          },
          "execution_count": 231
        },
        {
          "output_type": "display_data",
          "data": {
            "image/png": "[encoded data removed]",
            "text/plain": [
              "<Figure size 864x720 with 1 Axes>"
            ]
          },
          "metadata": {
            "tags": []
          }
        }
      ]
    },
    {
      "cell_type": "markdown",
      "metadata": {
        "id": "7Itc4LKmGZa5",
        "colab_type": "text"
      },
      "source": [
        "[Can delete the code below since `model.evaluate` is redundant now; it does not use metrics we want (ie f score)]"
      ]
    },
    {
      "cell_type": "code",
      "metadata": {
        "id": "YVvPoblB6t-f",
        "colab_type": "code",
        "colab": {}
      },
      "source": [
        "# For colab\n",
        "# Function to test the model on new data\n",
        "def model_test(model, X_dev, Y_dev):\n",
        "    loss, acc = model.evaluate(X_dev, Y_dev)\n",
        "    print(\"Dev set accuracy = \", acc)"
      ],
      "execution_count": 0,
      "outputs": []
    },
    {
      "cell_type": "code",
      "metadata": {
        "colab_type": "code",
        "id": "F6uTgE6187gq",
        "outputId": "d43109ef-2ac4-4815-b9ac-2251ee27f5a1",
        "colab": {
          "base_uri": "https://localhost:8080/",
          "height": 51
        }
      },
      "source": [
        "model_test(model, X_dev, Y_dev)"
      ],
      "execution_count": 0,
      "outputs": [
        {
          "output_type": "stream",
          "text": [
            "50/50 [==============================] - 8s 164ms/step\n",
            "Dev set accuracy =  0.9633309245109558\n"
          ],
          "name": "stdout"
        }
      ]
    },
    {
      "cell_type": "code",
      "metadata": {
        "colab_type": "code",
        "id": "DXPZrQlw_JDA",
        "colab": {}
      },
      "source": [
        "X_11 = np.load(\"/content/drive/My Drive/filler_detection/train_data/dev_npy/cont_11X.npy\")\n",
        "Y_11 = np.load(\"/content/drive/My Drive/filler_detection/train_data/dev_npy/cont_11Y.npy\")\n",
        "print(\"X: {} Y: {}\".format(X_11.shape, Y_11.shape))\n",
        "\n",
        "X_12 = np.load(\"/content/drive/My Drive/filler_detection/train_data/dev_npy/cont_12X.npy\")\n",
        "Y_12 = np.load(\"/content/drive/My Drive/filler_detection/train_data/dev_npy/cont_12Y.npy\")\n",
        "print(\"X: {} Y: {}\".format(X_12.shape, Y_12.shape))\n",
        "\n",
        "X_13 = np.load(\"/content/drive/My Drive/filler_detection/train_data/dev_npy/cont_13X.npy\")\n",
        "Y_13 = np.load(\"/content/drive/My Drive/filler_detection/train_data/dev_npy/cont_13Y.npy\")\n",
        "print(\"X: {} Y: {}\".format(X_13.shape, Y_13.shape))\n",
        "\n",
        "X_14 = np.load(\"/content/drive/My Drive/filler_detection/train_data/dev_npy/cont_14X.npy\")\n",
        "Y_14 = np.load(\"/content/drive/My Drive/filler_detection/train_data/dev_npy/cont_14Y.npy\")\n",
        "print(\"X: {} Y: {}\".format(X_14.shape, Y_14.shape))\n",
        "\n",
        "\n",
        "\n",
        "\n",
        "\n",
        "\n"
      ],
      "execution_count": 0,
      "outputs": []
    },
    {
      "cell_type": "code",
      "metadata": {
        "colab_type": "code",
        "id": "RuZi1Ghj_I0S",
        "colab": {}
      },
      "source": [
        "model_test(model, X_11, Y_11)\n",
        "model_test(model, X_12, Y_12)\n",
        "model_test(model, X_13, Y_13)\n",
        "model_test(model, X_14, Y_14)"
      ],
      "execution_count": 0,
      "outputs": []
    },
    {
      "cell_type": "code",
      "metadata": {
        "colab_type": "code",
        "id": "lo6H0xFiu-Bq",
        "colab": {}
      },
      "source": [
        "list_of_dev_ids = [11,12,13,14,20,21,22,23,24,30,31,32,33,34,35,36,37,38,39,310,40,41,42,43,44]\n",
        "for id in list_of_dev_ids:\n",
        "    X_id = np.load(\"/content/drive/My Drive/filler_detection/train_data/dev_npy/cont_\" + str(id) + \"X.npy\")\n",
        "\n",
        "    Y_id = np.load(\"/content/drive/My Drive/filler_detection/train_data/dev_npy/cont_\" + str(id) + \"Y.npy\")\n",
        "    print((\"X\" + str(id) + \": {} Y\" + str(id) + \": {}\").format(X_id.shape, Y_id.shape))\n",
        "    model_test(model, X_id, Y_id)\n",
        "\n",
        "model_test(model, X_11, Y_11)\n"
      ],
      "execution_count": 0,
      "outputs": []
    },
    {
      "cell_type": "code",
      "metadata": {
        "colab_type": "code",
        "id": "G828z31mLeyT",
        "colab": {}
      },
      "source": [
        "# Preprocess the audio to the correct format\n",
        "def preprocess_audio(filename):\n",
        "    print(\"PREPROCESSING...\")\n",
        "    # Trim or pad audio segment to 10000ms\n",
        "    padding = AudioSegment.silent(duration=10000)\n",
        "    segment = AudioSegment.from_wav(filename)[:10000]\n",
        "    segment = padding.overlay(segment)\n",
        "    # Set frame rate to 123000\n",
        "    segment = segment.set_channels(1)\n",
        "    segment = segment.set_frame_rate(123000)\n",
        "    # Export as wav\n",
        "    segment.export(filename, format='wav')"
      ],
      "execution_count": 0,
      "outputs": []
    },
    {
      "cell_type": "code",
      "metadata": {
        "colab_type": "code",
        "id": "o5a7eolILjXR",
        "colab": {}
      },
      "source": [
        "def detect_triggerword(filename):\n",
        "    \"\"\"\n",
        "    Function to take filename and generate a prediction vector.\n",
        "    \n",
        "    Argument:\n",
        "    filename -- Audio file to run prediction on\n",
        "    \n",
        "    Returns:\n",
        "    predictions -- Prediction vector with probabilities\n",
        "    \"\"\"\n",
        "    \n",
        "    sample_rate, samples = wavfile.read(filename)\n",
        "    _, _, x = signal.spectrogram(samples, sample_rate)\n",
        "    print(x.shape)\n",
        "    \n",
        "    # the spectrogram outputs (freqs, Tx) and we want (Tx, freqs) to input into the model\n",
        "    x  = x.swapaxes(0,1)\n",
        "    x = np.expand_dims(x, axis=0)\n",
        "    \n",
        "    predictions = model.predict(x)\n",
        "    return predictions"
      ],
      "execution_count": 0,
      "outputs": []
    },
    {
      "cell_type": "code",
      "metadata": {
        "colab_type": "code",
        "id": "MPGSTQg3LlTB",
        "colab": {}
      },
      "source": [
        "def count_filler_word(filename, threshold):\n",
        "    \"\"\"\n",
        "    Function to count the number of times trigger word spoken in audio.\n",
        "    \n",
        "    Arguments:\n",
        "    filename -- Audio file to run prediction on\n",
        "    threshold -- Probability above which trigger word considered present\n",
        "    \"\"\"\n",
        "\n",
        "    preprocess_audio(filename)\n",
        "    audio_clip = AudioSegment.from_wav(filename)\n",
        "    chime = AudioSegment.from_wav(CHIME_FILE)\n",
        "    predictions = detect_triggerword(filename)\n",
        "    Ty = predictions.shape[1]\n",
        "    \n",
        "    # Step 1: Initialize the number of consecutive output steps to 0\n",
        "    consecutive_timesteps = 0\n",
        "    # Step 2: Loop over the output steps in the y\n",
        "    for i in range(Ty):\n",
        "        # Step 3: Increment consecutive output steps\n",
        "        consecutive_timesteps += 1\n",
        "        # Step 4: If prediction is higher than the threshold and more than 75 consecutive output steps have passed\n",
        "        if predictions[0,i,0] > threshold and consecutive_timesteps > 75:\n",
        "            # Step 5: Superpose audio and background using pydub\n",
        "            audio_clip = audio_clip.overlay(chime, position = ((i / Ty) * audio_clip.duration_seconds)*1000)\n",
        "            # Step 6: Reset consecutive output steps to 0\n",
        "            consecutive_timesteps = 0\n",
        "        \n",
        "    audio_clip.export(\"chime_output.wav\", format='wav')"
      ],
      "execution_count": 0,
      "outputs": []
    },
    {
      "cell_type": "code",
      "metadata": {
        "colab_type": "code",
        "id": "V1pHL08ULqdB",
        "outputId": "d5b5930a-5f89-4372-d11c-5db91169f821",
        "colab": {
          "base_uri": "https://localhost:8080/",
          "height": 52
        }
      },
      "source": [
        "count_filler_word('./Test_2.wav', 0.4)"
      ],
      "execution_count": 0,
      "outputs": [
        {
          "output_type": "stream",
          "text": [
            "PREPROCESSING...\n",
            "(129, 5490)\n"
          ],
          "name": "stdout"
        }
      ]
    },
    {
      "cell_type": "code",
      "metadata": {
        "colab_type": "code",
        "id": "N8ArRym8MOXd",
        "colab": {}
      },
      "source": [
        ""
      ],
      "execution_count": 0,
      "outputs": []
    }
  ]
}