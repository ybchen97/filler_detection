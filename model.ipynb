{
  "nbformat": 4,
  "nbformat_minor": 0,
  "metadata": {
    "accelerator": "GPU",
    "colab": {
      "name": "model.ipynb",
      "provenance": [],
      "toc_visible": true,
      "machine_shape": "hm",
      "include_colab_link": true
    },
    "kernelspec": {
      "display_name": "Python 3",
      "language": "python",
      "name": "python3"
    },
    "language_info": {
      "codemirror_mode": {
        "name": "ipython",
        "version": 3
      },
      "file_extension": ".py",
      "mimetype": "text/x-python",
      "name": "python",
      "nbconvert_exporter": "python",
      "pygments_lexer": "ipython3",
      "version": "3.7.7"
    }
  },
  "cells": [
    {
      "cell_type": "markdown",
      "metadata": {
        "id": "view-in-github",
        "colab_type": "text"
      },
      "source": [
        "<a href=\"https://colab.research.google.com/github/ybchen97/filler_detection/blob/master/model.ipynb\" target=\"_parent\"><img src=\"https://colab.research.google.com/assets/colab-badge.svg\" alt=\"Open In Colab\"/></a>"
      ]
    },
    {
      "cell_type": "markdown",
      "metadata": {
        "colab_type": "text",
        "id": "my6I-6tlRSuK"
      },
      "source": [
        "# Model"
      ]
    },
    {
      "cell_type": "markdown",
      "metadata": {
        "colab_type": "text",
        "id": "bAbmFvBVRXtY"
      },
      "source": [
        "Syncing from google drive and github... for more info on this code, refer [here](https://zerowithdot.com/colab-github-workflow/)"
      ]
    },
    {
      "cell_type": "code",
      "metadata": {
        "colab_type": "code",
        "id": "W_uF7CGdfZzs",
        "outputId": "ba72177d-8f22-45bf-8221-3139d1caba12",
        "colab": {
          "base_uri": "https://localhost:8080/",
          "height": 54
        }
      },
      "source": [
        "from google.colab import drive\n",
        "from os.path import join\n",
        "\n",
        "ROOT = '/content/drive'     # default for the drive\n",
        "\n",
        "drive.mount(ROOT)           # we mount the drive at /content/drive"
      ],
      "execution_count": 15,
      "outputs": [
        {
          "output_type": "stream",
          "text": [
            "Drive already mounted at /content/drive; to attempt to forcibly remount, call drive.mount(\"/content/drive\", force_remount=True).\n"
          ],
          "name": "stdout"
        }
      ]
    },
    {
      "cell_type": "code",
      "metadata": {
        "colab_type": "code",
        "id": "FO4R_OEE3LSV",
        "outputId": "45e0518a-55da-438b-bafd-53258d61e2d9",
        "colab": {
          "base_uri": "https://localhost:8080/",
          "height": 158
        }
      },
      "source": [
        "GIT_PATH = \"https://github.com/ybchen97/filler_detection.git\"\n",
        "!mkdir ./temp\n",
        "!git clone \"{GIT_PATH}\"\n",
        "!mv ./temp/* \"{PROJECT_PATH}\"\n",
        "!rm -rf ./temp"
      ],
      "execution_count": 0,
      "outputs": [
        {
          "output_type": "stream",
          "text": [
            "Cloning into 'filler_detection'...\n",
            "remote: Enumerating objects: 101, done.\u001b[K\n",
            "remote: Counting objects:   0% (1/101)\u001b[K\rremote: Counting objects:   1% (2/101)\u001b[K\rremote: Counting objects:   2% (3/101)\u001b[K\rremote: Counting objects:   3% (4/101)\u001b[K\rremote: Counting objects:   4% (5/101)\u001b[K\rremote: Counting objects:   5% (6/101)\u001b[K\rremote: Counting objects:   6% (7/101)\u001b[K\rremote: Counting objects:   7% (8/101)\u001b[K\rremote: Counting objects:   8% (9/101)\u001b[K\rremote: Counting objects:   9% (10/101)\u001b[K\rremote: Counting objects:  10% (11/101)\u001b[K\rremote: Counting objects:  11% (12/101)\u001b[K\rremote: Counting objects:  12% (13/101)\u001b[K\rremote: Counting objects:  13% (14/101)\u001b[K\rremote: Counting objects:  14% (15/101)\u001b[K\rremote: Counting objects:  15% (16/101)\u001b[K\rremote: Counting objects:  16% (17/101)\u001b[K\rremote: Counting objects:  17% (18/101)\u001b[K\rremote: Counting objects:  18% (19/101)\u001b[K\rremote: Counting objects:  19% (20/101)\u001b[K\rremote: Counting objects:  20% (21/101)\u001b[K\rremote: Counting objects:  21% (22/101)\u001b[K\rremote: Counting objects:  22% (23/101)\u001b[K\rremote: Counting objects:  23% (24/101)\u001b[K\rremote: Counting objects:  24% (25/101)\u001b[K\rremote: Counting objects:  25% (26/101)\u001b[K\rremote: Counting objects:  26% (27/101)\u001b[K\rremote: Counting objects:  27% (28/101)\u001b[K\rremote: Counting objects:  28% (29/101)\u001b[K\rremote: Counting objects:  29% (30/101)\u001b[K\rremote: Counting objects:  30% (31/101)\u001b[K\rremote: Counting objects:  31% (32/101)\u001b[K\rremote: Counting objects:  32% (33/101)\u001b[K\rremote: Counting objects:  33% (34/101)\u001b[K\rremote: Counting objects:  34% (35/101)\u001b[K\rremote: Counting objects:  35% (36/101)\u001b[K\rremote: Counting objects:  36% (37/101)\u001b[K\rremote: Counting objects:  37% (38/101)\u001b[K\rremote: Counting objects:  38% (39/101)\u001b[K\rremote: Counting objects:  39% (40/101)\u001b[K\rremote: Counting objects:  40% (41/101)\u001b[K\rremote: Counting objects:  41% (42/101)\u001b[K\rremote: Counting objects:  42% (43/101)\u001b[K\rremote: Counting objects:  43% (44/101)\u001b[K\rremote: Counting objects:  44% (45/101)\u001b[K\rremote: Counting objects:  45% (46/101)\u001b[K\rremote: Counting objects:  46% (47/101)\u001b[K\rremote: Counting objects:  47% (48/101)\u001b[K\rremote: Counting objects:  48% (49/101)\u001b[K\rremote: Counting objects:  49% (50/101)\u001b[K\rremote: Counting objects:  50% (51/101)\u001b[K\rremote: Counting objects:  51% (52/101)\u001b[K\rremote: Counting objects:  52% (53/101)\u001b[K\rremote: Counting objects:  53% (54/101)\u001b[K\rremote: Counting objects:  54% (55/101)\u001b[K\rremote: Counting objects:  55% (56/101)\u001b[K\rremote: Counting objects:  56% (57/101)\u001b[K\rremote: Counting objects:  57% (58/101)\u001b[K\rremote: Counting objects:  58% (59/101)\u001b[K\rremote: Counting objects:  59% (60/101)\u001b[K\rremote: Counting objects:  60% (61/101)\u001b[K\rremote: Counting objects:  61% (62/101)\u001b[K\rremote: Counting objects:  62% (63/101)\u001b[K\rremote: Counting objects:  63% (64/101)\u001b[K\rremote: Counting objects:  64% (65/101)\u001b[K\rremote: Counting objects:  65% (66/101)\u001b[K\rremote: Counting objects:  66% (67/101)\u001b[K\rremote: Counting objects:  67% (68/101)\u001b[K\rremote: Counting objects:  68% (69/101)\u001b[K\rremote: Counting objects:  69% (70/101)\u001b[K\rremote: Counting objects:  70% (71/101)\u001b[K\rremote: Counting objects:  71% (72/101)\u001b[K\rremote: Counting objects:  72% (73/101)\u001b[K\rremote: Counting objects:  73% (74/101)\u001b[K\rremote: Counting objects:  74% (75/101)\u001b[K\rremote: Counting objects:  75% (76/101)\u001b[K\rremote: Counting objects:  76% (77/101)\u001b[K\rremote: Counting objects:  77% (78/101)\u001b[K\rremote: Counting objects:  78% (79/101)\u001b[K\rremote: Counting objects:  79% (80/101)\u001b[K\rremote: Counting objects:  80% (81/101)\u001b[K\rremote: Counting objects:  81% (82/101)\u001b[K\rremote: Counting objects:  82% (83/101)\u001b[K\rremote: Counting objects:  83% (84/101)\u001b[K\rremote: Counting objects:  84% (85/101)\u001b[K\rremote: Counting objects:  85% (86/101)\u001b[K\rremote: Counting objects:  86% (87/101)\u001b[K\rremote: Counting objects:  87% (88/101)\u001b[K\rremote: Counting objects:  88% (89/101)\u001b[K\rremote: Counting objects:  89% (90/101)\u001b[K\rremote: Counting objects:  90% (91/101)\u001b[K\rremote: Counting objects:  91% (92/101)\u001b[K\rremote: Counting objects:  92% (93/101)\u001b[K\rremote: Counting objects:  93% (94/101)\u001b[K\rremote: Counting objects:  94% (95/101)\u001b[K\rremote: Counting objects:  95% (96/101)\u001b[K\rremote: Counting objects:  96% (97/101)\u001b[K\rremote: Counting objects:  97% (98/101)\u001b[K\rremote: Counting objects:  98% (99/101)\u001b[K\rremote: Counting objects:  99% (100/101)\u001b[K\rremote: Counting objects: 100% (101/101)\u001b[K\rremote: Counting objects: 100% (101/101), done.\u001b[K\n",
            "remote: Compressing objects: 100% (82/82), done.\u001b[K\n",
            "remote: Total 4988 (delta 60), reused 35 (delta 19), pack-reused 4887\u001b[K\n",
            "Receiving objects: 100% (4988/4988), 841.63 MiB | 15.46 MiB/s, done.\n",
            "Resolving deltas: 100% (506/506), done.\n",
            "mv: cannot stat './temp/*': No such file or directory\n"
          ],
          "name": "stdout"
        }
      ]
    },
    {
      "cell_type": "markdown",
      "metadata": {
        "colab_type": "text",
        "id": "qa4hVHm5RouU"
      },
      "source": [
        "Install packages in this local notebook specified in requirements.txt"
      ]
    },
    {
      "cell_type": "code",
      "metadata": {
        "colab_type": "code",
        "id": "E3SSCyXL8lBb",
        "outputId": "6743c97d-d234-4e15-ac03-1312013823c5",
        "colab": {
          "base_uri": "https://localhost:8080/",
          "height": 1000
        }
      },
      "source": [
        "!pip install -r '/content/filler_detection/requirements.txt'"
      ],
      "execution_count": 0,
      "outputs": [
        {
          "output_type": "stream",
          "text": [
            "Requirement already satisfied: absl-py==0.9.0 in /usr/local/lib/python3.6/dist-packages (from -r /content/filler_detection/requirements.txt (line 1)) (0.9.0)\n",
            "Collecting appdirs==1.4.3\n",
            "  Downloading https://files.pythonhosted.org/packages/56/eb/810e700ed1349edde4cbdc1b2a21e28cdf115f9faf263f6bbf8447c1abf3/appdirs-1.4.3-py2.py3-none-any.whl\n",
            "Collecting appnope==0.1.0\n",
            "  Downloading https://files.pythonhosted.org/packages/87/a9/7985e6a53402f294c8f0e8eff3151a83f1fb901fa92909bb3ff29b4d22af/appnope-0.1.0-py2.py3-none-any.whl\n",
            "Collecting astetik==1.9.9\n",
            "  Downloading https://files.pythonhosted.org/packages/3c/ba/f8622951da73d9b47b45bb847112c388651f9c6e413e712954f260301d9f/astetik-1.9.9.tar.gz\n",
            "Requirement already satisfied: astor==0.8.1 in /usr/local/lib/python3.6/dist-packages (from -r /content/filler_detection/requirements.txt (line 5)) (0.8.1)\n",
            "Collecting astroid==2.2.5\n",
            "\u001b[?25l  Downloading https://files.pythonhosted.org/packages/d5/ad/7221a62a2dbce5c3b8c57fd18e1052c7331adc19b3f27f1561aa6e620db2/astroid-2.2.5-py3-none-any.whl (193kB)\n",
            "\u001b[K     |████████████████████████████████| 194kB 6.1MB/s \n",
            "\u001b[?25hRequirement already satisfied: attrs==19.3.0 in /usr/local/lib/python3.6/dist-packages (from -r /content/filler_detection/requirements.txt (line 7)) (19.3.0)\n",
            "Collecting autopep8==1.4.4\n",
            "\u001b[?25l  Downloading https://files.pythonhosted.org/packages/45/f3/24b437da561b6af4840c871fbbda32889ca304fc1f7b6cc3ada8b09f394a/autopep8-1.4.4.tar.gz (114kB)\n",
            "\u001b[K     |████████████████████████████████| 122kB 21.4MB/s \n",
            "\u001b[?25hRequirement already satisfied: backcall==0.1.0 in /usr/local/lib/python3.6/dist-packages (from -r /content/filler_detection/requirements.txt (line 9)) (0.1.0)\n",
            "Requirement already satisfied: bleach==3.1.4 in /usr/local/lib/python3.6/dist-packages (from -r /content/filler_detection/requirements.txt (line 10)) (3.1.4)\n",
            "Collecting cachetools==4.0.0\n",
            "  Downloading https://files.pythonhosted.org/packages/08/6a/abf83cb951617793fd49c98cb9456860f5df66ff89883c8660aa0672d425/cachetools-4.0.0-py3-none-any.whl\n",
            "Collecting certifi==2019.11.28\n",
            "\u001b[?25l  Downloading https://files.pythonhosted.org/packages/b9/63/df50cac98ea0d5b006c55a399c3bf1db9da7b5a24de7890bc9cfd5dd9e99/certifi-2019.11.28-py2.py3-none-any.whl (156kB)\n",
            "\u001b[K     |████████████████████████████████| 163kB 19.4MB/s \n",
            "\u001b[?25hCollecting chances==0.1.9\n",
            "  Downloading https://files.pythonhosted.org/packages/fa/d8/d61112d7476dc3074b855f1edd8556cde9b49b7106853f0b060109dd4c82/chances-0.1.9.tar.gz\n",
            "Requirement already satisfied: chardet==3.0.4 in /usr/local/lib/python3.6/dist-packages (from -r /content/filler_detection/requirements.txt (line 14)) (3.0.4)\n",
            "Requirement already satisfied: cycler==0.10.0 in /usr/local/lib/python3.6/dist-packages (from -r /content/filler_detection/requirements.txt (line 15)) (0.10.0)\n",
            "Requirement already satisfied: decorator==4.4.2 in /usr/local/lib/python3.6/dist-packages (from -r /content/filler_detection/requirements.txt (line 16)) (4.4.2)\n",
            "Requirement already satisfied: defusedxml==0.6.0 in /usr/local/lib/python3.6/dist-packages (from -r /content/filler_detection/requirements.txt (line 17)) (0.6.0)\n",
            "Collecting distlib==0.3.0\n",
            "\u001b[?25l  Downloading https://files.pythonhosted.org/packages/7d/29/694a3a4d7c0e1aef76092e9167fbe372e0f7da055f5dcf4e1313ec21d96a/distlib-0.3.0.zip (571kB)\n",
            "\u001b[K     |████████████████████████████████| 573kB 19.6MB/s \n",
            "\u001b[?25hRequirement already satisfied: entrypoints==0.3 in /usr/local/lib/python3.6/dist-packages (from -r /content/filler_detection/requirements.txt (line 19)) (0.3)\n",
            "Collecting essential-generators==0.9.2\n",
            "\u001b[?25l  Downloading https://files.pythonhosted.org/packages/59/b1/979b823497488e5f13c9070fcd6a2e24f6d9c6fd5398e0fbeccc8158bd3b/essential_generators-0.9.2-py3-none-any.whl (9.5MB)\n",
            "\u001b[K     |████████████████████████████████| 9.5MB 10.6MB/s \n",
            "\u001b[?25hRequirement already satisfied: filelock==3.0.12 in /usr/local/lib/python3.6/dist-packages (from -r /content/filler_detection/requirements.txt (line 21)) (3.0.12)\n",
            "Collecting gast==0.2.2\n",
            "  Downloading https://files.pythonhosted.org/packages/4e/35/11749bf99b2d4e3cceb4d55ca22590b0d7c2c62b9de38ac4a4a7f4687421/gast-0.2.2.tar.gz\n",
            "Collecting geonamescache==1.1.0\n",
            "\u001b[?25l  Downloading https://files.pythonhosted.org/packages/32/c1/efb823270c8526b2f4f3eb8c804c5a0a55277267ad2312f5eb47bd9cc370/geonamescache-1.1.0-py3-none-any.whl (830kB)\n",
            "\u001b[K     |████████████████████████████████| 839kB 57.9MB/s \n",
            "\u001b[?25hRequirement already satisfied: google-api-core==1.16.0 in /usr/local/lib/python3.6/dist-packages (from -r /content/filler_detection/requirements.txt (line 24)) (1.16.0)\n",
            "Collecting google-auth==1.11.3\n",
            "\u001b[?25l  Downloading https://files.pythonhosted.org/packages/f7/f8/2da482a6165ef3f28d52faf8c2ca31628129a84a294033eb399ef500e265/google_auth-1.11.3-py2.py3-none-any.whl (76kB)\n",
            "\u001b[K     |████████████████████████████████| 81kB 11.2MB/s \n",
            "\u001b[?25hRequirement already satisfied: google-auth-oauthlib==0.4.1 in /usr/local/lib/python3.6/dist-packages (from -r /content/filler_detection/requirements.txt (line 26)) (0.4.1)\n",
            "Collecting google-cloud-texttospeech==1.0.1\n",
            "\u001b[?25l  Downloading https://files.pythonhosted.org/packages/26/31/775c5ef2e4be346f822f80818cae6000ea7bd352685e5c32736e6c190983/google_cloud_texttospeech-1.0.1-py2.py3-none-any.whl (50kB)\n",
            "\u001b[K     |████████████████████████████████| 51kB 8.1MB/s \n",
            "\u001b[?25hRequirement already satisfied: google-pasta==0.2.0 in /usr/local/lib/python3.6/dist-packages (from -r /content/filler_detection/requirements.txt (line 28)) (0.2.0)\n",
            "Requirement already satisfied: googleapis-common-protos==1.51.0 in /usr/local/lib/python3.6/dist-packages (from -r /content/filler_detection/requirements.txt (line 29)) (1.51.0)\n",
            "Collecting grpcio==1.27.2\n",
            "\u001b[?25l  Downloading https://files.pythonhosted.org/packages/28/df/1f8a284a5e5819ae07d50bd76996d6f7208afef7533e4896fa1c6445574f/grpcio-1.27.2-cp36-cp36m-manylinux2010_x86_64.whl (2.7MB)\n",
            "\u001b[K     |████████████████████████████████| 2.7MB 59.6MB/s \n",
            "\u001b[?25hRequirement already satisfied: h5py==2.10.0 in /usr/local/lib/python3.6/dist-packages (from -r /content/filler_detection/requirements.txt (line 31)) (2.10.0)\n",
            "Collecting idna==2.9\n",
            "\u001b[?25l  Downloading https://files.pythonhosted.org/packages/89/e3/afebe61c546d18fb1709a61bee788254b40e736cff7271c7de5de2dc4128/idna-2.9-py2.py3-none-any.whl (58kB)\n",
            "\u001b[K     |████████████████████████████████| 61kB 9.2MB/s \n",
            "\u001b[?25hCollecting importlib-metadata==1.5.0\n",
            "  Downloading https://files.pythonhosted.org/packages/8b/03/a00d504808808912751e64ccf414be53c29cad620e3de2421135fcae3025/importlib_metadata-1.5.0-py2.py3-none-any.whl\n",
            "Collecting ipykernel==5.1.4\n",
            "\u001b[?25l  Downloading https://files.pythonhosted.org/packages/d7/62/d1a5d654b7a21bd3eb99be1b59a608cc18a7a08ed88495457a87c40a0495/ipykernel-5.1.4-py3-none-any.whl (116kB)\n",
            "\u001b[K     |████████████████████████████████| 122kB 60.8MB/s \n",
            "\u001b[?25hCollecting ipython==7.13.0\n",
            "\u001b[?25l  Downloading https://files.pythonhosted.org/packages/61/6f/69f1eec859ce48a86660529b166b6ea466f0f4ab98e4fc0807b835aa22c6/ipython-7.13.0-py3-none-any.whl (780kB)\n",
            "\u001b[K     |████████████████████████████████| 788kB 65.2MB/s \n",
            "\u001b[?25hRequirement already satisfied: ipython-genutils==0.2.0 in /usr/local/lib/python3.6/dist-packages (from -r /content/filler_detection/requirements.txt (line 36)) (0.2.0)\n",
            "Requirement already satisfied: ipywidgets==7.5.1 in /usr/local/lib/python3.6/dist-packages (from -r /content/filler_detection/requirements.txt (line 37)) (7.5.1)\n",
            "Collecting isort==4.3.21\n",
            "\u001b[?25l  Downloading https://files.pythonhosted.org/packages/e5/b0/c121fd1fa3419ea9bfd55c7f9c4fedfec5143208d8c7ad3ce3db6c623c21/isort-4.3.21-py2.py3-none-any.whl (42kB)\n",
            "\u001b[K     |████████████████████████████████| 51kB 8.7MB/s \n",
            "\u001b[?25hCollecting jedi==0.16.0\n",
            "\u001b[?25l  Downloading https://files.pythonhosted.org/packages/01/67/333e2196b70840f411fd819407b4e98aa3150c2bd24c52154a451f912ef2/jedi-0.16.0-py2.py3-none-any.whl (1.1MB)\n",
            "\u001b[K     |████████████████████████████████| 1.1MB 74.0MB/s \n",
            "\u001b[?25hCollecting Jinja2==2.11.1\n",
            "\u001b[?25l  Downloading https://files.pythonhosted.org/packages/27/24/4f35961e5c669e96f6559760042a55b9bcfcdb82b9bdb3c8753dbe042e35/Jinja2-2.11.1-py2.py3-none-any.whl (126kB)\n",
            "\u001b[K     |████████████████████████████████| 133kB 75.2MB/s \n",
            "\u001b[?25hRequirement already satisfied: joblib==0.14.1 in /usr/local/lib/python3.6/dist-packages (from -r /content/filler_detection/requirements.txt (line 41)) (0.14.1)\n",
            "Collecting jsonschema==3.2.0\n",
            "\u001b[?25l  Downloading https://files.pythonhosted.org/packages/c5/8f/51e89ce52a085483359217bc72cdbf6e75ee595d5b1d4b5ade40c7e018b8/jsonschema-3.2.0-py2.py3-none-any.whl (56kB)\n",
            "\u001b[K     |████████████████████████████████| 61kB 9.7MB/s \n",
            "\u001b[?25hCollecting jupyter-client==6.0.0\n",
            "\u001b[?25l  Downloading https://files.pythonhosted.org/packages/40/75/4c4eb43749e59db3c1c7932b50eaf8c4b8219b1b5644fe379ea796f8dbe5/jupyter_client-6.0.0-py3-none-any.whl (104kB)\n",
            "\u001b[K     |████████████████████████████████| 112kB 74.8MB/s \n",
            "\u001b[?25hCollecting jupyter-console==6.1.0\n",
            "  Downloading https://files.pythonhosted.org/packages/0a/89/742fa5a80b552ffcb6a8922712697c6e6828aee7b91ee4ae2b79f00f8401/jupyter_console-6.1.0-py2.py3-none-any.whl\n",
            "Requirement already satisfied: jupyter-core==4.6.3 in /usr/local/lib/python3.6/dist-packages (from -r /content/filler_detection/requirements.txt (line 45)) (4.6.3)\n",
            "Requirement already satisfied: Keras==2.3.1 in /usr/local/lib/python3.6/dist-packages (from -r /content/filler_detection/requirements.txt (line 46)) (2.3.1)\n",
            "Requirement already satisfied: Keras-Applications==1.0.8 in /usr/local/lib/python3.6/dist-packages (from -r /content/filler_detection/requirements.txt (line 47)) (1.0.8)\n",
            "Requirement already satisfied: Keras-Preprocessing==1.1.0 in /usr/local/lib/python3.6/dist-packages (from -r /content/filler_detection/requirements.txt (line 48)) (1.1.0)\n",
            "Collecting kerasplotlib==0.1.6\n",
            "  Downloading https://files.pythonhosted.org/packages/7b/b7/31663d3b5ea9afd8c2c6ffa06d3c4e118ef363e12dc75b7c49fb6a2d22aa/kerasplotlib-0.1.6.tar.gz\n",
            "Collecting kiwisolver==1.1.0\n",
            "\u001b[?25l  Downloading https://files.pythonhosted.org/packages/f8/a1/5742b56282449b1c0968197f63eae486eca2c35dcd334bab75ad524e0de1/kiwisolver-1.1.0-cp36-cp36m-manylinux1_x86_64.whl (90kB)\n",
            "\u001b[K     |████████████████████████████████| 92kB 11.8MB/s \n",
            "\u001b[?25hCollecting lazy-object-proxy==1.4.1\n",
            "\u001b[?25l  Downloading https://files.pythonhosted.org/packages/1a/2a/d73b99e9407be3acd7c0328fcc44bcf6f5c42e6d03d1fb192032c0057d13/lazy_object_proxy-1.4.1-cp36-cp36m-manylinux1_x86_64.whl (49kB)\n",
            "\u001b[K     |████████████████████████████████| 51kB 8.0MB/s \n",
            "\u001b[?25hRequirement already satisfied: Markdown==3.2.1 in /usr/local/lib/python3.6/dist-packages (from -r /content/filler_detection/requirements.txt (line 52)) (3.2.1)\n",
            "Requirement already satisfied: MarkupSafe==1.1.1 in /usr/local/lib/python3.6/dist-packages (from -r /content/filler_detection/requirements.txt (line 53)) (1.1.1)\n",
            "Collecting matplotlib==3.2.0\n",
            "\u001b[?25l  Downloading https://files.pythonhosted.org/packages/e6/fc/5889757c4c70c552f56fddc8fbdcab565475686cdebdfa1806a9d54cd53b/matplotlib-3.2.0-cp36-cp36m-manylinux1_x86_64.whl (12.4MB)\n",
            "\u001b[K     |████████████████████████████████| 12.4MB 238kB/s \n",
            "\u001b[?25hCollecting mccabe==0.6.1\n",
            "  Downloading https://files.pythonhosted.org/packages/87/89/479dc97e18549e21354893e4ee4ef36db1d237534982482c3681ee6e7b57/mccabe-0.6.1-py2.py3-none-any.whl\n",
            "Requirement already satisfied: mistune==0.8.4 in /usr/local/lib/python3.6/dist-packages (from -r /content/filler_detection/requirements.txt (line 56)) (0.8.4)\n",
            "Collecting Naked==0.1.31\n",
            "\u001b[?25l  Downloading https://files.pythonhosted.org/packages/02/36/b8107b51adca73402ec1860d88f41d958e275e60eea6eeaa9c39ddb89a40/Naked-0.1.31-py2.py3-none-any.whl (590kB)\n",
            "\u001b[K     |████████████████████████████████| 593kB 69.0MB/s \n",
            "\u001b[?25hRequirement already satisfied: nbconvert==5.6.1 in /usr/local/lib/python3.6/dist-packages (from -r /content/filler_detection/requirements.txt (line 58)) (5.6.1)\n",
            "Collecting nbformat==5.0.4\n",
            "\u001b[?25l  Downloading https://files.pythonhosted.org/packages/ac/eb/de575b7a64e7ab8d8c95e4c180ccc36deda3f1379186c4ee7adf6c2f1586/nbformat-5.0.4-py3-none-any.whl (169kB)\n",
            "\u001b[K     |████████████████████████████████| 174kB 55.8MB/s \n",
            "\u001b[?25hCollecting notebook==6.0.3\n",
            "\u001b[?25l  Downloading https://files.pythonhosted.org/packages/b1/f1/0a67f09ef53a342403ffa66646ee39273e0ac79ffa5de5dbe2f3e28b5bdf/notebook-6.0.3-py3-none-any.whl (9.7MB)\n",
            "\u001b[K     |████████████████████████████████| 9.7MB 59.5MB/s \n",
            "\u001b[?25hCollecting numpy==1.18.1\n",
            "\u001b[?25l  Downloading https://files.pythonhosted.org/packages/62/20/4d43e141b5bc426ba38274933ef8e76e85c7adea2c321ecf9ebf7421cedf/numpy-1.18.1-cp36-cp36m-manylinux1_x86_64.whl (20.1MB)\n",
            "\u001b[K     |████████████████████████████████| 20.2MB 1.3MB/s \n",
            "\u001b[?25hRequirement already satisfied: oauthlib==3.1.0 in /usr/local/lib/python3.6/dist-packages (from -r /content/filler_detection/requirements.txt (line 62)) (3.1.0)\n",
            "Collecting opt-einsum==3.2.0\n",
            "\u001b[?25l  Downloading https://files.pythonhosted.org/packages/b2/49/2233e63052d5686c72131b579837ddfb98ba9dd0b92bb91efcb441ada8ce/opt_einsum-3.2.0-py3-none-any.whl (63kB)\n",
            "\u001b[K     |████████████████████████████████| 71kB 9.5MB/s \n",
            "\u001b[?25hRequirement already satisfied: pandas==1.0.3 in /usr/local/lib/python3.6/dist-packages (from -r /content/filler_detection/requirements.txt (line 64)) (1.0.3)\n",
            "Requirement already satisfied: pandocfilters==1.4.2 in /usr/local/lib/python3.6/dist-packages (from -r /content/filler_detection/requirements.txt (line 65)) (1.4.2)\n",
            "Collecting parso==0.6.2\n",
            "\u001b[?25l  Downloading https://files.pythonhosted.org/packages/da/15/888f80e429a971d3838124adde705d7b07650aa3a59f4db07d61f653b8cd/parso-0.6.2-py2.py3-none-any.whl (97kB)\n",
            "\u001b[K     |████████████████████████████████| 102kB 13.1MB/s \n",
            "\u001b[?25hRequirement already satisfied: patsy==0.5.1 in /usr/local/lib/python3.6/dist-packages (from -r /content/filler_detection/requirements.txt (line 67)) (0.5.1)\n",
            "Collecting pep8==1.7.1\n",
            "\u001b[?25l  Downloading https://files.pythonhosted.org/packages/42/3f/669429ce58de2c22d8d2c542752e137ec4b9885fff398d3eceb1a7f5acb4/pep8-1.7.1-py2.py3-none-any.whl (41kB)\n",
            "\u001b[K     |████████████████████████████████| 51kB 7.8MB/s \n",
            "\u001b[?25hRequirement already satisfied: pexpect==4.8.0 in /usr/local/lib/python3.6/dist-packages (from -r /content/filler_detection/requirements.txt (line 69)) (4.8.0)\n",
            "Requirement already satisfied: pickleshare==0.7.5 in /usr/local/lib/python3.6/dist-packages (from -r /content/filler_detection/requirements.txt (line 70)) (0.7.5)\n",
            "Requirement already satisfied: prometheus-client==0.7.1 in /usr/local/lib/python3.6/dist-packages (from -r /content/filler_detection/requirements.txt (line 71)) (0.7.1)\n",
            "Collecting prompt-toolkit==3.0.4\n",
            "\u001b[?25l  Downloading https://files.pythonhosted.org/packages/ab/29/d744cee89937b7e52a5c20ca237a6c77298f757965eb3eb0c653df1bfb14/prompt_toolkit-3.0.4-py3-none-any.whl (351kB)\n",
            "\u001b[K     |████████████████████████████████| 358kB 60.9MB/s \n",
            "\u001b[?25hCollecting protobuf==3.11.3\n",
            "\u001b[?25l  Downloading https://files.pythonhosted.org/packages/57/02/5432412c162989260fab61fa65e0a490c1872739eb91a659896e4d554b26/protobuf-3.11.3-cp36-cp36m-manylinux1_x86_64.whl (1.3MB)\n",
            "\u001b[K     |████████████████████████████████| 1.3MB 52.7MB/s \n",
            "\u001b[?25hRequirement already satisfied: ptyprocess==0.6.0 in /usr/local/lib/python3.6/dist-packages (from -r /content/filler_detection/requirements.txt (line 74)) (0.6.0)\n",
            "Requirement already satisfied: pyasn1==0.4.8 in /usr/local/lib/python3.6/dist-packages (from -r /content/filler_detection/requirements.txt (line 75)) (0.4.8)\n",
            "Requirement already satisfied: pyasn1-modules==0.2.8 in /usr/local/lib/python3.6/dist-packages (from -r /content/filler_detection/requirements.txt (line 76)) (0.2.8)\n",
            "Collecting pycodestyle==2.5.0\n",
            "\u001b[?25l  Downloading https://files.pythonhosted.org/packages/0e/0c/04a353e104d2f324f8ee5f4b32012618c1c86dd79e52a433b64fceed511b/pycodestyle-2.5.0-py2.py3-none-any.whl (51kB)\n",
            "\u001b[K     |████████████████████████████████| 51kB 7.8MB/s \n",
            "\u001b[?25hCollecting pycryptodome==3.9.1\n",
            "\u001b[?25l  Downloading https://files.pythonhosted.org/packages/41/43/1598eb29a97cfbeb370f09936c64add9109a764acf30fd3ff876b5d3f8ed/pycryptodome-3.9.1-cp36-cp36m-manylinux1_x86_64.whl (9.7MB)\n",
            "\u001b[K     |████████████████████████████████| 9.7MB 22.8MB/s \n",
            "\u001b[?25hCollecting pydub==0.23.1\n",
            "  Downloading https://files.pythonhosted.org/packages/79/db/eaf620b73a1eec3c8c6f8f5b0b236a50f9da88ad57802154b7ba7664d0b8/pydub-0.23.1-py2.py3-none-any.whl\n",
            "Collecting Pygments==2.6.1\n",
            "\u001b[?25l  Downloading https://files.pythonhosted.org/packages/2d/68/106af3ae51daf807e9cdcba6a90e518954eb8b70341cee52995540a53ead/Pygments-2.6.1-py3-none-any.whl (914kB)\n",
            "\u001b[K     |████████████████████████████████| 921kB 54.5MB/s \n",
            "\u001b[?25hCollecting pylint==2.3.1\n",
            "\u001b[?25l  Downloading https://files.pythonhosted.org/packages/60/c2/b3f73f4ac008bef6e75bca4992f3963b3f85942e0277237721ef1c151f0d/pylint-2.3.1-py3-none-any.whl (765kB)\n",
            "\u001b[K     |████████████████████████████████| 768kB 45.8MB/s \n",
            "\u001b[?25hCollecting pyparsing==2.4.6\n",
            "\u001b[?25l  Downloading https://files.pythonhosted.org/packages/5d/bc/1e58593167fade7b544bfe9502a26dc860940a79ab306e651e7f13be68c2/pyparsing-2.4.6-py2.py3-none-any.whl (67kB)\n",
            "\u001b[K     |████████████████████████████████| 71kB 9.4MB/s \n",
            "\u001b[?25hCollecting pyrsistent==0.15.7\n",
            "\u001b[?25l  Downloading https://files.pythonhosted.org/packages/90/aa/cdcf7ef88cc0f831b6f14c8c57318824c9de9913fe8de38e46a98c069a35/pyrsistent-0.15.7.tar.gz (107kB)\n",
            "\u001b[K     |████████████████████████████████| 112kB 64.1MB/s \n",
            "\u001b[?25hRequirement already satisfied: python-dateutil==2.8.1 in /usr/local/lib/python3.6/dist-packages (from -r /content/filler_detection/requirements.txt (line 84)) (2.8.1)\n",
            "Collecting pytz==2019.3\n",
            "\u001b[?25l  Downloading https://files.pythonhosted.org/packages/e7/f9/f0b53f88060247251bf481fa6ea62cd0d25bf1b11a87888e53ce5b7c8ad2/pytz-2019.3-py2.py3-none-any.whl (509kB)\n",
            "\u001b[K     |████████████████████████████████| 512kB 56.4MB/s \n",
            "\u001b[?25hCollecting PyYAML==5.3\n",
            "\u001b[?25l  Downloading https://files.pythonhosted.org/packages/3d/d9/ea9816aea31beeadccd03f1f8b625ecf8f645bd66744484d162d84803ce5/PyYAML-5.3.tar.gz (268kB)\n",
            "\u001b[K     |████████████████████████████████| 276kB 71.6MB/s \n",
            "\u001b[?25hRequirement already satisfied: pyzmq==19.0.0 in /usr/local/lib/python3.6/dist-packages (from -r /content/filler_detection/requirements.txt (line 87)) (19.0.0)\n",
            "Collecting qtconsole==4.7.1\n",
            "\u001b[?25l  Downloading https://files.pythonhosted.org/packages/d6/de/2a0bda85367881e27370a206a561326a99fbb05ab9402f4c4ad59761eec4/qtconsole-4.7.1-py2.py3-none-any.whl (117kB)\n",
            "\u001b[K     |████████████████████████████████| 122kB 65.8MB/s \n",
            "\u001b[?25hRequirement already satisfied: QtPy==1.9.0 in /usr/local/lib/python3.6/dist-packages (from -r /content/filler_detection/requirements.txt (line 89)) (1.9.0)\n",
            "Collecting requests==2.23.0\n",
            "\u001b[?25l  Downloading https://files.pythonhosted.org/packages/1a/70/1935c770cb3be6e3a8b78ced23d7e0f3b187f5cbfab4749523ed65d7c9b1/requests-2.23.0-py2.py3-none-any.whl (58kB)\n",
            "\u001b[K     |████████████████████████████████| 61kB 9.7MB/s \n",
            "\u001b[?25hRequirement already satisfied: requests-oauthlib==1.3.0 in /usr/local/lib/python3.6/dist-packages (from -r /content/filler_detection/requirements.txt (line 91)) (1.3.0)\n",
            "Requirement already satisfied: rsa==4.0 in /usr/local/lib/python3.6/dist-packages (from -r /content/filler_detection/requirements.txt (line 92)) (4.0)\n",
            "Requirement already satisfied: scikit-learn==0.22.2.post1 in /usr/local/lib/python3.6/dist-packages (from -r /content/filler_detection/requirements.txt (line 93)) (0.22.2.post1)\n",
            "Requirement already satisfied: scipy==1.4.1 in /usr/local/lib/python3.6/dist-packages (from -r /content/filler_detection/requirements.txt (line 94)) (1.4.1)\n",
            "Requirement already satisfied: seaborn==0.10.0 in /usr/local/lib/python3.6/dist-packages (from -r /content/filler_detection/requirements.txt (line 95)) (0.10.0)\n",
            "Requirement already satisfied: Send2Trash==1.5.0 in /usr/local/lib/python3.6/dist-packages (from -r /content/filler_detection/requirements.txt (line 96)) (1.5.0)\n",
            "Collecting shellescape==3.4.1\n",
            "  Downloading https://files.pythonhosted.org/packages/51/b6/986c99a10040beaaefca1ad6c93bd7738cb8e4f52f6caed13d3ed1caa7e4/shellescape-3.4.1-py2.py3-none-any.whl\n",
            "Collecting six==1.14.0\n",
            "  Downloading https://files.pythonhosted.org/packages/65/eb/1f97cb97bfc2390a276969c6fae16075da282f5058082d4cb10c6c5c1dba/six-1.14.0-py2.py3-none-any.whl\n",
            "Requirement already satisfied: sklearn==0.0 in /usr/local/lib/python3.6/dist-packages (from -r /content/filler_detection/requirements.txt (line 99)) (0.0)\n",
            "Collecting statsmodels==0.11.1\n",
            "\u001b[?25l  Downloading https://files.pythonhosted.org/packages/cb/83/540fd83238a18abe6c2d280fa8e489ac5fcefa1f370f0ca1acd16ae1b860/statsmodels-0.11.1-cp36-cp36m-manylinux1_x86_64.whl (8.7MB)\n",
            "\u001b[K     |████████████████████████████████| 8.7MB 61.4MB/s \n",
            "\u001b[?25hCollecting talos==0.6.6\n",
            "\u001b[?25l  Downloading https://files.pythonhosted.org/packages/73/64/65bee9b585f6a196ff3119a60a7170fe0b2a18225a2e1e67115510b46a65/talos-0.6.6-py3-none-any.whl (53kB)\n",
            "\u001b[K     |████████████████████████████████| 61kB 9.6MB/s \n",
            "\u001b[?25hCollecting tensorboard==2.1.1\n",
            "\u001b[?25l  Downloading https://files.pythonhosted.org/packages/d9/41/bbf49b61370e4f4d245d4c6051dfb6db80cec672605c91b1652ac8cc3d38/tensorboard-2.1.1-py3-none-any.whl (3.8MB)\n",
            "\u001b[K     |████████████████████████████████| 3.9MB 53.4MB/s \n",
            "\u001b[?25hCollecting tensorflow==2.1.0\n",
            "\u001b[?25l  Downloading https://files.pythonhosted.org/packages/85/d4/c0cd1057b331bc38b65478302114194bd8e1b9c2bbc06e300935c0e93d90/tensorflow-2.1.0-cp36-cp36m-manylinux2010_x86_64.whl (421.8MB)\n",
            "\u001b[K     |████████████████████████████████| 421.8MB 33kB/s \n",
            "\u001b[?25hCollecting tensorflow-estimator==2.1.0\n",
            "\u001b[?25l  Downloading https://files.pythonhosted.org/packages/18/90/b77c328a1304437ab1310b463e533fa7689f4bfc41549593056d812fab8e/tensorflow_estimator-2.1.0-py2.py3-none-any.whl (448kB)\n",
            "\u001b[K     |████████████████████████████████| 450kB 56.1MB/s \n",
            "\u001b[?25hRequirement already satisfied: termcolor==1.1.0 in /usr/local/lib/python3.6/dist-packages (from -r /content/filler_detection/requirements.txt (line 105)) (1.1.0)\n",
            "Requirement already satisfied: terminado==0.8.3 in /usr/local/lib/python3.6/dist-packages (from -r /content/filler_detection/requirements.txt (line 106)) (0.8.3)\n",
            "Requirement already satisfied: testpath==0.4.4 in /usr/local/lib/python3.6/dist-packages (from -r /content/filler_detection/requirements.txt (line 107)) (0.4.4)\n",
            "Requirement already satisfied: text-unidecode==1.3 in /usr/local/lib/python3.6/dist-packages (from -r /content/filler_detection/requirements.txt (line 108)) (1.3)\n",
            "Collecting tf-utils==1.0.4\n",
            "  Downloading https://files.pythonhosted.org/packages/bb/bf/f6800f5d34c2563849a900abaa8e8fdb44e859f9a45e45c35afcfd77d742/tf_utils-1.0.4-py3-none-any.whl\n",
            "Collecting tornado==6.0.4\n",
            "\u001b[?25l  Downloading https://files.pythonhosted.org/packages/95/84/119a46d494f008969bf0c775cb2c6b3579d3c4cc1bb1b41a022aa93ee242/tornado-6.0.4.tar.gz (496kB)\n",
            "\u001b[K     |████████████████████████████████| 501kB 71.2MB/s \n",
            "\u001b[?25hCollecting tqdm==4.45.0\n",
            "\u001b[?25l  Downloading https://files.pythonhosted.org/packages/4a/1c/6359be64e8301b84160f6f6f7936bbfaaa5e9a4eab6cbc681db07600b949/tqdm-4.45.0-py2.py3-none-any.whl (60kB)\n",
            "\u001b[K     |████████████████████████████████| 61kB 8.6MB/s \n",
            "\u001b[?25hRequirement already satisfied: traitlets==4.3.3 in /usr/local/lib/python3.6/dist-packages (from -r /content/filler_detection/requirements.txt (line 112)) (4.3.3)\n",
            "Collecting typed-ast==1.4.0\n",
            "\u001b[?25l  Downloading https://files.pythonhosted.org/packages/31/d3/9d1802c161626d0278bafb1ffb32f76b9d01e123881bbf9d91e8ccf28e18/typed_ast-1.4.0-cp36-cp36m-manylinux1_x86_64.whl (736kB)\n",
            "\u001b[K     |████████████████████████████████| 737kB 61.7MB/s \n",
            "\u001b[?25hCollecting urllib3==1.25.8\n",
            "\u001b[?25l  Downloading https://files.pythonhosted.org/packages/e8/74/6e4f91745020f967d09332bb2b8b9b10090957334692eb88ea4afe91b77f/urllib3-1.25.8-py2.py3-none-any.whl (125kB)\n",
            "\u001b[K     |████████████████████████████████| 133kB 80.0MB/s \n",
            "\u001b[?25hCollecting virtualenv==20.0.17\n",
            "\u001b[?25l  Downloading https://files.pythonhosted.org/packages/82/34/ae98cb0c3eca73b871d51b8f27af0389c746f0e166cd3b2ab31f41085b82/virtualenv-20.0.17-py2.py3-none-any.whl (4.6MB)\n",
            "\u001b[K     |████████████████████████████████| 4.6MB 69.7MB/s \n",
            "\u001b[?25hCollecting wcwidth==0.1.8\n",
            "  Downloading https://files.pythonhosted.org/packages/58/b4/4850a0ccc6f567cc0ebe7060d20ffd4258b8210efadc259da62dc6ed9c65/wcwidth-0.1.8-py2.py3-none-any.whl\n",
            "Requirement already satisfied: webencodings==0.5.1 in /usr/local/lib/python3.6/dist-packages (from -r /content/filler_detection/requirements.txt (line 117)) (0.5.1)\n",
            "Collecting Werkzeug==1.0.0\n",
            "\u001b[?25l  Downloading https://files.pythonhosted.org/packages/ba/a5/d6f8a6e71f15364d35678a4ec8a0186f980b3bd2545f40ad51dd26a87fb1/Werkzeug-1.0.0-py2.py3-none-any.whl (298kB)\n",
            "\u001b[K     |████████████████████████████████| 307kB 70.4MB/s \n",
            "\u001b[?25hRequirement already satisfied: widgetsnbextension==3.5.1 in /usr/local/lib/python3.6/dist-packages (from -r /content/filler_detection/requirements.txt (line 119)) (3.5.1)\n",
            "Collecting wrangle==0.6.7\n",
            "  Downloading https://files.pythonhosted.org/packages/85/35/bc729e377417613f2d062a890faea5d649ef1a554df21499e9c3a4a5501a/wrangle-0.6.7.tar.gz\n",
            "Requirement already satisfied: wrapt==1.12.1 in /usr/local/lib/python3.6/dist-packages (from -r /content/filler_detection/requirements.txt (line 121)) (1.12.1)\n",
            "Requirement already satisfied: zipp==3.1.0 in /usr/local/lib/python3.6/dist-packages (from -r /content/filler_detection/requirements.txt (line 122)) (3.1.0)\n",
            "Requirement already satisfied: setuptools>=34.0.0 in /usr/local/lib/python3.6/dist-packages (from google-api-core==1.16.0->-r /content/filler_detection/requirements.txt (line 24)) (46.1.3)\n",
            "Requirement already satisfied: wheel>=0.26; python_version >= \"3\" in /usr/local/lib/python3.6/dist-packages (from tensorboard==2.1.1->-r /content/filler_detection/requirements.txt (line 102)) (0.34.2)\n",
            "Collecting importlib-resources<2,>=1.0; python_version < \"3.7\"\n",
            "  Downloading https://files.pythonhosted.org/packages/8f/36/e678bc02cad98e566fbd7e6711ab2f389fc9adfb1edbb9f553eae41f9f97/importlib_resources-1.4.0-py2.py3-none-any.whl\n",
            "Building wheels for collected packages: astetik, autopep8, chances, distlib, gast, kerasplotlib, pyrsistent, PyYAML, tornado, wrangle\n",
            "  Building wheel for astetik (setup.py) ... \u001b[?25l\u001b[?25hdone\n",
            "  Created wheel for astetik: filename=astetik-1.9.9-cp36-none-any.whl size=56960 sha256=2f1a5fa94055f23c39bf22f18d00844a898680c96bed910df24f98cecdc7423a\n",
            "  Stored in directory: /root/.cache/pip/wheels/ae/70/21/c475cd079ec401dd6e1b9b1d42b4c38554ce12679bfb214aad\n",
            "  Building wheel for autopep8 (setup.py) ... \u001b[?25l\u001b[?25hdone\n",
            "  Created wheel for autopep8: filename=autopep8-1.4.4-py2.py3-none-any.whl size=42631 sha256=540d518e471ab893d4d47d55e942f295a4d0abb327b23a5d673a9151b6aa14da\n",
            "  Stored in directory: /root/.cache/pip/wheels/7e/f5/4b/c19e6276126325eb8071b273347c05a830c37a82b9b3b81510\n",
            "  Building wheel for chances (setup.py) ... \u001b[?25l\u001b[?25hdone\n",
            "  Created wheel for chances: filename=chances-0.1.9-cp36-none-any.whl size=41609 sha256=22be687a2463735eb889aac34085689673acb4af4075baf40ce2e809402f4c2f\n",
            "  Stored in directory: /root/.cache/pip/wheels/75/33/46/c871b94249bd57d17797d049b3dff8e3a09c315afb67eb14c6\n",
            "  Building wheel for distlib (setup.py) ... \u001b[?25l\u001b[?25hdone\n",
            "  Created wheel for distlib: filename=distlib-0.3.0-cp36-none-any.whl size=340429 sha256=b50b24102d5ac63977d08b7c1ec9438babf08d983769cfb272dc61563049ec18\n",
            "  Stored in directory: /root/.cache/pip/wheels/6e/e8/db/c73dae4867666e89ba3cfbc4b5c092446f0e584eda6f409cbb\n",
            "  Building wheel for gast (setup.py) ... \u001b[?25l\u001b[?25hdone\n",
            "  Created wheel for gast: filename=gast-0.2.2-cp36-none-any.whl size=7540 sha256=8c6bccf1090793f519603ad80ff61f7fd361be451570239d70b55e75548705a6\n",
            "  Stored in directory: /root/.cache/pip/wheels/5c/2e/7e/a1d4d4fcebe6c381f378ce7743a3ced3699feb89bcfbdadadd\n",
            "  Building wheel for kerasplotlib (setup.py) ... \u001b[?25l\u001b[?25hdone\n",
            "  Created wheel for kerasplotlib: filename=kerasplotlib-0.1.6-cp36-none-any.whl size=3601 sha256=1141b8b25b688ae214990a55cf8e0c6da96214c04a14bc8174ab3536ff2003bb\n",
            "  Stored in directory: /root/.cache/pip/wheels/9d/d3/8c/9503a22b0a38e8b21c70ad834e4606d209193443e5c709305d\n",
            "  Building wheel for pyrsistent (setup.py) ... \u001b[?25l\u001b[?25hdone\n",
            "  Created wheel for pyrsistent: filename=pyrsistent-0.15.7-cp36-cp36m-linux_x86_64.whl size=97687 sha256=d01233fd067fd6263187a319365134d1bfbc699d07e8097dbcd5975c1ab435f6\n",
            "  Stored in directory: /root/.cache/pip/wheels/b5/78/ac/f26a78a989cd97f90981d96a560d7e1da5e1307284301d94e8\n",
            "  Building wheel for PyYAML (setup.py) ... \u001b[?25l\u001b[?25hdone\n",
            "  Created wheel for PyYAML: filename=PyYAML-5.3-cp36-cp36m-linux_x86_64.whl size=44229 sha256=9503d19c2b8430146ee990e95ceb177172c8d4c63d206fdb700ad596db955a29\n",
            "  Stored in directory: /root/.cache/pip/wheels/e4/76/4d/a95b8dd7b452b69e8ed4f68b69e1b55e12c9c9624dd962b191\n",
            "  Building wheel for tornado (setup.py) ... \u001b[?25l\u001b[?25hdone\n",
            "  Created wheel for tornado: filename=tornado-6.0.4-cp36-cp36m-linux_x86_64.whl size=427629 sha256=15688274ee0d617dd26a5ba34f7a4886c66e8e733a13594d794c43fbc80f4296\n",
            "  Stored in directory: /root/.cache/pip/wheels/93/84/2f/409c7b2bb3afc3aa727f7ee8787975e0793f74d1165f4d0104\n",
            "  Building wheel for wrangle (setup.py) ... \u001b[?25l\u001b[?25hdone\n",
            "  Created wheel for wrangle: filename=wrangle-0.6.7-cp36-none-any.whl size=49894 sha256=73527381192652a16f6b28175f6c8654574d7603f9881f9ae9a0dd36e0e60b4b\n",
            "  Stored in directory: /root/.cache/pip/wheels/bf/1b/50/d0403ce6ef269e364894da7b50db68db14c4ac62c577561e2d\n",
            "Successfully built astetik autopep8 chances distlib gast kerasplotlib pyrsistent PyYAML tornado wrangle\n",
            "\u001b[31mERROR: tensorflow-probability 0.10.0rc0 has requirement gast>=0.3.2, but you'll have gast 0.2.2 which is incompatible.\u001b[0m\n",
            "\u001b[31mERROR: kaggle 1.5.6 has requirement urllib3<1.25,>=1.21.1, but you'll have urllib3 1.25.8 which is incompatible.\u001b[0m\n",
            "\u001b[31mERROR: google-colab 1.0.0 has requirement google-auth~=1.7.2, but you'll have google-auth 1.11.3 which is incompatible.\u001b[0m\n",
            "\u001b[31mERROR: google-colab 1.0.0 has requirement ipykernel~=4.10, but you'll have ipykernel 5.1.4 which is incompatible.\u001b[0m\n",
            "\u001b[31mERROR: google-colab 1.0.0 has requirement ipython~=5.5.0, but you'll have ipython 7.13.0 which is incompatible.\u001b[0m\n",
            "\u001b[31mERROR: google-colab 1.0.0 has requirement notebook~=5.2.0, but you'll have notebook 6.0.3 which is incompatible.\u001b[0m\n",
            "\u001b[31mERROR: google-colab 1.0.0 has requirement requests~=2.21.0, but you'll have requests 2.23.0 which is incompatible.\u001b[0m\n",
            "\u001b[31mERROR: google-colab 1.0.0 has requirement six~=1.12.0, but you'll have six 1.14.0 which is incompatible.\u001b[0m\n",
            "\u001b[31mERROR: datascience 0.10.6 has requirement folium==0.2.1, but you'll have folium 0.8.3 which is incompatible.\u001b[0m\n",
            "\u001b[31mERROR: albumentations 0.1.12 has requirement imgaug<0.2.7,>=0.2.5, but you'll have imgaug 0.2.9 which is incompatible.\u001b[0m\n",
            "\u001b[31mERROR: wrangle 0.6.7 has requirement scipy==1.2, but you'll have scipy 1.4.1 which is incompatible.\u001b[0m\n",
            "\u001b[31mERROR: talos 0.6.6 has requirement keras==2.3.0, but you'll have keras 2.3.1 which is incompatible.\u001b[0m\n",
            "\u001b[31mERROR: talos 0.6.6 has requirement tensorflow==1.14.0, but you'll have tensorflow 2.1.0 which is incompatible.\u001b[0m\n",
            "Installing collected packages: appdirs, appnope, numpy, statsmodels, wrangle, geonamescache, astetik, typed-ast, six, lazy-object-proxy, astroid, pycodestyle, autopep8, cachetools, certifi, idna, urllib3, requests, chances, distlib, essential-generators, gast, google-auth, google-cloud-texttospeech, grpcio, importlib-metadata, tornado, jupyter-client, parso, jedi, Pygments, wcwidth, prompt-toolkit, ipython, ipykernel, isort, Jinja2, pyrsistent, jsonschema, jupyter-console, kerasplotlib, kiwisolver, pyparsing, matplotlib, mccabe, PyYAML, Naked, nbformat, notebook, opt-einsum, pep8, protobuf, pycryptodome, pydub, pylint, pytz, qtconsole, shellescape, tensorflow-estimator, Werkzeug, tensorboard, tensorflow, tqdm, talos, tf-utils, importlib-resources, virtualenv\n",
            "  Found existing installation: numpy 1.18.3\n",
            "    Uninstalling numpy-1.18.3:\n",
            "      Successfully uninstalled numpy-1.18.3\n",
            "  Found existing installation: statsmodels 0.10.2\n",
            "    Uninstalling statsmodels-0.10.2:\n",
            "      Successfully uninstalled statsmodels-0.10.2\n",
            "  Found existing installation: six 1.12.0\n",
            "    Uninstalling six-1.12.0:\n",
            "      Successfully uninstalled six-1.12.0\n",
            "  Found existing installation: cachetools 3.1.1\n",
            "    Uninstalling cachetools-3.1.1:\n",
            "      Successfully uninstalled cachetools-3.1.1\n",
            "  Found existing installation: certifi 2020.4.5.1\n",
            "    Uninstalling certifi-2020.4.5.1:\n",
            "      Successfully uninstalled certifi-2020.4.5.1\n",
            "  Found existing installation: idna 2.8\n",
            "    Uninstalling idna-2.8:\n",
            "      Successfully uninstalled idna-2.8\n",
            "  Found existing installation: urllib3 1.24.3\n",
            "    Uninstalling urllib3-1.24.3:\n",
            "      Successfully uninstalled urllib3-1.24.3\n",
            "  Found existing installation: requests 2.21.0\n",
            "    Uninstalling requests-2.21.0:\n",
            "      Successfully uninstalled requests-2.21.0\n",
            "  Found existing installation: gast 0.3.3\n",
            "    Uninstalling gast-0.3.3:\n",
            "      Successfully uninstalled gast-0.3.3\n",
            "  Found existing installation: google-auth 1.7.2\n",
            "    Uninstalling google-auth-1.7.2:\n",
            "      Successfully uninstalled google-auth-1.7.2\n",
            "  Found existing installation: grpcio 1.28.1\n",
            "    Uninstalling grpcio-1.28.1:\n",
            "      Successfully uninstalled grpcio-1.28.1\n",
            "  Found existing installation: importlib-metadata 1.6.0\n",
            "    Uninstalling importlib-metadata-1.6.0:\n",
            "      Successfully uninstalled importlib-metadata-1.6.0\n",
            "  Found existing installation: tornado 4.5.3\n",
            "    Uninstalling tornado-4.5.3:\n",
            "      Successfully uninstalled tornado-4.5.3\n",
            "  Found existing installation: jupyter-client 5.3.4\n",
            "    Uninstalling jupyter-client-5.3.4:\n",
            "      Successfully uninstalled jupyter-client-5.3.4\n",
            "  Found existing installation: parso 0.7.0\n",
            "    Uninstalling parso-0.7.0:\n",
            "      Successfully uninstalled parso-0.7.0\n",
            "  Found existing installation: jedi 0.17.0\n",
            "    Uninstalling jedi-0.17.0:\n",
            "      Successfully uninstalled jedi-0.17.0\n",
            "  Found existing installation: Pygments 2.1.3\n",
            "    Uninstalling Pygments-2.1.3:\n",
            "      Successfully uninstalled Pygments-2.1.3\n",
            "  Found existing installation: wcwidth 0.1.9\n",
            "    Uninstalling wcwidth-0.1.9:\n",
            "      Successfully uninstalled wcwidth-0.1.9\n",
            "  Found existing installation: prompt-toolkit 1.0.18\n",
            "    Uninstalling prompt-toolkit-1.0.18:\n",
            "      Successfully uninstalled prompt-toolkit-1.0.18\n",
            "  Found existing installation: ipython 5.5.0\n",
            "    Uninstalling ipython-5.5.0:\n",
            "      Successfully uninstalled ipython-5.5.0\n",
            "  Found existing installation: ipykernel 4.10.1\n",
            "    Uninstalling ipykernel-4.10.1:\n",
            "      Successfully uninstalled ipykernel-4.10.1\n",
            "  Found existing installation: Jinja2 2.11.2\n",
            "    Uninstalling Jinja2-2.11.2:\n",
            "      Successfully uninstalled Jinja2-2.11.2\n",
            "  Found existing installation: pyrsistent 0.16.0\n",
            "    Uninstalling pyrsistent-0.16.0:\n",
            "      Successfully uninstalled pyrsistent-0.16.0\n",
            "  Found existing installation: jsonschema 2.6.0\n",
            "    Uninstalling jsonschema-2.6.0:\n",
            "      Successfully uninstalled jsonschema-2.6.0\n",
            "  Found existing installation: jupyter-console 5.2.0\n",
            "    Uninstalling jupyter-console-5.2.0:\n",
            "      Successfully uninstalled jupyter-console-5.2.0\n",
            "  Found existing installation: kiwisolver 1.2.0\n",
            "    Uninstalling kiwisolver-1.2.0:\n",
            "      Successfully uninstalled kiwisolver-1.2.0\n",
            "  Found existing installation: pyparsing 2.4.7\n",
            "    Uninstalling pyparsing-2.4.7:\n",
            "      Successfully uninstalled pyparsing-2.4.7\n",
            "  Found existing installation: matplotlib 3.2.1\n",
            "    Uninstalling matplotlib-3.2.1:\n",
            "      Successfully uninstalled matplotlib-3.2.1\n",
            "  Found existing installation: PyYAML 3.13\n",
            "    Uninstalling PyYAML-3.13:\n",
            "      Successfully uninstalled PyYAML-3.13\n",
            "  Found existing installation: nbformat 5.0.6\n",
            "    Uninstalling nbformat-5.0.6:\n",
            "      Successfully uninstalled nbformat-5.0.6\n",
            "  Found existing installation: notebook 5.2.2\n",
            "    Uninstalling notebook-5.2.2:\n",
            "      Successfully uninstalled notebook-5.2.2\n",
            "  Found existing installation: opt-einsum 3.2.1\n",
            "    Uninstalling opt-einsum-3.2.1:\n",
            "      Successfully uninstalled opt-einsum-3.2.1\n",
            "  Found existing installation: protobuf 3.10.0\n",
            "    Uninstalling protobuf-3.10.0:\n",
            "      Successfully uninstalled protobuf-3.10.0\n",
            "  Found existing installation: pytz 2018.9\n",
            "    Uninstalling pytz-2018.9:\n",
            "      Successfully uninstalled pytz-2018.9\n",
            "  Found existing installation: qtconsole 4.7.3\n",
            "    Uninstalling qtconsole-4.7.3:\n",
            "      Successfully uninstalled qtconsole-4.7.3\n",
            "  Found existing installation: tensorflow-estimator 2.2.0\n",
            "    Uninstalling tensorflow-estimator-2.2.0:\n",
            "      Successfully uninstalled tensorflow-estimator-2.2.0\n",
            "  Found existing installation: Werkzeug 1.0.1\n",
            "    Uninstalling Werkzeug-1.0.1:\n",
            "      Successfully uninstalled Werkzeug-1.0.1\n",
            "  Found existing installation: tensorboard 2.2.1\n",
            "    Uninstalling tensorboard-2.2.1:\n",
            "      Successfully uninstalled tensorboard-2.2.1\n",
            "  Found existing installation: tensorflow 2.2.0rc3\n",
            "    Uninstalling tensorflow-2.2.0rc3:\n",
            "      Successfully uninstalled tensorflow-2.2.0rc3\n",
            "  Found existing installation: tqdm 4.38.0\n",
            "    Uninstalling tqdm-4.38.0:\n"
          ],
          "name": "stdout"
        }
      ]
    },
    {
      "cell_type": "markdown",
      "metadata": {
        "colab_type": "text",
        "id": "A7Hn1LtPRxZS"
      },
      "source": [
        "Importing and setting up env variables..."
      ]
    },
    {
      "cell_type": "code",
      "metadata": {
        "colab_type": "code",
        "id": "1rasqjnO6mAq",
        "colab": {}
      },
      "source": [
        "import numpy as np\n",
        "from pydub import AudioSegment\n",
        "from pydub.playback import play\n",
        "import random\n",
        "import sys\n",
        "import io\n",
        "import os\n",
        "import glob\n",
        "import IPython\n",
        "import wave\n",
        "import pylab\n",
        "from tf_utils import *\n",
        "import matplotlib.pyplot as plt\n",
        "from scipy import signal\n",
        "from scipy.io import wavfile\n",
        "import pickle\n",
        "\n",
        "# Import files for trigger-word detection model\n",
        "import keras.backend as K\n",
        "import tensorflow as tf\n",
        "from keras.models import Model, load_model, Sequential\n",
        "from keras.layers import Dense, Activation, Dropout, Input, Masking, TimeDistributed, LSTM, Conv1D\n",
        "from keras.layers import GRU, Bidirectional, BatchNormalization, Reshape, ConvLSTM2D, Lambda\n",
        "from keras.optimizers import Adam\n",
        "from keras.callbacks.callbacks import EarlyStopping\n",
        "from sklearn.utils import class_weight\n",
        "\n",
        "# For reproducibility\n",
        "# The below is necessary for starting Numpy generated random numbers\n",
        "# in a well-defined initial state.\n",
        "\n",
        "np.random.seed(1337)\n",
        "\n",
        "# The below is necessary for starting core Python generated random numbers\n",
        "# in a well-defined state.\n",
        "\n",
        "random.seed(12345)\n",
        "\n",
        "# Force TensorFlow to use single thread.\n",
        "# Multiple threads are a potential source of non-reproducible results.\n",
        "# For further details, see: https://stackoverflow.com/questions/42022950/\n",
        "\n",
        "session_conf = tf.compat.v1.ConfigProto(intra_op_parallelism_threads=1,\n",
        "                              inter_op_parallelism_threads=1)\n",
        "\n",
        "# The below tf.set_random_seed() will make random number generation\n",
        "# in the TensorFlow backend have a well-defined initial state.\n",
        "# For further details, see:\n",
        "# https://www.tensorflow.org/api_docs/python/tf/set_random_seed\n",
        "\n",
        "tf.random.set_seed(1234)\n",
        "\n",
        "sess = tf.compat.v1.Session(graph=tf.compat.v1.get_default_graph(), config=session_conf)\n",
        "tf.compat.v1.keras.backend.set_session(sess)\n"
      ],
      "execution_count": 0,
      "outputs": []
    },
    {
      "cell_type": "code",
      "metadata": {
        "colab_type": "code",
        "id": "tsvlLoY6J2Lf",
        "colab": {}
      },
      "source": [
        "PROJ_PATH = '/content/drive/My Drive/filler_detection/'"
      ],
      "execution_count": 0,
      "outputs": []
    },
    {
      "cell_type": "markdown",
      "metadata": {
        "colab_type": "text",
        "id": "uEezPsKZEnUh"
      },
      "source": [
        "### Create New Model (if not pre-trained)"
      ]
    },
    {
      "cell_type": "markdown",
      "metadata": {
        "colab_type": "text",
        "id": "oEfBQCPhR2QQ"
      },
      "source": [
        "Sanity check for `Tx`, `n_freq`, `Ty`. \n",
        "\n",
        "1. Input into model `Tx` and `n_freq`\n",
        "2. Call `model.summary()`\n",
        "3. `Tx` of **sample** and variable = `input_7.shape[1]` (ie column 2, row 1, second element of array)\n",
        "4. `Ty` = `input_7.shape[1]` (ie column 2, row 2, second element of array)"
      ]
    },
    {
      "cell_type": "code",
      "metadata": {
        "colab_type": "code",
        "id": "mqW78CpL8sYH",
        "colab": {}
      },
      "source": [
        "Tx = 5490 # The number of time steps input to the model from the spectrogram\n",
        "n_freq = 129 # Number of frequencies input to the model at each time step of the spectrogram\n",
        "Ty = 1369 # The number of time steps in the output of our model"
      ],
      "execution_count": 0,
      "outputs": []
    },
    {
      "cell_type": "code",
      "metadata": {
        "colab_type": "code",
        "id": "b54E5A1c8pSh",
        "colab": {}
      },
      "source": [
        "from keras.initializers import RandomNormal\n",
        "\n",
        "# GRADED FUNCTION: model\n",
        "\n",
        "def create_gru(input_shape, output_bias=None, dropout=0.8):\n",
        "    \"\"\"\n",
        "    Function creating the model's graph in Keras library.\n",
        "    \n",
        "    Argument:\n",
        "    input_shape -- shape of the model's input data (using Keras conventions)\n",
        "    \n",
        "    Returns:\n",
        "    model -- Keras model instance\n",
        "    \"\"\"\n",
        "    \n",
        "    X_input = Input(shape = input_shape)\n",
        "    \n",
        "    # Step 1: CONV Layer\n",
        "    # CONV-1D\n",
        "    X = Conv1D(filters=196, kernel_size=15, strides=4)(X_input)\n",
        "    # Batch Normalization\n",
        "    X = BatchNormalization()(X)\n",
        "    # RelU activation\n",
        "    X = Activation(\"relu\")(X)\n",
        "    # Dropout (using rate 0.8)\n",
        "    X = Dropout(rate=dropout)(X)\n",
        "    \n",
        "    # Step 2: First GRU Layer\n",
        "    # GRU (use 128 units to return the sequences)\n",
        "    X = GRU(units=128, return_sequences=True)(X)\n",
        "    # Dropout (using rate 0.8)\n",
        "    X = Dropout(rate=dropout)(X)\n",
        "    # Batch Normalization\n",
        "    X = BatchNormalization()(X)\n",
        "    \n",
        "    # Step 3: Second GRU Layer\n",
        "    # GRU (use 128 units to return the sequences)\n",
        "    X = GRU(units=128, return_sequences=True)(X)\n",
        "    # Dropout (using rate 0.8)\n",
        "    X = Dropout(rate=dropout)(X)\n",
        "    # Batch Normalization\n",
        "    X = BatchNormalization()(X)\n",
        "    # Dropout (using rate 0.8)\n",
        "    X = Dropout(rate=dropout)(X)\n",
        "    \n",
        "    # Step 4: Time-distributed dense layer\n",
        "    if output_bias != None: \n",
        "        bias_initializer = RandomNormal(mean=output_bias) \n",
        "    else: \n",
        "        bias_initializer = \"zeros\"\n",
        "    X = TimeDistributed(Dense(1, activation=\"sigmoid\", bias_initializer= bias_initializer))(X)\n",
        "    \n",
        "    # Return model\n",
        "    model = Model(inputs = [X_input], outputs = X)\n",
        "    return model"
      ],
      "execution_count": 0,
      "outputs": []
    },
    {
      "cell_type": "code",
      "metadata": {
        "id": "YVlSHsBw1mwI",
        "colab_type": "code",
        "colab": {}
      },
      "source": [
        "from keras.initializers import RandomNormal\n",
        "\n",
        "# GRADED FUNCTION: model\n",
        "\n",
        "def create_lstm(input_shape, output_bias=None, dropout=0.8):\n",
        "    \"\"\"\n",
        "    Function creating the model's graph in Keras library.\n",
        "    \n",
        "    Argument:\n",
        "    input_shape -- shape of the model's input data (using Keras conventions)\n",
        "    \n",
        "    Returns:\n",
        "    model -- Keras model instance\n",
        "    \"\"\"\n",
        "    \n",
        "    X_input = Input(shape = input_shape)\n",
        "    \n",
        "    # Step 1: CONV Layer\n",
        "    # CONV-1D\n",
        "    X = Conv1D(filters=196, kernel_size=15, strides=4)(X_input)\n",
        "    # Batch Normalization\n",
        "    X = BatchNormalization()(X)\n",
        "    # RelU activation\n",
        "    X = Activation(\"relu\")(X)\n",
        "    # Dropout (using rate 0.8)\n",
        "    X = Dropout(rate=dropout)(X)\n",
        "    \n",
        "    # Step 2: First lstm Layer\n",
        "    # bi-lsem (use 128 units to return the sequences)\n",
        "    X = LSTM(units=128, return_sequences=True)(X)\n",
        "    # Dropout (using rate 0.8)\n",
        "    X = Dropout(rate=dropout)(X)\n",
        "    # Batch Normalization\n",
        "    X = BatchNormalization()(X)\n",
        "    \n",
        "    # Step 3: Second lstm Layer\n",
        "    # lstm (use 128 units to return the sequences)\n",
        "    X = LSTM(units=128, return_sequences=True)(X)\n",
        "    # Dropout (using rate 0.8)\n",
        "    X = Dropout(rate=dropout)(X)\n",
        "    # Batch Normalization\n",
        "    X = BatchNormalization()(X)\n",
        "    # Dropout (using rate 0.8)\n",
        "    X = Dropout(rate=dropout)(X)\n",
        "    \n",
        "    # Step 4: Time-distributed dense layer\n",
        "    if output_bias != None: \n",
        "        bias_initializer = RandomNormal(mean=output_bias) \n",
        "    else: \n",
        "        bias_initializer = \"zeros\"\n",
        "    X = TimeDistributed(Dense(1, activation=\"sigmoid\", bias_initializer= bias_initializer))(X)\n",
        "    \n",
        "    # Return model\n",
        "    model = Model(inputs = [X_input], outputs = X)\n",
        "    return model"
      ],
      "execution_count": 0,
      "outputs": []
    },
    {
      "cell_type": "code",
      "metadata": {
        "id": "tM_A6-PY3Doy",
        "colab_type": "code",
        "colab": {}
      },
      "source": [
        "from keras.initializers import RandomNormal\n",
        "\n",
        "# GRADED FUNCTION: model\n",
        "\n",
        "def create_bigru(input_shape, output_bias=None, dropout=0.8):\n",
        "    \"\"\"\n",
        "    Function creating the model's graph in Keras library.\n",
        "    \n",
        "    Argument:\n",
        "    input_shape -- shape of the model's input data (using Keras conventions)\n",
        "    \n",
        "    Returns:\n",
        "    model -- Keras model instance\n",
        "    \"\"\"\n",
        "    \n",
        "    X_input = Input(shape = input_shape)\n",
        "    \n",
        "    # Step 1: CONV Layer\n",
        "    # CONV-1D\n",
        "    X = Conv1D(filters=196, kernel_size=15, strides=4)(X_input)\n",
        "    # Batch Normalization\n",
        "    X = BatchNormalization()(X)\n",
        "    # RelU activation\n",
        "    X = Activation(\"relu\")(X)\n",
        "    # Dropout (using rate 0.8)\n",
        "    X = Dropout(rate=dropout)(X)\n",
        "    \n",
        "    # Step 2: First Bi-GRU Layer\n",
        "    # Bi-GRU (use 128 units to return the sequences)\n",
        "    X = Bidirectional(GRU(units=128, return_sequences=True))(X)\n",
        "    # Dropout (using rate 0.8)\n",
        "    X = Dropout(rate=dropout)(X)\n",
        "    # Batch Normalization\n",
        "    X = BatchNormalization()(X)\n",
        "    \n",
        "    # Step 3: Second Bi-GRU Layer\n",
        "    # Bi-GRU (use 128 units to return the sequences)\n",
        "    X = Bidirectional(GRU(units=128, return_sequences=True))(X)\n",
        "    # Dropout (using rate 0.8)\n",
        "    X = Dropout(rate=dropout)(X)\n",
        "    # Batch Normalization\n",
        "    X = BatchNormalization()(X)\n",
        "    # Dropout (using rate 0.8)\n",
        "    X = Dropout(rate=dropout)(X)\n",
        "    \n",
        "    # Step 4: Time-distributed dense layer\n",
        "    if output_bias != None: \n",
        "        bias_initializer = RandomNormal(mean=output_bias) \n",
        "    else: \n",
        "        bias_initializer = \"zeros\"\n",
        "    X = TimeDistributed(Dense(1, activation=\"sigmoid\", bias_initializer= bias_initializer))(X)\n",
        "    \n",
        "    # Return model\n",
        "    model = Model(inputs = [X_input], outputs = X)\n",
        "    return model"
      ],
      "execution_count": 0,
      "outputs": []
    },
    {
      "cell_type": "code",
      "metadata": {
        "id": "9lYK1QniiDye",
        "colab_type": "code",
        "colab": {}
      },
      "source": [
        "from keras.initializers import RandomNormal\n",
        "\n",
        "# GRADED FUNCTION: model\n",
        "\n",
        "def create_bilstm(input_shape, output_bias=None, dropout=0.8):\n",
        "    \"\"\"\n",
        "    Function creating the model's graph in Keras library.\n",
        "    \n",
        "    Argument:\n",
        "    input_shape -- shape of the model's input data (using Keras conventions)\n",
        "    \n",
        "    Returns:\n",
        "    model -- Keras model instance\n",
        "    \"\"\"\n",
        "    \n",
        "    X_input = Input(shape = input_shape)\n",
        "    \n",
        "    # Step 1: CONV Layer\n",
        "    # CONV-1D\n",
        "    X = Conv1D(filters=196, kernel_size=15, strides=4)(X_input)\n",
        "    # Batch Normalization\n",
        "    X = BatchNormalization()(X)\n",
        "    # RelU activation\n",
        "    X = Activation(\"relu\")(X)\n",
        "    # Dropout (using rate 0.8)\n",
        "    X = Dropout(rate=dropout)(X)\n",
        "    \n",
        "    # Step 2: First bi-lstm Layer\n",
        "    # bi-lstm (use 128 units to return the sequences)\n",
        "    X = Bidirectional(LSTM(units=128, return_sequences=True))(X)\n",
        "    # Dropout (using rate 0.8)\n",
        "    X = Dropout(rate=dropout)(X)\n",
        "    # Batch Normalization\n",
        "    X = BatchNormalization()(X)\n",
        "    \n",
        "    # Step 3: Second bi-lstm Layer\n",
        "    # bi-lstm (use 128 units to return the sequences)\n",
        "    X = Bidirectional(LSTM(units=128, return_sequences=True))(X)\n",
        "    # Dropout (using rate 0.8)\n",
        "    X = Dropout(rate=dropout)(X)\n",
        "    # Batch Normalization\n",
        "    X = BatchNormalization()(X)\n",
        "    # Dropout (using rate 0.8)\n",
        "    X = Dropout(rate=dropout)(X)\n",
        "    \n",
        "    # Step 4: Time-distributed dense layer\n",
        "    if output_bias != None: \n",
        "        bias_initializer = RandomNormal(mean=output_bias) \n",
        "    else: \n",
        "        bias_initializer = \"zeros\"\n",
        "    X = TimeDistributed(Dense(1, activation=\"sigmoid\", bias_initializer= bias_initializer))(X)\n",
        "    \n",
        "    # Return model\n",
        "    model = Model(inputs = [X_input], outputs = X)\n",
        "    return model"
      ],
      "execution_count": 0,
      "outputs": []
    },
    {
      "cell_type": "code",
      "metadata": {
        "id": "m2kYYSD0Ptgc",
        "colab_type": "code",
        "colab": {}
      },
      "source": [
        "from keras.initializers import RandomNormal\n",
        "\n",
        "# GRADED FUNCTION: model\n",
        "\n",
        "def create_convlstm2d(input_shape, output_bias=None, dropout=0.8):\n",
        "    \"\"\"\n",
        "    Function creating the model's graph in Keras library.\n",
        "    \n",
        "    Argument:\n",
        "    input_shape -- shape of the model's input data (using Keras conventions)\n",
        "    \n",
        "    Returns:\n",
        "    model -- Keras model instance\n",
        "    \"\"\"\n",
        "    \n",
        "    X_input = Input(shape = input_shape)\n",
        "    X = Lambda(lambda x: K.expand_dims(x, axis = 2))(X_input)\n",
        "    X = Lambda(lambda x: K.expand_dims(x, axis = 1))(X)\n",
        "    # X = K.expand_dims(X, axis = 1)\n",
        "    print(X)\n",
        "    \n",
        "    # Step 2: First bi-lstm Layer\n",
        "    # bi-lsem (use 128 units to return the sequences)\n",
        "    X = Bidirectional(ConvLSTM2D(filters=196, kernel_size=(15, 1), strides=4, return_sequences=True))(X)\n",
        "    # Dropout (using rate 0.8)\n",
        "    X = Dropout(rate=dropout)(X)\n",
        "    # Batch Normalization\n",
        "    X = BatchNormalization()(X)\n",
        "    \n",
        "    # Step 3: Second bi-lstm Layer\n",
        "    # lstm (use 128 units to return the sequences)\n",
        "    X = Bidirectional(ConvLSTM2D(filters=196, kernel_size=(1, 1), strides=1, return_sequences=True))(X)\n",
        "    # Dropout (using rate 0.8)\n",
        "    X = Dropout(rate=dropout)(X)\n",
        "    # Batch Normalization\n",
        "    X = BatchNormalization()(X)\n",
        "    # Dropout (using rate 0.8)\n",
        "    X = Dropout(rate=dropout)(X)\n",
        "    \n",
        "    # Step 4: Time-distributed dense layer\n",
        "    if output_bias != None: \n",
        "        bias_initializer = RandomNormal(mean=output_bias) \n",
        "    else: \n",
        "        bias_initializer = \"zeros\"\n",
        "    X = TimeDistributed(Dense(1, activation=\"sigmoid\", bias_initializer= bias_initializer))(X)\n",
        "    X = Reshape((Ty, 1))(X)\n",
        "    \n",
        "    # Return model\n",
        "    model = Model(inputs = [X_input], outputs = X)\n",
        "    return model"
      ],
      "execution_count": 0,
      "outputs": []
    },
    {
      "cell_type": "code",
      "metadata": {
        "colab_type": "code",
        "id": "D3Sfny3t78rK",
        "outputId": "d45d533a-9e3a-4e9c-bcf3-919fba676cd0",
        "colab": {
          "base_uri": "https://localhost:8080/",
          "height": 595
        }
      },
      "source": [
        "model = create_bigru(input_shape = (Tx, n_freq), output_bias = None)\n",
        "model.summary()"
      ],
      "execution_count": 29,
      "outputs": [
        {
          "output_type": "stream",
          "text": [
            "Model: \"model_3\"\n",
            "_________________________________________________________________\n",
            "Layer (type)                 Output Shape              Param #   \n",
            "=================================================================\n",
            "input_3 (InputLayer)         (None, 5490, 129)         0         \n",
            "_________________________________________________________________\n",
            "conv1d_3 (Conv1D)            (None, 1369, 196)         379456    \n",
            "_________________________________________________________________\n",
            "batch_normalization_7 (Batch (None, 1369, 196)         784       \n",
            "_________________________________________________________________\n",
            "activation_3 (Activation)    (None, 1369, 196)         0         \n",
            "_________________________________________________________________\n",
            "dropout_9 (Dropout)          (None, 1369, 196)         0         \n",
            "_________________________________________________________________\n",
            "bidirectional_5 (Bidirection (None, 1369, 256)         249600    \n",
            "_________________________________________________________________\n",
            "dropout_10 (Dropout)         (None, 1369, 256)         0         \n",
            "_________________________________________________________________\n",
            "batch_normalization_8 (Batch (None, 1369, 256)         1024      \n",
            "_________________________________________________________________\n",
            "bidirectional_6 (Bidirection (None, 1369, 256)         295680    \n",
            "_________________________________________________________________\n",
            "dropout_11 (Dropout)         (None, 1369, 256)         0         \n",
            "_________________________________________________________________\n",
            "batch_normalization_9 (Batch (None, 1369, 256)         1024      \n",
            "_________________________________________________________________\n",
            "dropout_12 (Dropout)         (None, 1369, 256)         0         \n",
            "_________________________________________________________________\n",
            "time_distributed_3 (TimeDist (None, 1369, 1)           257       \n",
            "=================================================================\n",
            "Total params: 927,825\n",
            "Trainable params: 926,409\n",
            "Non-trainable params: 1,416\n",
            "_________________________________________________________________\n"
          ],
          "name": "stdout"
        }
      ]
    },
    {
      "cell_type": "code",
      "metadata": {
        "id": "mgy-5sXvdo25",
        "colab_type": "code",
        "outputId": "396a8bdb-36fa-4364-d621-bbf8023893fd",
        "colab": {
          "base_uri": "https://localhost:8080/",
          "height": 595
        }
      },
      "source": [
        "model = create_convlstm2d(input_shape = (Tx, n_freq))\n",
        "model.summary()"
      ],
      "execution_count": 0,
      "outputs": [
        {
          "output_type": "stream",
          "text": [
            "Tensor(\"lambda_2/ExpandDims:0\", shape=(None, 1, 5490, 1, 129), dtype=float32)\n",
            "WARNING:tensorflow:Large dropout rate: 0.8 (>0.5). In TensorFlow 2.x, dropout() uses dropout rate instead of keep_prob. Please ensure that this is intended.\n",
            "Model: \"model_2\"\n",
            "_________________________________________________________________\n",
            "Layer (type)                 Output Shape              Param #   \n",
            "=================================================================\n",
            "input_2 (InputLayer)         (None, 5490, 129)         0         \n",
            "_________________________________________________________________\n",
            "lambda_1 (Lambda)            (None, 5490, 1, 129)      0         \n",
            "_________________________________________________________________\n",
            "lambda_2 (Lambda)            (None, 1, 5490, 1, 129)   0         \n",
            "_________________________________________________________________\n",
            "bidirectional_1 (Bidirection (None, 1, 1369, 1, 392)   7645568   \n",
            "_________________________________________________________________\n",
            "dropout_5 (Dropout)          (None, 1, 1369, 1, 392)   0         \n",
            "_________________________________________________________________\n",
            "batch_normalization_4 (Batch (None, 1, 1369, 1, 392)   1568      \n",
            "_________________________________________________________________\n",
            "bidirectional_2 (Bidirection (None, 1, 1369, 1, 392)   923552    \n",
            "_________________________________________________________________\n",
            "dropout_6 (Dropout)          (None, 1, 1369, 1, 392)   0         \n",
            "_________________________________________________________________\n",
            "batch_normalization_5 (Batch (None, 1, 1369, 1, 392)   1568      \n",
            "_________________________________________________________________\n",
            "dropout_7 (Dropout)          (None, 1, 1369, 1, 392)   0         \n",
            "_________________________________________________________________\n",
            "time_distributed_2 (TimeDist (None, 1, 1369, 1, 1)     393       \n",
            "_________________________________________________________________\n",
            "reshape_1 (Reshape)          (None, 1369, 1)           0         \n",
            "=================================================================\n",
            "Total params: 8,572,649\n",
            "Trainable params: 8,571,081\n",
            "Non-trainable params: 1,568\n",
            "_________________________________________________________________\n"
          ],
          "name": "stdout"
        }
      ]
    },
    {
      "cell_type": "markdown",
      "metadata": {
        "colab_type": "text",
        "id": "-2szTzk7Eh01"
      },
      "source": [
        "### Load Weights of Pre-trained Model\n",
        "Loaded weights instead of model due to custom metrics causing error in loading model directly. Read more [here](https://github.com/keras-team/keras/issues/10104)."
      ]
    },
    {
      "cell_type": "code",
      "metadata": {
        "colab_type": "code",
        "id": "rv8qz1uFd9J1",
        "outputId": "f2909d20-c55a-4804-9f39-bdc640c71c35",
        "colab": {
          "base_uri": "https://localhost:8080/",
          "height": 595
        }
      },
      "source": [
        "model.load_weights(PROJ_PATH + \"models/bryan_bigru.h5\") \n",
        "model.summary()"
      ],
      "execution_count": 20,
      "outputs": [
        {
          "output_type": "stream",
          "text": [
            "Model: \"model_2\"\n",
            "_________________________________________________________________\n",
            "Layer (type)                 Output Shape              Param #   \n",
            "=================================================================\n",
            "input_2 (InputLayer)         (None, 5490, 129)         0         \n",
            "_________________________________________________________________\n",
            "conv1d_2 (Conv1D)            (None, 1369, 196)         379456    \n",
            "_________________________________________________________________\n",
            "batch_normalization_4 (Batch (None, 1369, 196)         784       \n",
            "_________________________________________________________________\n",
            "activation_2 (Activation)    (None, 1369, 196)         0         \n",
            "_________________________________________________________________\n",
            "dropout_5 (Dropout)          (None, 1369, 196)         0         \n",
            "_________________________________________________________________\n",
            "bidirectional_3 (Bidirection (None, 1369, 256)         249600    \n",
            "_________________________________________________________________\n",
            "dropout_6 (Dropout)          (None, 1369, 256)         0         \n",
            "_________________________________________________________________\n",
            "batch_normalization_5 (Batch (None, 1369, 256)         1024      \n",
            "_________________________________________________________________\n",
            "bidirectional_4 (Bidirection (None, 1369, 256)         295680    \n",
            "_________________________________________________________________\n",
            "dropout_7 (Dropout)          (None, 1369, 256)         0         \n",
            "_________________________________________________________________\n",
            "batch_normalization_6 (Batch (None, 1369, 256)         1024      \n",
            "_________________________________________________________________\n",
            "dropout_8 (Dropout)          (None, 1369, 256)         0         \n",
            "_________________________________________________________________\n",
            "time_distributed_2 (TimeDist (None, 1369, 1)           257       \n",
            "=================================================================\n",
            "Total params: 927,825\n",
            "Trainable params: 926,409\n",
            "Non-trainable params: 1,416\n",
            "_________________________________________________________________\n"
          ],
          "name": "stdout"
        }
      ]
    },
    {
      "cell_type": "markdown",
      "metadata": {
        "colab_type": "text",
        "id": "owDLV1UyENRt"
      },
      "source": [
        "## Model Training"
      ]
    },
    {
      "cell_type": "code",
      "metadata": {
        "colab_type": "code",
        "id": "bTjJLteo2sNW",
        "colab": {}
      },
      "source": [
        "def f1(y_true, y_pred):\n",
        "    y_pred = K.round(y_pred)\n",
        "    tp = K.sum(K.cast(y_true*y_pred, 'float'), axis=0)\n",
        "    tn = K.sum(K.cast((1-y_true)*(1-y_pred), 'float'), axis=0)\n",
        "    fp = K.sum(K.cast((1-y_true)*y_pred, 'float'), axis=0)\n",
        "    fn = K.sum(K.cast(y_true*(1-y_pred), 'float'), axis=0)\n",
        "\n",
        "    p = tp / (tp + fp + K.epsilon())\n",
        "    r = tp / (tp + fn + K.epsilon())\n",
        "\n",
        "    f1 = 2*p*r / (p+r+K.epsilon())\n",
        "    f1 = tf.where(tf.math.is_nan(f1), tf.zeros_like(f1), f1)\n",
        "    return K.mean(f1)\n",
        "\n",
        "def f1_loss(y_true, y_pred):\n",
        "    \n",
        "    tp = K.sum(K.cast(y_true*y_pred, 'float'), axis=0)\n",
        "    tn = K.sum(K.cast((1-y_true)*(1-y_pred), 'float'), axis=0)\n",
        "    fp = K.sum(K.cast((1-y_true)*y_pred, 'float'), axis=0)\n",
        "    fn = K.sum(K.cast(y_true*(1-y_pred), 'float'), axis=0)\n",
        "\n",
        "    p = tp / (tp + fp + K.epsilon())\n",
        "    r = tp / (tp + fn + K.epsilon())\n",
        "\n",
        "    f1 = 2*p*r / (p+r+K.epsilon())\n",
        "    f1 = tf.where(tf.math.is_nan(f1), tf.zeros_like(f1), f1)\n",
        "    return 1 - K.mean(f1)"
      ],
      "execution_count": 0,
      "outputs": []
    },
    {
      "cell_type": "code",
      "metadata": {
        "id": "7SDEFpXywLur",
        "colab_type": "code",
        "colab": {}
      },
      "source": [
        "def binary_focal_loss(gamma=2., alpha=.25):\n",
        "    \"\"\"\n",
        "    Binary form of focal loss.\n",
        "      FL(p_t) = -alpha * (1 - p_t)**gamma * log(p_t)\n",
        "      where p = sigmoid(x), p_t = p or 1 - p depending on if the label is 1 or 0, respectively.\n",
        "    References:\n",
        "        https://arxiv.org/pdf/1708.02002.pdf\n",
        "    Usage:\n",
        "     model.compile(loss=[binary_focal_loss(alpha=.25, gamma=2)], metrics=[\"accuracy\"], optimizer=adam)\n",
        "    \"\"\"\n",
        "    def binary_focal_loss_fixed(y_true, y_pred):\n",
        "        \"\"\"\n",
        "        :param y_true: A tensor of the same shape as `y_pred`\n",
        "        :param y_pred:  A tensor resulting from a sigmoid\n",
        "        :return: Output tensor.\n",
        "        \"\"\"\n",
        "        pt_1 = tf.where(tf.equal(y_true, 1), y_pred, tf.ones_like(y_pred))\n",
        "        pt_0 = tf.where(tf.equal(y_true, 0), y_pred, tf.zeros_like(y_pred))\n",
        "\n",
        "        epsilon = K.epsilon()\n",
        "        # clip to prevent NaN's and Inf's\n",
        "        pt_1 = K.clip(pt_1, epsilon, 1. - epsilon)\n",
        "        pt_0 = K.clip(pt_0, epsilon, 1. - epsilon)\n",
        "\n",
        "        return -K.mean(alpha * K.pow(1. - pt_1, gamma) * K.log(pt_1)) \\\n",
        "               -K.mean((1 - alpha) * K.pow(pt_0, gamma) * K.log(1. - pt_0))\n",
        "\n",
        "    return binary_focal_loss_fixed"
      ],
      "execution_count": 0,
      "outputs": []
    },
    {
      "cell_type": "code",
      "metadata": {
        "colab_type": "code",
        "id": "UYzGhjq78vL-",
        "colab": {}
      },
      "source": [
        "import keras\n",
        "\n",
        "# Function to fit and further train the model. Returns history (check documentation of `model.fit` for more details).\n",
        "def model_train(model, X, Y, X_dev, Y_dev):\n",
        "    \"\"\"\n",
        "    Function to train the model further using Adam optimiser and binary \n",
        "    cross entropy loss.\n",
        "    \n",
        "    Arguments:\n",
        "    model -- Model to train\n",
        "    X -- X data to train on\n",
        "    Y -- Y data to train on\n",
        "    \"\"\"\n",
        "\n",
        "    METRICS = [\n",
        "      keras.metrics.TruePositives(name='tp'),\n",
        "      keras.metrics.FalsePositives(name='fp'),\n",
        "      keras.metrics.TrueNegatives(name='tn'),\n",
        "      keras.metrics.FalseNegatives(name='fn'), \n",
        "      keras.metrics.BinaryAccuracy(name='accuracy'),\n",
        "      keras.metrics.Precision(name='precision'),\n",
        "      keras.metrics.Recall(name='recall'),\n",
        "      keras.metrics.AUC(name='auc'),\n",
        "    ]\n",
        "\n",
        "    es = keras.callbacks.callbacks.EarlyStopping(monitor='val_loss', \n",
        "                                            min_delta=0, \n",
        "                                            patience=20, \n",
        "                                            verbose=1, \n",
        "                                            mode='auto', \n",
        "                                            baseline=None, \n",
        "                                            restore_best_weights=True)\n",
        "\n",
        "    \n",
        "    opt = Adam(lr=0.001, beta_1=0.9, beta_2=0.999, decay=0.01)\n",
        "    model.compile(loss=f1_loss, optimizer=opt, metrics=METRICS)\n",
        "    \n",
        "    history = model.fit(X, Y, batch_size=50, epochs=100, validation_data=(X_dev, Y_dev), callbacks = [es])\n",
        "    return history"
      ],
      "execution_count": 0,
      "outputs": []
    },
    {
      "cell_type": "code",
      "metadata": {
        "colab_type": "code",
        "id": "uHf7t1TjLvnl",
        "outputId": "b6e0f186-3de2-45ef-b749-bf22c26f3426",
        "colab": {
          "base_uri": "https://localhost:8080/",
          "height": 34
        }
      },
      "source": [
        "X = np.load(PROJ_PATH + \"data/train/bryan_lectures/X.npy\")\n",
        "Y = np.load(PROJ_PATH + \"data/train/bryan_lectures/Y.npy\")\n",
        "print(\"X: {} Y: {}\".format(X.shape, Y.shape))"
      ],
      "execution_count": 31,
      "outputs": [
        {
          "output_type": "stream",
          "text": [
            "X: (1000, 5490, 129) Y: (1000, 1369, 1)\n"
          ],
          "name": "stdout"
        }
      ]
    },
    {
      "cell_type": "code",
      "metadata": {
        "colab_type": "code",
        "id": "t7x8yCWQPSCh",
        "outputId": "2d21e26a-cf2c-4bfe-af2b-6d1a6fc3e921",
        "colab": {
          "base_uri": "https://localhost:8080/",
          "height": 34
        }
      },
      "source": [
        "X_dev = np.load(PROJ_PATH + \"data/dev_synthesised/bryan_lectures/X_dev.npy\")\n",
        "Y_dev = np.load(PROJ_PATH + \"data/dev_synthesised/bryan_lectures/Y_dev.npy\")\n",
        "print(\"X: {} Y: {}\".format(X_dev.shape, Y_dev.shape))"
      ],
      "execution_count": 34,
      "outputs": [
        {
          "output_type": "stream",
          "text": [
            "X: (100, 5490, 129) Y: (100, 1369, 1)\n"
          ],
          "name": "stdout"
        }
      ]
    },
    {
      "cell_type": "code",
      "metadata": {
        "colab_type": "code",
        "id": "0Z7c9Pha8wkw",
        "outputId": "777627a4-8d0a-4471-e1ee-4dcc390c910c",
        "colab": {
          "base_uri": "https://localhost:8080/",
          "height": 429
        }
      },
      "source": [
        "model_filename = \"bryan_bigru_retrain\"\n",
        "history_filename = \"bryan_bigru_retrain\"\n",
        "\n",
        "history = model_train(model, X, Y, X_dev, Y_dev)\n",
        "\n",
        "# Save model\n",
        "model.save(PROJ_PATH + f\"models/{model_filename}.h5\")\n",
        "print(\"model saved!\")\n",
        "\n",
        "# Save history\n",
        "with open(PROJ_PATH + f'models/history/{history_filename}', 'wb') as file_pi:\n",
        "    pickle.dump(history.history, file_pi)\n",
        "print(\"history saved!\")"
      ],
      "execution_count": 33,
      "outputs": [
        {
          "output_type": "stream",
          "text": [
            "Train on 1000 samples, validate on 100 samples\n",
            "Epoch 1/100\n",
            " 950/1000 [===========================>..] - ETA: 6s - loss: 0.8893 - tp: 45521.0000 - fp: 660408.0000 - tn: 568095.0000 - fn: 26526.0000 - accuracy: 0.4718 - precision: 0.0645 - recall: 0.6318 - auc: 0.5645 "
          ],
          "name": "stdout"
        },
        {
          "output_type": "error",
          "ename": "InvalidArgumentError",
          "evalue": "ignored",
          "traceback": [
            "\u001b[0;31m---------------------------------------------------------------------------\u001b[0m",
            "\u001b[0;31mInvalidArgumentError\u001b[0m                      Traceback (most recent call last)",
            "\u001b[0;32m<ipython-input-33-3cea0e31c773>\u001b[0m in \u001b[0;36m<module>\u001b[0;34m()\u001b[0m\n\u001b[1;32m      2\u001b[0m \u001b[0mhistory_filename\u001b[0m \u001b[0;34m=\u001b[0m \u001b[0;34m\"bryan_bigru_retrain\"\u001b[0m\u001b[0;34m\u001b[0m\u001b[0;34m\u001b[0m\u001b[0m\n\u001b[1;32m      3\u001b[0m \u001b[0;34m\u001b[0m\u001b[0m\n\u001b[0;32m----> 4\u001b[0;31m \u001b[0mhistory\u001b[0m \u001b[0;34m=\u001b[0m \u001b[0mmodel_train\u001b[0m\u001b[0;34m(\u001b[0m\u001b[0mmodel\u001b[0m\u001b[0;34m,\u001b[0m \u001b[0mX\u001b[0m\u001b[0;34m,\u001b[0m \u001b[0mY\u001b[0m\u001b[0;34m,\u001b[0m \u001b[0mX_dev\u001b[0m\u001b[0;34m,\u001b[0m \u001b[0mY_dev\u001b[0m\u001b[0;34m)\u001b[0m\u001b[0;34m\u001b[0m\u001b[0;34m\u001b[0m\u001b[0m\n\u001b[0m\u001b[1;32m      5\u001b[0m \u001b[0;34m\u001b[0m\u001b[0m\n\u001b[1;32m      6\u001b[0m \u001b[0;31m# Save model\u001b[0m\u001b[0;34m\u001b[0m\u001b[0;34m\u001b[0m\u001b[0;34m\u001b[0m\u001b[0m\n",
            "\u001b[0;32m<ipython-input-30-25001e377275>\u001b[0m in \u001b[0;36mmodel_train\u001b[0;34m(model, X, Y, X_dev, Y_dev)\u001b[0m\n\u001b[1;32m     36\u001b[0m     \u001b[0mmodel\u001b[0m\u001b[0;34m.\u001b[0m\u001b[0mcompile\u001b[0m\u001b[0;34m(\u001b[0m\u001b[0mloss\u001b[0m\u001b[0;34m=\u001b[0m\u001b[0mf1_loss\u001b[0m\u001b[0;34m,\u001b[0m \u001b[0moptimizer\u001b[0m\u001b[0;34m=\u001b[0m\u001b[0mopt\u001b[0m\u001b[0;34m,\u001b[0m \u001b[0mmetrics\u001b[0m\u001b[0;34m=\u001b[0m\u001b[0mMETRICS\u001b[0m\u001b[0;34m)\u001b[0m\u001b[0;34m\u001b[0m\u001b[0;34m\u001b[0m\u001b[0m\n\u001b[1;32m     37\u001b[0m \u001b[0;34m\u001b[0m\u001b[0m\n\u001b[0;32m---> 38\u001b[0;31m     \u001b[0mhistory\u001b[0m \u001b[0;34m=\u001b[0m \u001b[0mmodel\u001b[0m\u001b[0;34m.\u001b[0m\u001b[0mfit\u001b[0m\u001b[0;34m(\u001b[0m\u001b[0mX\u001b[0m\u001b[0;34m,\u001b[0m \u001b[0mY\u001b[0m\u001b[0;34m,\u001b[0m \u001b[0mbatch_size\u001b[0m\u001b[0;34m=\u001b[0m\u001b[0;36m50\u001b[0m\u001b[0;34m,\u001b[0m \u001b[0mepochs\u001b[0m\u001b[0;34m=\u001b[0m\u001b[0;36m100\u001b[0m\u001b[0;34m,\u001b[0m \u001b[0mvalidation_data\u001b[0m\u001b[0;34m=\u001b[0m\u001b[0;34m(\u001b[0m\u001b[0mX_dev\u001b[0m\u001b[0;34m,\u001b[0m \u001b[0mY_dev\u001b[0m\u001b[0;34m)\u001b[0m\u001b[0;34m,\u001b[0m \u001b[0mcallbacks\u001b[0m \u001b[0;34m=\u001b[0m \u001b[0;34m[\u001b[0m\u001b[0mes\u001b[0m\u001b[0;34m]\u001b[0m\u001b[0;34m)\u001b[0m\u001b[0;34m\u001b[0m\u001b[0;34m\u001b[0m\u001b[0m\n\u001b[0m\u001b[1;32m     39\u001b[0m     \u001b[0;32mreturn\u001b[0m \u001b[0mhistory\u001b[0m\u001b[0;34m\u001b[0m\u001b[0;34m\u001b[0m\u001b[0m\n",
            "\u001b[0;32m/usr/local/lib/python3.6/dist-packages/keras/engine/training.py\u001b[0m in \u001b[0;36mfit\u001b[0;34m(self, x, y, batch_size, epochs, verbose, callbacks, validation_split, validation_data, shuffle, class_weight, sample_weight, initial_epoch, steps_per_epoch, validation_steps, validation_freq, max_queue_size, workers, use_multiprocessing, **kwargs)\u001b[0m\n\u001b[1;32m   1237\u001b[0m                                         \u001b[0msteps_per_epoch\u001b[0m\u001b[0;34m=\u001b[0m\u001b[0msteps_per_epoch\u001b[0m\u001b[0;34m,\u001b[0m\u001b[0;34m\u001b[0m\u001b[0;34m\u001b[0m\u001b[0m\n\u001b[1;32m   1238\u001b[0m                                         \u001b[0mvalidation_steps\u001b[0m\u001b[0;34m=\u001b[0m\u001b[0mvalidation_steps\u001b[0m\u001b[0;34m,\u001b[0m\u001b[0;34m\u001b[0m\u001b[0;34m\u001b[0m\u001b[0m\n\u001b[0;32m-> 1239\u001b[0;31m                                         validation_freq=validation_freq)\n\u001b[0m\u001b[1;32m   1240\u001b[0m \u001b[0;34m\u001b[0m\u001b[0m\n\u001b[1;32m   1241\u001b[0m     def evaluate(self,\n",
            "\u001b[0;32m/usr/local/lib/python3.6/dist-packages/keras/engine/training_arrays.py\u001b[0m in \u001b[0;36mfit_loop\u001b[0;34m(model, fit_function, fit_inputs, out_labels, batch_size, epochs, verbose, callbacks, val_function, val_inputs, shuffle, initial_epoch, steps_per_epoch, validation_steps, validation_freq)\u001b[0m\n\u001b[1;32m    208\u001b[0m                                          \u001b[0mbatch_size\u001b[0m\u001b[0;34m=\u001b[0m\u001b[0mbatch_size\u001b[0m\u001b[0;34m,\u001b[0m\u001b[0;34m\u001b[0m\u001b[0;34m\u001b[0m\u001b[0m\n\u001b[1;32m    209\u001b[0m                                          \u001b[0mcallbacks\u001b[0m\u001b[0;34m=\u001b[0m\u001b[0mcallbacks\u001b[0m\u001b[0;34m,\u001b[0m\u001b[0;34m\u001b[0m\u001b[0;34m\u001b[0m\u001b[0m\n\u001b[0;32m--> 210\u001b[0;31m                                          verbose=0)\n\u001b[0m\u001b[1;32m    211\u001b[0m                     \u001b[0mval_outs\u001b[0m \u001b[0;34m=\u001b[0m \u001b[0mto_list\u001b[0m\u001b[0;34m(\u001b[0m\u001b[0mval_outs\u001b[0m\u001b[0;34m)\u001b[0m\u001b[0;34m\u001b[0m\u001b[0;34m\u001b[0m\u001b[0m\n\u001b[1;32m    212\u001b[0m                     \u001b[0;31m# Same labels assumed.\u001b[0m\u001b[0;34m\u001b[0m\u001b[0;34m\u001b[0m\u001b[0;34m\u001b[0m\u001b[0m\n",
            "\u001b[0;32m/usr/local/lib/python3.6/dist-packages/keras/engine/training_arrays.py\u001b[0m in \u001b[0;36mtest_loop\u001b[0;34m(model, f, ins, batch_size, verbose, steps, callbacks)\u001b[0m\n\u001b[1;32m    447\u001b[0m             \u001b[0mbatch_logs\u001b[0m \u001b[0;34m=\u001b[0m \u001b[0;34m{\u001b[0m\u001b[0;34m'batch'\u001b[0m\u001b[0;34m:\u001b[0m \u001b[0mbatch_index\u001b[0m\u001b[0;34m,\u001b[0m \u001b[0;34m'size'\u001b[0m\u001b[0;34m:\u001b[0m \u001b[0mlen\u001b[0m\u001b[0;34m(\u001b[0m\u001b[0mbatch_ids\u001b[0m\u001b[0;34m)\u001b[0m\u001b[0;34m}\u001b[0m\u001b[0;34m\u001b[0m\u001b[0;34m\u001b[0m\u001b[0m\n\u001b[1;32m    448\u001b[0m             \u001b[0mcallbacks\u001b[0m\u001b[0;34m.\u001b[0m\u001b[0m_call_batch_hook\u001b[0m\u001b[0;34m(\u001b[0m\u001b[0;34m'test'\u001b[0m\u001b[0;34m,\u001b[0m \u001b[0;34m'begin'\u001b[0m\u001b[0;34m,\u001b[0m \u001b[0mbatch_index\u001b[0m\u001b[0;34m,\u001b[0m \u001b[0mbatch_logs\u001b[0m\u001b[0;34m)\u001b[0m\u001b[0;34m\u001b[0m\u001b[0;34m\u001b[0m\u001b[0m\n\u001b[0;32m--> 449\u001b[0;31m             \u001b[0mbatch_outs\u001b[0m \u001b[0;34m=\u001b[0m \u001b[0mf\u001b[0m\u001b[0;34m(\u001b[0m\u001b[0mins_batch\u001b[0m\u001b[0;34m)\u001b[0m\u001b[0;34m\u001b[0m\u001b[0;34m\u001b[0m\u001b[0m\n\u001b[0m\u001b[1;32m    450\u001b[0m             \u001b[0;32mif\u001b[0m \u001b[0misinstance\u001b[0m\u001b[0;34m(\u001b[0m\u001b[0mbatch_outs\u001b[0m\u001b[0;34m,\u001b[0m \u001b[0mlist\u001b[0m\u001b[0;34m)\u001b[0m\u001b[0;34m:\u001b[0m\u001b[0;34m\u001b[0m\u001b[0;34m\u001b[0m\u001b[0m\n\u001b[1;32m    451\u001b[0m                 \u001b[0;32mif\u001b[0m \u001b[0mbatch_index\u001b[0m \u001b[0;34m==\u001b[0m \u001b[0;36m0\u001b[0m\u001b[0;34m:\u001b[0m\u001b[0;34m\u001b[0m\u001b[0;34m\u001b[0m\u001b[0m\n",
            "\u001b[0;32m/usr/local/lib/python3.6/dist-packages/tensorflow_core/python/keras/backend.py\u001b[0m in \u001b[0;36m__call__\u001b[0;34m(self, inputs)\u001b[0m\n\u001b[1;32m   3725\u001b[0m         \u001b[0mvalue\u001b[0m \u001b[0;34m=\u001b[0m \u001b[0mmath_ops\u001b[0m\u001b[0;34m.\u001b[0m\u001b[0mcast\u001b[0m\u001b[0;34m(\u001b[0m\u001b[0mvalue\u001b[0m\u001b[0;34m,\u001b[0m \u001b[0mtensor\u001b[0m\u001b[0;34m.\u001b[0m\u001b[0mdtype\u001b[0m\u001b[0;34m)\u001b[0m\u001b[0;34m\u001b[0m\u001b[0;34m\u001b[0m\u001b[0m\n\u001b[1;32m   3726\u001b[0m       \u001b[0mconverted_inputs\u001b[0m\u001b[0;34m.\u001b[0m\u001b[0mappend\u001b[0m\u001b[0;34m(\u001b[0m\u001b[0mvalue\u001b[0m\u001b[0;34m)\u001b[0m\u001b[0;34m\u001b[0m\u001b[0;34m\u001b[0m\u001b[0m\n\u001b[0;32m-> 3727\u001b[0;31m     \u001b[0moutputs\u001b[0m \u001b[0;34m=\u001b[0m \u001b[0mself\u001b[0m\u001b[0;34m.\u001b[0m\u001b[0m_graph_fn\u001b[0m\u001b[0;34m(\u001b[0m\u001b[0;34m*\u001b[0m\u001b[0mconverted_inputs\u001b[0m\u001b[0;34m)\u001b[0m\u001b[0;34m\u001b[0m\u001b[0;34m\u001b[0m\u001b[0m\n\u001b[0m\u001b[1;32m   3728\u001b[0m \u001b[0;34m\u001b[0m\u001b[0m\n\u001b[1;32m   3729\u001b[0m     \u001b[0;31m# EagerTensor.numpy() will often make a copy to ensure memory safety.\u001b[0m\u001b[0;34m\u001b[0m\u001b[0;34m\u001b[0m\u001b[0;34m\u001b[0m\u001b[0m\n",
            "\u001b[0;32m/usr/local/lib/python3.6/dist-packages/tensorflow_core/python/eager/function.py\u001b[0m in \u001b[0;36m__call__\u001b[0;34m(self, *args, **kwargs)\u001b[0m\n\u001b[1;32m   1549\u001b[0m       \u001b[0mTypeError\u001b[0m\u001b[0;34m:\u001b[0m \u001b[0mFor\u001b[0m \u001b[0minvalid\u001b[0m \u001b[0mpositional\u001b[0m\u001b[0;34m/\u001b[0m\u001b[0mkeyword\u001b[0m \u001b[0margument\u001b[0m \u001b[0mcombinations\u001b[0m\u001b[0;34m.\u001b[0m\u001b[0;34m\u001b[0m\u001b[0;34m\u001b[0m\u001b[0m\n\u001b[1;32m   1550\u001b[0m     \"\"\"\n\u001b[0;32m-> 1551\u001b[0;31m     \u001b[0;32mreturn\u001b[0m \u001b[0mself\u001b[0m\u001b[0;34m.\u001b[0m\u001b[0m_call_impl\u001b[0m\u001b[0;34m(\u001b[0m\u001b[0margs\u001b[0m\u001b[0;34m,\u001b[0m \u001b[0mkwargs\u001b[0m\u001b[0;34m)\u001b[0m\u001b[0;34m\u001b[0m\u001b[0;34m\u001b[0m\u001b[0m\n\u001b[0m\u001b[1;32m   1552\u001b[0m \u001b[0;34m\u001b[0m\u001b[0m\n\u001b[1;32m   1553\u001b[0m   \u001b[0;32mdef\u001b[0m \u001b[0m_call_impl\u001b[0m\u001b[0;34m(\u001b[0m\u001b[0mself\u001b[0m\u001b[0;34m,\u001b[0m \u001b[0margs\u001b[0m\u001b[0;34m,\u001b[0m \u001b[0mkwargs\u001b[0m\u001b[0;34m,\u001b[0m \u001b[0mcancellation_manager\u001b[0m\u001b[0;34m=\u001b[0m\u001b[0;32mNone\u001b[0m\u001b[0;34m)\u001b[0m\u001b[0;34m:\u001b[0m\u001b[0;34m\u001b[0m\u001b[0;34m\u001b[0m\u001b[0m\n",
            "\u001b[0;32m/usr/local/lib/python3.6/dist-packages/tensorflow_core/python/eager/function.py\u001b[0m in \u001b[0;36m_call_impl\u001b[0;34m(self, args, kwargs, cancellation_manager)\u001b[0m\n\u001b[1;32m   1589\u001b[0m       raise TypeError(\"Keyword arguments {} unknown. Expected {}.\".format(\n\u001b[1;32m   1590\u001b[0m           list(kwargs.keys()), list(self._arg_keywords)))\n\u001b[0;32m-> 1591\u001b[0;31m     \u001b[0;32mreturn\u001b[0m \u001b[0mself\u001b[0m\u001b[0;34m.\u001b[0m\u001b[0m_call_flat\u001b[0m\u001b[0;34m(\u001b[0m\u001b[0margs\u001b[0m\u001b[0;34m,\u001b[0m \u001b[0mself\u001b[0m\u001b[0;34m.\u001b[0m\u001b[0mcaptured_inputs\u001b[0m\u001b[0;34m,\u001b[0m \u001b[0mcancellation_manager\u001b[0m\u001b[0;34m)\u001b[0m\u001b[0;34m\u001b[0m\u001b[0;34m\u001b[0m\u001b[0m\n\u001b[0m\u001b[1;32m   1592\u001b[0m \u001b[0;34m\u001b[0m\u001b[0m\n\u001b[1;32m   1593\u001b[0m   \u001b[0;32mdef\u001b[0m \u001b[0m_filtered_call\u001b[0m\u001b[0;34m(\u001b[0m\u001b[0mself\u001b[0m\u001b[0;34m,\u001b[0m \u001b[0margs\u001b[0m\u001b[0;34m,\u001b[0m \u001b[0mkwargs\u001b[0m\u001b[0;34m)\u001b[0m\u001b[0;34m:\u001b[0m\u001b[0;34m\u001b[0m\u001b[0;34m\u001b[0m\u001b[0m\n",
            "\u001b[0;32m/usr/local/lib/python3.6/dist-packages/tensorflow_core/python/eager/function.py\u001b[0m in \u001b[0;36m_call_flat\u001b[0;34m(self, args, captured_inputs, cancellation_manager)\u001b[0m\n\u001b[1;32m   1690\u001b[0m       \u001b[0;31m# No tape is watching; skip to running the function.\u001b[0m\u001b[0;34m\u001b[0m\u001b[0;34m\u001b[0m\u001b[0;34m\u001b[0m\u001b[0m\n\u001b[1;32m   1691\u001b[0m       return self._build_call_outputs(self._inference_function.call(\n\u001b[0;32m-> 1692\u001b[0;31m           ctx, args, cancellation_manager=cancellation_manager))\n\u001b[0m\u001b[1;32m   1693\u001b[0m     forward_backward = self._select_forward_and_backward_functions(\n\u001b[1;32m   1694\u001b[0m         \u001b[0margs\u001b[0m\u001b[0;34m,\u001b[0m\u001b[0;34m\u001b[0m\u001b[0;34m\u001b[0m\u001b[0m\n",
            "\u001b[0;32m/usr/local/lib/python3.6/dist-packages/tensorflow_core/python/eager/function.py\u001b[0m in \u001b[0;36mcall\u001b[0;34m(self, ctx, args, cancellation_manager)\u001b[0m\n\u001b[1;32m    543\u001b[0m               \u001b[0minputs\u001b[0m\u001b[0;34m=\u001b[0m\u001b[0margs\u001b[0m\u001b[0;34m,\u001b[0m\u001b[0;34m\u001b[0m\u001b[0;34m\u001b[0m\u001b[0m\n\u001b[1;32m    544\u001b[0m               \u001b[0mattrs\u001b[0m\u001b[0;34m=\u001b[0m\u001b[0;34m(\u001b[0m\u001b[0;34m\"executor_type\"\u001b[0m\u001b[0;34m,\u001b[0m \u001b[0mexecutor_type\u001b[0m\u001b[0;34m,\u001b[0m \u001b[0;34m\"config_proto\"\u001b[0m\u001b[0;34m,\u001b[0m \u001b[0mconfig\u001b[0m\u001b[0;34m)\u001b[0m\u001b[0;34m,\u001b[0m\u001b[0;34m\u001b[0m\u001b[0;34m\u001b[0m\u001b[0m\n\u001b[0;32m--> 545\u001b[0;31m               ctx=ctx)\n\u001b[0m\u001b[1;32m    546\u001b[0m         \u001b[0;32melse\u001b[0m\u001b[0;34m:\u001b[0m\u001b[0;34m\u001b[0m\u001b[0;34m\u001b[0m\u001b[0m\n\u001b[1;32m    547\u001b[0m           outputs = execute.execute_with_cancellation(\n",
            "\u001b[0;32m/usr/local/lib/python3.6/dist-packages/tensorflow_core/python/eager/execute.py\u001b[0m in \u001b[0;36mquick_execute\u001b[0;34m(op_name, num_outputs, inputs, attrs, ctx, name)\u001b[0m\n\u001b[1;32m     65\u001b[0m     \u001b[0;32melse\u001b[0m\u001b[0;34m:\u001b[0m\u001b[0;34m\u001b[0m\u001b[0;34m\u001b[0m\u001b[0m\n\u001b[1;32m     66\u001b[0m       \u001b[0mmessage\u001b[0m \u001b[0;34m=\u001b[0m \u001b[0me\u001b[0m\u001b[0;34m.\u001b[0m\u001b[0mmessage\u001b[0m\u001b[0;34m\u001b[0m\u001b[0;34m\u001b[0m\u001b[0m\n\u001b[0;32m---> 67\u001b[0;31m     \u001b[0msix\u001b[0m\u001b[0;34m.\u001b[0m\u001b[0mraise_from\u001b[0m\u001b[0;34m(\u001b[0m\u001b[0mcore\u001b[0m\u001b[0;34m.\u001b[0m\u001b[0m_status_to_exception\u001b[0m\u001b[0;34m(\u001b[0m\u001b[0me\u001b[0m\u001b[0;34m.\u001b[0m\u001b[0mcode\u001b[0m\u001b[0;34m,\u001b[0m \u001b[0mmessage\u001b[0m\u001b[0;34m)\u001b[0m\u001b[0;34m,\u001b[0m \u001b[0;32mNone\u001b[0m\u001b[0;34m)\u001b[0m\u001b[0;34m\u001b[0m\u001b[0;34m\u001b[0m\u001b[0m\n\u001b[0m\u001b[1;32m     68\u001b[0m   \u001b[0;32mexcept\u001b[0m \u001b[0mTypeError\u001b[0m \u001b[0;32mas\u001b[0m \u001b[0me\u001b[0m\u001b[0;34m:\u001b[0m\u001b[0;34m\u001b[0m\u001b[0;34m\u001b[0m\u001b[0m\n\u001b[1;32m     69\u001b[0m     keras_symbolic_tensors = [\n",
            "\u001b[0;32m/usr/local/lib/python3.6/dist-packages/six.py\u001b[0m in \u001b[0;36mraise_from\u001b[0;34m(value, from_value)\u001b[0m\n",
            "\u001b[0;31mInvalidArgumentError\u001b[0m:  Incompatible shapes: [50,1369,1] vs. [50,5490,129]\n\t [[node loss_1/time_distributed_3_loss/f1_loss/mul (defined at /usr/local/lib/python3.6/dist-packages/keras/backend/tensorflow_backend.py:3009) ]] [Op:__inference_keras_scratch_graph_53868]\n\nFunction call stack:\nkeras_scratch_graph\n"
          ]
        }
      ]
    },
    {
      "cell_type": "markdown",
      "metadata": {
        "id": "WjabM_t-6Cm7",
        "colab_type": "text"
      },
      "source": [
        "# New Section"
      ]
    },
    {
      "cell_type": "markdown",
      "metadata": {
        "id": "adJ5sWL66RQM",
        "colab_type": "text"
      },
      "source": [
        "# New Section"
      ]
    },
    {
      "cell_type": "markdown",
      "metadata": {
        "id": "D-87pj1j6fv5",
        "colab_type": "text"
      },
      "source": [
        "# New Section"
      ]
    },
    {
      "cell_type": "markdown",
      "metadata": {
        "colab_type": "text",
        "id": "36S02j3ZEHaB"
      },
      "source": [
        "## Model Evaluation Tools\n",
        "1. Metrics (accuracy, f1, precision, recall). \n",
        "2. Visualising model's prediction\n",
        "3. Visualising `Y.npy` to know where the ones are inserted.\n",
        "4. Plot of metrics against epochs"
      ]
    },
    {
      "cell_type": "code",
      "metadata": {
        "id": "9rUsXvFt47B6",
        "colab_type": "code",
        "outputId": "d4f08220-ff8f-4244-8e2b-d2055d755d91",
        "colab": {
          "base_uri": "https://localhost:8080/",
          "height": 34
        }
      },
      "source": [
        "X_test_dev = np.load(PROJ_PATH + \"data/test/bryan_synthesised/X_test.npy\")\n",
        "Y_test_dev = np.load(PROJ_PATH + \"data/test/bryan_synthesised/Y_test.npy\")\n",
        "print(\"X: {} Y: {}\".format(X_test_dev.shape, Y_test_dev.shape))"
      ],
      "execution_count": 21,
      "outputs": [
        {
          "output_type": "stream",
          "text": [
            "X: (50, 5490, 129) Y: (50, 1369, 1)\n"
          ],
          "name": "stdout"
        }
      ]
    },
    {
      "cell_type": "code",
      "metadata": {
        "colab_type": "code",
        "id": "6W2RaaAM85_Q",
        "outputId": "329d4884-d3da-43a6-d0ef-25689b0db5db",
        "scrolled": true,
        "colab": {
          "base_uri": "https://localhost:8080/",
          "height": 34
        }
      },
      "source": [
        "X_test = np.load(PROJ_PATH + \"data/test/bryan_cont/X_test.npy\")\n",
        "X_test = X_test[:50]\n",
        "Y_test = np.load(PROJ_PATH + \"data/test/bryan_cont/Y_test.npy\")\n",
        "Y_test = Y_test[:50]\n",
        "print(\"X: {} Y: {}\".format(X_test.shape, Y_test.shape))"
      ],
      "execution_count": 22,
      "outputs": [
        {
          "output_type": "stream",
          "text": [
            "X: (50, 5490, 129) Y: (50, 1369, 1)\n"
          ],
          "name": "stdout"
        }
      ]
    },
    {
      "cell_type": "markdown",
      "metadata": {
        "colab_type": "text",
        "id": "LxjxLRvdCF0G"
      },
      "source": [
        "### Plot of metrics against epochs"
      ]
    },
    {
      "cell_type": "code",
      "metadata": {
        "colab_type": "code",
        "id": "fA84Xkm5-Ddb",
        "colab": {}
      },
      "source": [
        "def plot_history(history):\n",
        "\n",
        "    fig, axs = plt.subplots(2,3)\n",
        "    fig.set_size_inches(15,7.5,forward=True)\n",
        "    fig.tight_layout(pad=3.0)\n",
        "\n",
        "    # Plot training & validation accuracy values\n",
        "    axs[0,0].plot(history['accuracy'])\n",
        "    axs[0,0].plot(history['val_accuracy'])\n",
        "    axs[0,0].set_title('Model accuracy')\n",
        "    axs[0,0].set_ylabel('Accuracy')\n",
        "    axs[0,0].set_xlabel('Epoch')\n",
        "    axs[0,0].legend(['Train', 'Val'], loc='upper left')\n",
        "\n",
        "    # Plot training & validation loss values\n",
        "    axs[0,1].plot(history['loss'])\n",
        "    axs[0,1].plot(history['val_loss'])\n",
        "    axs[0,1].set_title('Model loss')\n",
        "    axs[0,1].set_ylabel('Loss')\n",
        "    axs[0,1].set_xlabel('Epoch')\n",
        "    axs[0,1].legend(['Train', 'Val'], loc='upper right')\n",
        "\n",
        "    # Plot precision loss values\n",
        "    axs[1,0].plot(history['precision'])\n",
        "    axs[1,0].plot(history['val_precision'])\n",
        "    axs[1,0].set_title('Model Precision')\n",
        "    axs[1,0].set_ylabel('Precision')\n",
        "    axs[1,0].set_xlabel('Epoch')\n",
        "    axs[1,0].legend(['Train', 'Val'], loc='upper left')\n",
        "\n",
        "    # Plot recall loss values\n",
        "    axs[1,1].plot(history['recall'])\n",
        "    axs[1,1].plot(history['val_recall'])\n",
        "    axs[1,1].set_title('Model Recall')\n",
        "    axs[1,1].set_ylabel('Recall')\n",
        "    axs[1,1].set_xlabel('Epoch')\n",
        "    axs[1,1].legend(['Train', 'Val'], loc='upper right')\n",
        "\n",
        "    axs[0,2].plot(history['auc'])\n",
        "    axs[0,2].plot(history['val_auc'])\n",
        "    axs[0,2].set_title('Model AUC')\n",
        "    axs[0,2].set_ylabel('AUC')\n",
        "    axs[0,2].set_xlabel('Epoch')\n",
        "    axs[0,2].legend(['Train', 'Val'], loc='upper right')\n",
        "\n",
        "    axs[1,2].set_visible(not axs[1,2].get_visible())"
      ],
      "execution_count": 0,
      "outputs": []
    },
    {
      "cell_type": "code",
      "metadata": {
        "colab_type": "code",
        "id": "UBLS-haQgjZq",
        "outputId": "ea224ba2-dd03-48bd-f91f-d05ee0ef6493",
        "colab": {
          "base_uri": "https://localhost:8080/",
          "height": 329
        }
      },
      "source": [
        "# Load history CHANGE HISTORY PATH HERE\n",
        "history_filename = \"bryan_bigru\"\n",
        "history = pickle.load(open(PROJ_PATH +f'models/history/{history_filename}', \"rb\"))\n",
        "plot_history(history)"
      ],
      "execution_count": 27,
      "outputs": [
        {
          "output_type": "display_data",
          "data": {
            "image/png": "[encoded data removed]",
            "text/plain": [
              "<Figure size 1080x540 with 6 Axes>"
            ]
          },
          "metadata": {
            "tags": [],
            "needs_background": "light"
          }
        }
      ]
    },
    {
      "cell_type": "markdown",
      "metadata": {
        "colab_type": "text",
        "id": "Plm76s9Bewbi"
      },
      "source": [
        "### Outputs accuracy, F1 score, precision, recall scores"
      ]
    },
    {
      "cell_type": "code",
      "metadata": {
        "colab_type": "code",
        "id": "rKfvIuGq7W7N",
        "colab": {}
      },
      "source": [
        "from sklearn.metrics import f1_score, recall_score, precision_score, accuracy_score\n",
        "\n",
        "# Evaluates the model on the test sets based on accuracy, precision, recall, and f1 score.\n",
        "def evaluate_model(model, X_test, Y_test, threshold=0.5):\n",
        "    # predict probabilities for dev set\n",
        "    Y_predict = model.predict(X_test, verbose=0)\n",
        "    # Applying sigmoid onto prediction of probabilities in order to use f-score\n",
        "    Y_predict = np.where(Y_predict > 0.3, 1, 0)\n",
        "\n",
        "    # flatten array in order to use fscore\n",
        "    Y_test_flattened = Y_test.flatten()\n",
        "    Y_predict_flattened = Y_predict.flatten()\n",
        "\n",
        "    # accuracy: (tp + tn) / (p + n)\n",
        "    accuracy = accuracy_score(Y_test_flattened, Y_predict_flattened)\n",
        "    print('Accuracy: %f' % accuracy)\n",
        "    # precision tp / (tp + fp)\n",
        "    precision = precision_score(Y_test_flattened, Y_predict_flattened)\n",
        "    print('Precision: %f' % precision)\n",
        "    # recall: tp / (tp + fn)\n",
        "    recall = recall_score(Y_test_flattened, Y_predict_flattened)\n",
        "    print('Recall: %f' % recall)\n",
        "    # f1: 2 tp / (2 tp + fp + fn)\n",
        "    f1 = f1_score(Y_test_flattened, Y_predict_flattened)\n",
        "    print('F1 score: %f' % f1)"
      ],
      "execution_count": 0,
      "outputs": []
    },
    {
      "cell_type": "markdown",
      "metadata": {
        "colab_type": "text",
        "id": "NIYTgYnuGGlC"
      },
      "source": [
        "Plots model's prediction for each `Ty` step for the `%index` example"
      ]
    },
    {
      "cell_type": "code",
      "metadata": {
        "colab_type": "code",
        "id": "snTPi4pg9UpC",
        "colab": {}
      },
      "source": [
        "# visualises model's prediction on the %index example of training input X.\n",
        "def visualize_prediction(model, X, index=0):\n",
        "    Y_predict = model.predict(X, verbose=0)\n",
        "\n",
        "    plt.subplot(2, 1, 2)\n",
        "    plt.plot(Y_predict[index,:,0])\n",
        "    plt.ylabel('probability')\n",
        "    plt.show()"
      ],
      "execution_count": 0,
      "outputs": []
    },
    {
      "cell_type": "markdown",
      "metadata": {
        "colab_type": "text",
        "id": "c_dH8fSwfyKh"
      },
      "source": [
        "Plots `Ty` for the `%index` example"
      ]
    },
    {
      "cell_type": "code",
      "metadata": {
        "colab_type": "code",
        "id": "IRRP11zlfo1y",
        "colab": {}
      },
      "source": [
        "def plot_Y(Y, index=0):\n",
        "    plt.plot(Y[index])"
      ],
      "execution_count": 0,
      "outputs": []
    },
    {
      "cell_type": "code",
      "metadata": {
        "id": "l19-EbJOyD18",
        "colab_type": "code",
        "outputId": "e1c213a7-e320-443e-d728-773c11d9ffa9",
        "colab": {
          "base_uri": "https://localhost:8080/",
          "height": 85
        }
      },
      "source": [
        "evaluate_model(model, X_test_dev, Y_test_dev)"
      ],
      "execution_count": 24,
      "outputs": [
        {
          "output_type": "stream",
          "text": [
            "Accuracy: 0.863871\n",
            "Precision: 0.163715\n",
            "Recall: 0.345714\n",
            "F1 score: 0.222204\n"
          ],
          "name": "stdout"
        }
      ]
    },
    {
      "cell_type": "code",
      "metadata": {
        "colab_type": "code",
        "id": "4GEswPXMOF81",
        "outputId": "19c97c98-1557-422c-a800-061ee4899360",
        "colab": {
          "base_uri": "https://localhost:8080/",
          "height": 85
        }
      },
      "source": [
        "evaluate_model(model, X_test, Y_test)"
      ],
      "execution_count": 25,
      "outputs": [
        {
          "output_type": "stream",
          "text": [
            "Accuracy: 0.869102\n",
            "Precision: 0.078051\n",
            "Recall: 0.090568\n",
            "F1 score: 0.083845\n"
          ],
          "name": "stdout"
        }
      ]
    },
    {
      "cell_type": "code",
      "metadata": {
        "colab_type": "code",
        "id": "YGdLi2c3JGnR",
        "outputId": "69da9762-3788-427f-ca31-024e083380e2",
        "colab": {
          "base_uri": "https://localhost:8080/",
          "height": 265
        }
      },
      "source": [
        "plot_Y(Y_test_dev, 3)"
      ],
      "execution_count": 0,
      "outputs": [
        {
          "output_type": "display_data",
          "data": {
            "image/png": "[encoded data removed]",
            "text/plain": [
              "<Figure size 432x288 with 1 Axes>"
            ]
          },
          "metadata": {
            "tags": [],
            "needs_background": "light"
          }
        }
      ]
    },
    {
      "cell_type": "code",
      "metadata": {
        "colab_type": "code",
        "id": "viZmisCNI9bE",
        "outputId": "558fd284-1352-4339-ae15-0daf8c7083f3",
        "colab": {
          "base_uri": "https://localhost:8080/",
          "height": 147
        }
      },
      "source": [
        "visualize_prediction(model, X_test_dev, 3)"
      ],
      "execution_count": 0,
      "outputs": [
        {
          "output_type": "display_data",
          "data": {
            "image/png": "[encoded data removed]",
            "text/plain": [
              "<Figure size 432x288 with 1 Axes>"
            ]
          },
          "metadata": {
            "tags": [],
            "needs_background": "light"
          }
        }
      ]
    },
    {
      "cell_type": "markdown",
      "metadata": {
        "colab_type": "text",
        "id": "ZGwQ9AS6RRxQ"
      },
      "source": [
        "## Saving the model"
      ]
    },
    {
      "cell_type": "code",
      "metadata": {
        "colab_type": "code",
        "id": "VpMIfZQRRRDM",
        "colab": {}
      },
      "source": [
        "model.save(PROJ_PATH + \"models/please_save_me.h5\")"
      ],
      "execution_count": 0,
      "outputs": []
    },
    {
      "cell_type": "markdown",
      "metadata": {
        "colab_type": "text",
        "id": "pRMwSS97OLGr"
      },
      "source": [
        "## [Doesn't work] Confirming that the bias fix helps\n"
      ]
    },
    {
      "cell_type": "code",
      "metadata": {
        "colab_type": "code",
        "id": "JLoO6fdVOOzO",
        "outputId": "535442da-45ee-441f-944f-8aa68db16581",
        "colab": {
          "base_uri": "https://localhost:8080/",
          "height": 105
        }
      },
      "source": [
        "zero_bias_model = create_model(input_shape = (Tx, n_freq), output_bias = None)\n",
        "model_train(model, X, Y, X_dev, Y_dev)"
      ],
      "execution_count": 0,
      "outputs": [
        {
          "output_type": "stream",
          "text": [
            "Train on 100 samples, validate on 50 samples\n",
            "Epoch 1/1\n",
            "100/100 [==============================] - 109s 1s/step - loss: 1.0449 - val_loss: 0.6329\n"
          ],
          "name": "stdout"
        },
        {
          "output_type": "execute_result",
          "data": {
            "text/plain": [
              "<keras.callbacks.callbacks.History at 0x7f5eb964ccf8>"
            ]
          },
          "metadata": {
            "tags": []
          },
          "execution_count": 225
        }
      ]
    },
    {
      "cell_type": "code",
      "metadata": {
        "colab_type": "code",
        "id": "4fvrigkdOt8C",
        "outputId": "b035d42d-1a31-4a72-ccad-23f0bfb2fef2",
        "colab": {
          "base_uri": "https://localhost:8080/",
          "height": 105
        }
      },
      "source": [
        "careful_bias_model = create_model(input_shape = (Tx, n_freq), output_bias = initial_bias)\n",
        "model_train(model, X, Y, X_dev, Y_dev)"
      ],
      "execution_count": 0,
      "outputs": [
        {
          "output_type": "stream",
          "text": [
            "Train on 100 samples, validate on 50 samples\n",
            "Epoch 1/1\n",
            "100/100 [==============================] - 106s 1s/step - loss: 0.9929 - val_loss: 0.6188\n"
          ],
          "name": "stdout"
        },
        {
          "output_type": "execute_result",
          "data": {
            "text/plain": [
              "<keras.callbacks.callbacks.History at 0x7f5eb5dd9e80>"
            ]
          },
          "metadata": {
            "tags": []
          },
          "execution_count": 227
        }
      ]
    },
    {
      "cell_type": "code",
      "metadata": {
        "colab_type": "code",
        "id": "dywik-bMXMIH",
        "outputId": "3a7e6887-569c-4245-9dea-a3174cd5f3ad",
        "colab": {
          "base_uri": "https://localhost:8080/",
          "height": 207
        }
      },
      "source": [
        "evaluate_model(zero_bias_model, X_test, Y_test, 0.3)\n",
        "evaluate_model(careful_bias_model, X_test, Y_test, 0.3)"
      ],
      "execution_count": 0,
      "outputs": [
        {
          "output_type": "stream",
          "text": [
            "Accuracy: 0.256947\n",
            "Precision: 0.036460\n",
            "Recall: 0.777778\n",
            "F1 score: 0.069654\n",
            "Accuracy: 0.964237\n",
            "Precision: 0.000000\n",
            "Recall: 0.000000\n",
            "F1 score: 0.000000\n"
          ],
          "name": "stdout"
        },
        {
          "output_type": "stream",
          "text": [
            "/usr/local/lib/python3.6/dist-packages/sklearn/metrics/_classification.py:1272: UndefinedMetricWarning: Precision is ill-defined and being set to 0.0 due to no predicted samples. Use `zero_division` parameter to control this behavior.\n",
            "  _warn_prf(average, modifier, msg_start, len(result))\n"
          ],
          "name": "stderr"
        }
      ]
    },
    {
      "cell_type": "code",
      "metadata": {
        "colab_type": "code",
        "id": "2u60EpQtdgPE",
        "outputId": "802576cd-eb02-48c8-bfdb-a12575421d76",
        "colab": {
          "base_uri": "https://localhost:8080/",
          "height": 164
        }
      },
      "source": [
        "visualize_prediction(model, X_test)"
      ],
      "execution_count": 0,
      "outputs": [
        {
          "output_type": "error",
          "ename": "NameError",
          "evalue": "ignored",
          "traceback": [
            "\u001b[0;31m---------------------------------------------------------------------------\u001b[0m",
            "\u001b[0;31mNameError\u001b[0m                                 Traceback (most recent call last)",
            "\u001b[0;32m<ipython-input-1-e743a7508c41>\u001b[0m in \u001b[0;36m<module>\u001b[0;34m()\u001b[0m\n\u001b[0;32m----> 1\u001b[0;31m \u001b[0mvisualize_prediction\u001b[0m\u001b[0;34m(\u001b[0m\u001b[0mmodel\u001b[0m\u001b[0;34m,\u001b[0m \u001b[0mX_test\u001b[0m\u001b[0;34m)\u001b[0m\u001b[0;34m\u001b[0m\u001b[0;34m\u001b[0m\u001b[0m\n\u001b[0m",
            "\u001b[0;31mNameError\u001b[0m: name 'visualize_prediction' is not defined"
          ]
        }
      ]
    },
    {
      "cell_type": "code",
      "metadata": {
        "colab_type": "code",
        "id": "jrLCu-jWdo-z",
        "outputId": "cd3c3321-6962-4ae1-d5fa-aa882e4e7843",
        "colab": {
          "base_uri": "https://localhost:8080/",
          "height": 282
        }
      },
      "source": [
        "plt.plot(Y_test[0]) # TODO: add into evaluation tools"
      ],
      "execution_count": 0,
      "outputs": [
        {
          "output_type": "execute_result",
          "data": {
            "text/plain": [
              "[<matplotlib.lines.Line2D at 0x7f0165b69a90>]"
            ]
          },
          "metadata": {
            "tags": []
          },
          "execution_count": 17
        },
        {
          "output_type": "display_data",
          "data": {
            "image/png": "[encoded data removed]",
            "text/plain": [
              "<Figure size 432x288 with 1 Axes>"
            ]
          },
          "metadata": {
            "tags": []
          }
        }
      ]
    },
    {
      "cell_type": "code",
      "metadata": {
        "colab_type": "code",
        "id": "-zPszFjfdcoC",
        "outputId": "837e88d3-cb07-4cfc-9861-b1b0178e21aa",
        "colab": {
          "base_uri": "https://localhost:8080/",
          "height": 85
        }
      },
      "source": [
        "evaluate_model(model, X_test, Y_test, 0.5)"
      ],
      "execution_count": 0,
      "outputs": [
        {
          "output_type": "stream",
          "text": [
            "Accuracy: 0.289730\n",
            "Precision: 0.166278\n",
            "Recall: 0.962681\n",
            "F1 score: 0.283575\n"
          ],
          "name": "stdout"
        }
      ]
    },
    {
      "cell_type": "markdown",
      "metadata": {
        "colab_type": "text",
        "id": "lJgwdZNKbYyF"
      },
      "source": [
        "Notice how there is only one sharp peak in the `careful_bias_model` but many sharp peaks in `zero_bias_model`"
      ]
    },
    {
      "cell_type": "code",
      "metadata": {
        "colab_type": "code",
        "id": "s_aPp2kWaPl4",
        "outputId": "a9d597c2-b2d7-458e-b423-d535d01f4df8",
        "colab": {
          "base_uri": "https://localhost:8080/",
          "height": 292
        }
      },
      "source": [
        "visualize_prediction(careful_bias_model, X_test)"
      ],
      "execution_count": 0,
      "outputs": [
        {
          "output_type": "display_data",
          "data": {
            "image/png": "[encoded data removed]",
            "text/plain": [
              "<Figure size 864x720 with 1 Axes>"
            ]
          },
          "metadata": {
            "tags": []
          }
        }
      ]
    },
    {
      "cell_type": "code",
      "metadata": {
        "colab_type": "code",
        "id": "uVn3N1mhaTk2",
        "outputId": "e5f187f9-7703-4ebd-f1ce-25d0b15b58ea",
        "colab": {
          "base_uri": "https://localhost:8080/",
          "height": 294
        }
      },
      "source": [
        "visualize_prediction(zero_bias_model, X_test)"
      ],
      "execution_count": 0,
      "outputs": [
        {
          "output_type": "display_data",
          "data": {
            "image/png": "[encoded data removed]",
            "text/plain": [
              "<Figure size 864x720 with 1 Axes>"
            ]
          },
          "metadata": {
            "tags": []
          }
        }
      ]
    },
    {
      "cell_type": "code",
      "metadata": {
        "colab_type": "code",
        "id": "DV8XoPf_c7qx",
        "outputId": "d34fcfa3-467c-492e-dcae-591f2dfddd6e",
        "colab": {
          "base_uri": "https://localhost:8080/",
          "height": 609
        }
      },
      "source": [
        "plt.plot(Y_test[0]) "
      ],
      "execution_count": 0,
      "outputs": [
        {
          "output_type": "execute_result",
          "data": {
            "text/plain": [
              "[<matplotlib.lines.Line2D at 0x7f5eb95fee80>]"
            ]
          },
          "metadata": {
            "tags": []
          },
          "execution_count": 231
        },
        {
          "output_type": "display_data",
          "data": {
            "image/png": "[encoded data removed]",
            "text/plain": [
              "<Figure size 864x720 with 1 Axes>"
            ]
          },
          "metadata": {
            "tags": []
          }
        }
      ]
    },
    {
      "cell_type": "markdown",
      "metadata": {
        "colab_type": "text",
        "id": "7Itc4LKmGZa5"
      },
      "source": [
        "[Can delete the code below since `model.evaluate` is redundant now; it does not use metrics we want (ie f score)]"
      ]
    },
    {
      "cell_type": "code",
      "metadata": {
        "colab_type": "code",
        "id": "YVvPoblB6t-f",
        "colab": {}
      },
      "source": [
        "# For colab\n",
        "# Function to test the model on new data\n",
        "def model_test(model, X_dev, Y_dev):\n",
        "    loss, acc = model.evaluate(X_dev, Y_dev)\n",
        "    print(\"Dev set accuracy = \", acc)"
      ],
      "execution_count": 0,
      "outputs": []
    },
    {
      "cell_type": "code",
      "metadata": {
        "colab_type": "code",
        "id": "F6uTgE6187gq",
        "outputId": "d43109ef-2ac4-4815-b9ac-2251ee27f5a1",
        "colab": {
          "base_uri": "https://localhost:8080/",
          "height": 51
        }
      },
      "source": [
        "model_test(model, X_dev, Y_dev)"
      ],
      "execution_count": 0,
      "outputs": [
        {
          "output_type": "stream",
          "text": [
            "50/50 [==============================] - 8s 164ms/step\n",
            "Dev set accuracy =  0.9633309245109558\n"
          ],
          "name": "stdout"
        }
      ]
    },
    {
      "cell_type": "code",
      "metadata": {
        "colab_type": "code",
        "id": "DXPZrQlw_JDA",
        "colab": {}
      },
      "source": [
        "X_11 = np.load(\"/content/drive/My Drive/filler_detection/train_data/dev_npy/cont_11X.npy\")\n",
        "Y_11 = np.load(\"/content/drive/My Drive/filler_detection/train_data/dev_npy/cont_11Y.npy\")\n",
        "print(\"X: {} Y: {}\".format(X_11.shape, Y_11.shape))\n",
        "\n",
        "X_12 = np.load(\"/content/drive/My Drive/filler_detection/train_data/dev_npy/cont_12X.npy\")\n",
        "Y_12 = np.load(\"/content/drive/My Drive/filler_detection/train_data/dev_npy/cont_12Y.npy\")\n",
        "print(\"X: {} Y: {}\".format(X_12.shape, Y_12.shape))\n",
        "\n",
        "X_13 = np.load(\"/content/drive/My Drive/filler_detection/train_data/dev_npy/cont_13X.npy\")\n",
        "Y_13 = np.load(\"/content/drive/My Drive/filler_detection/train_data/dev_npy/cont_13Y.npy\")\n",
        "print(\"X: {} Y: {}\".format(X_13.shape, Y_13.shape))\n",
        "\n",
        "X_14 = np.load(\"/content/drive/My Drive/filler_detection/train_data/dev_npy/cont_14X.npy\")\n",
        "Y_14 = np.load(\"/content/drive/My Drive/filler_detection/train_data/dev_npy/cont_14Y.npy\")\n",
        "print(\"X: {} Y: {}\".format(X_14.shape, Y_14.shape))\n",
        "\n",
        "\n",
        "\n",
        "\n",
        "\n",
        "\n"
      ],
      "execution_count": 0,
      "outputs": []
    },
    {
      "cell_type": "code",
      "metadata": {
        "colab_type": "code",
        "id": "RuZi1Ghj_I0S",
        "colab": {}
      },
      "source": [
        "model_test(model, X_11, Y_11)\n",
        "model_test(model, X_12, Y_12)\n",
        "model_test(model, X_13, Y_13)\n",
        "model_test(model, X_14, Y_14)"
      ],
      "execution_count": 0,
      "outputs": []
    },
    {
      "cell_type": "code",
      "metadata": {
        "colab_type": "code",
        "id": "lo6H0xFiu-Bq",
        "colab": {}
      },
      "source": [
        "list_of_dev_ids = [11,12,13,14,20,21,22,23,24,30,31,32,33,34,35,36,37,38,39,310,40,41,42,43,44]\n",
        "for id in list_of_dev_ids:\n",
        "    X_id = np.load(\"/content/drive/My Drive/filler_detection/train_data/dev_npy/cont_\" + str(id) + \"X.npy\")\n",
        "\n",
        "    Y_id = np.load(\"/content/drive/My Drive/filler_detection/train_data/dev_npy/cont_\" + str(id) + \"Y.npy\")\n",
        "    print((\"X\" + str(id) + \": {} Y\" + str(id) + \": {}\").format(X_id.shape, Y_id.shape))\n",
        "    model_test(model, X_id, Y_id)\n",
        "\n",
        "model_test(model, X_11, Y_11)"
      ],
      "execution_count": 0,
      "outputs": []
    },
    {
      "cell_type": "markdown",
      "metadata": {
        "colab_type": "text",
        "id": "IhT_wdWf8XKP"
      },
      "source": [
        "## Hyperparameter Optimization"
      ]
    },
    {
      "cell_type": "markdown",
      "metadata": {
        "colab_type": "text",
        "id": "huv11AUU8XKQ"
      },
      "source": [
        "Redefine model train function to accept parameters..."
      ]
    },
    {
      "cell_type": "code",
      "metadata": {
        "colab_type": "code",
        "id": "1BEPqVS48XKQ",
        "colab": {}
      },
      "source": [
        "import talos\n",
        "\n",
        "# Function to fit and further train the model. Returns history (check documentation of `model.fit` for more details).\n",
        "# This function is a special version being used for hyperparameter optimization.\n",
        "def hyperparam_optimize(X, Y, X_dev, Y_dev, params):\n",
        "    \"\"\"\n",
        "    Function to train the model further using Adam optimiser and binary \n",
        "    cross entropy loss.\n",
        "    \n",
        "    Arguments:\n",
        "    model -- Model to train\n",
        "    X -- X data to train on\n",
        "    Y -- Y data to train on\n",
        "    \"\"\"\n",
        "    \n",
        "    model = create_model(input_shape = (Tx, n_freq), output_bias = None, dropout=params['dropout'])\n",
        "    \n",
        "    es = keras.callbacks.callbacks.EarlyStopping(monitor='val_loss', \n",
        "                                            min_delta=0.05, \n",
        "                                            patience=15, \n",
        "                                            verbose=1, \n",
        "                                            mode='auto', \n",
        "                                            baseline=None, \n",
        "                                            restore_best_weights=True)\n",
        "\n",
        "    \n",
        "    opt = Adam(lr=params['lr'], beta_1=0.9, beta_2=0.999, decay=0.01)\n",
        "    model.compile(loss=f1_loss, optimizer=opt)\n",
        "    \n",
        "    history = model.fit(X, Y, batch_size=25, epochs=40, validation_data=(X_dev, Y_dev), callbacks = [es])\n",
        "    return history, model"
      ],
      "execution_count": 0,
      "outputs": []
    },
    {
      "cell_type": "markdown",
      "metadata": {
        "colab_type": "text",
        "id": "ZhnlBXmX8XKU"
      },
      "source": [
        "Load params to use in Talos function..."
      ]
    },
    {
      "cell_type": "code",
      "metadata": {
        "colab_type": "code",
        "id": "1Yp63TPJ8XKU",
        "colab": {}
      },
      "source": [
        "params = {\n",
        "    'lr': [0.001, 0.003, 0.005, 0.007, 0.009, 0.01],\n",
        "    'dropout': [0.3, 0.4, 0.5, 0.6, 0.7]\n",
        "}"
      ],
      "execution_count": 0,
      "outputs": []
    },
    {
      "cell_type": "markdown",
      "metadata": {
        "colab_type": "text",
        "id": "KhF39wiu8XKX"
      },
      "source": [
        "Import Talos and use..."
      ]
    },
    {
      "cell_type": "code",
      "metadata": {
        "colab_type": "code",
        "id": "GSIkIwLN8XKY",
        "colab": {}
      },
      "source": [
        "import talos\n",
        "\n",
        "scan_object = talos.Scan(X, Y, \n",
        "                         x_val=X_dev, \n",
        "                         y_val=Y_dev, \n",
        "                         model=hyperparam_optimize, \n",
        "                         params=params, \n",
        "                         experiment_name='test')\n",
        "\n",
        "model_name = 'bryan_concat_LSTM_dropout_04'\n",
        "\n",
        "# Save object and model\n",
        "scan_object.best_model(metric='val_loss', asc=True).save(PROJ_PATH + f\"models/hyperparam_scan_data/{model_name}.h5\")\n",
        "with open(PROJ_PATH + f'models/hyperparam_scan_data/{model_name}.pkl', 'wb') as f:\n",
        "    pickle.dump(scan_object.data, f)"
      ],
      "execution_count": 0,
      "outputs": []
    },
    {
      "cell_type": "markdown",
      "metadata": {
        "colab_type": "text",
        "id": "fSrp5i6p8XKe"
      },
      "source": [
        "Get Talos data after running hyperparameter optimization..."
      ]
    },
    {
      "cell_type": "code",
      "metadata": {
        "colab_type": "code",
        "id": "nBEk74A98XKg",
        "colab": {}
      },
      "source": [
        "# Get data\n",
        "with open(PROJ_PATH + f'models/hyperparam_scan_data/{model_name}.pkl', 'rb') as f:\n",
        "    data = pickle.load(f)\n",
        "data"
      ],
      "execution_count": 0,
      "outputs": []
    }
  ]
}