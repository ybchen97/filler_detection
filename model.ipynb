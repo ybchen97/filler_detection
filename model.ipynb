{
  "nbformat": 4,
  "nbformat_minor": 0,
  "metadata": {
    "colab": {
      "name": "model.ipynb",
      "provenance": [],
      "include_colab_link": true
    },
    "kernelspec": {
      "display_name": "Python 3.7.5 64-bit",
      "language": "python",
      "name": "python37564bitf304d4ac23234a529ebef17df9391c14"
    },
    "language_info": {
      "codemirror_mode": {
        "name": "ipython",
        "version": 3
      },
      "file_extension": ".py",
      "mimetype": "text/x-python",
      "name": "python",
      "nbconvert_exporter": "python",
      "pygments_lexer": "ipython3",
      "version": "3.7.6"
    },
    "accelerator": "GPU"
  },
  "cells": [
    {
      "cell_type": "markdown",
      "metadata": {
        "id": "view-in-github",
        "colab_type": "text"
      },
      "source": [
        "<a href=\"https://colab.research.google.com/github/ybchen97/filler_detection/blob/master/model.ipynb\" target=\"_parent\"><img src=\"https://colab.research.google.com/assets/colab-badge.svg\" alt=\"Open In Colab\"/></a>"
      ]
    },
    {
      "cell_type": "markdown",
      "metadata": {
        "colab_type": "text",
        "id": "my6I-6tlRSuK"
      },
      "source": [
        "# Model"
      ]
    },
    {
      "cell_type": "markdown",
      "metadata": {
        "colab_type": "text",
        "id": "bAbmFvBVRXtY"
      },
      "source": [
        "Syncing from google drive and github... for more info on this code, refer [here](https://zerowithdot.com/colab-github-workflow/)"
      ]
    },
    {
      "cell_type": "code",
      "metadata": {
        "colab_type": "code",
        "id": "FO4R_OEE3LSV",
        "colab": {
          "base_uri": "https://localhost:8080/",
          "height": 86
        },
        "outputId": "483a9589-b677-446d-fa3d-2fc4a9f548e6"
      },
      "source": [
        "from google.colab import drive\n",
        "from os.path import join\n",
        "\n",
        "ROOT = '/content/drive'     # default for the drive\n",
        "PROJ = 'My Drive/filler_detection/train_data/XY_Train'       # path to your project on Drive\n",
        "PROJ2= 'My Drive/filler_detection/train_data/dev_npy'\n",
        "\n",
        "drive.mount(ROOT)           # we mount the drive at /content/drive\n",
        "\n",
        "PROJECT_PATH = join(ROOT, PROJ)\n",
        "PROJCT_PATH2 = join(ROOT, PROJ2)\n",
        "!mkdir \"{PROJECT_PATH}\"     # in case we haven't created it already   \n",
        "!mkdir \"{PROJECT_PATH2}\"\n",
        "\n",
        "GIT_PATH = \"https://github.com/ybchen97/filler_detection.git\"\n",
        "!mkdir ./temp\n",
        "!git clone \"{GIT_PATH}\"\n",
        "!mv ./temp/* \"{PROJECT_PATH}\"\n",
        "!rm -rf ./temp"
      ],
      "execution_count": 25,
      "outputs": [
        {
          "output_type": "stream",
          "text": [
            "Drive already mounted at /content/drive; to attempt to forcibly remount, call drive.mount(\"/content/drive\", force_remount=True).\n",
            "mkdir: cannot create directory ‘/content/drive/My Drive/filler_detection/train_data/XY_Train’: File exists\n",
            "fatal: destination path 'filler_detection' already exists and is not an empty directory.\n",
            "mv: cannot stat './temp/*': No such file or directory\n"
          ],
          "name": "stdout"
        }
      ]
    },
    {
      "cell_type": "markdown",
      "metadata": {
        "colab_type": "text",
        "id": "qa4hVHm5RouU"
      },
      "source": [
        "Install packages in this local notebook specified in requirements.txt"
      ]
    },
    {
      "cell_type": "code",
      "metadata": {
        "colab_type": "code",
        "id": "E3SSCyXL8lBb",
        "colab": {
          "base_uri": "https://localhost:8080/",
          "height": 1000
        },
        "outputId": "f00b330d-d37a-4329-ab59-c57a7b9512f2"
      },
      "source": [
        "!pip install -r '/content/filler_detection/requirements.txt'"
      ],
      "execution_count": 4,
      "outputs": [
        {
          "output_type": "stream",
          "text": [
            "Requirement already satisfied: absl-py==0.9.0 in /usr/local/lib/python3.6/dist-packages (from -r /content/filler_detection/requirements.txt (line 1)) (0.9.0)\n",
            "Collecting appnope==0.1.0\n",
            "  Downloading https://files.pythonhosted.org/packages/87/a9/7985e6a53402f294c8f0e8eff3151a83f1fb901fa92909bb3ff29b4d22af/appnope-0.1.0-py2.py3-none-any.whl\n",
            "Requirement already satisfied: astor==0.8.1 in /usr/local/lib/python3.6/dist-packages (from -r /content/filler_detection/requirements.txt (line 3)) (0.8.1)\n",
            "Requirement already satisfied: backcall==0.1.0 in /usr/local/lib/python3.6/dist-packages (from -r /content/filler_detection/requirements.txt (line 4)) (0.1.0)\n",
            "Collecting cachetools==4.0.0\n",
            "  Downloading https://files.pythonhosted.org/packages/08/6a/abf83cb951617793fd49c98cb9456860f5df66ff89883c8660aa0672d425/cachetools-4.0.0-py3-none-any.whl\n",
            "Requirement already satisfied: certifi==2019.11.28 in /usr/local/lib/python3.6/dist-packages (from -r /content/filler_detection/requirements.txt (line 6)) (2019.11.28)\n",
            "Requirement already satisfied: chardet==3.0.4 in /usr/local/lib/python3.6/dist-packages (from -r /content/filler_detection/requirements.txt (line 7)) (3.0.4)\n",
            "Requirement already satisfied: cycler==0.10.0 in /usr/local/lib/python3.6/dist-packages (from -r /content/filler_detection/requirements.txt (line 8)) (0.10.0)\n",
            "Requirement already satisfied: decorator==4.4.2 in /usr/local/lib/python3.6/dist-packages (from -r /content/filler_detection/requirements.txt (line 9)) (4.4.2)\n",
            "Collecting gast==0.2.2\n",
            "  Downloading https://files.pythonhosted.org/packages/4e/35/11749bf99b2d4e3cceb4d55ca22590b0d7c2c62b9de38ac4a4a7f4687421/gast-0.2.2.tar.gz\n",
            "Collecting google-auth==1.11.3\n",
            "\u001b[?25l  Downloading https://files.pythonhosted.org/packages/f7/f8/2da482a6165ef3f28d52faf8c2ca31628129a84a294033eb399ef500e265/google_auth-1.11.3-py2.py3-none-any.whl (76kB)\n",
            "\u001b[K     |████████████████████████████████| 81kB 7.2MB/s \n",
            "\u001b[?25hRequirement already satisfied: google-auth-oauthlib==0.4.1 in /usr/local/lib/python3.6/dist-packages (from -r /content/filler_detection/requirements.txt (line 12)) (0.4.1)\n",
            "Requirement already satisfied: google-pasta==0.2.0 in /usr/local/lib/python3.6/dist-packages (from -r /content/filler_detection/requirements.txt (line 13)) (0.2.0)\n",
            "Requirement already satisfied: grpcio==1.27.2 in /usr/local/lib/python3.6/dist-packages (from -r /content/filler_detection/requirements.txt (line 14)) (1.27.2)\n",
            "Requirement already satisfied: h5py==2.10.0 in /usr/local/lib/python3.6/dist-packages (from -r /content/filler_detection/requirements.txt (line 15)) (2.10.0)\n",
            "Collecting idna==2.9\n",
            "\u001b[?25l  Downloading https://files.pythonhosted.org/packages/89/e3/afebe61c546d18fb1709a61bee788254b40e736cff7271c7de5de2dc4128/idna-2.9-py2.py3-none-any.whl (58kB)\n",
            "\u001b[K     |████████████████████████████████| 61kB 7.5MB/s \n",
            "\u001b[?25hCollecting ipython==7.13.0\n",
            "\u001b[?25l  Downloading https://files.pythonhosted.org/packages/61/6f/69f1eec859ce48a86660529b166b6ea466f0f4ab98e4fc0807b835aa22c6/ipython-7.13.0-py3-none-any.whl (780kB)\n",
            "\u001b[K     |████████████████████████████████| 788kB 15.0MB/s \n",
            "\u001b[?25hRequirement already satisfied: ipython-genutils==0.2.0 in /usr/local/lib/python3.6/dist-packages (from -r /content/filler_detection/requirements.txt (line 18)) (0.2.0)\n",
            "Requirement already satisfied: jedi==0.16.0 in /usr/local/lib/python3.6/dist-packages (from -r /content/filler_detection/requirements.txt (line 19)) (0.16.0)\n",
            "Collecting Keras==2.3.1\n",
            "\u001b[?25l  Downloading https://files.pythonhosted.org/packages/ad/fd/6bfe87920d7f4fd475acd28500a42482b6b84479832bdc0fe9e589a60ceb/Keras-2.3.1-py2.py3-none-any.whl (377kB)\n",
            "\u001b[K     |████████████████████████████████| 378kB 21.9MB/s \n",
            "\u001b[?25hRequirement already satisfied: Keras-Applications==1.0.8 in /usr/local/lib/python3.6/dist-packages (from -r /content/filler_detection/requirements.txt (line 21)) (1.0.8)\n",
            "Requirement already satisfied: Keras-Preprocessing==1.1.0 in /usr/local/lib/python3.6/dist-packages (from -r /content/filler_detection/requirements.txt (line 22)) (1.1.0)\n",
            "Requirement already satisfied: kiwisolver==1.1.0 in /usr/local/lib/python3.6/dist-packages (from -r /content/filler_detection/requirements.txt (line 23)) (1.1.0)\n",
            "Requirement already satisfied: Markdown==3.2.1 in /usr/local/lib/python3.6/dist-packages (from -r /content/filler_detection/requirements.txt (line 24)) (3.2.1)\n",
            "Collecting matplotlib==3.2.0\n",
            "\u001b[?25l  Downloading https://files.pythonhosted.org/packages/e6/fc/5889757c4c70c552f56fddc8fbdcab565475686cdebdfa1806a9d54cd53b/matplotlib-3.2.0-cp36-cp36m-manylinux1_x86_64.whl (12.4MB)\n",
            "\u001b[K     |████████████████████████████████| 12.4MB 20.8MB/s \n",
            "\u001b[?25hCollecting numpy==1.18.1\n",
            "\u001b[?25l  Downloading https://files.pythonhosted.org/packages/62/20/4d43e141b5bc426ba38274933ef8e76e85c7adea2c321ecf9ebf7421cedf/numpy-1.18.1-cp36-cp36m-manylinux1_x86_64.whl (20.1MB)\n",
            "\u001b[K     |████████████████████████████████| 20.2MB 158kB/s \n",
            "\u001b[?25hRequirement already satisfied: oauthlib==3.1.0 in /usr/local/lib/python3.6/dist-packages (from -r /content/filler_detection/requirements.txt (line 27)) (3.1.0)\n",
            "Requirement already satisfied: opt-einsum==3.2.0 in /usr/local/lib/python3.6/dist-packages (from -r /content/filler_detection/requirements.txt (line 28)) (3.2.0)\n",
            "Requirement already satisfied: parso==0.6.2 in /usr/local/lib/python3.6/dist-packages (from -r /content/filler_detection/requirements.txt (line 29)) (0.6.2)\n",
            "Requirement already satisfied: pexpect==4.8.0 in /usr/local/lib/python3.6/dist-packages (from -r /content/filler_detection/requirements.txt (line 30)) (4.8.0)\n",
            "Requirement already satisfied: pickleshare==0.7.5 in /usr/local/lib/python3.6/dist-packages (from -r /content/filler_detection/requirements.txt (line 31)) (0.7.5)\n",
            "Collecting prompt-toolkit==3.0.4\n",
            "\u001b[?25l  Downloading https://files.pythonhosted.org/packages/ab/29/d744cee89937b7e52a5c20ca237a6c77298f757965eb3eb0c653df1bfb14/prompt_toolkit-3.0.4-py3-none-any.whl (351kB)\n",
            "\u001b[K     |████████████████████████████████| 358kB 64.3MB/s \n",
            "\u001b[?25hCollecting protobuf==3.11.3\n",
            "\u001b[?25l  Downloading https://files.pythonhosted.org/packages/57/02/5432412c162989260fab61fa65e0a490c1872739eb91a659896e4d554b26/protobuf-3.11.3-cp36-cp36m-manylinux1_x86_64.whl (1.3MB)\n",
            "\u001b[K     |████████████████████████████████| 1.3MB 62.3MB/s \n",
            "\u001b[?25hRequirement already satisfied: ptyprocess==0.6.0 in /usr/local/lib/python3.6/dist-packages (from -r /content/filler_detection/requirements.txt (line 34)) (0.6.0)\n",
            "Requirement already satisfied: pyasn1==0.4.8 in /usr/local/lib/python3.6/dist-packages (from -r /content/filler_detection/requirements.txt (line 35)) (0.4.8)\n",
            "Requirement already satisfied: pyasn1-modules==0.2.8 in /usr/local/lib/python3.6/dist-packages (from -r /content/filler_detection/requirements.txt (line 36)) (0.2.8)\n",
            "Collecting pydub==0.23.1\n",
            "  Downloading https://files.pythonhosted.org/packages/79/db/eaf620b73a1eec3c8c6f8f5b0b236a50f9da88ad57802154b7ba7664d0b8/pydub-0.23.1-py2.py3-none-any.whl\n",
            "Collecting Pygments==2.6.1\n",
            "\u001b[?25l  Downloading https://files.pythonhosted.org/packages/2d/68/106af3ae51daf807e9cdcba6a90e518954eb8b70341cee52995540a53ead/Pygments-2.6.1-py3-none-any.whl (914kB)\n",
            "\u001b[K     |████████████████████████████████| 921kB 45.9MB/s \n",
            "\u001b[?25hRequirement already satisfied: pyparsing==2.4.6 in /usr/local/lib/python3.6/dist-packages (from -r /content/filler_detection/requirements.txt (line 39)) (2.4.6)\n",
            "Requirement already satisfied: python-dateutil==2.8.1 in /usr/local/lib/python3.6/dist-packages (from -r /content/filler_detection/requirements.txt (line 40)) (2.8.1)\n",
            "Collecting PyYAML==5.3\n",
            "\u001b[?25l  Downloading https://files.pythonhosted.org/packages/3d/d9/ea9816aea31beeadccd03f1f8b625ecf8f645bd66744484d162d84803ce5/PyYAML-5.3.tar.gz (268kB)\n",
            "\u001b[K     |████████████████████████████████| 276kB 55.6MB/s \n",
            "\u001b[?25hCollecting requests==2.23.0\n",
            "\u001b[?25l  Downloading https://files.pythonhosted.org/packages/1a/70/1935c770cb3be6e3a8b78ced23d7e0f3b187f5cbfab4749523ed65d7c9b1/requests-2.23.0-py2.py3-none-any.whl (58kB)\n",
            "\u001b[K     |████████████████████████████████| 61kB 8.9MB/s \n",
            "\u001b[?25hRequirement already satisfied: requests-oauthlib==1.3.0 in /usr/local/lib/python3.6/dist-packages (from -r /content/filler_detection/requirements.txt (line 43)) (1.3.0)\n",
            "Requirement already satisfied: rsa==4.0 in /usr/local/lib/python3.6/dist-packages (from -r /content/filler_detection/requirements.txt (line 44)) (4.0)\n",
            "Requirement already satisfied: scipy==1.4.1 in /usr/local/lib/python3.6/dist-packages (from -r /content/filler_detection/requirements.txt (line 45)) (1.4.1)\n",
            "Collecting six==1.14.0\n",
            "  Downloading https://files.pythonhosted.org/packages/65/eb/1f97cb97bfc2390a276969c6fae16075da282f5058082d4cb10c6c5c1dba/six-1.14.0-py2.py3-none-any.whl\n",
            "Collecting tensorboard==2.1.1\n",
            "\u001b[?25l  Downloading https://files.pythonhosted.org/packages/d9/41/bbf49b61370e4f4d245d4c6051dfb6db80cec672605c91b1652ac8cc3d38/tensorboard-2.1.1-py3-none-any.whl (3.8MB)\n",
            "\u001b[K     |████████████████████████████████| 3.9MB 53.0MB/s \n",
            "\u001b[?25hCollecting tensorflow==2.1.0\n",
            "\u001b[?25l  Downloading https://files.pythonhosted.org/packages/85/d4/c0cd1057b331bc38b65478302114194bd8e1b9c2bbc06e300935c0e93d90/tensorflow-2.1.0-cp36-cp36m-manylinux2010_x86_64.whl (421.8MB)\n",
            "\u001b[K     |████████████████████████████████| 421.8MB 40kB/s \n",
            "\u001b[?25hCollecting tensorflow-estimator==2.1.0\n",
            "\u001b[?25l  Downloading https://files.pythonhosted.org/packages/18/90/b77c328a1304437ab1310b463e533fa7689f4bfc41549593056d812fab8e/tensorflow_estimator-2.1.0-py2.py3-none-any.whl (448kB)\n",
            "\u001b[K     |████████████████████████████████| 450kB 51.5MB/s \n",
            "\u001b[?25hRequirement already satisfied: termcolor==1.1.0 in /usr/local/lib/python3.6/dist-packages (from -r /content/filler_detection/requirements.txt (line 50)) (1.1.0)\n",
            "Collecting tf-utils==1.0.4\n",
            "  Downloading https://files.pythonhosted.org/packages/bb/bf/f6800f5d34c2563849a900abaa8e8fdb44e859f9a45e45c35afcfd77d742/tf_utils-1.0.4-py3-none-any.whl\n",
            "Requirement already satisfied: traitlets==4.3.3 in /usr/local/lib/python3.6/dist-packages (from -r /content/filler_detection/requirements.txt (line 52)) (4.3.3)\n",
            "Collecting urllib3==1.25.8\n",
            "\u001b[?25l  Downloading https://files.pythonhosted.org/packages/e8/74/6e4f91745020f967d09332bb2b8b9b10090957334692eb88ea4afe91b77f/urllib3-1.25.8-py2.py3-none-any.whl (125kB)\n",
            "\u001b[K     |████████████████████████████████| 133kB 76.1MB/s \n",
            "\u001b[?25hCollecting wcwidth==0.1.8\n",
            "  Downloading https://files.pythonhosted.org/packages/58/b4/4850a0ccc6f567cc0ebe7060d20ffd4258b8210efadc259da62dc6ed9c65/wcwidth-0.1.8-py2.py3-none-any.whl\n",
            "Requirement already satisfied: Werkzeug==1.0.0 in /usr/local/lib/python3.6/dist-packages (from -r /content/filler_detection/requirements.txt (line 55)) (1.0.0)\n",
            "Requirement already satisfied: wrapt==1.12.1 in /usr/local/lib/python3.6/dist-packages (from -r /content/filler_detection/requirements.txt (line 56)) (1.12.1)\n",
            "Requirement already satisfied: setuptools>=40.3.0 in /usr/local/lib/python3.6/dist-packages (from google-auth==1.11.3->-r /content/filler_detection/requirements.txt (line 11)) (46.0.0)\n",
            "Requirement already satisfied: wheel>=0.26; python_version >= \"3\" in /usr/local/lib/python3.6/dist-packages (from tensorboard==2.1.1->-r /content/filler_detection/requirements.txt (line 47)) (0.34.2)\n",
            "Building wheels for collected packages: gast, PyYAML\n",
            "  Building wheel for gast (setup.py) ... \u001b[?25l\u001b[?25hdone\n",
            "  Created wheel for gast: filename=gast-0.2.2-cp36-none-any.whl size=7540 sha256=6f3bee0f3114409b3978363523548eb596a36fa93f78f39f28a71be9506fbdbc\n",
            "  Stored in directory: /root/.cache/pip/wheels/5c/2e/7e/a1d4d4fcebe6c381f378ce7743a3ced3699feb89bcfbdadadd\n",
            "  Building wheel for PyYAML (setup.py) ... \u001b[?25l\u001b[?25hdone\n",
            "  Created wheel for PyYAML: filename=PyYAML-5.3-cp36-cp36m-linux_x86_64.whl size=44229 sha256=b71f72e95de6ffe760cee050b60f0deca8afc66566b0ee1f3b0b185344419ede\n",
            "  Stored in directory: /root/.cache/pip/wheels/e4/76/4d/a95b8dd7b452b69e8ed4f68b69e1b55e12c9c9624dd962b191\n",
            "Successfully built gast PyYAML\n",
            "\u001b[31mERROR: kaggle 1.5.6 has requirement urllib3<1.25,>=1.21.1, but you'll have urllib3 1.25.8 which is incompatible.\u001b[0m\n",
            "\u001b[31mERROR: jupyter-console 5.2.0 has requirement prompt-toolkit<2.0.0,>=1.0.0, but you'll have prompt-toolkit 3.0.4 which is incompatible.\u001b[0m\n",
            "\u001b[31mERROR: google-colab 1.0.0 has requirement google-auth~=1.7.2, but you'll have google-auth 1.11.3 which is incompatible.\u001b[0m\n",
            "\u001b[31mERROR: google-colab 1.0.0 has requirement ipython~=5.5.0, but you'll have ipython 7.13.0 which is incompatible.\u001b[0m\n",
            "\u001b[31mERROR: google-colab 1.0.0 has requirement requests~=2.21.0, but you'll have requests 2.23.0 which is incompatible.\u001b[0m\n",
            "\u001b[31mERROR: google-colab 1.0.0 has requirement six~=1.12.0, but you'll have six 1.14.0 which is incompatible.\u001b[0m\n",
            "\u001b[31mERROR: datascience 0.10.6 has requirement folium==0.2.1, but you'll have folium 0.8.3 which is incompatible.\u001b[0m\n",
            "\u001b[31mERROR: albumentations 0.1.12 has requirement imgaug<0.2.7,>=0.2.5, but you'll have imgaug 0.2.9 which is incompatible.\u001b[0m\n",
            "Installing collected packages: appnope, cachetools, gast, six, google-auth, idna, Pygments, wcwidth, prompt-toolkit, ipython, numpy, PyYAML, Keras, matplotlib, protobuf, pydub, urllib3, requests, tensorboard, tensorflow-estimator, tensorflow, tf-utils\n",
            "  Found existing installation: cachetools 3.1.1\n",
            "    Uninstalling cachetools-3.1.1:\n",
            "      Successfully uninstalled cachetools-3.1.1\n",
            "  Found existing installation: gast 0.3.3\n",
            "    Uninstalling gast-0.3.3:\n",
            "      Successfully uninstalled gast-0.3.3\n",
            "  Found existing installation: six 1.12.0\n",
            "    Uninstalling six-1.12.0:\n",
            "      Successfully uninstalled six-1.12.0\n",
            "  Found existing installation: google-auth 1.7.2\n",
            "    Uninstalling google-auth-1.7.2:\n",
            "      Successfully uninstalled google-auth-1.7.2\n",
            "  Found existing installation: idna 2.8\n",
            "    Uninstalling idna-2.8:\n",
            "      Successfully uninstalled idna-2.8\n",
            "  Found existing installation: Pygments 2.1.3\n",
            "    Uninstalling Pygments-2.1.3:\n",
            "      Successfully uninstalled Pygments-2.1.3\n",
            "  Found existing installation: wcwidth 0.1.9\n",
            "    Uninstalling wcwidth-0.1.9:\n",
            "      Successfully uninstalled wcwidth-0.1.9\n",
            "  Found existing installation: prompt-toolkit 1.0.18\n",
            "    Uninstalling prompt-toolkit-1.0.18:\n",
            "      Successfully uninstalled prompt-toolkit-1.0.18\n",
            "  Found existing installation: ipython 5.5.0\n",
            "    Uninstalling ipython-5.5.0:\n",
            "      Successfully uninstalled ipython-5.5.0\n",
            "  Found existing installation: numpy 1.18.2\n",
            "    Uninstalling numpy-1.18.2:\n",
            "      Successfully uninstalled numpy-1.18.2\n",
            "  Found existing installation: PyYAML 3.13\n",
            "    Uninstalling PyYAML-3.13:\n",
            "      Successfully uninstalled PyYAML-3.13\n",
            "  Found existing installation: Keras 2.2.5\n",
            "    Uninstalling Keras-2.2.5:\n",
            "      Successfully uninstalled Keras-2.2.5\n",
            "  Found existing installation: matplotlib 3.2.1\n",
            "    Uninstalling matplotlib-3.2.1:\n",
            "      Successfully uninstalled matplotlib-3.2.1\n",
            "  Found existing installation: protobuf 3.10.0\n",
            "    Uninstalling protobuf-3.10.0:\n",
            "      Successfully uninstalled protobuf-3.10.0\n",
            "  Found existing installation: urllib3 1.24.3\n",
            "    Uninstalling urllib3-1.24.3:\n",
            "      Successfully uninstalled urllib3-1.24.3\n",
            "  Found existing installation: requests 2.21.0\n",
            "    Uninstalling requests-2.21.0:\n",
            "      Successfully uninstalled requests-2.21.0\n",
            "  Found existing installation: tensorboard 1.15.0\n",
            "    Uninstalling tensorboard-1.15.0:\n",
            "      Successfully uninstalled tensorboard-1.15.0\n",
            "  Found existing installation: tensorflow-estimator 1.15.1\n",
            "    Uninstalling tensorflow-estimator-1.15.1:\n",
            "      Successfully uninstalled tensorflow-estimator-1.15.1\n",
            "  Found existing installation: tensorflow 1.15.2\n",
            "    Uninstalling tensorflow-1.15.2:\n",
            "      Successfully uninstalled tensorflow-1.15.2\n",
            "Successfully installed Keras-2.3.1 PyYAML-5.3 Pygments-2.6.1 appnope-0.1.0 cachetools-4.0.0 gast-0.2.2 google-auth-1.11.3 idna-2.9 ipython-7.13.0 matplotlib-3.2.0 numpy-1.18.1 prompt-toolkit-3.0.4 protobuf-3.11.3 pydub-0.23.1 requests-2.23.0 six-1.14.0 tensorboard-2.1.1 tensorflow-2.2.0rc1 tensorflow-estimator-2.2.0rc0 tf-utils-1.0.4 urllib3-1.25.8 wcwidth-0.1.8\n"
          ],
          "name": "stdout"
        },
        {
          "output_type": "display_data",
          "data": {
            "application/vnd.colab-display-data+json": {
              "pip_warning": {
                "packages": [
                  "IPython",
                  "cachetools",
                  "google",
                  "idna",
                  "matplotlib",
                  "mpl_toolkits",
                  "numpy",
                  "prompt_toolkit",
                  "pygments",
                  "requests",
                  "six",
                  "urllib3",
                  "wcwidth"
                ]
              }
            }
          },
          "metadata": {
            "tags": []
          }
        }
      ]
    },
    {
      "cell_type": "markdown",
      "metadata": {
        "colab_type": "text",
        "id": "A7Hn1LtPRxZS"
      },
      "source": [
        "Importing and setting up env variables..."
      ]
    },
    {
      "cell_type": "code",
      "metadata": {
        "colab_type": "code",
        "id": "1rasqjnO6mAq",
        "outputId": "fe74a10b-3efc-4d34-fec0-38fb1732b34e",
        "colab": {
          "base_uri": "https://localhost:8080/",
          "height": 34
        }
      },
      "source": [
        "import numpy as np\n",
        "from pydub import AudioSegment\n",
        "from pydub.playback import play\n",
        "import random\n",
        "import sys\n",
        "import io\n",
        "import os\n",
        "import glob\n",
        "import IPython\n",
        "import wave\n",
        "import pylab\n",
        "from tf_utils import *\n",
        "import matplotlib.pyplot as plt\n",
        "from scipy import signal\n",
        "from scipy.io import wavfile\n",
        "\n",
        "# Import files for trigger-word detection model\n",
        "from keras.callbacks import ModelCheckpoint\n",
        "from keras.models import Model, load_model, Sequential\n",
        "from keras.layers import Dense, Activation, Dropout, Input, Masking, TimeDistributed, LSTM, Conv1D\n",
        "from keras.layers import GRU, Bidirectional, BatchNormalization, Reshape\n",
        "from keras.optimizers import Adam"
      ],
      "execution_count": 6,
      "outputs": [
        {
          "output_type": "stream",
          "text": [
            "Using TensorFlow backend.\n"
          ],
          "name": "stderr"
        }
      ]
    },
    {
      "cell_type": "code",
      "metadata": {
        "id": "shTwr2KwE6MW",
        "colab_type": "code",
        "colab": {}
      },
      "source": [
        "from google.colab import drive\n",
        "from os.path import join\n",
        "\n",
        "ROOT = '/content/drive'     # default for the drive\n",
        "PROJ = 'My Drive/filler_detection/train_data/XY_Train'       # path to your project on Drive\n",
        "\n",
        "DATA_PATH = join(ROOT, PROJ)\n",
        "REPO = \"/content/filler_detection/\""
      ],
      "execution_count": 0,
      "outputs": []
    },
    {
      "cell_type": "code",
      "metadata": {
        "colab_type": "code",
        "id": "8lgJ6UdH9ViH",
        "colab": {}
      },
      "source": [
        "POSITIVE_DIRECTORY = \"./raw_data/positive_data/\"\n",
        "BACKGROUND_DIRECTORY = \"./raw_data/background_data/\"\n",
        "NEGATIVES_DIRECTORY = \"./raw_data/google_dataset/\"\n",
        "NEGATIVES_TRUNCATED_DIRECTORY = \"./raw_data/google_dataset_truncated/\"\n",
        "AUDIO_EXAMPLES_DIRECTORY = \"./audio_examples/\"\n",
        "POSITIVE_EXAMPLE = \"jh_1.wav\"\n",
        "AUDIO_EXAMPLE = \"example_train.wav\""
      ],
      "execution_count": 0,
      "outputs": []
    },
    {
      "cell_type": "markdown",
      "metadata": {
        "colab_type": "text",
        "id": "9eM15MVGR0eJ"
      },
      "source": [
        "The fun begins...\n",
        "## Model Loading"
      ]
    },
    {
      "cell_type": "code",
      "metadata": {
        "colab_type": "code",
        "id": "b54E5A1c8pSh",
        "colab": {}
      },
      "source": [
        "# GRADED FUNCTION: model\n",
        "\n",
        "def model(input_shape):\n",
        "    \"\"\"\n",
        "    Function creating the model's graph in Keras library.\n",
        "    \n",
        "    Argument:\n",
        "    input_shape -- shape of the model's input data (using Keras conventions)\n",
        "    \n",
        "    Returns:\n",
        "    model -- Keras model instance\n",
        "    \"\"\"\n",
        "    \n",
        "    X_input = Input(shape = input_shape)\n",
        "    \n",
        "    # Step 1: CONV Layer\n",
        "    # CONV-1D\n",
        "    X = Conv1D(filters=196, kernel_size=15, strides=4)(X_input)\n",
        "    # Batch Normalization\n",
        "    X = BatchNormalization()(X)\n",
        "    # RelU activation\n",
        "    X = Activation(\"relu\")(X)\n",
        "    # Dropout (using rate 0.8)\n",
        "    X = Dropout(rate=0.8)(X)\n",
        "    \n",
        "    # Step 2: First GRU Layer\n",
        "    # GRU (use 128 units to return the sequences)\n",
        "    X = GRU(units=128, return_sequences=True)(X)\n",
        "    # Dropout (using rate 0.8)\n",
        "    X = Dropout(rate=0.8)(X)\n",
        "    # Batch Normalization\n",
        "    X = BatchNormalization()(X)\n",
        "    \n",
        "    # Step 3: Second GRU Layer\n",
        "    # GRU (use 128 units to return the sequences)\n",
        "    X = GRU(units=128, return_sequences=True)(X)\n",
        "    # Dropout (using rate 0.8)\n",
        "    X = Dropout(rate=0.8)(X)\n",
        "    # Batch Normalization\n",
        "    X = BatchNormalization()(X)\n",
        "    # Dropout (using rate 0.8)\n",
        "    X = Dropout(rate=0.8)(X)\n",
        "    \n",
        "    # Step 4: Time-distributed dense layer\n",
        "    X = TimeDistributed(Dense(1, activation=\"sigmoid\"))(X)\n",
        "    \n",
        "    # Return model\n",
        "    model = Model(inputs = [X_input], outputs = X)\n",
        "    return model"
      ],
      "execution_count": 0,
      "outputs": []
    },
    {
      "cell_type": "markdown",
      "metadata": {
        "colab_type": "text",
        "id": "oEfBQCPhR2QQ"
      },
      "source": [
        "Sanity check for `Tx`, `n_freq`, `Ty`. \n",
        "\n",
        "1. Input into model `Tx` and `n_freq`\n",
        "2. Call `model.summary()`\n",
        "3. `Tx` of **sample** and variable = `input_7.shape[1]` (ie column 2, row 1, second element of array)\n",
        "4. `Ty` = `input_7.shape[1]` (ie column 2, row 2, second element of array)"
      ]
    },
    {
      "cell_type": "code",
      "metadata": {
        "colab_type": "code",
        "id": "mqW78CpL8sYH",
        "colab": {}
      },
      "source": [
        "Tx = 5490 # The number of time steps input to the model from the spectrogram\n",
        "n_freq = 129 # Number of frequencies input to the model at each time step of the spectrogram\n",
        "Ty = 1369 # The number of time steps in the output of our model"
      ],
      "execution_count": 0,
      "outputs": []
    },
    {
      "cell_type": "markdown",
      "metadata": {
        "id": "-2szTzk7Eh01",
        "colab_type": "text"
      },
      "source": [
        "### Load Pre-trained Model"
      ]
    },
    {
      "cell_type": "code",
      "metadata": {
        "id": "4o7XUQnaDQp8",
        "colab_type": "code",
        "outputId": "c2a3d642-f2ee-4973-b7e6-5733652c194b",
        "colab": {
          "base_uri": "https://localhost:8080/",
          "height": 671
        }
      },
      "source": [
        "model = load_model(\"filler_detection/trained_model.h5\")\n",
        "model.summary()"
      ],
      "execution_count": 10,
      "outputs": [
        {
          "output_type": "stream",
          "text": [
            "WARNING:tensorflow:Large dropout rate: 0.8 (>0.5). In TensorFlow 2.x, dropout() uses dropout rate instead of keep_prob. Please ensure that this is intended.\n",
            "WARNING:tensorflow:Large dropout rate: 0.8 (>0.5). In TensorFlow 2.x, dropout() uses dropout rate instead of keep_prob. Please ensure that this is intended.\n",
            "WARNING:tensorflow:Large dropout rate: 0.8 (>0.5). In TensorFlow 2.x, dropout() uses dropout rate instead of keep_prob. Please ensure that this is intended.\n",
            "WARNING:tensorflow:Large dropout rate: 0.8 (>0.5). In TensorFlow 2.x, dropout() uses dropout rate instead of keep_prob. Please ensure that this is intended.\n",
            "Model: \"model_1\"\n",
            "_________________________________________________________________\n",
            "Layer (type)                 Output Shape              Param #   \n",
            "=================================================================\n",
            "input_1 (InputLayer)         (None, 5490, 129)         0         \n",
            "_________________________________________________________________\n",
            "conv1d_1 (Conv1D)            (None, 1369, 196)         379456    \n",
            "_________________________________________________________________\n",
            "batch_normalization_1 (Batch (None, 1369, 196)         784       \n",
            "_________________________________________________________________\n",
            "activation_1 (Activation)    (None, 1369, 196)         0         \n",
            "_________________________________________________________________\n",
            "dropout_1 (Dropout)          (None, 1369, 196)         0         \n",
            "_________________________________________________________________\n",
            "gru_1 (GRU)                  (None, 1369, 128)         124800    \n",
            "_________________________________________________________________\n",
            "dropout_2 (Dropout)          (None, 1369, 128)         0         \n",
            "_________________________________________________________________\n",
            "batch_normalization_2 (Batch (None, 1369, 128)         512       \n",
            "_________________________________________________________________\n",
            "gru_2 (GRU)                  (None, 1369, 128)         98688     \n",
            "_________________________________________________________________\n",
            "dropout_3 (Dropout)          (None, 1369, 128)         0         \n",
            "_________________________________________________________________\n",
            "batch_normalization_3 (Batch (None, 1369, 128)         512       \n",
            "_________________________________________________________________\n",
            "dropout_4 (Dropout)          (None, 1369, 128)         0         \n",
            "_________________________________________________________________\n",
            "time_distributed_1 (TimeDist (None, 1369, 1)           129       \n",
            "=================================================================\n",
            "Total params: 604,881\n",
            "Trainable params: 603,977\n",
            "Non-trainable params: 904\n",
            "_________________________________________________________________\n"
          ],
          "name": "stdout"
        }
      ]
    },
    {
      "cell_type": "markdown",
      "metadata": {
        "id": "uEezPsKZEnUh",
        "colab_type": "text"
      },
      "source": [
        "### Create New Model (if no pre-trained)"
      ]
    },
    {
      "cell_type": "code",
      "metadata": {
        "colab_type": "code",
        "id": "D3Sfny3t78rK",
        "colab": {
          "base_uri": "https://localhost:8080/",
          "height": 183
        },
        "outputId": "15d25857-72bc-43ad-9fc0-d9f47e40ea63"
      },
      "source": [
        "model = model(input_shape = (Tx, n_freq))\n",
        "model.summary()"
      ],
      "execution_count": 7,
      "outputs": [
        {
          "output_type": "error",
          "ename": "NameError",
          "evalue": "ignored",
          "traceback": [
            "\u001b[0;31m---------------------------------------------------------------------------\u001b[0m",
            "\u001b[0;31mNameError\u001b[0m                                 Traceback (most recent call last)",
            "\u001b[0;32m<ipython-input-7-12ea76760e1a>\u001b[0m in \u001b[0;36m<module>\u001b[0;34m()\u001b[0m\n\u001b[0;32m----> 1\u001b[0;31m \u001b[0mmodel\u001b[0m \u001b[0;34m=\u001b[0m \u001b[0mmodel\u001b[0m\u001b[0;34m(\u001b[0m\u001b[0minput_shape\u001b[0m \u001b[0;34m=\u001b[0m \u001b[0;34m(\u001b[0m\u001b[0mTx\u001b[0m\u001b[0;34m,\u001b[0m \u001b[0mn_freq\u001b[0m\u001b[0;34m)\u001b[0m\u001b[0;34m)\u001b[0m\u001b[0;34m\u001b[0m\u001b[0;34m\u001b[0m\u001b[0m\n\u001b[0m\u001b[1;32m      2\u001b[0m \u001b[0mmodel\u001b[0m\u001b[0;34m.\u001b[0m\u001b[0msummary\u001b[0m\u001b[0;34m(\u001b[0m\u001b[0;34m)\u001b[0m\u001b[0;34m\u001b[0m\u001b[0;34m\u001b[0m\u001b[0m\n",
            "\u001b[0;31mNameError\u001b[0m: name 'model' is not defined"
          ]
        }
      ]
    },
    {
      "cell_type": "markdown",
      "metadata": {
        "id": "owDLV1UyENRt",
        "colab_type": "text"
      },
      "source": [
        "## Model Training"
      ]
    },
    {
      "cell_type": "code",
      "metadata": {
        "colab_type": "code",
        "id": "UYzGhjq78vL-",
        "colab": {}
      },
      "source": [
        "# Function to fit and further train the model\n",
        "def model_train(model, X, Y):\n",
        "    \"\"\"\n",
        "    Function to train the model further using Adam optimiser and binary \n",
        "    cross entropy loss.\n",
        "    \n",
        "    Arguments:\n",
        "    model -- Model to train\n",
        "    X -- X data to train on\n",
        "    Y -- Y data to train on\n",
        "    \"\"\"\n",
        "    \n",
        "    opt = Adam(lr=0.0001, beta_1=0.9, beta_2=0.999, decay=0.01)\n",
        "    model.compile(loss='binary_crossentropy', optimizer=opt, metrics=['accuracy'])\n",
        "    \n",
        "    model.fit(X, Y, batch_size=5, epochs=1)"
      ],
      "execution_count": 0,
      "outputs": []
    },
    {
      "cell_type": "code",
      "metadata": {
        "colab_type": "code",
        "id": "0Z7c9Pha8wkw",
        "outputId": "905d959a-d600-49e9-f6ba-9fed6231e2e9",
        "colab": {
          "base_uri": "https://localhost:8080/",
          "height": 51
        }
      },
      "source": [
        "# Train the model on stubbed data downloaded from Coursera\n",
        "# model = load_model(STUB_MODEL)\n",
        "\n",
        "X = np.load(\"/content/drive/My Drive/filler_detection/train_data/XY_Train/X_1.npy\")\n",
        "Y = np.load(\"/content/drive/My Drive/filler_detection/train_data/XY_Train/Y_1.npy\")\n",
        "\n",
        "model_train(model, X, Y)"
      ],
      "execution_count": 13,
      "outputs": [
        {
          "output_type": "stream",
          "text": [
            "Epoch 1/1\n",
            "1000/1000 [==============================] - 799s 799ms/step - loss: 0.8737 - accuracy: 0.6759\n"
          ],
          "name": "stdout"
        }
      ]
    },
    {
      "cell_type": "markdown",
      "metadata": {
        "id": "36S02j3ZEHaB",
        "colab_type": "text"
      },
      "source": [
        "## Model Testing"
      ]
    },
    {
      "cell_type": "code",
      "metadata": {
        "id": "t9n0vUBlGogT",
        "colab_type": "code",
        "outputId": "35407cb6-6b67-46ae-c1b4-135f96c1b21f",
        "colab": {
          "base_uri": "https://localhost:8080/",
          "height": 51
        }
      },
      "source": [
        "print(f\"{DATA_PATH}/Y_2.npy\")\n",
        "print(f\"{PROJECT_PATH}/Y_2.npy\")"
      ],
      "execution_count": 26,
      "outputs": [
        {
          "output_type": "stream",
          "text": [
            "/content/drive/My Drive/filler_detection/train_data/XY_Train/Y_2.npy\n",
            "/content/drive/My Drive/filler_detection/train_data/XY_Train/Y_2.npy\n"
          ],
          "name": "stdout"
        }
      ]
    },
    {
      "cell_type": "code",
      "metadata": {
        "colab_type": "code",
        "id": "6W2RaaAM85_Q",
        "outputId": "a476a8d9-552a-48c2-8d87-ad861f44a75a",
        "scrolled": true,
        "colab": {
          "base_uri": "https://localhost:8080/",
          "height": 34
        }
      },
      "source": [
        "# Function to test the model on new data\n",
        "def model_test(model, X_dev, Y_dev):\n",
        "    loss, acc = model.evaluate(X_dev, Y_dev)\n",
        "    print(\"Dev set accuracy = \", acc)\n",
        "\n",
        "X_dev = np.load(f\"{PROJECT_PATH}/X_2.npy\")\n",
        "Y_dev = np.load(f\"{PROJECT_PATH}/Y_2.npy\")\n",
        "print(\"X: {} Y: {}\".format(X_dev.shape, Y_dev.shape))"
      ],
      "execution_count": 27,
      "outputs": [
        {
          "output_type": "stream",
          "text": [
            "X: (1000, 5490, 129) Y: (1000, 1369, 1)\n"
          ],
          "name": "stdout"
        }
      ]
    },
    {
      "cell_type": "code",
      "metadata": {
        "colab_type": "code",
        "id": "F6uTgE6187gq",
        "outputId": "096eb4b1-3745-4919-e529-4c7f87212234",
        "colab": {
          "base_uri": "https://localhost:8080/",
          "height": 51
        }
      },
      "source": [
        "model_test(model, X_dev, Y_dev)"
      ],
      "execution_count": 28,
      "outputs": [
        {
          "output_type": "stream",
          "text": [
            "1000/1000 [==============================] - 49s 49ms/step\n",
            "Dev set accuracy =  0.9360423684120178\n"
          ],
          "name": "stdout"
        }
      ]
    },
    {
      "cell_type": "code",
      "metadata": {
        "id": "HSKGzFmXsbGA",
        "colab_type": "code",
        "colab": {
          "base_uri": "https://localhost:8080/",
          "height": 86
        },
        "outputId": "e0e4a457-82f9-4b3e-f6e1-e3ad5e09765e"
      },
      "source": [
        "X_11 = np.load(\"/content/drive/My Drive/filler_detection/train_data/dev_npy/cont_11X.npy\")\n",
        "Y_11 = np.load(\"/content/drive/My Drive/filler_detection/train_data/dev_npy/cont_11Y.npy\")\n",
        "print(\"X: {} Y: {}\".format(X_11.shape, Y_11.shape))\n",
        "\n",
        "X_12 = np.load(\"/content/drive/My Drive/filler_detection/train_data/dev_npy/cont_12X.npy\")\n",
        "Y_12 = np.load(\"/content/drive/My Drive/filler_detection/train_data/dev_npy/cont_12Y.npy\")\n",
        "print(\"X: {} Y: {}\".format(X_12.shape, Y_12.shape))\n",
        "\n",
        "X_13 = np.load(\"/content/drive/My Drive/filler_detection/train_data/dev_npy/cont_13X.npy\")\n",
        "Y_13 = np.load(\"/content/drive/My Drive/filler_detection/train_data/dev_npy/cont_13Y.npy\")\n",
        "print(\"X: {} Y: {}\".format(X_13.shape, Y_13.shape))\n",
        "\n",
        "X_14 = np.load(\"/content/drive/My Drive/filler_detection/train_data/dev_npy/cont_14X.npy\")\n",
        "Y_14 = np.load(\"/content/drive/My Drive/filler_detection/train_data/dev_npy/cont_14Y.npy\")\n",
        "print(\"X: {} Y: {}\".format(X_14.shape, Y_14.shape))\n",
        "\n",
        "\n",
        "\n",
        "\n",
        "\n",
        "\n"
      ],
      "execution_count": 47,
      "outputs": [
        {
          "output_type": "stream",
          "text": [
            "X: (1, 5490, 129) Y: (1, 1369, 1)\n",
            "X: (1, 5490, 129) Y: (1, 1369, 1)\n",
            "X: (1, 5490, 129) Y: (1, 1369, 1)\n",
            "X: (1, 5490, 129) Y: (1, 1369, 1)\n"
          ],
          "name": "stdout"
        }
      ]
    },
    {
      "cell_type": "code",
      "metadata": {
        "colab_type": "code",
        "id": "1qpoTWEIruAz",
        "colab": {
          "base_uri": "https://localhost:8080/",
          "height": 155
        },
        "outputId": "6d987321-d37c-44c2-baaf-33d89989c424"
      },
      "source": [
        "model_test(model, X_11, Y_11)\n",
        "model_test(model, X_12, Y_12)\n",
        "model_test(model, X_13, Y_13)\n",
        "model_test(model, X_14, Y_14)"
      ],
      "execution_count": 48,
      "outputs": [
        {
          "output_type": "stream",
          "text": [
            "\r1/1 [==============================] - 1s 1s/step\n",
            "Dev set accuracy =  0.9269539713859558\n",
            "1/1 [==============================] - 1s 1s/step\n",
            "Dev set accuracy =  0.9627465009689331\n",
            "1/1 [==============================] - 1s 1s/step\n",
            "Dev set accuracy =  0.9634770154953003\n",
            "1/1 [==============================] - 1s 1s/step\n",
            "Dev set accuracy =  0.9634770154953003\n"
          ],
          "name": "stdout"
        }
      ]
    },
    {
      "cell_type": "code",
      "metadata": {
        "id": "lo6H0xFiu-Bq",
        "colab_type": "code",
        "colab": {
          "base_uri": "https://localhost:8080/",
          "height": 1000
        },
        "outputId": "ce77ae8e-f414-4b5e-b1c5-354cba605022"
      },
      "source": [
        "list_of_dev_ids = [11,12,13,14,20,21,22,23,24,30,31,32,33,34,35,36,37,38,39,310,40,41,42,43,44]\n",
        "for id in list_of_dev_ids:\n",
        "    X_id = np.load(\"/content/drive/My Drive/filler_detection/train_data/dev_npy/cont_\" + str(id) + \"X.npy\")\n",
        "\n",
        "    Y_id = np.load(\"/content/drive/My Drive/filler_detection/train_data/dev_npy/cont_\" + str(id) + \"Y.npy\")\n",
        "    print((\"X\" + str(id) + \": {} Y\" + str(id) + \": {}\").format(X_id.shape, Y_id.shape))\n",
        "    model_test(model, X_id, Y_id)\n",
        "\n",
        "model_test(model, X_11, Y_11)\n"
      ],
      "execution_count": 46,
      "outputs": [
        {
          "output_type": "stream",
          "text": [
            "X11: (1, 5490, 129) Y11: (1, 1369, 1)\n",
            "1/1 [==============================] - 1s 1s/step\n",
            "Dev set accuracy =  0.9269539713859558\n",
            "X12: (1, 5490, 129) Y12: (1, 1369, 1)\n",
            "1/1 [==============================] - 1s 1s/step\n",
            "Dev set accuracy =  0.9627465009689331\n",
            "X13: (1, 5490, 129) Y13: (1, 1369, 1)\n",
            "1/1 [==============================] - 1s 1s/step\n",
            "Dev set accuracy =  0.9634770154953003\n",
            "X14: (1, 5490, 129) Y14: (1, 1369, 1)\n",
            "1/1 [==============================] - 1s 1s/step\n",
            "Dev set accuracy =  0.9634770154953003\n",
            "X20: (1, 5490, 129) Y20: (1, 1369, 1)\n",
            "1/1 [==============================] - 1s 1s/step\n",
            "Dev set accuracy =  0.9634770154953003\n",
            "X21: (1, 5490, 129) Y21: (1, 1369, 1)\n",
            "1/1 [==============================] - 1s 1s/step\n",
            "Dev set accuracy =  0.9634770154953003\n",
            "X22: (1, 5490, 129) Y22: (1, 1369, 1)\n",
            "1/1 [==============================] - 1s 1s/step\n",
            "Dev set accuracy =  0.9634770154953003\n",
            "X23: (1, 5490, 129) Y23: (1, 1369, 1)\n",
            "1/1 [==============================] - 1s 1s/step\n",
            "Dev set accuracy =  0.9634770154953003\n",
            "X24: (1, 5490, 129) Y24: (1, 1369, 1)\n",
            "1/1 [==============================] - 1s 1s/step\n",
            "Dev set accuracy =  0.9634770154953003\n",
            "X30: (1, 5490, 129) Y30: (1, 1369, 1)\n",
            "1/1 [==============================] - 1s 1s/step\n",
            "Dev set accuracy =  0.9634770154953003\n",
            "X31: (1, 5490, 129) Y31: (1, 1369, 1)\n",
            "1/1 [==============================] - 1s 1s/step\n",
            "Dev set accuracy =  0.9634770154953003\n",
            "X32: (1, 5490, 129) Y32: (1, 1369, 1)\n",
            "1/1 [==============================] - 1s 1s/step\n",
            "Dev set accuracy =  0.9634770154953003\n",
            "X33: (1, 5490, 129) Y33: (1, 1369, 1)\n",
            "1/1 [==============================] - 1s 1s/step\n",
            "Dev set accuracy =  0.9634770154953003\n",
            "X34: (1, 5490, 129) Y34: (1, 1369, 1)\n",
            "1/1 [==============================] - 1s 1s/step\n",
            "Dev set accuracy =  1.0\n",
            "X35: (1, 5490, 129) Y35: (1, 1369, 1)\n",
            "1/1 [==============================] - 1s 1s/step\n",
            "Dev set accuracy =  0.9634770154953003\n",
            "X36: (1, 5490, 129) Y36: (1, 1369, 1)\n",
            "1/1 [==============================] - 1s 1s/step\n",
            "Dev set accuracy =  0.9634770154953003\n",
            "X37: (1, 5490, 129) Y37: (1, 1369, 1)\n",
            "1/1 [==============================] - 1s 1s/step\n",
            "Dev set accuracy =  0.9634770154953003\n",
            "X38: (1, 5490, 129) Y38: (1, 1369, 1)\n",
            "1/1 [==============================] - 1s 1s/step\n",
            "Dev set accuracy =  1.0\n",
            "X39: (1, 5490, 129) Y39: (1, 1369, 1)\n",
            "1/1 [==============================] - 1s 1s/step\n",
            "Dev set accuracy =  0.9634770154953003\n",
            "X310: (1, 5490, 129) Y310: (1, 1369, 1)\n",
            "1/1 [==============================] - 1s 1s/step\n",
            "Dev set accuracy =  0.9634770154953003\n",
            "X40: (1, 5490, 129) Y40: (1, 1369, 1)\n",
            "1/1 [==============================] - 1s 1s/step\n",
            "Dev set accuracy =  0.9269539713859558\n",
            "X41: (1, 5490, 129) Y41: (1, 1369, 1)\n",
            "1/1 [==============================] - 1s 1s/step\n",
            "Dev set accuracy =  0.8860481977462769\n",
            "X42: (1, 5490, 129) Y42: (1, 1369, 1)\n",
            "1/1 [==============================] - 1s 1s/step\n",
            "Dev set accuracy =  0.9269539713859558\n",
            "X43: (1, 5490, 129) Y43: (1, 1369, 1)\n",
            "1/1 [==============================] - 1s 1s/step\n",
            "Dev set accuracy =  0.9269539713859558\n",
            "X44: (1, 5490, 129) Y44: (1, 1369, 1)\n",
            "1/1 [==============================] - 1s 1s/step\n",
            "Dev set accuracy =  0.8904309868812561\n"
          ],
          "name": "stdout"
        }
      ]
    }
  ]
}